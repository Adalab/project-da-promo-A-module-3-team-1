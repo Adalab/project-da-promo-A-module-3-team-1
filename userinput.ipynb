{
 "cells": [
  {
   "cell_type": "code",
   "execution_count": 271,
   "metadata": {},
   "outputs": [],
   "source": [
    "import pandas as pd\n",
    "import numpy as np\n",
    "from sklearn.preprocessing import MinMaxScaler\n",
    "from sklearn.linear_model import LinearRegression\n",
    "from sklearn.model_selection import train_test_split\n",
    "# Configuración warnings\n",
    "import warnings\n",
    "warnings.filterwarnings('ignore')\n",
    "pd.options.display.max_columns = False\n",
    "\n",
    "# datos\n",
    "df_original = pd.read_csv(\"KNN.csv\", index_col=0)\n",
    "\n",
    "# Cçodigo necesarios para que funcione el programita\n",
    "\n",
    "x2 = df_original.drop(['cnt','registered','casual'] ,axis =1)\n",
    "y2 = df_original['cnt']\n",
    "\n",
    "X_train, X_test, y_train, y_test = train_test_split(x2, y2, train_size   = 0.8, random_state = 42)\n",
    "lr = LinearRegression()\n",
    "lr.fit(X_train, y_train)\n",
    "y_pred_train = lr.predict(X_train)\n",
    "y_pred_test = lr.predict(X_test)\n"
   ]
  },
  {
   "cell_type": "markdown",
   "metadata": {},
   "source": [
    "## Bienvenid@!"
   ]
  },
  {
   "cell_type": "markdown",
   "metadata": {},
   "source": [
    "¡Has entrado a nuestro programita \"Regresión al futuro\"!"
   ]
  },
  {
   "cell_type": "markdown",
   "metadata": {},
   "source": [
    "Con este programa vas a poder predecir cómo se van a comportar l@s client@s en una determinada situación."
   ]
  },
  {
   "cell_type": "markdown",
   "metadata": {},
   "source": [
    "Para poder hacer esta predicción, necesito que me des más información:"
   ]
  },
  {
   "cell_type": "markdown",
   "metadata": {},
   "source": [
    "- ¿En qué día de la semana te quieres centrar?:\n",
    "        - Domingo: 0\n",
    "        - Lunes : 1\n",
    "        - Martes: 2\n",
    "        - Miércoles: 3 \n",
    "        - Jueves: 4\n",
    "        - Viernes: 5\n",
    "        - Sábado: \n",
    "    "
   ]
  },
  {
   "cell_type": "code",
   "execution_count": 272,
   "metadata": {},
   "outputs": [],
   "source": [
    "weekday = input()"
   ]
  },
  {
   "cell_type": "markdown",
   "metadata": {},
   "source": [
    "- ¿En qué mes quieres investigar l@s clientes?:\n",
    "        - Enero: 1\n",
    "      ....\n",
    "        - Junio: 6\n",
    "      ....\n",
    "        - Diciembre: 12\n",
    "    "
   ]
  },
  {
   "cell_type": "code",
   "execution_count": 273,
   "metadata": {},
   "outputs": [],
   "source": [
    "month = input()"
   ]
  },
  {
   "cell_type": "markdown",
   "metadata": {},
   "source": [
    "- ¿Te interesa alguna estación en concreto?:\n",
    "        - Invierno: 0\n",
    "        - Primavera : 1\n",
    "        - Verano: 2\n",
    "        - Otoño: 3 \n",
    "    "
   ]
  },
  {
   "cell_type": "code",
   "execution_count": 274,
   "metadata": {},
   "outputs": [],
   "source": [
    "season = input()"
   ]
  },
  {
   "cell_type": "markdown",
   "metadata": {},
   "source": [
    "- ¿Te interesa alguna día en concreto? Del 1 al 31."
   ]
  },
  {
   "cell_type": "code",
   "execution_count": 275,
   "metadata": {},
   "outputs": [],
   "source": [
    "day = input()"
   ]
  },
  {
   "cell_type": "markdown",
   "metadata": {},
   "source": [
    "¿El día seleccionado es festivo o no? 1: Festivo  0: No festivo"
   ]
  },
  {
   "cell_type": "code",
   "execution_count": 276,
   "metadata": {},
   "outputs": [],
   "source": [
    "holiday = input()"
   ]
  },
  {
   "cell_type": "markdown",
   "metadata": {},
   "source": [
    "¿El día seleccionado es laborable o no? 1: Laborable  0: No laborable"
   ]
  },
  {
   "cell_type": "code",
   "execution_count": 277,
   "metadata": {},
   "outputs": [],
   "source": [
    "workingday = input()"
   ]
  },
  {
   "cell_type": "markdown",
   "metadata": {},
   "source": [
    "¿Qué tiempo hace el día en el que estás pensando? 3: Buen tiempo 1:Mal tiempo"
   ]
  },
  {
   "cell_type": "code",
   "execution_count": 278,
   "metadata": {},
   "outputs": [],
   "source": [
    "weathersit = input()"
   ]
  },
  {
   "cell_type": "markdown",
   "metadata": {},
   "source": [
    "¿Qué temperatura hay? (Ejemplo: 34, máximo:42, mínimo: 7)"
   ]
  },
  {
   "cell_type": "code",
   "execution_count": 279,
   "metadata": {},
   "outputs": [],
   "source": [
    "temp = int(input())"
   ]
  },
  {
   "cell_type": "markdown",
   "metadata": {},
   "source": [
    "¿Qué humedad hay? (Ejemplo: 34, máximo:60, mínimo: 42)"
   ]
  },
  {
   "cell_type": "code",
   "execution_count": 280,
   "metadata": {},
   "outputs": [],
   "source": [
    "hum = int(input())"
   ]
  },
  {
   "cell_type": "markdown",
   "metadata": {},
   "source": [
    "¿Qué viento hace? (Ejemplo: 34,  máximo:14, mínimo: 7)"
   ]
  },
  {
   "cell_type": "code",
   "execution_count": 281,
   "metadata": {},
   "outputs": [],
   "source": [
    "windspeed = int(input())"
   ]
  },
  {
   "cell_type": "code",
   "execution_count": 282,
   "metadata": {},
   "outputs": [],
   "source": [
    "year=str(1)"
   ]
  },
  {
   "cell_type": "code",
   "execution_count": 283,
   "metadata": {},
   "outputs": [],
   "source": [
    "df_enero= pd.DataFrame({\n",
    "'year':[year],\n",
    "'month':[month],\n",
    "'week':[weekday],\n",
    "'season':[season],\n",
    "'day':[day],\n",
    "'holiday':[holiday],\n",
    "'workingday':[workingday],\n",
    "'weathersit':[weathersit],\n",
    "'temp':[temp],\n",
    "'hum':[hum],\n",
    "'windspeed':[windspeed]})"
   ]
  },
  {
   "cell_type": "code",
   "execution_count": 286,
   "metadata": {},
   "outputs": [
    {
     "name": "stdout",
     "output_type": "stream",
     "text": [
      "Querid@ cliente, este día va a tener este número de reservas  [12.52380297] Espero haberle sido de ayuda\n"
     ]
    }
   ],
   "source": [
    "print(\"Querid@ cliente, este día va a tener este número de reservas \", lr.predict(df_enero), \"Espero haberle sido de ayuda\")"
   ]
  }
 ],
 "metadata": {
  "kernelspec": {
   "display_name": "Python 3.9.1 64-bit",
   "language": "python",
   "name": "python3"
  },
  "language_info": {
   "codemirror_mode": {
    "name": "ipython",
    "version": 3
   },
   "file_extension": ".py",
   "mimetype": "text/x-python",
   "name": "python",
   "nbconvert_exporter": "python",
   "pygments_lexer": "ipython3",
   "version": "3.9.1"
  },
  "orig_nbformat": 4,
  "vscode": {
   "interpreter": {
    "hash": "11938c6bc6919ae2720b4d5011047913343b08a43b18698fd82dedb0d4417594"
   }
  }
 },
 "nbformat": 4,
 "nbformat_minor": 2
}
