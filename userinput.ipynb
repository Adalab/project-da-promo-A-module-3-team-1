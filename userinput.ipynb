{
 "cells": [
  {
   "cell_type": "markdown",
   "metadata": {},
   "source": [
    "## Bienvenid@!"
   ]
  },
  {
   "cell_type": "markdown",
   "metadata": {},
   "source": [
    "¡Has entrado a nuestro programita \"Regresión al futuro\"!"
   ]
  },
  {
   "cell_type": "markdown",
   "metadata": {},
   "source": [
    "Con este programa vas a poder predecir cómo se van a comportar l@s client@s en una determinada situación."
   ]
  },
  {
   "cell_type": "markdown",
   "metadata": {},
   "source": [
    "Para poder hacer esta predicción, necesito que me des más información:"
   ]
  },
  {
   "cell_type": "markdown",
   "metadata": {},
   "source": [
    "- ¿En qué año quieres hacer tu predicción al futuro?:\n",
    "        - 2018: 0\n",
    "        - 2019 : 1\n",
    "        \n",
    "    "
   ]
  },
  {
   "cell_type": "code",
   "execution_count": 18,
   "metadata": {},
   "outputs": [
    {
     "name": "stdout",
     "output_type": "stream",
     "text": [
      "¿A qué año te gustaría viajar \n"
     ]
    }
   ],
   "source": [
    "print(\"¿A qué año te gustaría viajar\", input())"
   ]
  },
  {
   "cell_type": "markdown",
   "metadata": {},
   "source": [
    "- ¿En qué día de la semana te quieres centrar?:\n",
    "        - Domingo: 0\n",
    "        - Lunes : 1\n",
    "        - Martes: 2\n",
    "        - Miércoles: 3 \n",
    "        - Jueves: 4\n",
    "        - Viernes: 5\n",
    "        - Sábado: \n",
    "    "
   ]
  },
  {
   "cell_type": "code",
   "execution_count": 13,
   "metadata": {},
   "outputs": [
    {
     "name": "stdout",
     "output_type": "stream",
     "text": [
      "Aquí tienes que introducir el día de la semana 1\n"
     ]
    }
   ],
   "source": [
    "year = print(\"Aquí tienes que introducir el día de la semana\", input())"
   ]
  },
  {
   "cell_type": "code",
   "execution_count": 15,
   "metadata": {},
   "outputs": [
    {
     "name": "stdout",
     "output_type": "stream",
     "text": [
      "None\n"
     ]
    }
   ],
   "source": [
    "print(year)"
   ]
  },
  {
   "cell_type": "markdown",
   "metadata": {},
   "source": [
    "- ¿En qué mes quieres investigar l@s clientes?:\n",
    "        - Enero: 1\n",
    "      ....\n",
    "        - Junio: 6\n",
    "      ....\n",
    "        - Diciembre: 12\n",
    "    "
   ]
  },
  {
   "cell_type": "code",
   "execution_count": 22,
   "metadata": {},
   "outputs": [
    {
     "name": "stdout",
     "output_type": "stream",
     "text": [
      "Aquí tienes que introducir el mes 6\n"
     ]
    }
   ],
   "source": [
    "mes = print(\"Aquí tienes que introducir el mes\", int(input()))"
   ]
  },
  {
   "cell_type": "code",
   "execution_count": 23,
   "metadata": {},
   "outputs": [
    {
     "name": "stdout",
     "output_type": "stream",
     "text": [
      "None\n"
     ]
    }
   ],
   "source": [
    "print(mes)"
   ]
  },
  {
   "cell_type": "markdown",
   "metadata": {},
   "source": [
    "- ¿Te interesa alguna estación en concreto?:\n",
    "        - Invierno: 0\n",
    "        - Primavera : 1\n",
    "        - Verano: 2\n",
    "        - Otoño: 3 \n",
    "    "
   ]
  },
  {
   "cell_type": "code",
   "execution_count": 7,
   "metadata": {},
   "outputs": [
    {
     "name": "stdout",
     "output_type": "stream",
     "text": [
      "Esta estación del año es la seleccionada \n"
     ]
    }
   ],
   "source": [
    "print(\"Esta estación del año es la seleccionada\", input())"
   ]
  },
  {
   "cell_type": "code",
   "execution_count": null,
   "metadata": {},
   "outputs": [],
   "source": [
    "df_enero= pd.DataFrame({\n",
    "‘season_encoding’:[1,1,1,1,1,1,1],\n",
    "‘yr’:[1,1,1,1,1,1,1],\n",
    "‘mnth’:[1,1,1,1,1,1,1],\n",
    "‘day’:[1,2,3,4,5,6,7],\n",
    "‘holiday’:[1,0,0,0,0,1,0],\n",
    "‘weekday’:[0,1,2,3,4,5,6],\n",
    "‘workingday’:[0,1,1,1,1,1,0],\n",
    "‘weathersit’:[3,2,3,2,2,2,2],\n",
    "‘temp’:[13.1,14.9,8,9.8,7.2,7.1,10],\n",
    "‘hum’:[47,60,49.9,47,53.2,70.2,53.8],\n",
    "‘windspeed’:[6,10.18,20.43,20.10,9.8,13,11.13]})"
   ]
  },
  {
   "cell_type": "code",
   "execution_count": null,
   "metadata": {},
   "outputs": [],
   "source": [
    "df_enero[‘season_encoding’] = df_enero[‘season_encoding’].astype(‘category’)\n",
    "df_enero[‘yr’] = df_enero[‘yr’].astype(‘category’)\n",
    "df_enero[‘mnth’] = df_enero[‘mnth’].astype(‘category’)\n",
    "df_enero[‘day’] = df_enero[‘day’].astype(‘category’)\n",
    "df_enero[‘holiday’] = df_enero[‘holiday’].astype(‘category’)\n",
    "df_enero[‘weekday’] = df_enero[‘weekday’].astype(‘category’)\n",
    "df_enero[‘workingday’] = df_enero[‘workingday’].astype(‘category’)\n",
    "df_enero[‘weathersit’] = df_enero[‘weathersit’].astype(‘category’)"
   ]
  },
  {
   "cell_type": "code",
   "execution_count": null,
   "metadata": {},
   "outputs": [],
   "source": [
    "\n",
    "numericas_enero =df_enero.select_dtypes(include=np.number)"
   ]
  },
  {
   "cell_type": "code",
   "execution_count": null,
   "metadata": {},
   "outputs": [],
   "source": [
    "st = MinMaxScaler()\n",
    "x_tranformadas = pd.DataFrame(st.fit_transform(numericas_enero))\n",
    "x_tranformadas.columns = numericas_enero.columns\n",
    "df_enero[x_tranformadas.columns] = x_tranformadas\n",
    "df_enero.head(2)"
   ]
  },
  {
   "cell_type": "code",
   "execution_count": null,
   "metadata": {},
   "outputs": [],
   "source": [
    "lr.predict(df_enero)"
   ]
  }
 ],
 "metadata": {
  "kernelspec": {
   "display_name": "Python 3.6.9 64-bit",
   "language": "python",
   "name": "python3"
  },
  "language_info": {
   "codemirror_mode": {
    "name": "ipython",
    "version": 3
   },
   "file_extension": ".py",
   "mimetype": "text/x-python",
   "name": "python",
   "nbconvert_exporter": "python",
   "pygments_lexer": "ipython3",
   "version": "3.6.9"
  },
  "orig_nbformat": 4,
  "vscode": {
   "interpreter": {
    "hash": "31f2aee4e71d21fbe5cf8b01ff0e069b9275f58929596ceb00d14d90e3e16cd6"
   }
  }
 },
 "nbformat": 4,
 "nbformat_minor": 2
}
