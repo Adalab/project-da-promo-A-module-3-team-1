{
 "cells": [
  {
   "cell_type": "markdown",
   "metadata": {},
   "source": [
    "# PROYECTO FINAL - MODELOS "
   ]
  },
  {
   "cell_type": "markdown",
   "metadata": {},
   "source": [
    "La empresa GoGreen Bikesharing se dedica al alquiler de bicicletas y posee datos tales como la cantidad de bicis alquiladas por usuarios registrados, la cantidad de alquileres realizados por usuarios puntuales, y la cantidad total. \n",
    "\n",
    "A estos datos se les añadió información meteorológica y el calendario de festivos.\n",
    "\n",
    "Ahora buscan analizar cuáles son los aspectos que más influyen en la cantidad de bicis que van a alquilar en un día."
   ]
  },
  {
   "cell_type": "code",
   "execution_count": 1,
   "metadata": {},
   "outputs": [],
   "source": [
    "# Tratamiento de datos\n",
    "import numpy as np\n",
    "import pandas as pd\n",
    "#import sidetable as stb\n",
    "\n",
    "# Gráficos\n",
    "import matplotlib.pyplot as plt\n",
    "from matplotlib import style\n",
    "import matplotlib.ticker as ticker\n",
    "import seaborn as sns\n",
    "import sidetable as stb\n",
    "import pylab as py\n",
    "\n",
    "# Asunciones y Preprocesamiento\n",
    "from scipy import stats\n",
    "import math\n",
    "from scipy.stats import levene\n",
    "#import researchpy as rp\n",
    "from sklearn.preprocessing import StandardScaler\n",
    "import itertools\n",
    "from statsmodels.tools.tools import add_constant\n",
    "from statsmodels.stats.outliers_influence import variance_inflation_factor\n",
    "\n",
    "# ANOVA\n",
    "import statsmodels.api as sm\n",
    "from statsmodels.formula.api import ols\n",
    "import researchpy as rp # chi square\n",
    "\n",
    "#Linear Regresion con Sklearn\n",
    "from sklearn.linear_model import LinearRegression\n",
    "from sklearn.model_selection import train_test_split\n",
    "from sklearn import metrics\n",
    "from sklearn.preprocessing import MinMaxScaler\n",
    "\n",
    "# Configuración warnings\n",
    "import warnings\n",
    "warnings.filterwarnings('ignore')\n",
    "pd.options.display.max_columns = False\n",
    "\n",
    "# librerías para crear el modelo\n",
    "from sklearn.model_selection import train_test_split\n",
    "from sklearn.linear_model import LogisticRegression\n",
    "from sklearn.ensemble import RandomForestClassifier\n",
    "from sklearn.tree import DecisionTreeClassifier\n",
    "from sklearn.preprocessing import LabelEncoder\n",
    "from sklearn.model_selection import cross_val_score\n",
    "from sklearn.neighbors import KNeighborsClassifier\n",
    "from sklearn.metrics import classification_report, confusion_matrix, accuracy_score\n",
    "from sklearn.ensemble import GradientBoostingClassifier\n",
    "from sklearn.model_selection import RandomizedSearchCV\n",
    "from sklearn.preprocessing import StandardScaler\n",
    "\n",
    "\n",
    "# para calcular las métricas\n",
    "from sklearn.metrics import confusion_matrix\n",
    "from sklearn.metrics import accuracy_score \n",
    "from sklearn.metrics import precision_score \n",
    "from sklearn.metrics import recall_score \n",
    "from sklearn.metrics import cohen_kappa_score\n",
    "\n",
    "\n",
    "# librerías para crear el modelo\n",
    "from sklearn.model_selection import train_test_split\n",
    "from sklearn.preprocessing import StandardScaler\n",
    "from sklearn.model_selection import GridSearchCV\n",
    "from sklearn import tree"
   ]
  },
  {
   "cell_type": "code",
   "execution_count": 2,
   "metadata": {},
   "outputs": [
    {
     "data": {
      "text/html": [
       "<div>\n",
       "<style scoped>\n",
       "    .dataframe tbody tr th:only-of-type {\n",
       "        vertical-align: middle;\n",
       "    }\n",
       "\n",
       "    .dataframe tbody tr th {\n",
       "        vertical-align: top;\n",
       "    }\n",
       "\n",
       "    .dataframe thead th {\n",
       "        text-align: right;\n",
       "    }\n",
       "</style>\n",
       "<table border=\"1\" class=\"dataframe\">\n",
       "  <thead>\n",
       "    <tr style=\"text-align: right;\">\n",
       "      <th></th>\n",
       "      <th>cnt</th>\n",
       "      <th>casual</th>\n",
       "      <th>registered</th>\n",
       "      <th>season_encoding</th>\n",
       "      <th>yr</th>\n",
       "      <th>mnth</th>\n",
       "      <th>day</th>\n",
       "      <th>holiday</th>\n",
       "      <th>weekday</th>\n",
       "      <th>workingday</th>\n",
       "      <th>weathersit</th>\n",
       "      <th>temp</th>\n",
       "      <th>hum</th>\n",
       "      <th>windspeed</th>\n",
       "    </tr>\n",
       "  </thead>\n",
       "  <tbody>\n",
       "    <tr>\n",
       "      <th>14</th>\n",
       "      <td>1248</td>\n",
       "      <td>222</td>\n",
       "      <td>1026</td>\n",
       "      <td>1</td>\n",
       "      <td>0</td>\n",
       "      <td>1</td>\n",
       "      <td>15</td>\n",
       "      <td>0</td>\n",
       "      <td>6</td>\n",
       "      <td>0</td>\n",
       "      <td>2</td>\n",
       "      <td>9.6</td>\n",
       "      <td>49.9</td>\n",
       "      <td>10.583521</td>\n",
       "    </tr>\n",
       "    <tr>\n",
       "      <th>196</th>\n",
       "      <td>5923</td>\n",
       "      <td>2418</td>\n",
       "      <td>3505</td>\n",
       "      <td>4</td>\n",
       "      <td>0</td>\n",
       "      <td>7</td>\n",
       "      <td>16</td>\n",
       "      <td>0</td>\n",
       "      <td>6</td>\n",
       "      <td>0</td>\n",
       "      <td>1</td>\n",
       "      <td>28.2</td>\n",
       "      <td>58.5</td>\n",
       "      <td>13.958914</td>\n",
       "    </tr>\n",
       "    <tr>\n",
       "      <th>210</th>\n",
       "      <td>4475</td>\n",
       "      <td>1559</td>\n",
       "      <td>2916</td>\n",
       "      <td>4</td>\n",
       "      <td>0</td>\n",
       "      <td>7</td>\n",
       "      <td>30</td>\n",
       "      <td>0</td>\n",
       "      <td>6</td>\n",
       "      <td>0</td>\n",
       "      <td>1</td>\n",
       "      <td>33.0</td>\n",
       "      <td>46.6</td>\n",
       "      <td>11.291979</td>\n",
       "    </tr>\n",
       "    <tr>\n",
       "      <th>608</th>\n",
       "      <td>6140</td>\n",
       "      <td>2352</td>\n",
       "      <td>3788</td>\n",
       "      <td>1</td>\n",
       "      <td>1</td>\n",
       "      <td>9</td>\n",
       "      <td>1</td>\n",
       "      <td>0</td>\n",
       "      <td>6</td>\n",
       "      <td>0</td>\n",
       "      <td>2</td>\n",
       "      <td>30.9</td>\n",
       "      <td>63.8</td>\n",
       "      <td>7.583529</td>\n",
       "    </tr>\n",
       "    <tr>\n",
       "      <th>181</th>\n",
       "      <td>5362</td>\n",
       "      <td>1246</td>\n",
       "      <td>4116</td>\n",
       "      <td>1</td>\n",
       "      <td>0</td>\n",
       "      <td>7</td>\n",
       "      <td>1</td>\n",
       "      <td>0</td>\n",
       "      <td>5</td>\n",
       "      <td>1</td>\n",
       "      <td>1</td>\n",
       "      <td>29.6</td>\n",
       "      <td>39.6</td>\n",
       "      <td>6.874736</td>\n",
       "    </tr>\n",
       "    <tr>\n",
       "      <th>619</th>\n",
       "      <td>7870</td>\n",
       "      <td>1050</td>\n",
       "      <td>6820</td>\n",
       "      <td>2</td>\n",
       "      <td>1</td>\n",
       "      <td>9</td>\n",
       "      <td>12</td>\n",
       "      <td>0</td>\n",
       "      <td>3</td>\n",
       "      <td>1</td>\n",
       "      <td>1</td>\n",
       "      <td>24.6</td>\n",
       "      <td>57.7</td>\n",
       "      <td>8.833682</td>\n",
       "    </tr>\n",
       "  </tbody>\n",
       "</table>\n",
       "</div>"
      ],
      "text/plain": [
       "      cnt  casual  registered  ...  temp   hum  windspeed\n",
       "14   1248     222        1026  ...   9.6  49.9  10.583521\n",
       "196  5923    2418        3505  ...  28.2  58.5  13.958914\n",
       "210  4475    1559        2916  ...  33.0  46.6  11.291979\n",
       "608  6140    2352        3788  ...  30.9  63.8   7.583529\n",
       "181  5362    1246        4116  ...  29.6  39.6   6.874736\n",
       "619  7870    1050        6820  ...  24.6  57.7   8.833682\n",
       "\n",
       "[6 rows x 14 columns]"
      ]
     },
     "execution_count": 2,
     "metadata": {},
     "output_type": "execute_result"
    }
   ],
   "source": [
    "df_bike = pd.read_csv(\"./EDA__parte_3.csv\", index_col=0)\n",
    "df_bike.sample(6)"
   ]
  },
  {
   "cell_type": "markdown",
   "metadata": {},
   "source": [
    "---------"
   ]
  },
  {
   "cell_type": "markdown",
   "metadata": {},
   "source": [
    "# REGRESION LOGISTICA"
   ]
  },
  {
   "cell_type": "markdown",
   "metadata": {},
   "source": [
    "    Este dataframe tiene variable respuesta, y las predictoras encoding como tipo objets y numericas que sin encoding."
   ]
  },
  {
   "cell_type": "code",
   "execution_count": 3,
   "metadata": {},
   "outputs": [],
   "source": [
    "df= df_bike.copy() # Voy a hacer una copia para no perder los datos por si necesita hacer OPCION 1"
   ]
  },
  {
   "cell_type": "code",
   "execution_count": 4,
   "metadata": {},
   "outputs": [
    {
     "data": {
      "text/html": [
       "<div>\n",
       "<style scoped>\n",
       "    .dataframe tbody tr th:only-of-type {\n",
       "        vertical-align: middle;\n",
       "    }\n",
       "\n",
       "    .dataframe tbody tr th {\n",
       "        vertical-align: top;\n",
       "    }\n",
       "\n",
       "    .dataframe thead th {\n",
       "        text-align: right;\n",
       "    }\n",
       "</style>\n",
       "<table border=\"1\" class=\"dataframe\">\n",
       "  <thead>\n",
       "    <tr style=\"text-align: right;\">\n",
       "      <th></th>\n",
       "      <th>cnt</th>\n",
       "      <th>casual</th>\n",
       "      <th>registered</th>\n",
       "      <th>season_encoding</th>\n",
       "      <th>yr</th>\n",
       "      <th>mnth</th>\n",
       "      <th>day</th>\n",
       "      <th>holiday</th>\n",
       "      <th>weekday</th>\n",
       "      <th>workingday</th>\n",
       "      <th>weathersit</th>\n",
       "      <th>temp</th>\n",
       "      <th>hum</th>\n",
       "      <th>windspeed</th>\n",
       "    </tr>\n",
       "  </thead>\n",
       "  <tbody>\n",
       "    <tr>\n",
       "      <th>0</th>\n",
       "      <td>985</td>\n",
       "      <td>331</td>\n",
       "      <td>654</td>\n",
       "      <td>1</td>\n",
       "      <td>0</td>\n",
       "      <td>1</td>\n",
       "      <td>1</td>\n",
       "      <td>0</td>\n",
       "      <td>6</td>\n",
       "      <td>0</td>\n",
       "      <td>2</td>\n",
       "      <td>14.1</td>\n",
       "      <td>80.6</td>\n",
       "      <td>10.749882</td>\n",
       "    </tr>\n",
       "    <tr>\n",
       "      <th>1</th>\n",
       "      <td>801</td>\n",
       "      <td>131</td>\n",
       "      <td>670</td>\n",
       "      <td>1</td>\n",
       "      <td>0</td>\n",
       "      <td>1</td>\n",
       "      <td>2</td>\n",
       "      <td>0</td>\n",
       "      <td>0</td>\n",
       "      <td>0</td>\n",
       "      <td>2</td>\n",
       "      <td>14.9</td>\n",
       "      <td>69.6</td>\n",
       "      <td>16.652113</td>\n",
       "    </tr>\n",
       "    <tr>\n",
       "      <th>2</th>\n",
       "      <td>1349</td>\n",
       "      <td>120</td>\n",
       "      <td>1229</td>\n",
       "      <td>1</td>\n",
       "      <td>0</td>\n",
       "      <td>1</td>\n",
       "      <td>3</td>\n",
       "      <td>0</td>\n",
       "      <td>1</td>\n",
       "      <td>1</td>\n",
       "      <td>1</td>\n",
       "      <td>8.1</td>\n",
       "      <td>43.7</td>\n",
       "      <td>16.636703</td>\n",
       "    </tr>\n",
       "    <tr>\n",
       "      <th>3</th>\n",
       "      <td>1562</td>\n",
       "      <td>108</td>\n",
       "      <td>1454</td>\n",
       "      <td>3</td>\n",
       "      <td>0</td>\n",
       "      <td>1</td>\n",
       "      <td>4</td>\n",
       "      <td>0</td>\n",
       "      <td>2</td>\n",
       "      <td>1</td>\n",
       "      <td>1</td>\n",
       "      <td>8.2</td>\n",
       "      <td>59.0</td>\n",
       "      <td>10.739832</td>\n",
       "    </tr>\n",
       "    <tr>\n",
       "      <th>4</th>\n",
       "      <td>1600</td>\n",
       "      <td>82</td>\n",
       "      <td>1518</td>\n",
       "      <td>3</td>\n",
       "      <td>0</td>\n",
       "      <td>1</td>\n",
       "      <td>5</td>\n",
       "      <td>0</td>\n",
       "      <td>3</td>\n",
       "      <td>1</td>\n",
       "      <td>1</td>\n",
       "      <td>9.3</td>\n",
       "      <td>43.7</td>\n",
       "      <td>12.522300</td>\n",
       "    </tr>\n",
       "  </tbody>\n",
       "</table>\n",
       "</div>"
      ],
      "text/plain": [
       "    cnt  casual  registered  season_encoding  ...  weathersit  temp   hum  windspeed\n",
       "0   985     331         654                1  ...           2  14.1  80.6  10.749882\n",
       "1   801     131         670                1  ...           2  14.9  69.6  16.652113\n",
       "2  1349     120        1229                1  ...           1   8.1  43.7  16.636703\n",
       "3  1562     108        1454                3  ...           1   8.2  59.0  10.739832\n",
       "4  1600      82        1518                3  ...           1   9.3  43.7  12.522300\n",
       "\n",
       "[5 rows x 14 columns]"
      ]
     },
     "execution_count": 4,
     "metadata": {},
     "output_type": "execute_result"
    }
   ],
   "source": [
    "df.head()"
   ]
  },
  {
   "cell_type": "code",
   "execution_count": 5,
   "metadata": {},
   "outputs": [
    {
     "data": {
      "text/html": [
       "<div>\n",
       "<style scoped>\n",
       "    .dataframe tbody tr th:only-of-type {\n",
       "        vertical-align: middle;\n",
       "    }\n",
       "\n",
       "    .dataframe tbody tr th {\n",
       "        vertical-align: top;\n",
       "    }\n",
       "\n",
       "    .dataframe thead th {\n",
       "        text-align: right;\n",
       "    }\n",
       "</style>\n",
       "<table border=\"1\" class=\"dataframe\">\n",
       "  <thead>\n",
       "    <tr style=\"text-align: right;\">\n",
       "      <th></th>\n",
       "      <th>cnt</th>\n",
       "      <th>casual</th>\n",
       "      <th>registered</th>\n",
       "      <th>season_encoding</th>\n",
       "      <th>yr</th>\n",
       "      <th>mnth</th>\n",
       "      <th>day</th>\n",
       "      <th>holiday</th>\n",
       "      <th>weekday</th>\n",
       "      <th>workingday</th>\n",
       "      <th>weathersit</th>\n",
       "      <th>temp</th>\n",
       "      <th>hum</th>\n",
       "      <th>windspeed</th>\n",
       "    </tr>\n",
       "  </thead>\n",
       "  <tbody>\n",
       "    <tr>\n",
       "      <th>0</th>\n",
       "      <td>985</td>\n",
       "      <td>331</td>\n",
       "      <td>654</td>\n",
       "      <td>1</td>\n",
       "      <td>0</td>\n",
       "      <td>1</td>\n",
       "      <td>1</td>\n",
       "      <td>0</td>\n",
       "      <td>6</td>\n",
       "      <td>0</td>\n",
       "      <td>2</td>\n",
       "      <td>14.1</td>\n",
       "      <td>80.6</td>\n",
       "      <td>10.749882</td>\n",
       "    </tr>\n",
       "    <tr>\n",
       "      <th>1</th>\n",
       "      <td>801</td>\n",
       "      <td>131</td>\n",
       "      <td>670</td>\n",
       "      <td>1</td>\n",
       "      <td>0</td>\n",
       "      <td>1</td>\n",
       "      <td>2</td>\n",
       "      <td>0</td>\n",
       "      <td>0</td>\n",
       "      <td>0</td>\n",
       "      <td>2</td>\n",
       "      <td>14.9</td>\n",
       "      <td>69.6</td>\n",
       "      <td>16.652113</td>\n",
       "    </tr>\n",
       "  </tbody>\n",
       "</table>\n",
       "</div>"
      ],
      "text/plain": [
       "   cnt  casual  registered  season_encoding  ...  weathersit  temp   hum  windspeed\n",
       "0  985     331         654                1  ...           2  14.1  80.6  10.749882\n",
       "1  801     131         670                1  ...           2  14.9  69.6  16.652113\n",
       "\n",
       "[2 rows x 14 columns]"
      ]
     },
     "execution_count": 5,
     "metadata": {},
     "output_type": "execute_result"
    }
   ],
   "source": [
    "df.head(2)"
   ]
  },
  {
   "cell_type": "code",
   "execution_count": 6,
   "metadata": {},
   "outputs": [
    {
     "name": "stdout",
     "output_type": "stream",
     "text": [
      "<class 'pandas.core.frame.DataFrame'>\n",
      "Int64Index: 730 entries, 0 to 729\n",
      "Data columns (total 14 columns):\n",
      " #   Column           Non-Null Count  Dtype  \n",
      "---  ------           --------------  -----  \n",
      " 0   cnt              730 non-null    int64  \n",
      " 1   casual           730 non-null    int64  \n",
      " 2   registered       730 non-null    int64  \n",
      " 3   season_encoding  730 non-null    int64  \n",
      " 4   yr               730 non-null    int64  \n",
      " 5   mnth             730 non-null    int64  \n",
      " 6   day              730 non-null    int64  \n",
      " 7   holiday          730 non-null    int64  \n",
      " 8   weekday          730 non-null    int64  \n",
      " 9   workingday       730 non-null    int64  \n",
      " 10  weathersit       730 non-null    int64  \n",
      " 11  temp             730 non-null    float64\n",
      " 12  hum              730 non-null    float64\n",
      " 13  windspeed        730 non-null    float64\n",
      "dtypes: float64(3), int64(11)\n",
      "memory usage: 85.5 KB\n"
     ]
    }
   ],
   "source": [
    "df.info() #Correcto tenemos que volver a cambiar el tipo de cada columna "
   ]
  },
  {
   "cell_type": "code",
   "execution_count": 7,
   "metadata": {},
   "outputs": [
    {
     "data": {
      "text/plain": [
       "Index(['cnt', 'casual', 'registered', 'season_encoding', 'yr', 'mnth', 'day',\n",
       "       'holiday', 'weekday', 'workingday', 'weathersit', 'temp', 'hum',\n",
       "       'windspeed'],\n",
       "      dtype='object')"
      ]
     },
     "execution_count": 7,
     "metadata": {},
     "output_type": "execute_result"
    }
   ],
   "source": [
    "df.columns"
   ]
  },
  {
   "cell_type": "markdown",
   "metadata": {},
   "source": [
    "    Se ha cambiado las que tienen encoding a \"category\""
   ]
  },
  {
   "cell_type": "code",
   "execution_count": 8,
   "metadata": {},
   "outputs": [],
   "source": [
    "df['season_encoding'] = df['season_encoding'].astype('category')  \n",
    "df['yr'] = df['yr'].astype('category')  \n",
    "df['mnth'] = df['mnth'].astype('category')  \n",
    "df['day'] = df['day'].astype('category')  \n",
    "df['holiday'] = df['holiday'].astype('category')  \n",
    "df['weekday'] = df['weekday'].astype('category')  \n",
    "df['workingday'] = df['workingday'].astype('category')  \n",
    "df['weathersit'] = df['weathersit'].astype('category')  "
   ]
  },
  {
   "cell_type": "markdown",
   "metadata": {},
   "source": [
    "### Variables predictoras CATEGORICAS - GRAFICO"
   ]
  },
  {
   "cell_type": "markdown",
   "metadata": {},
   "source": [
    "    Estas son nuestras variables categoricas"
   ]
  },
  {
   "cell_type": "code",
   "execution_count": 9,
   "metadata": {},
   "outputs": [
    {
     "data": {
      "text/html": [
       "<div>\n",
       "<style scoped>\n",
       "    .dataframe tbody tr th:only-of-type {\n",
       "        vertical-align: middle;\n",
       "    }\n",
       "\n",
       "    .dataframe tbody tr th {\n",
       "        vertical-align: top;\n",
       "    }\n",
       "\n",
       "    .dataframe thead th {\n",
       "        text-align: right;\n",
       "    }\n",
       "</style>\n",
       "<table border=\"1\" class=\"dataframe\">\n",
       "  <thead>\n",
       "    <tr style=\"text-align: right;\">\n",
       "      <th></th>\n",
       "      <th>season_encoding</th>\n",
       "      <th>yr</th>\n",
       "      <th>mnth</th>\n",
       "      <th>day</th>\n",
       "      <th>holiday</th>\n",
       "      <th>weekday</th>\n",
       "      <th>workingday</th>\n",
       "      <th>weathersit</th>\n",
       "    </tr>\n",
       "  </thead>\n",
       "  <tbody>\n",
       "    <tr>\n",
       "      <th>0</th>\n",
       "      <td>1</td>\n",
       "      <td>0</td>\n",
       "      <td>1</td>\n",
       "      <td>1</td>\n",
       "      <td>0</td>\n",
       "      <td>6</td>\n",
       "      <td>0</td>\n",
       "      <td>2</td>\n",
       "    </tr>\n",
       "  </tbody>\n",
       "</table>\n",
       "</div>"
      ],
      "text/plain": [
       "  season_encoding yr mnth day holiday weekday workingday weathersit\n",
       "0               1  0    1   1       0       6          0          2"
      ]
     },
     "execution_count": 9,
     "metadata": {},
     "output_type": "execute_result"
    }
   ],
   "source": [
    "categoricas = df.select_dtypes(include='category')\n",
    "categoricas.head(1)"
   ]
  },
  {
   "cell_type": "code",
   "execution_count": 10,
   "metadata": {},
   "outputs": [
    {
     "data": {
      "image/png": "[encoded data removed]",
      "text/plain": [
       "<Figure size 2160x1080 with 8 Axes>"
      ]
     },
     "metadata": {
      "needs_background": "light"
     },
     "output_type": "display_data"
    }
   ],
   "source": [
    "# Gráfico de relación entre variables predictoras y la variable a predecir CATEGORICAS\n",
    "# ===================================================================================\n",
    "\n",
    "fig, axes = plt.subplots(nrows = 2, ncols = 4, figsize = (30, 15))\n",
    "\n",
    "axes = axes.flat\n",
    "\n",
    "columnas_object = df.select_dtypes(include = \"category\").columns\n",
    "\n",
    "for i, colum in enumerate(columnas_object):\n",
    "    sns.countplot(df[colum], ax=axes[i], palette=\"mako\")\n",
    "    axes[i].set_title(colum, fontsize = 12, fontweight = \"bold\")\n",
    "    axes[i].tick_params(labelsize = 10)\n",
    "    axes[i].set_xlabel(\"\")\n",
    "    \n",
    "fig.tight_layout();\n"
   ]
  },
  {
   "cell_type": "markdown",
   "metadata": {},
   "source": [
    "\n",
    "### Variables predictoras NUMERICAS - GRAFICO"
   ]
  },
  {
   "cell_type": "markdown",
   "metadata": {},
   "source": [
    "    Estas son nuestras variables numéricas"
   ]
  },
  {
   "cell_type": "code",
   "execution_count": 11,
   "metadata": {},
   "outputs": [
    {
     "data": {
      "text/html": [
       "<div>\n",
       "<style scoped>\n",
       "    .dataframe tbody tr th:only-of-type {\n",
       "        vertical-align: middle;\n",
       "    }\n",
       "\n",
       "    .dataframe tbody tr th {\n",
       "        vertical-align: top;\n",
       "    }\n",
       "\n",
       "    .dataframe thead th {\n",
       "        text-align: right;\n",
       "    }\n",
       "</style>\n",
       "<table border=\"1\" class=\"dataframe\">\n",
       "  <thead>\n",
       "    <tr style=\"text-align: right;\">\n",
       "      <th></th>\n",
       "      <th>cnt</th>\n",
       "      <th>casual</th>\n",
       "      <th>registered</th>\n",
       "      <th>temp</th>\n",
       "      <th>hum</th>\n",
       "      <th>windspeed</th>\n",
       "    </tr>\n",
       "  </thead>\n",
       "  <tbody>\n",
       "    <tr>\n",
       "      <th>0</th>\n",
       "      <td>985</td>\n",
       "      <td>331</td>\n",
       "      <td>654</td>\n",
       "      <td>14.1</td>\n",
       "      <td>80.6</td>\n",
       "      <td>10.749882</td>\n",
       "    </tr>\n",
       "  </tbody>\n",
       "</table>\n",
       "</div>"
      ],
      "text/plain": [
       "   cnt  casual  registered  temp   hum  windspeed\n",
       "0  985     331         654  14.1  80.6  10.749882"
      ]
     },
     "execution_count": 11,
     "metadata": {},
     "output_type": "execute_result"
    }
   ],
   "source": [
    "numericas = df.select_dtypes(include = np.number)\n",
    "numericas.head(1)"
   ]
  },
  {
   "cell_type": "code",
   "execution_count": 12,
   "metadata": {},
   "outputs": [
    {
     "data": {
      "image/png": "[encoded data removed]",
      "text/plain": [
       "<Figure size 2160x720 with 5 Axes>"
      ]
     },
     "metadata": {
      "needs_background": "light"
     },
     "output_type": "display_data"
    }
   ],
   "source": [
    "# Gráfico de distribución para cada variable numérica\n",
    "# ==============================================================================\n",
    "\n",
    "fig, axes = plt.subplots(nrows = 1, ncols = 5, figsize = (30, 10))\n",
    "\n",
    "axes = axes.flat\n",
    "\n",
    "columnas_numeric = df.select_dtypes(include = np.number).columns\n",
    "columnas_numeric = columnas_numeric.drop(\"cnt\") # excluimos nuestra variable respuesta. (No la necesitamos ahora\n",
    "\n",
    "for i, colum in enumerate(columnas_numeric):\n",
    "    sns.regplot(\n",
    "        x = df[colum], \n",
    "        y = df[\"cnt\"], \n",
    "        color = \"black\", \n",
    "        marker = \".\", \n",
    "        scatter_kws = {\"alpha\": 0.4}, \n",
    "        line_kws = {\"color\": \"red\", \"alpha\": 0.7 }, \n",
    "        ax = axes[i])\n",
    "    \n",
    "    axes[i].set_title(f\"Reservas vs {colum}\", fontsize = 15, fontweight = \"bold\")\n",
    "    axes[i].tick_params(labelsize = 20)\n",
    "    axes[i].set_xlabel(colum,  fontsize = 15, fontweight = \"bold\")\n",
    "    axes[i].set_ylabel(\"cnt\", fontsize = 15, fontweight = \"bold\")\n",
    "    \n",
    "fig.tight_layout();"
   ]
  },
  {
   "cell_type": "markdown",
   "metadata": {},
   "source": [
    "### Vamos a comprobar la relación entre todas las variables"
   ]
  },
  {
   "cell_type": "markdown",
   "metadata": {},
   "source": [
    "    CORRELACIÓN\n",
    "        Vamos a ver la correlación entre las variables predictoras y que relación tienen tb con la respuesta.\n",
    "        intervalo [-1 y 1]\n",
    "\t    r= 1 corr perfecta positiva (aumenta una , la otra tb aumenta)\n",
    "\t    r =0 no hay correlación\n",
    " \t    r= -1 corr perfecta negativa (una aumenta y la otra disminuye)"
   ]
  },
  {
   "cell_type": "markdown",
   "metadata": {},
   "source": [
    "    Correlación con respecto a la columna \"cnt\""
   ]
  },
  {
   "cell_type": "code",
   "execution_count": 13,
   "metadata": {},
   "outputs": [
    {
     "data": {
      "text/plain": [
       "cnt           1.000000\n",
       "registered    0.945411\n",
       "casual        0.672123\n",
       "temp          0.627003\n",
       "windspeed     0.235132\n",
       "hum           0.098502\n",
       "Name: cnt, dtype: float64"
      ]
     },
     "execution_count": 13,
     "metadata": {},
     "output_type": "execute_result"
    }
   ],
   "source": [
    "correlation = df.corr()['cnt'].abs().sort_values(ascending = False) #correlación solo te enseña numéricas, Pearson RESPECTO A LA COLUMNA \"cnt\"\n",
    "correlation"
   ]
  },
  {
   "cell_type": "markdown",
   "metadata": {},
   "source": [
    "    Correlación entre todas las numéricas"
   ]
  },
  {
   "cell_type": "code",
   "execution_count": 14,
   "metadata": {},
   "outputs": [
    {
     "data": {
      "text/html": [
       "<div>\n",
       "<style scoped>\n",
       "    .dataframe tbody tr th:only-of-type {\n",
       "        vertical-align: middle;\n",
       "    }\n",
       "\n",
       "    .dataframe tbody tr th {\n",
       "        vertical-align: top;\n",
       "    }\n",
       "\n",
       "    .dataframe thead th {\n",
       "        text-align: right;\n",
       "    }\n",
       "</style>\n",
       "<table border=\"1\" class=\"dataframe\">\n",
       "  <thead>\n",
       "    <tr style=\"text-align: right;\">\n",
       "      <th></th>\n",
       "      <th>cnt</th>\n",
       "      <th>casual</th>\n",
       "      <th>registered</th>\n",
       "      <th>temp</th>\n",
       "      <th>hum</th>\n",
       "      <th>windspeed</th>\n",
       "    </tr>\n",
       "  </thead>\n",
       "  <tbody>\n",
       "    <tr>\n",
       "      <th>cnt</th>\n",
       "      <td>1.000000</td>\n",
       "      <td>0.672123</td>\n",
       "      <td>0.945411</td>\n",
       "      <td>0.627003</td>\n",
       "      <td>-0.098502</td>\n",
       "      <td>-0.235132</td>\n",
       "    </tr>\n",
       "    <tr>\n",
       "      <th>casual</th>\n",
       "      <td>0.672123</td>\n",
       "      <td>1.000000</td>\n",
       "      <td>0.394137</td>\n",
       "      <td>0.542824</td>\n",
       "      <td>-0.075259</td>\n",
       "      <td>-0.167995</td>\n",
       "    </tr>\n",
       "    <tr>\n",
       "      <th>registered</th>\n",
       "      <td>0.945411</td>\n",
       "      <td>0.394137</td>\n",
       "      <td>1.000000</td>\n",
       "      <td>0.539345</td>\n",
       "      <td>-0.089140</td>\n",
       "      <td>-0.217914</td>\n",
       "    </tr>\n",
       "    <tr>\n",
       "      <th>temp</th>\n",
       "      <td>0.627003</td>\n",
       "      <td>0.542824</td>\n",
       "      <td>0.539345</td>\n",
       "      <td>1.000000</td>\n",
       "      <td>0.128716</td>\n",
       "      <td>-0.158367</td>\n",
       "    </tr>\n",
       "    <tr>\n",
       "      <th>hum</th>\n",
       "      <td>-0.098502</td>\n",
       "      <td>-0.075259</td>\n",
       "      <td>-0.089140</td>\n",
       "      <td>0.128716</td>\n",
       "      <td>1.000000</td>\n",
       "      <td>-0.248582</td>\n",
       "    </tr>\n",
       "    <tr>\n",
       "      <th>windspeed</th>\n",
       "      <td>-0.235132</td>\n",
       "      <td>-0.167995</td>\n",
       "      <td>-0.217914</td>\n",
       "      <td>-0.158367</td>\n",
       "      <td>-0.248582</td>\n",
       "      <td>1.000000</td>\n",
       "    </tr>\n",
       "  </tbody>\n",
       "</table>\n",
       "</div>"
      ],
      "text/plain": [
       "                 cnt    casual  registered      temp       hum  windspeed\n",
       "cnt         1.000000  0.672123    0.945411  0.627003 -0.098502  -0.235132\n",
       "casual      0.672123  1.000000    0.394137  0.542824 -0.075259  -0.167995\n",
       "registered  0.945411  0.394137    1.000000  0.539345 -0.089140  -0.217914\n",
       "temp        0.627003  0.542824    0.539345  1.000000  0.128716  -0.158367\n",
       "hum        -0.098502 -0.075259   -0.089140  0.128716  1.000000  -0.248582\n",
       "windspeed  -0.235132 -0.167995   -0.217914 -0.158367 -0.248582   1.000000"
      ]
     },
     "execution_count": 14,
     "metadata": {},
     "output_type": "execute_result"
    }
   ],
   "source": [
    "numericas.corr() "
   ]
  },
  {
   "cell_type": "code",
   "execution_count": 15,
   "metadata": {},
   "outputs": [
    {
     "data": {
      "image/png": "[encoded data removed]",
      "text/plain": [
       "<Figure size 432x288 with 2 Axes>"
      ]
     },
     "metadata": {
      "needs_background": "light"
     },
     "output_type": "display_data"
    }
   ],
   "source": [
    "mask = np.triu(np.ones_like(numericas.corr(), dtype = np.bool))\n",
    "sns.heatmap(numericas.corr(), \n",
    "           cmap = \"YlGnBu\", \n",
    "           annot = True, \n",
    "           mask =mask);\n"
   ]
  },
  {
   "cell_type": "code",
   "execution_count": 16,
   "metadata": {},
   "outputs": [],
   "source": [
    "numericas2 = df.select_dtypes(include = np.number).drop(\"cnt\", axis = 1)"
   ]
  },
  {
   "cell_type": "markdown",
   "metadata": {},
   "source": [
    "----"
   ]
  },
  {
   "cell_type": "markdown",
   "metadata": {},
   "source": [
    "### Comprobar Outliers en este modelo"
   ]
  },
  {
   "cell_type": "code",
   "execution_count": 17,
   "metadata": {},
   "outputs": [],
   "source": [
    "def detectar_outliers(lista_columnas, dataframe): \n",
    "    dicc_indices = {} # creamos un diccionario donde almacenaremos índices de los outliers\n",
    "    \n",
    "    # iteramos por la lista de las columnas numéricas de nuestro dataframe\n",
    "    for col in lista_columnas:\n",
    "        \n",
    "        #calculamos los cuartiles Q1 y Q3\n",
    "        Q1 = np.nanpercentile(df[col], 25)\n",
    "        Q3 = np.nanpercentile(df[col], 75)\n",
    "        \n",
    "        # calculamos el rango intercuartil\n",
    "        IQR = Q3 - Q1\n",
    "        \n",
    "        # calculamos los límites\n",
    "        outlier_step = 1.5 * IQR\n",
    "        \n",
    "        # filtramos nuestro dataframe para indentificar los outliers\n",
    "        outliers_data = dataframe[(dataframe[col] < Q1 - outlier_step) | (dataframe[col] > Q3 + outlier_step)]\n",
    "        \n",
    "        \n",
    "        if outliers_data.shape[0] > 0: # chequeamos si nuestro dataframe tiene alguna fila. \n",
    "        \n",
    "            dicc_indices[col] = (list(outliers_data.index)) # si tiene fila es que hay outliers y por lo tanto lo añadimos a nuestro diccionario\n",
    "        \n",
    "\n",
    "    return dicc_indices "
   ]
  },
  {
   "cell_type": "code",
   "execution_count": 18,
   "metadata": {},
   "outputs": [
    {
     "data": {
      "text/plain": [
       "['cnt', 'casual', 'registered', 'temp', 'hum', 'windspeed']"
      ]
     },
     "execution_count": 18,
     "metadata": {},
     "output_type": "execute_result"
    }
   ],
   "source": [
    "lista_columnas = list(numericas.columns)\n",
    "lista_columnas"
   ]
  },
  {
   "cell_type": "markdown",
   "metadata": {},
   "source": [
    "     Son pocos Outliers que no influyen en demasiado lo cambiamos por la mediana"
   ]
  },
  {
   "cell_type": "code",
   "execution_count": 19,
   "metadata": {},
   "outputs": [
    {
     "name": "stdout",
     "output_type": "stream",
     "text": [
      "{'casual': [148, 183, 184, 196, 246, 281, 440, 446, 454, 455, 461, 468, 469, 475, 489, 496, 503, 504, 510, 511, 512, 517, 518, 524, 531, 532, 538, 539, 549, 559, 567, 580, 594, 608, 609, 616, 622, 629, 630, 636, 643, 657, 664, 679], 'hum': [49, 68], 'windspeed': [44, 49, 93, 94, 292, 382, 407, 420, 431, 432, 449, 665, 720]}\n"
     ]
    }
   ],
   "source": [
    "ind = detectar_outliers(lista_columnas, df)\n",
    "print(ind)"
   ]
  },
  {
   "cell_type": "code",
   "execution_count": 20,
   "metadata": {},
   "outputs": [],
   "source": [
    "for key, values in ind.items():\n",
    "    median = df[key].median()\n",
    "     \n",
    "    if key == \"hum\" or key == 'windspeed':\n",
    "        for i in values: \n",
    "            df.loc[i,key] = median\n",
    "    else:\n",
    "        pass"
   ]
  },
  {
   "cell_type": "markdown",
   "metadata": {},
   "source": [
    "# Comprobación de las asunciones - Las variables predictoras deben cumplir: Homocedasteidad, Independencia "
   ]
  },
  {
   "cell_type": "markdown",
   "metadata": {},
   "source": [
    "    - Variables Categoricas -"
   ]
  },
  {
   "cell_type": "code",
   "execution_count": 21,
   "metadata": {},
   "outputs": [
    {
     "data": {
      "image/png": "[encoded data removed]",
      "text/plain": [
       "<Figure size 2160x1080 with 8 Axes>"
      ]
     },
     "metadata": {
      "needs_background": "light"
     },
     "output_type": "display_data"
    }
   ],
   "source": [
    "fig, axes = plt.subplots(nrows = 2, ncols = 4 ,figsize = (30, 15))\n",
    "\n",
    "axes = axes.flat\n",
    "\n",
    "colum_cat = df.select_dtypes(include = ['category']).columns\n",
    "\n",
    "for i, col in enumerate(colum_cat):\n",
    "    sns.boxplot(\n",
    "        x = col,\n",
    "        y = 'cnt',\n",
    "        data = df,\n",
    "        palette = 'tab10',\n",
    "        ax = axes[i]\n",
    "\n",
    "    )"
   ]
  },
  {
   "cell_type": "markdown",
   "metadata": {},
   "source": [
    "# ANOVA"
   ]
  },
  {
   "cell_type": "markdown",
   "metadata": {},
   "source": [
    "    Ya podemos pasar a la ANOVA después de comprobar si las variables predictoras cumplen las asunciones"
   ]
  },
  {
   "cell_type": "code",
   "execution_count": 22,
   "metadata": {},
   "outputs": [
    {
     "data": {
      "text/plain": [
       "Index(['cnt', 'casual', 'registered', 'season_encoding', 'yr', 'mnth', 'day',\n",
       "       'holiday', 'weekday', 'workingday', 'weathersit', 'temp', 'hum',\n",
       "       'windspeed'],\n",
       "      dtype='object')"
      ]
     },
     "execution_count": 22,
     "metadata": {},
     "output_type": "execute_result"
    }
   ],
   "source": [
    "df.columns"
   ]
  },
  {
   "cell_type": "markdown",
   "metadata": {},
   "source": [
    "    No añadimos \"registered\""
   ]
  },
  {
   "cell_type": "code",
   "execution_count": 23,
   "metadata": {},
   "outputs": [
    {
     "data": {
      "text/html": [
       "<div>\n",
       "<style scoped>\n",
       "    .dataframe tbody tr th:only-of-type {\n",
       "        vertical-align: middle;\n",
       "    }\n",
       "\n",
       "    .dataframe tbody tr th {\n",
       "        vertical-align: top;\n",
       "    }\n",
       "\n",
       "    .dataframe thead th {\n",
       "        text-align: right;\n",
       "    }\n",
       "</style>\n",
       "<table border=\"1\" class=\"dataframe\">\n",
       "  <thead>\n",
       "    <tr style=\"text-align: right;\">\n",
       "      <th></th>\n",
       "      <th>df</th>\n",
       "      <th>sum_sq</th>\n",
       "      <th>mean_sq</th>\n",
       "      <th>F</th>\n",
       "      <th>PR(&gt;F)</th>\n",
       "    </tr>\n",
       "  </thead>\n",
       "  <tbody>\n",
       "    <tr>\n",
       "      <th>season_encoding</th>\n",
       "      <td>3.0</td>\n",
       "      <td>2.965983e+08</td>\n",
       "      <td>9.886610e+07</td>\n",
       "      <td>262.807410</td>\n",
       "      <td>9.232468e-113</td>\n",
       "    </tr>\n",
       "    <tr>\n",
       "      <th>yr</th>\n",
       "      <td>1.0</td>\n",
       "      <td>8.869095e+08</td>\n",
       "      <td>8.869095e+08</td>\n",
       "      <td>2357.596632</td>\n",
       "      <td>8.943830e-222</td>\n",
       "    </tr>\n",
       "    <tr>\n",
       "      <th>mnth</th>\n",
       "      <td>11.0</td>\n",
       "      <td>7.803896e+08</td>\n",
       "      <td>7.094451e+07</td>\n",
       "      <td>188.585804</td>\n",
       "      <td>6.726230e-197</td>\n",
       "    </tr>\n",
       "    <tr>\n",
       "      <th>day</th>\n",
       "      <td>30.0</td>\n",
       "      <td>6.263900e+07</td>\n",
       "      <td>2.087967e+06</td>\n",
       "      <td>5.550266</td>\n",
       "      <td>3.255271e-18</td>\n",
       "    </tr>\n",
       "    <tr>\n",
       "      <th>holiday</th>\n",
       "      <td>1.0</td>\n",
       "      <td>8.356054e+06</td>\n",
       "      <td>8.356054e+06</td>\n",
       "      <td>22.212193</td>\n",
       "      <td>2.969398e-06</td>\n",
       "    </tr>\n",
       "    <tr>\n",
       "      <th>weekday</th>\n",
       "      <td>6.0</td>\n",
       "      <td>1.555021e+07</td>\n",
       "      <td>2.591702e+06</td>\n",
       "      <td>6.889303</td>\n",
       "      <td>4.102127e-07</td>\n",
       "    </tr>\n",
       "    <tr>\n",
       "      <th>workingday</th>\n",
       "      <td>1.0</td>\n",
       "      <td>4.369330e+04</td>\n",
       "      <td>4.369330e+04</td>\n",
       "      <td>0.116146</td>\n",
       "      <td>7.333591e-01</td>\n",
       "    </tr>\n",
       "    <tr>\n",
       "      <th>weathersit</th>\n",
       "      <td>2.0</td>\n",
       "      <td>1.746155e+08</td>\n",
       "      <td>8.730774e+07</td>\n",
       "      <td>232.082804</td>\n",
       "      <td>2.471926e-77</td>\n",
       "    </tr>\n",
       "    <tr>\n",
       "      <th>casual</th>\n",
       "      <td>1.0</td>\n",
       "      <td>2.342303e+08</td>\n",
       "      <td>2.342303e+08</td>\n",
       "      <td>622.634597</td>\n",
       "      <td>9.979754e-98</td>\n",
       "    </tr>\n",
       "    <tr>\n",
       "      <th>temp</th>\n",
       "      <td>1.0</td>\n",
       "      <td>1.246548e+07</td>\n",
       "      <td>1.246548e+07</td>\n",
       "      <td>33.135944</td>\n",
       "      <td>1.307773e-08</td>\n",
       "    </tr>\n",
       "    <tr>\n",
       "      <th>hum</th>\n",
       "      <td>1.0</td>\n",
       "      <td>2.073461e+06</td>\n",
       "      <td>2.073461e+06</td>\n",
       "      <td>5.511706</td>\n",
       "      <td>1.917915e-02</td>\n",
       "    </tr>\n",
       "    <tr>\n",
       "      <th>windspeed</th>\n",
       "      <td>1.0</td>\n",
       "      <td>6.195318e+06</td>\n",
       "      <td>6.195318e+06</td>\n",
       "      <td>16.468491</td>\n",
       "      <td>5.528888e-05</td>\n",
       "    </tr>\n",
       "    <tr>\n",
       "      <th>Residual</th>\n",
       "      <td>671.0</td>\n",
       "      <td>2.524250e+08</td>\n",
       "      <td>3.761922e+05</td>\n",
       "      <td>NaN</td>\n",
       "      <td>NaN</td>\n",
       "    </tr>\n",
       "  </tbody>\n",
       "</table>\n",
       "</div>"
      ],
      "text/plain": [
       "                    df        sum_sq       mean_sq            F         PR(>F)\n",
       "season_encoding    3.0  2.965983e+08  9.886610e+07   262.807410  9.232468e-113\n",
       "yr                 1.0  8.869095e+08  8.869095e+08  2357.596632  8.943830e-222\n",
       "mnth              11.0  7.803896e+08  7.094451e+07   188.585804  6.726230e-197\n",
       "day               30.0  6.263900e+07  2.087967e+06     5.550266   3.255271e-18\n",
       "holiday            1.0  8.356054e+06  8.356054e+06    22.212193   2.969398e-06\n",
       "weekday            6.0  1.555021e+07  2.591702e+06     6.889303   4.102127e-07\n",
       "workingday         1.0  4.369330e+04  4.369330e+04     0.116146   7.333591e-01\n",
       "weathersit         2.0  1.746155e+08  8.730774e+07   232.082804   2.471926e-77\n",
       "casual             1.0  2.342303e+08  2.342303e+08   622.634597   9.979754e-98\n",
       "temp               1.0  1.246548e+07  1.246548e+07    33.135944   1.307773e-08\n",
       "hum                1.0  2.073461e+06  2.073461e+06     5.511706   1.917915e-02\n",
       "windspeed          1.0  6.195318e+06  6.195318e+06    16.468491   5.528888e-05\n",
       "Residual         671.0  2.524250e+08  3.761922e+05          NaN            NaN"
      ]
     },
     "execution_count": 23,
     "metadata": {},
     "output_type": "execute_result"
    }
   ],
   "source": [
    "lm = ols('cnt ~  casual + season_encoding + yr + mnth + day + holiday + weekday + workingday + weathersit + temp + hum +  windspeed' , data=df).fit()\n",
    "sm.stats.anova_lm(lm)"
   ]
  },
  {
   "cell_type": "code",
   "execution_count": 24,
   "metadata": {},
   "outputs": [
    {
     "data": {
      "text/html": [
       "<table class=\"simpletable\">\n",
       "<caption>OLS Regression Results</caption>\n",
       "<tr>\n",
       "  <th>Dep. Variable:</th>           <td>cnt</td>       <th>  R-squared:         </th> <td>   0.908</td> \n",
       "</tr>\n",
       "<tr>\n",
       "  <th>Model:</th>                   <td>OLS</td>       <th>  Adj. R-squared:    </th> <td>   0.900</td> \n",
       "</tr>\n",
       "<tr>\n",
       "  <th>Method:</th>             <td>Least Squares</td>  <th>  F-statistic:       </th> <td>   113.7</td> \n",
       "</tr>\n",
       "<tr>\n",
       "  <th>Date:</th>             <td>Wed, 15 Jun 2022</td> <th>  Prob (F-statistic):</th> <td>3.36e-307</td>\n",
       "</tr>\n",
       "<tr>\n",
       "  <th>Time:</th>                 <td>18:17:47</td>     <th>  Log-Likelihood:    </th> <td> -5690.9</td> \n",
       "</tr>\n",
       "<tr>\n",
       "  <th>No. Observations:</th>      <td>   730</td>      <th>  AIC:               </th> <td>1.150e+04</td>\n",
       "</tr>\n",
       "<tr>\n",
       "  <th>Df Residuals:</th>          <td>   671</td>      <th>  BIC:               </th> <td>1.177e+04</td>\n",
       "</tr>\n",
       "<tr>\n",
       "  <th>Df Model:</th>              <td>    58</td>      <th>                     </th>     <td> </td>    \n",
       "</tr>\n",
       "<tr>\n",
       "  <th>Covariance Type:</th>      <td>nonrobust</td>    <th>                     </th>     <td> </td>    \n",
       "</tr>\n",
       "</table>\n",
       "<table class=\"simpletable\">\n",
       "<tr>\n",
       "            <td></td>              <th>coef</th>     <th>std err</th>      <th>t</th>      <th>P>|t|</th>  <th>[0.025</th>    <th>0.975]</th>  \n",
       "</tr>\n",
       "<tr>\n",
       "  <th>Intercept</th>            <td>  356.6242</td> <td>  237.055</td> <td>    1.504</td> <td> 0.133</td> <td> -108.835</td> <td>  822.084</td>\n",
       "</tr>\n",
       "<tr>\n",
       "  <th>season_encoding[T.2]</th> <td> -863.7501</td> <td>  134.176</td> <td>   -6.437</td> <td> 0.000</td> <td>-1127.206</td> <td> -600.294</td>\n",
       "</tr>\n",
       "<tr>\n",
       "  <th>season_encoding[T.3]</th> <td> -112.2496</td> <td>  132.729</td> <td>   -0.846</td> <td> 0.398</td> <td> -372.864</td> <td>  148.365</td>\n",
       "</tr>\n",
       "<tr>\n",
       "  <th>season_encoding[T.4]</th> <td>  170.1781</td> <td>  135.956</td> <td>    1.252</td> <td> 0.211</td> <td>  -96.772</td> <td>  437.128</td>\n",
       "</tr>\n",
       "<tr>\n",
       "  <th>yr[T.1]</th>              <td> 1618.6137</td> <td>   50.344</td> <td>   32.151</td> <td> 0.000</td> <td> 1519.764</td> <td> 1717.464</td>\n",
       "</tr>\n",
       "<tr>\n",
       "  <th>mnth[T.2]</th>            <td>  167.1802</td> <td>  115.594</td> <td>    1.446</td> <td> 0.149</td> <td>  -59.789</td> <td>  394.150</td>\n",
       "</tr>\n",
       "<tr>\n",
       "  <th>mnth[T.3]</th>            <td>  357.7042</td> <td>  124.355</td> <td>    2.876</td> <td> 0.004</td> <td>  113.532</td> <td>  601.877</td>\n",
       "</tr>\n",
       "<tr>\n",
       "  <th>mnth[T.4]</th>            <td>  725.6083</td> <td>  162.872</td> <td>    4.455</td> <td> 0.000</td> <td>  405.808</td> <td> 1045.409</td>\n",
       "</tr>\n",
       "<tr>\n",
       "  <th>mnth[T.5]</th>            <td>  965.1883</td> <td>  183.955</td> <td>    5.247</td> <td> 0.000</td> <td>  603.991</td> <td> 1326.385</td>\n",
       "</tr>\n",
       "<tr>\n",
       "  <th>mnth[T.6]</th>            <td>  984.5038</td> <td>  206.093</td> <td>    4.777</td> <td> 0.000</td> <td>  579.838</td> <td> 1389.169</td>\n",
       "</tr>\n",
       "<tr>\n",
       "  <th>mnth[T.7]</th>            <td>  475.4431</td> <td>  238.019</td> <td>    1.998</td> <td> 0.046</td> <td>    8.091</td> <td>  942.795</td>\n",
       "</tr>\n",
       "<tr>\n",
       "  <th>mnth[T.8]</th>            <td>  763.8200</td> <td>  224.378</td> <td>    3.404</td> <td> 0.001</td> <td>  323.253</td> <td> 1204.387</td>\n",
       "</tr>\n",
       "<tr>\n",
       "  <th>mnth[T.9]</th>            <td> 1328.8584</td> <td>  201.801</td> <td>    6.585</td> <td> 0.000</td> <td>  932.620</td> <td> 1725.097</td>\n",
       "</tr>\n",
       "<tr>\n",
       "  <th>mnth[T.10]</th>           <td> 2000.1314</td> <td>  171.104</td> <td>   11.690</td> <td> 0.000</td> <td> 1664.168</td> <td> 2336.095</td>\n",
       "</tr>\n",
       "<tr>\n",
       "  <th>mnth[T.11]</th>           <td> 1695.6418</td> <td>  150.259</td> <td>   11.285</td> <td> 0.000</td> <td> 1400.608</td> <td> 1990.676</td>\n",
       "</tr>\n",
       "<tr>\n",
       "  <th>mnth[T.12]</th>           <td> 1394.2986</td> <td>  144.184</td> <td>    9.670</td> <td> 0.000</td> <td> 1111.193</td> <td> 1677.405</td>\n",
       "</tr>\n",
       "<tr>\n",
       "  <th>day[T.2]</th>             <td>   74.7387</td> <td>  177.810</td> <td>    0.420</td> <td> 0.674</td> <td> -274.393</td> <td>  423.870</td>\n",
       "</tr>\n",
       "<tr>\n",
       "  <th>day[T.3]</th>             <td>   93.2341</td> <td>  178.114</td> <td>    0.523</td> <td> 0.601</td> <td> -256.495</td> <td>  442.963</td>\n",
       "</tr>\n",
       "<tr>\n",
       "  <th>day[T.4]</th>             <td>  199.8793</td> <td>  223.082</td> <td>    0.896</td> <td> 0.371</td> <td> -238.143</td> <td>  637.902</td>\n",
       "</tr>\n",
       "<tr>\n",
       "  <th>day[T.5]</th>             <td>  230.2166</td> <td>  222.135</td> <td>    1.036</td> <td> 0.300</td> <td> -205.947</td> <td>  666.380</td>\n",
       "</tr>\n",
       "<tr>\n",
       "  <th>day[T.6]</th>             <td>  264.3795</td> <td>  222.928</td> <td>    1.186</td> <td> 0.236</td> <td> -173.341</td> <td>  702.100</td>\n",
       "</tr>\n",
       "<tr>\n",
       "  <th>day[T.7]</th>             <td> -187.9049</td> <td>  224.193</td> <td>   -0.838</td> <td> 0.402</td> <td> -628.108</td> <td>  252.299</td>\n",
       "</tr>\n",
       "<tr>\n",
       "  <th>day[T.8]</th>             <td> -150.6411</td> <td>  223.709</td> <td>   -0.673</td> <td> 0.501</td> <td> -589.896</td> <td>  288.614</td>\n",
       "</tr>\n",
       "<tr>\n",
       "  <th>day[T.9]</th>             <td> -108.5017</td> <td>  223.168</td> <td>   -0.486</td> <td> 0.627</td> <td> -546.693</td> <td>  329.690</td>\n",
       "</tr>\n",
       "<tr>\n",
       "  <th>day[T.10]</th>            <td> 1045.1206</td> <td>  223.163</td> <td>    4.683</td> <td> 0.000</td> <td>  606.938</td> <td> 1483.303</td>\n",
       "</tr>\n",
       "<tr>\n",
       "  <th>day[T.11]</th>            <td> 1117.8522</td> <td>  222.726</td> <td>    5.019</td> <td> 0.000</td> <td>  680.528</td> <td> 1555.176</td>\n",
       "</tr>\n",
       "<tr>\n",
       "  <th>day[T.12]</th>            <td> 1054.7443</td> <td>  223.202</td> <td>    4.726</td> <td> 0.000</td> <td>  616.485</td> <td> 1493.003</td>\n",
       "</tr>\n",
       "<tr>\n",
       "  <th>day[T.13]</th>            <td>  304.5042</td> <td>  196.799</td> <td>    1.547</td> <td> 0.122</td> <td>  -81.911</td> <td>  690.919</td>\n",
       "</tr>\n",
       "<tr>\n",
       "  <th>day[T.14]</th>            <td>  268.5003</td> <td>  196.151</td> <td>    1.369</td> <td> 0.172</td> <td> -116.644</td> <td>  653.645</td>\n",
       "</tr>\n",
       "<tr>\n",
       "  <th>day[T.15]</th>            <td>  442.4931</td> <td>  196.707</td> <td>    2.250</td> <td> 0.025</td> <td>   56.258</td> <td>  828.728</td>\n",
       "</tr>\n",
       "<tr>\n",
       "  <th>day[T.16]</th>            <td>  495.4151</td> <td>  196.838</td> <td>    2.517</td> <td> 0.012</td> <td>  108.922</td> <td>  881.908</td>\n",
       "</tr>\n",
       "<tr>\n",
       "  <th>day[T.17]</th>            <td>  498.9497</td> <td>  197.102</td> <td>    2.531</td> <td> 0.012</td> <td>  111.939</td> <td>  885.960</td>\n",
       "</tr>\n",
       "<tr>\n",
       "  <th>day[T.18]</th>            <td>  165.2025</td> <td>  196.388</td> <td>    0.841</td> <td> 0.401</td> <td> -220.406</td> <td>  550.811</td>\n",
       "</tr>\n",
       "<tr>\n",
       "  <th>day[T.19]</th>            <td>  356.8517</td> <td>  195.858</td> <td>    1.822</td> <td> 0.069</td> <td>  -27.717</td> <td>  741.420</td>\n",
       "</tr>\n",
       "<tr>\n",
       "  <th>day[T.20]</th>            <td>  399.0020</td> <td>  196.173</td> <td>    2.034</td> <td> 0.042</td> <td>   13.816</td> <td>  784.188</td>\n",
       "</tr>\n",
       "<tr>\n",
       "  <th>day[T.21]</th>            <td>  301.0728</td> <td>  197.044</td> <td>    1.528</td> <td> 0.127</td> <td>  -85.825</td> <td>  687.970</td>\n",
       "</tr>\n",
       "<tr>\n",
       "  <th>day[T.22]</th>            <td>  114.2977</td> <td>  196.193</td> <td>    0.583</td> <td> 0.560</td> <td> -270.927</td> <td>  499.523</td>\n",
       "</tr>\n",
       "<tr>\n",
       "  <th>day[T.23]</th>            <td>   41.8280</td> <td>  196.502</td> <td>    0.213</td> <td> 0.831</td> <td> -344.005</td> <td>  427.661</td>\n",
       "</tr>\n",
       "<tr>\n",
       "  <th>day[T.24]</th>            <td>  115.2730</td> <td>  195.883</td> <td>    0.588</td> <td> 0.556</td> <td> -269.345</td> <td>  499.891</td>\n",
       "</tr>\n",
       "<tr>\n",
       "  <th>day[T.25]</th>            <td>  151.7682</td> <td>  195.902</td> <td>    0.775</td> <td> 0.439</td> <td> -232.887</td> <td>  536.423</td>\n",
       "</tr>\n",
       "<tr>\n",
       "  <th>day[T.26]</th>            <td>  294.3107</td> <td>  196.680</td> <td>    1.496</td> <td> 0.135</td> <td>  -91.871</td> <td>  680.492</td>\n",
       "</tr>\n",
       "<tr>\n",
       "  <th>day[T.27]</th>            <td>   99.2650</td> <td>  196.652</td> <td>    0.505</td> <td> 0.614</td> <td> -286.861</td> <td>  485.391</td>\n",
       "</tr>\n",
       "<tr>\n",
       "  <th>day[T.28]</th>            <td>  135.4307</td> <td>  196.475</td> <td>    0.689</td> <td> 0.491</td> <td> -250.349</td> <td>  521.210</td>\n",
       "</tr>\n",
       "<tr>\n",
       "  <th>day[T.29]</th>            <td>   38.7465</td> <td>  201.997</td> <td>    0.192</td> <td> 0.848</td> <td> -357.876</td> <td>  435.369</td>\n",
       "</tr>\n",
       "<tr>\n",
       "  <th>day[T.30]</th>            <td>  248.8699</td> <td>  200.989</td> <td>    1.238</td> <td> 0.216</td> <td> -145.774</td> <td>  643.513</td>\n",
       "</tr>\n",
       "<tr>\n",
       "  <th>day[T.31]</th>            <td>  331.6607</td> <td>  223.763</td> <td>    1.482</td> <td> 0.139</td> <td> -107.699</td> <td>  771.021</td>\n",
       "</tr>\n",
       "<tr>\n",
       "  <th>holiday[T.1]</th>         <td> -276.8994</td> <td>  129.470</td> <td>   -2.139</td> <td> 0.033</td> <td> -531.114</td> <td>  -22.684</td>\n",
       "</tr>\n",
       "<tr>\n",
       "  <th>weekday[T.1]</th>         <td>   45.8736</td> <td>   57.983</td> <td>    0.791</td> <td> 0.429</td> <td>  -67.977</td> <td>  159.724</td>\n",
       "</tr>\n",
       "<tr>\n",
       "  <th>weekday[T.2]</th>         <td>  216.7074</td> <td>   63.253</td> <td>    3.426</td> <td> 0.001</td> <td>   92.509</td> <td>  340.906</td>\n",
       "</tr>\n",
       "<tr>\n",
       "  <th>weekday[T.3]</th>         <td>  301.4409</td> <td>   63.557</td> <td>    4.743</td> <td> 0.000</td> <td>  176.646</td> <td>  426.236</td>\n",
       "</tr>\n",
       "<tr>\n",
       "  <th>weekday[T.4]</th>         <td>  282.5927</td> <td>   62.667</td> <td>    4.509</td> <td> 0.000</td> <td>  159.545</td> <td>  405.640</td>\n",
       "</tr>\n",
       "<tr>\n",
       "  <th>weekday[T.5]</th>         <td>   77.3306</td> <td>   61.630</td> <td>    1.255</td> <td> 0.210</td> <td>  -43.680</td> <td>  198.342</td>\n",
       "</tr>\n",
       "<tr>\n",
       "  <th>weekday[T.6]</th>         <td>  208.7957</td> <td>   85.930</td> <td>    2.430</td> <td> 0.015</td> <td>   40.072</td> <td>  377.519</td>\n",
       "</tr>\n",
       "<tr>\n",
       "  <th>workingday[T.1]</th>      <td> 1200.8447</td> <td>   66.914</td> <td>   17.946</td> <td> 0.000</td> <td> 1069.459</td> <td> 1332.230</td>\n",
       "</tr>\n",
       "<tr>\n",
       "  <th>weathersit[T.2]</th>      <td> -273.6660</td> <td>   64.578</td> <td>   -4.238</td> <td> 0.000</td> <td> -400.466</td> <td> -146.866</td>\n",
       "</tr>\n",
       "<tr>\n",
       "  <th>weathersit[T.3]</th>      <td>-1473.7196</td> <td>  166.368</td> <td>   -8.858</td> <td> 0.000</td> <td>-1800.384</td> <td>-1147.055</td>\n",
       "</tr>\n",
       "<tr>\n",
       "  <th>casual</th>               <td>    1.3910</td> <td>    0.066</td> <td>   21.143</td> <td> 0.000</td> <td>    1.262</td> <td>    1.520</td>\n",
       "</tr>\n",
       "<tr>\n",
       "  <th>temp</th>                 <td>   56.1613</td> <td>    8.724</td> <td>    6.438</td> <td> 0.000</td> <td>   39.032</td> <td>   73.291</td>\n",
       "</tr>\n",
       "<tr>\n",
       "  <th>hum</th>                  <td>   -8.3373</td> <td>    2.516</td> <td>   -3.314</td> <td> 0.001</td> <td>  -13.277</td> <td>   -3.397</td>\n",
       "</tr>\n",
       "<tr>\n",
       "  <th>windspeed</th>            <td>  -21.8345</td> <td>    5.396</td> <td>   -4.046</td> <td> 0.000</td> <td>  -32.430</td> <td>  -11.239</td>\n",
       "</tr>\n",
       "</table>\n",
       "<table class=\"simpletable\">\n",
       "<tr>\n",
       "  <th>Omnibus:</th>       <td>134.026</td> <th>  Durbin-Watson:     </th> <td>   0.966</td>\n",
       "</tr>\n",
       "<tr>\n",
       "  <th>Prob(Omnibus):</th> <td> 0.000</td>  <th>  Jarque-Bera (JB):  </th> <td> 325.626</td>\n",
       "</tr>\n",
       "<tr>\n",
       "  <th>Skew:</th>          <td>-0.965</td>  <th>  Prob(JB):          </th> <td>1.96e-71</td>\n",
       "</tr>\n",
       "<tr>\n",
       "  <th>Kurtosis:</th>      <td> 5.642</td>  <th>  Cond. No.          </th> <td>3.53e+18</td>\n",
       "</tr>\n",
       "</table><br/><br/>Notes:<br/>[1] Standard Errors assume that the covariance matrix of the errors is correctly specified.<br/>[2] The smallest eigenvalue is 6.99e-29. This might indicate that there are<br/>strong multicollinearity problems or that the design matrix is singular."
      ],
      "text/plain": [
       "<class 'statsmodels.iolib.summary.Summary'>\n",
       "\"\"\"\n",
       "                            OLS Regression Results                            \n",
       "==============================================================================\n",
       "Dep. Variable:                    cnt   R-squared:                       0.908\n",
       "Model:                            OLS   Adj. R-squared:                  0.900\n",
       "Method:                 Least Squares   F-statistic:                     113.7\n",
       "Date:                Wed, 15 Jun 2022   Prob (F-statistic):          3.36e-307\n",
       "Time:                        18:17:47   Log-Likelihood:                -5690.9\n",
       "No. Observations:                 730   AIC:                         1.150e+04\n",
       "Df Residuals:                     671   BIC:                         1.177e+04\n",
       "Df Model:                          58                                         \n",
       "Covariance Type:            nonrobust                                         \n",
       "========================================================================================\n",
       "                           coef    std err          t      P>|t|      [0.025      0.975]\n",
       "----------------------------------------------------------------------------------------\n",
       "Intercept              356.6242    237.055      1.504      0.133    -108.835     822.084\n",
       "season_encoding[T.2]  -863.7501    134.176     -6.437      0.000   -1127.206    -600.294\n",
       "season_encoding[T.3]  -112.2496    132.729     -0.846      0.398    -372.864     148.365\n",
       "season_encoding[T.4]   170.1781    135.956      1.252      0.211     -96.772     437.128\n",
       "yr[T.1]               1618.6137     50.344     32.151      0.000    1519.764    1717.464\n",
       "mnth[T.2]              167.1802    115.594      1.446      0.149     -59.789     394.150\n",
       "mnth[T.3]              357.7042    124.355      2.876      0.004     113.532     601.877\n",
       "mnth[T.4]              725.6083    162.872      4.455      0.000     405.808    1045.409\n",
       "mnth[T.5]              965.1883    183.955      5.247      0.000     603.991    1326.385\n",
       "mnth[T.6]              984.5038    206.093      4.777      0.000     579.838    1389.169\n",
       "mnth[T.7]              475.4431    238.019      1.998      0.046       8.091     942.795\n",
       "mnth[T.8]              763.8200    224.378      3.404      0.001     323.253    1204.387\n",
       "mnth[T.9]             1328.8584    201.801      6.585      0.000     932.620    1725.097\n",
       "mnth[T.10]            2000.1314    171.104     11.690      0.000    1664.168    2336.095\n",
       "mnth[T.11]            1695.6418    150.259     11.285      0.000    1400.608    1990.676\n",
       "mnth[T.12]            1394.2986    144.184      9.670      0.000    1111.193    1677.405\n",
       "day[T.2]                74.7387    177.810      0.420      0.674    -274.393     423.870\n",
       "day[T.3]                93.2341    178.114      0.523      0.601    -256.495     442.963\n",
       "day[T.4]               199.8793    223.082      0.896      0.371    -238.143     637.902\n",
       "day[T.5]               230.2166    222.135      1.036      0.300    -205.947     666.380\n",
       "day[T.6]               264.3795    222.928      1.186      0.236    -173.341     702.100\n",
       "day[T.7]              -187.9049    224.193     -0.838      0.402    -628.108     252.299\n",
       "day[T.8]              -150.6411    223.709     -0.673      0.501    -589.896     288.614\n",
       "day[T.9]              -108.5017    223.168     -0.486      0.627    -546.693     329.690\n",
       "day[T.10]             1045.1206    223.163      4.683      0.000     606.938    1483.303\n",
       "day[T.11]             1117.8522    222.726      5.019      0.000     680.528    1555.176\n",
       "day[T.12]             1054.7443    223.202      4.726      0.000     616.485    1493.003\n",
       "day[T.13]              304.5042    196.799      1.547      0.122     -81.911     690.919\n",
       "day[T.14]              268.5003    196.151      1.369      0.172    -116.644     653.645\n",
       "day[T.15]              442.4931    196.707      2.250      0.025      56.258     828.728\n",
       "day[T.16]              495.4151    196.838      2.517      0.012     108.922     881.908\n",
       "day[T.17]              498.9497    197.102      2.531      0.012     111.939     885.960\n",
       "day[T.18]              165.2025    196.388      0.841      0.401    -220.406     550.811\n",
       "day[T.19]              356.8517    195.858      1.822      0.069     -27.717     741.420\n",
       "day[T.20]              399.0020    196.173      2.034      0.042      13.816     784.188\n",
       "day[T.21]              301.0728    197.044      1.528      0.127     -85.825     687.970\n",
       "day[T.22]              114.2977    196.193      0.583      0.560    -270.927     499.523\n",
       "day[T.23]               41.8280    196.502      0.213      0.831    -344.005     427.661\n",
       "day[T.24]              115.2730    195.883      0.588      0.556    -269.345     499.891\n",
       "day[T.25]              151.7682    195.902      0.775      0.439    -232.887     536.423\n",
       "day[T.26]              294.3107    196.680      1.496      0.135     -91.871     680.492\n",
       "day[T.27]               99.2650    196.652      0.505      0.614    -286.861     485.391\n",
       "day[T.28]              135.4307    196.475      0.689      0.491    -250.349     521.210\n",
       "day[T.29]               38.7465    201.997      0.192      0.848    -357.876     435.369\n",
       "day[T.30]              248.8699    200.989      1.238      0.216    -145.774     643.513\n",
       "day[T.31]              331.6607    223.763      1.482      0.139    -107.699     771.021\n",
       "holiday[T.1]          -276.8994    129.470     -2.139      0.033    -531.114     -22.684\n",
       "weekday[T.1]            45.8736     57.983      0.791      0.429     -67.977     159.724\n",
       "weekday[T.2]           216.7074     63.253      3.426      0.001      92.509     340.906\n",
       "weekday[T.3]           301.4409     63.557      4.743      0.000     176.646     426.236\n",
       "weekday[T.4]           282.5927     62.667      4.509      0.000     159.545     405.640\n",
       "weekday[T.5]            77.3306     61.630      1.255      0.210     -43.680     198.342\n",
       "weekday[T.6]           208.7957     85.930      2.430      0.015      40.072     377.519\n",
       "workingday[T.1]       1200.8447     66.914     17.946      0.000    1069.459    1332.230\n",
       "weathersit[T.2]       -273.6660     64.578     -4.238      0.000    -400.466    -146.866\n",
       "weathersit[T.3]      -1473.7196    166.368     -8.858      0.000   -1800.384   -1147.055\n",
       "casual                   1.3910      0.066     21.143      0.000       1.262       1.520\n",
       "temp                    56.1613      8.724      6.438      0.000      39.032      73.291\n",
       "hum                     -8.3373      2.516     -3.314      0.001     -13.277      -3.397\n",
       "windspeed              -21.8345      5.396     -4.046      0.000     -32.430     -11.239\n",
       "==============================================================================\n",
       "Omnibus:                      134.026   Durbin-Watson:                   0.966\n",
       "Prob(Omnibus):                  0.000   Jarque-Bera (JB):              325.626\n",
       "Skew:                          -0.965   Prob(JB):                     1.96e-71\n",
       "Kurtosis:                       5.642   Cond. No.                     3.53e+18\n",
       "==============================================================================\n",
       "\n",
       "Notes:\n",
       "[1] Standard Errors assume that the covariance matrix of the errors is correctly specified.\n",
       "[2] The smallest eigenvalue is 6.99e-29. This might indicate that there are\n",
       "strong multicollinearity problems or that the design matrix is singular.\n",
       "\"\"\""
      ]
     },
     "execution_count": 24,
     "metadata": {},
     "output_type": "execute_result"
    }
   ],
   "source": [
    "lm.summary()"
   ]
  },
  {
   "cell_type": "markdown",
   "metadata": {},
   "source": [
    "# VIF - Para comprobar si hay o no multicolinealidad (Correlación alta entre dos v. predictoras), podemos averiguar si eliminar o no ésta variable."
   ]
  },
  {
   "cell_type": "markdown",
   "metadata": {},
   "source": [
    "Vif = 1 No existe corr entre una variable predictora y el resto\n",
    "\n",
    "Vif = 1-5 Correlación moderada\n",
    "\n",
    "Vif= +5 Correlación severa (Puede que se deba eliminar esa variable)"
   ]
  },
  {
   "cell_type": "code",
   "execution_count": 25,
   "metadata": {},
   "outputs": [],
   "source": [
    "def get_VIF(dataframe, target):\n",
    "        X = add_constant(dataframe.loc[:, dataframe.columns != target])\n",
    "        seriesObject = pd.Series([variance_inflation_factor(X.values,i) for i in range(X.shape[1])] , index=X.columns,).sort_values(ascending= False)\n",
    "        return seriesObject"
   ]
  },
  {
   "cell_type": "code",
   "execution_count": 26,
   "metadata": {},
   "outputs": [
    {
     "data": {
      "text/plain": [
       "const              57.356721\n",
       "registered          5.250707\n",
       "casual              3.499982\n",
       "workingday          3.049152\n",
       "temp                2.692000\n",
       "yr                  2.505302\n",
       "hum                 2.022413\n",
       "weathersit          1.999211\n",
       "mnth                1.344211\n",
       "season_encoding     1.326242\n",
       "windspeed           1.177274\n",
       "holiday             1.099122\n",
       "weekday             1.041472\n",
       "day                 1.019574\n",
       "dtype: float64"
      ]
     },
     "execution_count": 26,
     "metadata": {},
     "output_type": "execute_result"
    }
   ],
   "source": [
    "get_VIF(df,'cnt')"
   ]
  },
  {
   "cell_type": "code",
   "execution_count": 27,
   "metadata": {},
   "outputs": [
    {
     "data": {
      "text/plain": [
       "const              52.810975\n",
       "hum                 1.999244\n",
       "weathersit          1.859346\n",
       "temp                1.377595\n",
       "season_encoding     1.322259\n",
       "mnth                1.137880\n",
       "windspeed           1.134465\n",
       "holiday             1.083125\n",
       "workingday          1.076342\n",
       "yr                  1.027614\n",
       "weekday             1.019686\n",
       "day                 1.011929\n",
       "dtype: float64"
      ]
     },
     "execution_count": 27,
     "metadata": {},
     "output_type": "execute_result"
    }
   ],
   "source": [
    "get_VIF(df.drop(columns=['registered','casual']),'cnt')"
   ]
  },
  {
   "cell_type": "code",
   "execution_count": 38,
   "metadata": {},
   "outputs": [],
   "source": [
    "df.to_csv(\"knn.csv\")"
   ]
  },
  {
   "cell_type": "markdown",
   "metadata": {},
   "source": [
    "--------"
   ]
  },
  {
   "cell_type": "markdown",
   "metadata": {},
   "source": [
    "# Regresion Logistica"
   ]
  },
  {
   "cell_type": "code",
   "execution_count": 28,
   "metadata": {},
   "outputs": [],
   "source": [
    "df_standardized = df.copy()"
   ]
  },
  {
   "cell_type": "code",
   "execution_count": 29,
   "metadata": {},
   "outputs": [],
   "source": [
    "numericas2 = df_standardized.select_dtypes(include = np.number)"
   ]
  },
  {
   "cell_type": "code",
   "execution_count": 30,
   "metadata": {},
   "outputs": [
    {
     "data": {
      "text/html": [
       "<div>\n",
       "<style scoped>\n",
       "    .dataframe tbody tr th:only-of-type {\n",
       "        vertical-align: middle;\n",
       "    }\n",
       "\n",
       "    .dataframe tbody tr th {\n",
       "        vertical-align: top;\n",
       "    }\n",
       "\n",
       "    .dataframe thead th {\n",
       "        text-align: right;\n",
       "    }\n",
       "</style>\n",
       "<table border=\"1\" class=\"dataframe\">\n",
       "  <thead>\n",
       "    <tr style=\"text-align: right;\">\n",
       "      <th></th>\n",
       "      <th>cnt</th>\n",
       "      <th>casual</th>\n",
       "      <th>registered</th>\n",
       "      <th>season_encoding</th>\n",
       "      <th>yr</th>\n",
       "      <th>mnth</th>\n",
       "      <th>day</th>\n",
       "      <th>holiday</th>\n",
       "      <th>weekday</th>\n",
       "      <th>workingday</th>\n",
       "      <th>weathersit</th>\n",
       "      <th>temp</th>\n",
       "      <th>hum</th>\n",
       "      <th>windspeed</th>\n",
       "    </tr>\n",
       "  </thead>\n",
       "  <tbody>\n",
       "    <tr>\n",
       "      <th>0</th>\n",
       "      <td>0.110792</td>\n",
       "      <td>0.096538</td>\n",
       "      <td>0.091539</td>\n",
       "      <td>1</td>\n",
       "      <td>0</td>\n",
       "      <td>1</td>\n",
       "      <td>1</td>\n",
       "      <td>0</td>\n",
       "      <td>6</td>\n",
       "      <td>0</td>\n",
       "      <td>2</td>\n",
       "      <td>0.355623</td>\n",
       "      <td>0.768802</td>\n",
       "      <td>0.388102</td>\n",
       "    </tr>\n",
       "    <tr>\n",
       "      <th>1</th>\n",
       "      <td>0.089623</td>\n",
       "      <td>0.037852</td>\n",
       "      <td>0.093849</td>\n",
       "      <td>1</td>\n",
       "      <td>0</td>\n",
       "      <td>1</td>\n",
       "      <td>2</td>\n",
       "      <td>0</td>\n",
       "      <td>0</td>\n",
       "      <td>0</td>\n",
       "      <td>2</td>\n",
       "      <td>0.379939</td>\n",
       "      <td>0.615599</td>\n",
       "      <td>0.635752</td>\n",
       "    </tr>\n",
       "    <tr>\n",
       "      <th>2</th>\n",
       "      <td>0.152669</td>\n",
       "      <td>0.034624</td>\n",
       "      <td>0.174560</td>\n",
       "      <td>1</td>\n",
       "      <td>0</td>\n",
       "      <td>1</td>\n",
       "      <td>3</td>\n",
       "      <td>0</td>\n",
       "      <td>1</td>\n",
       "      <td>1</td>\n",
       "      <td>1</td>\n",
       "      <td>0.173252</td>\n",
       "      <td>0.254875</td>\n",
       "      <td>0.635105</td>\n",
       "    </tr>\n",
       "    <tr>\n",
       "      <th>3</th>\n",
       "      <td>0.177174</td>\n",
       "      <td>0.031103</td>\n",
       "      <td>0.207046</td>\n",
       "      <td>3</td>\n",
       "      <td>0</td>\n",
       "      <td>1</td>\n",
       "      <td>4</td>\n",
       "      <td>0</td>\n",
       "      <td>2</td>\n",
       "      <td>1</td>\n",
       "      <td>1</td>\n",
       "      <td>0.176292</td>\n",
       "      <td>0.467967</td>\n",
       "      <td>0.387681</td>\n",
       "    </tr>\n",
       "    <tr>\n",
       "      <th>4</th>\n",
       "      <td>0.181546</td>\n",
       "      <td>0.023474</td>\n",
       "      <td>0.216286</td>\n",
       "      <td>3</td>\n",
       "      <td>0</td>\n",
       "      <td>1</td>\n",
       "      <td>5</td>\n",
       "      <td>0</td>\n",
       "      <td>3</td>\n",
       "      <td>1</td>\n",
       "      <td>1</td>\n",
       "      <td>0.209726</td>\n",
       "      <td>0.254875</td>\n",
       "      <td>0.462471</td>\n",
       "    </tr>\n",
       "  </tbody>\n",
       "</table>\n",
       "</div>"
      ],
      "text/plain": [
       "        cnt    casual  registered  ...      temp       hum windspeed\n",
       "0  0.110792  0.096538    0.091539  ...  0.355623  0.768802  0.388102\n",
       "1  0.089623  0.037852    0.093849  ...  0.379939  0.615599  0.635752\n",
       "2  0.152669  0.034624    0.174560  ...  0.173252  0.254875  0.635105\n",
       "3  0.177174  0.031103    0.207046  ...  0.176292  0.467967  0.387681\n",
       "4  0.181546  0.023474    0.216286  ...  0.209726  0.254875  0.462471\n",
       "\n",
       "[5 rows x 14 columns]"
      ]
     },
     "execution_count": 30,
     "metadata": {},
     "output_type": "execute_result"
    }
   ],
   "source": [
    "st = MinMaxScaler()\n",
    "x_tranformadas = pd.DataFrame(st.fit_transform(numericas2))\n",
    "x_tranformadas.columns = numericas2.columns\n",
    "df[x_tranformadas.columns] = x_tranformadas\n",
    "df.head()"
   ]
  },
  {
   "cell_type": "code",
   "execution_count": 31,
   "metadata": {},
   "outputs": [],
   "source": [
    "x = df_standardized.drop(['cnt','registered','casual'] ,axis =1)\n",
    "y = df_standardized['cnt']"
   ]
  },
  {
   "cell_type": "code",
   "execution_count": 32,
   "metadata": {},
   "outputs": [
    {
     "data": {
      "text/plain": [
       "((730, 11), (730,))"
      ]
     },
     "execution_count": 32,
     "metadata": {},
     "output_type": "execute_result"
    }
   ],
   "source": [
    "x.shape , y.shape"
   ]
  },
  {
   "cell_type": "code",
   "execution_count": 45,
   "metadata": {},
   "outputs": [],
   "source": [
    "X_train, X_test, y_train, y_test = train_test_split(x, y, train_size   = 0.2, random_state = 666)"
   ]
  },
  {
   "cell_type": "code",
   "execution_count": 46,
   "metadata": {},
   "outputs": [
    {
     "data": {
      "text/plain": [
       "count     146.000000\n",
       "mean     4341.520548\n",
       "std      1924.835958\n",
       "min       627.000000\n",
       "25%      2825.250000\n",
       "50%      4284.000000\n",
       "75%      5687.500000\n",
       "max      8362.000000\n",
       "Name: cnt, dtype: float64"
      ]
     },
     "execution_count": 46,
     "metadata": {},
     "output_type": "execute_result"
    }
   ],
   "source": [
    "y_train.describe()"
   ]
  },
  {
   "cell_type": "code",
   "execution_count": 47,
   "metadata": {},
   "outputs": [
    {
     "data": {
      "text/plain": [
       "count     584.000000\n",
       "mean     4549.628425\n",
       "std      1938.201466\n",
       "min        22.000000\n",
       "25%      3247.500000\n",
       "50%      4615.500000\n",
       "75%      6001.750000\n",
       "max      8714.000000\n",
       "Name: cnt, dtype: float64"
      ]
     },
     "execution_count": 47,
     "metadata": {},
     "output_type": "execute_result"
    }
   ],
   "source": [
    "\n",
    "y_test.describe().T"
   ]
  },
  {
   "cell_type": "markdown",
   "metadata": {},
   "source": [
    "..."
   ]
  },
  {
   "cell_type": "markdown",
   "metadata": {},
   "source": [
    "# Regresión Logistica"
   ]
  },
  {
   "cell_type": "markdown",
   "metadata": {},
   "source": [
    "..."
   ]
  },
  {
   "cell_type": "markdown",
   "metadata": {},
   "source": [
    "EJEMPLO 1"
   ]
  },
  {
   "cell_type": "code",
   "execution_count": null,
   "metadata": {},
   "outputs": [],
   "source": [
    "lr = LogisticRegression()\n",
    "lr.fit(X_train, y_train)\n",
    "\n",
    "y_pred_lr = lr.predict(X_test)\n",
    "\n",
    "acc_lr = accuracy_score(y_test, y_pred_lr)\n",
    "conf = confusion_matrix(y_test, y_pred_lr)\n",
    "clf_report = classification_report(y_test, y_pred_lr)\n",
    "\n",
    "print(f\"Accuracy Score of Logistic Regression is : {acc_lr}\")\n",
    "print(f\"Confusion Matrix : \\n{conf}\")\n",
    "print(f\"Classification Report : \\n{clf_report}\")"
   ]
  },
  {
   "cell_type": "markdown",
   "metadata": {},
   "source": [
    "EJEMPLO 2"
   ]
  },
  {
   "cell_type": "code",
   "execution_count": 48,
   "metadata": {},
   "outputs": [
    {
     "data": {
      "text/plain": [
       "LogisticRegression(max_iter=100000)"
      ]
     },
     "execution_count": 48,
     "metadata": {},
     "output_type": "execute_result"
    }
   ],
   "source": [
    "lr = LogisticRegression(max_iter = 100000)\n",
    "lr.fit(X_train, y_train)"
   ]
  },
  {
   "cell_type": "code",
   "execution_count": 49,
   "metadata": {},
   "outputs": [],
   "source": [
    "y_pred_lr_test = lr.predict(X_test)\n",
    "y_pred_lr_train = lr.predict(X_train)"
   ]
  },
  {
   "cell_type": "code",
   "execution_count": 50,
   "metadata": {},
   "outputs": [],
   "source": [
    "def matriz_confusion(clases_reales, clases_predichas, total_filas_test):\n",
    "    mat_lr = confusion_matrix(clases_reales, clases_predichas)\n",
    "\n",
    "    df = pd.DataFrame(mat_lr, columns = [\"Mas reservas\", \"Menos reservas\"], index = [\"Mas reservas\", \"Menos reservas\"])\n",
    "    df = ((df / total_filas_test) * 100).round(2)\n",
    "    return df\n"
   ]
  },
  {
   "cell_type": "code",
   "execution_count": null,
   "metadata": {},
   "outputs": [],
   "source": [
    "matriz_logistica = matriz_confusion(y_test, y_pred_lr_test, y_test.shape[0])\n",
    "matriz_logistica"
   ]
  },
  {
   "cell_type": "code",
   "execution_count": null,
   "metadata": {},
   "outputs": [],
   "source": [
    "accuracy = accuracy_score(y_test, y_pred_lr_test)\n",
    "accuracy"
   ]
  },
  {
   "cell_type": "code",
   "execution_count": null,
   "metadata": {},
   "outputs": [],
   "source": [
    "precision = precision_score(y_test, y_pred_lr_test)\n",
    "precision"
   ]
  },
  {
   "cell_type": "code",
   "execution_count": null,
   "metadata": {},
   "outputs": [],
   "source": [
    "recall = recall_score(y_test, y_pred_lr_test)\n",
    "recall"
   ]
  },
  {
   "cell_type": "code",
   "execution_count": null,
   "metadata": {},
   "outputs": [],
   "source": [
    "kappa = cohen_kappa_score(y_test, y_pred_lr_test)\n",
    "kappa"
   ]
  },
  {
   "cell_type": "code",
   "execution_count": null,
   "metadata": {},
   "outputs": [],
   "source": [
    "def metricas(clases_reales_test, clases_predichas_test, clases_reales_train, clases_predichas_train, modelo):\n",
    "    \n",
    "    # para el test\n",
    "    accuracy_test = accuracy_score(clases_reales_test, clases_predichas_test)\n",
    "    precision_test = precision_score(clases_reales_test, clases_predichas_test)\n",
    "    recall_test = recall_score(clases_reales_test, clases_predichas_test)\n",
    "    kappa_test = cohen_kappa_score(clases_reales_test, clases_predichas_test)\n",
    "\n",
    "    # para el train\n",
    "    accuracy_train = accuracy_score(clases_reales_train, clases_predichas_train)\n",
    "    precision_train = precision_score(clases_reales_train, clases_predichas_train)\n",
    "    recall_train = recall_score(clases_reales_train, clases_predichas_train)\n",
    "    kappa_train = cohen_kappa_score(clases_reales_train, clases_predichas_train)\n",
    "    \n",
    "    df = pd.DataFrame({\"accuracy\": [accuracy_test, accuracy_train], \n",
    "                       \"precision\": [precision_test, precision_train],\n",
    "                       \"recall\": [recall_test, recall_train], \n",
    "                       \"kapppa\": [kappa_test, kappa_train],\n",
    "                       \"set\": [\"test\", \"train\"]})\n",
    "    \n",
    "    df[\"modelo\"] = modelo\n",
    "    return df"
   ]
  },
  {
   "cell_type": "code",
   "execution_count": null,
   "metadata": {},
   "outputs": [],
   "source": [
    "results_logistic = metricas(y_test, y_pred_lr_test, y_train, y_pred_lr_train, \"Regresión logistica\")\n",
    "results_logistic"
   ]
  },
  {
   "cell_type": "markdown",
   "metadata": {},
   "source": [
    "# KNeighborsClassifier"
   ]
  },
  {
   "cell_type": "code",
   "execution_count": null,
   "metadata": {},
   "outputs": [],
   "source": [
    "knn = KNeighborsClassifier()\n",
    "knn.fit(X_train, y_train)\n",
    "\n",
    "y_pred_knn = knn.predict(X_test)\n",
    "\n",
    "acc_knn = accuracy_score(y_test, y_pred_knn)\n",
    "conf = confusion_matrix(y_test, y_pred_knn)\n",
    "clf_report = classification_report(y_test, y_pred_knn)\n",
    "\n",
    "print(f\"Accuracy Score of KNN is : {acc_knn}\")\n",
    "print(f\"Confusion Matrix : \\n{conf}\")\n",
    "print(f\"Classification Report : \\n{clf_report}\")"
   ]
  },
  {
   "cell_type": "markdown",
   "metadata": {},
   "source": [
    "# Random Forest"
   ]
  },
  {
   "cell_type": "code",
   "execution_count": null,
   "metadata": {},
   "outputs": [],
   "source": [
    "rd_clf = RandomForestClassifier()\n",
    "rd_clf.fit(X_train, y_train)\n",
    "\n",
    "y_pred_rd_clf = rd_clf.predict(X_test)\n",
    "\n",
    "acc_rd_clf = accuracy_score(y_test, y_pred_rd_clf)\n",
    "conf = confusion_matrix(y_test, y_pred_rd_clf)\n",
    "clf_report = classification_report(y_test, y_pred_rd_clf)\n",
    "\n",
    "print(f\"Accuracy Score of Random Forest is : {acc_rd_clf}\")\n",
    "print(f\"Confusion Matrix : \\n{conf}\")\n",
    "print(f\"Classification Report : \\n{clf_report}\")"
   ]
  },
  {
   "cell_type": "markdown",
   "metadata": {},
   "source": [
    "# Gradient Boosting"
   ]
  },
  {
   "cell_type": "code",
   "execution_count": null,
   "metadata": {},
   "outputs": [],
   "source": [
    "gb = GradientBoostingClassifier()\n",
    "gb.fit(X_train, y_train)\n",
    "\n",
    "y_pred_gb = gb.predict(X_test)\n",
    "\n",
    "acc_gb = accuracy_score(y_test, y_pred_gb)\n",
    "conf = confusion_matrix(y_test, y_pred_gb)\n",
    "clf_report = classification_report(y_test, y_pred_gb)\n",
    "\n",
    "print(f\"Accuracy Score of Ada Boost Classifier is : {acc_gb}\")\n",
    "print(f\"Confusion Matrix : \\n{conf}\")\n",
    "print(f\"Classification Report : \\n{clf_report}\")"
   ]
  },
  {
   "cell_type": "markdown",
   "metadata": {},
   "source": [
    "# Decision Tree Classifier"
   ]
  },
  {
   "cell_type": "code",
   "execution_count": null,
   "metadata": {},
   "outputs": [],
   "source": [
    "dtc = DecisionTreeClassifier()\n",
    "dtc.fit(X_train, y_train)\n",
    "\n",
    "y_pred_dtc = dtc.predict(X_test)\n",
    "\n",
    "acc_dtc = accuracy_score(y_test, y_pred_dtc)\n",
    "conf = confusion_matrix(y_test, y_pred_dtc)\n",
    "clf_report = classification_report(y_test, y_pred_dtc)\n",
    "\n",
    "print(f\"Accuracy Score of Decision Tree is : {acc_dtc}\")\n",
    "print(f\"Confusion Matrix : \\n{conf}\")\n",
    "print(f\"Classification Report : \\n{clf_report}\")"
   ]
  },
  {
   "cell_type": "markdown",
   "metadata": {},
   "source": [
    "..."
   ]
  }
 ],
 "metadata": {
  "interpreter": {
   "hash": "40d3a090f54c6569ab1632332b64b2c03c39dcf918b08424e98f38b5ae0af88f"
  },
  "kernelspec": {
   "display_name": "Python 3.9.7 ('base')",
   "language": "python",
   "name": "python3"
  },
  "language_info": {
   "codemirror_mode": {
    "name": "ipython",
    "version": 3
   },
   "file_extension": ".py",
   "mimetype": "text/x-python",
   "name": "python",
   "nbconvert_exporter": "python",
   "pygments_lexer": "ipython3",
   "version": "3.9.7"
  },
  "orig_nbformat": 4
 },
 "nbformat": 4,
 "nbformat_minor": 2
}
