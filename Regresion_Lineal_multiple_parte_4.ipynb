{
 "cells": [
  {
   "cell_type": "markdown",
   "metadata": {},
   "source": [
    "# PROYECTO FINAL"
   ]
  },
  {
   "cell_type": "markdown",
   "metadata": {},
   "source": [
    "La empresa GoGreen Bikesharing se dedica al alquiler de bicicletas y posee datos tales como la cantidad de bicis alquiladas por usuarios registrados, la cantidad de alquileres realizados por usuarios puntuales, y la cantidad total. \n",
    "\n",
    "A estos datos se les añadió información meteorológica y el calendario de festivos.\n",
    "\n",
    "Ahora buscan analizar cuáles son los aspectos que más influyen en la cantidad de bicis que van a alquilar en un día."
   ]
  },
  {
   "cell_type": "code",
   "execution_count": 968,
   "metadata": {},
   "outputs": [],
   "source": [
    "# Tratamiento de datos\n",
    "import numpy as np\n",
    "import pandas as pd\n",
    "#import sidetable as stb\n",
    "\n",
    "# Gráficos\n",
    "import matplotlib.pyplot as plt\n",
    "from matplotlib import style\n",
    "import matplotlib.ticker as ticker\n",
    "import seaborn as sns\n",
    "import sidetable as stb\n",
    "\n",
    "# Asunciones y Preprocesamiento\n",
    "from scipy import stats\n",
    "import math\n",
    "from scipy.stats import levene\n",
    "#import researchpy as rp\n",
    "from sklearn.preprocessing import StandardScaler\n",
    "import itertools\n",
    "from statsmodels.tools.tools import add_constant\n",
    "from statsmodels.stats.outliers_influence import variance_inflation_factor\n",
    "\n",
    "# ANOVA\n",
    "import statsmodels.api as sm\n",
    "from statsmodels.formula.api import ols\n",
    "import researchpy as rp # chi square\n",
    "\n",
    "#Linear Regresion con Sklearn\n",
    "from sklearn.linear_model import LinearRegression\n",
    "from sklearn.model_selection import train_test_split\n",
    "from sklearn import metrics\n",
    "from sklearn.preprocessing import MinMaxScaler\n",
    "\n",
    "# Configuración warnings\n",
    "import warnings\n",
    "warnings.filterwarnings('ignore')\n",
    "pd.options.display.max_columns = False\n",
    "\n",
    "import pylab as py"
   ]
  },
  {
   "cell_type": "code",
   "execution_count": 969,
   "metadata": {},
   "outputs": [
    {
     "data": {
      "text/html": [
       "<div>\n",
       "<style scoped>\n",
       "    .dataframe tbody tr th:only-of-type {\n",
       "        vertical-align: middle;\n",
       "    }\n",
       "\n",
       "    .dataframe tbody tr th {\n",
       "        vertical-align: top;\n",
       "    }\n",
       "\n",
       "    .dataframe thead th {\n",
       "        text-align: right;\n",
       "    }\n",
       "</style>\n",
       "<table border=\"1\" class=\"dataframe\">\n",
       "  <thead>\n",
       "    <tr style=\"text-align: right;\">\n",
       "      <th></th>\n",
       "      <th>casual</th>\n",
       "      <th>registered</th>\n",
       "      <th>cnt</th>\n",
       "      <th>season_encoding</th>\n",
       "      <th>yr</th>\n",
       "      <th>mnth</th>\n",
       "      <th>day</th>\n",
       "      <th>holiday</th>\n",
       "      <th>weekday</th>\n",
       "      <th>workingday</th>\n",
       "      <th>weathersit</th>\n",
       "      <th>temp</th>\n",
       "      <th>temp_interval</th>\n",
       "      <th>temp_interval_ord</th>\n",
       "      <th>hum</th>\n",
       "      <th>hum_interval</th>\n",
       "      <th>hum_interval_ord</th>\n",
       "      <th>windspeed</th>\n",
       "      <th>wind_interval</th>\n",
       "      <th>wind_num_encoding</th>\n",
       "    </tr>\n",
       "  </thead>\n",
       "  <tbody>\n",
       "    <tr>\n",
       "      <th>325</th>\n",
       "      <td>69</td>\n",
       "      <td>1538</td>\n",
       "      <td>1607</td>\n",
       "      <td>4</td>\n",
       "      <td>0</td>\n",
       "      <td>11</td>\n",
       "      <td>22</td>\n",
       "      <td>0</td>\n",
       "      <td>2</td>\n",
       "      <td>1</td>\n",
       "      <td>3</td>\n",
       "      <td>17.1</td>\n",
       "      <td>medium</td>\n",
       "      <td>3</td>\n",
       "      <td>96.2</td>\n",
       "      <td>very_high</td>\n",
       "      <td>5</td>\n",
       "      <td>7.959064</td>\n",
       "      <td>very_low</td>\n",
       "      <td>0</td>\n",
       "    </tr>\n",
       "    <tr>\n",
       "      <th>603</th>\n",
       "      <td>989</td>\n",
       "      <td>5928</td>\n",
       "      <td>6917</td>\n",
       "      <td>3</td>\n",
       "      <td>1</td>\n",
       "      <td>8</td>\n",
       "      <td>27</td>\n",
       "      <td>0</td>\n",
       "      <td>1</td>\n",
       "      <td>1</td>\n",
       "      <td>1</td>\n",
       "      <td>28.8</td>\n",
       "      <td>very_high</td>\n",
       "      <td>5</td>\n",
       "      <td>73.0</td>\n",
       "      <td>high</td>\n",
       "      <td>4</td>\n",
       "      <td>8.625111</td>\n",
       "      <td>low</td>\n",
       "      <td>1</td>\n",
       "    </tr>\n",
       "    <tr>\n",
       "      <th>428</th>\n",
       "      <td>203</td>\n",
       "      <td>3130</td>\n",
       "      <td>3333</td>\n",
       "      <td>2</td>\n",
       "      <td>1</td>\n",
       "      <td>3</td>\n",
       "      <td>5</td>\n",
       "      <td>0</td>\n",
       "      <td>1</td>\n",
       "      <td>1</td>\n",
       "      <td>1</td>\n",
       "      <td>10.0</td>\n",
       "      <td>low</td>\n",
       "      <td>2</td>\n",
       "      <td>50.6</td>\n",
       "      <td>medium</td>\n",
       "      <td>3</td>\n",
       "      <td>15.333486</td>\n",
       "      <td>medium</td>\n",
       "      <td>2</td>\n",
       "    </tr>\n",
       "    <tr>\n",
       "      <th>460</th>\n",
       "      <td>1807</td>\n",
       "      <td>4653</td>\n",
       "      <td>6460</td>\n",
       "      <td>2</td>\n",
       "      <td>1</td>\n",
       "      <td>4</td>\n",
       "      <td>6</td>\n",
       "      <td>0</td>\n",
       "      <td>5</td>\n",
       "      <td>1</td>\n",
       "      <td>1</td>\n",
       "      <td>16.5</td>\n",
       "      <td>medium</td>\n",
       "      <td>3</td>\n",
       "      <td>37.7</td>\n",
       "      <td>low</td>\n",
       "      <td>2</td>\n",
       "      <td>20.125996</td>\n",
       "      <td>medium</td>\n",
       "      <td>2</td>\n",
       "    </tr>\n",
       "    <tr>\n",
       "      <th>321</th>\n",
       "      <td>245</td>\n",
       "      <td>3147</td>\n",
       "      <td>3392</td>\n",
       "      <td>4</td>\n",
       "      <td>0</td>\n",
       "      <td>11</td>\n",
       "      <td>18</td>\n",
       "      <td>0</td>\n",
       "      <td>5</td>\n",
       "      <td>1</td>\n",
       "      <td>1</td>\n",
       "      <td>11.2</td>\n",
       "      <td>low</td>\n",
       "      <td>2</td>\n",
       "      <td>41.0</td>\n",
       "      <td>medium</td>\n",
       "      <td>3</td>\n",
       "      <td>11.291711</td>\n",
       "      <td>low</td>\n",
       "      <td>1</td>\n",
       "    </tr>\n",
       "    <tr>\n",
       "      <th>270</th>\n",
       "      <td>480</td>\n",
       "      <td>3427</td>\n",
       "      <td>3907</td>\n",
       "      <td>3</td>\n",
       "      <td>0</td>\n",
       "      <td>9</td>\n",
       "      <td>28</td>\n",
       "      <td>0</td>\n",
       "      <td>3</td>\n",
       "      <td>1</td>\n",
       "      <td>2</td>\n",
       "      <td>26.0</td>\n",
       "      <td>high</td>\n",
       "      <td>4</td>\n",
       "      <td>84.9</td>\n",
       "      <td>very_high</td>\n",
       "      <td>5</td>\n",
       "      <td>9.958143</td>\n",
       "      <td>low</td>\n",
       "      <td>1</td>\n",
       "    </tr>\n",
       "  </tbody>\n",
       "</table>\n",
       "</div>"
      ],
      "text/plain": [
       "     casual  registered   cnt  ...  windspeed  wind_interval  wind_num_encoding\n",
       "325      69        1538  1607  ...   7.959064       very_low                  0\n",
       "603     989        5928  6917  ...   8.625111            low                  1\n",
       "428     203        3130  3333  ...  15.333486         medium                  2\n",
       "460    1807        4653  6460  ...  20.125996         medium                  2\n",
       "321     245        3147  3392  ...  11.291711            low                  1\n",
       "270     480        3427  3907  ...   9.958143            low                  1\n",
       "\n",
       "[6 rows x 20 columns]"
      ]
     },
     "execution_count": 969,
     "metadata": {},
     "output_type": "execute_result"
    }
   ],
   "source": [
    "df_bike = pd.read_csv(\"./EDA__parte_3.csv\", index_col=0)\n",
    "df_bike.sample(6)"
   ]
  },
  {
   "cell_type": "markdown",
   "metadata": {},
   "source": [
    "---------"
   ]
  },
  {
   "cell_type": "markdown",
   "metadata": {},
   "source": [
    "# <font color = orange> REGRESIÓN LINEAL MULTIPLE"
   ]
  },
  {
   "cell_type": "markdown",
   "metadata": {},
   "source": [
    "### Este DF por ahora debe contener nuestra variable respuesta y todas las variables predictivas.\n",
    "\n",
    "- Vamos a ver la variable respuesta grafico y comprobar la normalidad = 'cnt'\n",
    "- Vamos a ver graficos de variables predictivas\n",
    "- Correlacion\n",
    "- Covarianza\n",
    "- Vamos a ver si cumplen las asunciones para hacer Anova\n",
    "\n"
   ]
  },
  {
   "cell_type": "markdown",
   "metadata": {},
   "source": [
    "    Este dataframe tiene variable respuesta, y las predictoras encoding como tipo objets y numericas que sin encoding."
   ]
  },
  {
   "cell_type": "code",
   "execution_count": 970,
   "metadata": {},
   "outputs": [],
   "source": [
    "df= df_bike.copy() # Voy a hacer una copia para no perder los datos por si necesita hacer OPCION 1"
   ]
  },
  {
   "cell_type": "code",
   "execution_count": 971,
   "metadata": {},
   "outputs": [
    {
     "data": {
      "text/html": [
       "<div>\n",
       "<style scoped>\n",
       "    .dataframe tbody tr th:only-of-type {\n",
       "        vertical-align: middle;\n",
       "    }\n",
       "\n",
       "    .dataframe tbody tr th {\n",
       "        vertical-align: top;\n",
       "    }\n",
       "\n",
       "    .dataframe thead th {\n",
       "        text-align: right;\n",
       "    }\n",
       "</style>\n",
       "<table border=\"1\" class=\"dataframe\">\n",
       "  <thead>\n",
       "    <tr style=\"text-align: right;\">\n",
       "      <th></th>\n",
       "      <th>casual</th>\n",
       "      <th>registered</th>\n",
       "      <th>cnt</th>\n",
       "      <th>season_encoding</th>\n",
       "      <th>yr</th>\n",
       "      <th>mnth</th>\n",
       "      <th>day</th>\n",
       "      <th>holiday</th>\n",
       "      <th>weekday</th>\n",
       "      <th>workingday</th>\n",
       "      <th>weathersit</th>\n",
       "      <th>temp</th>\n",
       "      <th>temp_interval</th>\n",
       "      <th>temp_interval_ord</th>\n",
       "      <th>hum</th>\n",
       "      <th>hum_interval</th>\n",
       "      <th>hum_interval_ord</th>\n",
       "      <th>windspeed</th>\n",
       "      <th>wind_interval</th>\n",
       "      <th>wind_num_encoding</th>\n",
       "    </tr>\n",
       "  </thead>\n",
       "  <tbody>\n",
       "    <tr>\n",
       "      <th>0</th>\n",
       "      <td>331</td>\n",
       "      <td>654</td>\n",
       "      <td>985</td>\n",
       "      <td>1</td>\n",
       "      <td>0</td>\n",
       "      <td>1</td>\n",
       "      <td>1</td>\n",
       "      <td>0</td>\n",
       "      <td>6</td>\n",
       "      <td>0</td>\n",
       "      <td>2</td>\n",
       "      <td>14.1</td>\n",
       "      <td>low</td>\n",
       "      <td>2</td>\n",
       "      <td>80.6</td>\n",
       "      <td>very_high</td>\n",
       "      <td>5</td>\n",
       "      <td>10.749882</td>\n",
       "      <td>low</td>\n",
       "      <td>1</td>\n",
       "    </tr>\n",
       "    <tr>\n",
       "      <th>1</th>\n",
       "      <td>131</td>\n",
       "      <td>670</td>\n",
       "      <td>801</td>\n",
       "      <td>1</td>\n",
       "      <td>0</td>\n",
       "      <td>1</td>\n",
       "      <td>2</td>\n",
       "      <td>0</td>\n",
       "      <td>0</td>\n",
       "      <td>0</td>\n",
       "      <td>2</td>\n",
       "      <td>14.9</td>\n",
       "      <td>low</td>\n",
       "      <td>2</td>\n",
       "      <td>69.6</td>\n",
       "      <td>high</td>\n",
       "      <td>4</td>\n",
       "      <td>16.652113</td>\n",
       "      <td>medium</td>\n",
       "      <td>2</td>\n",
       "    </tr>\n",
       "    <tr>\n",
       "      <th>2</th>\n",
       "      <td>120</td>\n",
       "      <td>1229</td>\n",
       "      <td>1349</td>\n",
       "      <td>1</td>\n",
       "      <td>0</td>\n",
       "      <td>1</td>\n",
       "      <td>3</td>\n",
       "      <td>0</td>\n",
       "      <td>1</td>\n",
       "      <td>1</td>\n",
       "      <td>1</td>\n",
       "      <td>8.1</td>\n",
       "      <td>very_low</td>\n",
       "      <td>1</td>\n",
       "      <td>43.7</td>\n",
       "      <td>medium</td>\n",
       "      <td>3</td>\n",
       "      <td>16.636703</td>\n",
       "      <td>medium</td>\n",
       "      <td>2</td>\n",
       "    </tr>\n",
       "    <tr>\n",
       "      <th>3</th>\n",
       "      <td>108</td>\n",
       "      <td>1454</td>\n",
       "      <td>1562</td>\n",
       "      <td>2</td>\n",
       "      <td>0</td>\n",
       "      <td>1</td>\n",
       "      <td>4</td>\n",
       "      <td>0</td>\n",
       "      <td>2</td>\n",
       "      <td>1</td>\n",
       "      <td>1</td>\n",
       "      <td>8.2</td>\n",
       "      <td>very_low</td>\n",
       "      <td>1</td>\n",
       "      <td>59.0</td>\n",
       "      <td>high</td>\n",
       "      <td>4</td>\n",
       "      <td>10.739832</td>\n",
       "      <td>low</td>\n",
       "      <td>1</td>\n",
       "    </tr>\n",
       "    <tr>\n",
       "      <th>4</th>\n",
       "      <td>82</td>\n",
       "      <td>1518</td>\n",
       "      <td>1600</td>\n",
       "      <td>2</td>\n",
       "      <td>0</td>\n",
       "      <td>1</td>\n",
       "      <td>5</td>\n",
       "      <td>0</td>\n",
       "      <td>3</td>\n",
       "      <td>1</td>\n",
       "      <td>1</td>\n",
       "      <td>9.3</td>\n",
       "      <td>low</td>\n",
       "      <td>2</td>\n",
       "      <td>43.7</td>\n",
       "      <td>medium</td>\n",
       "      <td>3</td>\n",
       "      <td>12.522300</td>\n",
       "      <td>low</td>\n",
       "      <td>1</td>\n",
       "    </tr>\n",
       "  </tbody>\n",
       "</table>\n",
       "</div>"
      ],
      "text/plain": [
       "   casual  registered   cnt  ...  windspeed  wind_interval  wind_num_encoding\n",
       "0     331         654   985  ...  10.749882            low                  1\n",
       "1     131         670   801  ...  16.652113         medium                  2\n",
       "2     120        1229  1349  ...  16.636703         medium                  2\n",
       "3     108        1454  1562  ...  10.739832            low                  1\n",
       "4      82        1518  1600  ...  12.522300            low                  1\n",
       "\n",
       "[5 rows x 20 columns]"
      ]
     },
     "execution_count": 971,
     "metadata": {},
     "output_type": "execute_result"
    }
   ],
   "source": [
    "df.head()"
   ]
  },
  {
   "cell_type": "code",
   "execution_count": 972,
   "metadata": {},
   "outputs": [],
   "source": [
    "df.drop(['temp_interval', 'temp_interval_ord','hum_interval','hum_interval_ord', 'wind_interval', 'wind_num_encoding'],axis=1, inplace=True)\n",
    "    "
   ]
  },
  {
   "cell_type": "code",
   "execution_count": 973,
   "metadata": {},
   "outputs": [
    {
     "data": {
      "text/html": [
       "<div>\n",
       "<style scoped>\n",
       "    .dataframe tbody tr th:only-of-type {\n",
       "        vertical-align: middle;\n",
       "    }\n",
       "\n",
       "    .dataframe tbody tr th {\n",
       "        vertical-align: top;\n",
       "    }\n",
       "\n",
       "    .dataframe thead th {\n",
       "        text-align: right;\n",
       "    }\n",
       "</style>\n",
       "<table border=\"1\" class=\"dataframe\">\n",
       "  <thead>\n",
       "    <tr style=\"text-align: right;\">\n",
       "      <th></th>\n",
       "      <th>casual</th>\n",
       "      <th>registered</th>\n",
       "      <th>cnt</th>\n",
       "      <th>season_encoding</th>\n",
       "      <th>yr</th>\n",
       "      <th>mnth</th>\n",
       "      <th>day</th>\n",
       "      <th>holiday</th>\n",
       "      <th>weekday</th>\n",
       "      <th>workingday</th>\n",
       "      <th>weathersit</th>\n",
       "      <th>temp</th>\n",
       "      <th>hum</th>\n",
       "      <th>windspeed</th>\n",
       "    </tr>\n",
       "  </thead>\n",
       "  <tbody>\n",
       "    <tr>\n",
       "      <th>0</th>\n",
       "      <td>331</td>\n",
       "      <td>654</td>\n",
       "      <td>985</td>\n",
       "      <td>1</td>\n",
       "      <td>0</td>\n",
       "      <td>1</td>\n",
       "      <td>1</td>\n",
       "      <td>0</td>\n",
       "      <td>6</td>\n",
       "      <td>0</td>\n",
       "      <td>2</td>\n",
       "      <td>14.1</td>\n",
       "      <td>80.6</td>\n",
       "      <td>10.749882</td>\n",
       "    </tr>\n",
       "    <tr>\n",
       "      <th>1</th>\n",
       "      <td>131</td>\n",
       "      <td>670</td>\n",
       "      <td>801</td>\n",
       "      <td>1</td>\n",
       "      <td>0</td>\n",
       "      <td>1</td>\n",
       "      <td>2</td>\n",
       "      <td>0</td>\n",
       "      <td>0</td>\n",
       "      <td>0</td>\n",
       "      <td>2</td>\n",
       "      <td>14.9</td>\n",
       "      <td>69.6</td>\n",
       "      <td>16.652113</td>\n",
       "    </tr>\n",
       "  </tbody>\n",
       "</table>\n",
       "</div>"
      ],
      "text/plain": [
       "   casual  registered  cnt  season_encoding  ...  weathersit  temp   hum  windspeed\n",
       "0     331         654  985                1  ...           2  14.1  80.6  10.749882\n",
       "1     131         670  801                1  ...           2  14.9  69.6  16.652113\n",
       "\n",
       "[2 rows x 14 columns]"
      ]
     },
     "execution_count": 973,
     "metadata": {},
     "output_type": "execute_result"
    }
   ],
   "source": [
    "df.head(2)"
   ]
  },
  {
   "cell_type": "code",
   "execution_count": 974,
   "metadata": {},
   "outputs": [
    {
     "name": "stdout",
     "output_type": "stream",
     "text": [
      "<class 'pandas.core.frame.DataFrame'>\n",
      "Int64Index: 730 entries, 0 to 729\n",
      "Data columns (total 14 columns):\n",
      " #   Column           Non-Null Count  Dtype  \n",
      "---  ------           --------------  -----  \n",
      " 0   casual           730 non-null    int64  \n",
      " 1   registered       730 non-null    int64  \n",
      " 2   cnt              730 non-null    int64  \n",
      " 3   season_encoding  730 non-null    int64  \n",
      " 4   yr               730 non-null    int64  \n",
      " 5   mnth             730 non-null    int64  \n",
      " 6   day              730 non-null    int64  \n",
      " 7   holiday          730 non-null    int64  \n",
      " 8   weekday          730 non-null    int64  \n",
      " 9   workingday       730 non-null    int64  \n",
      " 10  weathersit       730 non-null    int64  \n",
      " 11  temp             730 non-null    float64\n",
      " 12  hum              730 non-null    float64\n",
      " 13  windspeed        730 non-null    float64\n",
      "dtypes: float64(3), int64(11)\n",
      "memory usage: 85.5 KB\n"
     ]
    }
   ],
   "source": [
    "df.info() #Correcto tenemos que volver a cambiar el tipo de cada columna "
   ]
  },
  {
   "cell_type": "code",
   "execution_count": 975,
   "metadata": {},
   "outputs": [
    {
     "data": {
      "text/plain": [
       "Index(['casual', 'registered', 'cnt', 'season_encoding', 'yr', 'mnth', 'day',\n",
       "       'holiday', 'weekday', 'workingday', 'weathersit', 'temp', 'hum',\n",
       "       'windspeed'],\n",
       "      dtype='object')"
      ]
     },
     "execution_count": 975,
     "metadata": {},
     "output_type": "execute_result"
    }
   ],
   "source": [
    "df.columns"
   ]
  },
  {
   "cell_type": "markdown",
   "metadata": {},
   "source": [
    "    Se ha cambiado las que tienen encoding a \"category\""
   ]
  },
  {
   "cell_type": "code",
   "execution_count": 976,
   "metadata": {},
   "outputs": [],
   "source": [
    "df['season_encoding'] = df['season_encoding'].astype('category')  \n",
    "df['yr'] = df['yr'].astype('category')  \n",
    "df['mnth'] = df['mnth'].astype('category')  \n",
    "df['day'] = df['day'].astype('category')  \n",
    "df['holiday'] = df['holiday'].astype('category')  \n",
    "df['weekday'] = df['weekday'].astype('category')  \n",
    "df['workingday'] = df['workingday'].astype('category')  \n",
    "df['weathersit'] = df['weathersit'].astype('category')  "
   ]
  },
  {
   "cell_type": "markdown",
   "metadata": {},
   "source": [
    "### Variable respuesta - NORMALIDAD - SHAPIRO"
   ]
  },
  {
   "cell_type": "markdown",
   "metadata": {},
   "source": [
    "    Nuestra variable respuesta es 'cnt', queremos ver cuantas reservas general según las variables predictoras.\n",
    "    Parece que tenemos una distribución normal de nuestros datos."
   ]
  },
  {
   "cell_type": "markdown",
   "metadata": {},
   "source": [
    "\n",
    "| Test Shapiro  |  Resultado | Conclusión |\n",
    "|---|---|---|\n",
    "|  p-value > 0.05 | No significativo   | Datos  Normales|\n",
    "|p-value < 0.05| Significativo| Datos No Normales |"
   ]
  },
  {
   "cell_type": "code",
   "execution_count": 977,
   "metadata": {},
   "outputs": [
    {
     "name": "stdout",
     "output_type": "stream",
     "text": [
      "ShapiroResult(statistic=0.9802490472793579, pvalue=2.313480784721378e-08)\n"
     ]
    },
    {
     "data": {
      "image/png": "[encoded data removed]",
      "text/plain": [
       "<Figure size 432x288 with 1 Axes>"
      ]
     },
     "metadata": {
      "needs_background": "light"
     },
     "output_type": "display_data"
    }
   ],
   "source": [
    "sns.distplot(\n",
    "    df_bike.cnt, \n",
    "    hist = False, \n",
    "    color = \"blue\", \n",
    "    kde_kws = {\"shade\": True, \"linewidth\": 1});\n",
    "\n",
    "print(stats.shapiro(df_bike[\"cnt\"])) # Los datos no son normales"
   ]
  },
  {
   "cell_type": "markdown",
   "metadata": {},
   "source": [
    "    Intentamos normalizar los datos con boxcox, pero el resultado es el mismo, no se procede."
   ]
  },
  {
   "cell_type": "code",
   "execution_count": 978,
   "metadata": {},
   "outputs": [],
   "source": [
    "# df_bike['cnt'], lambda_ajustada = stats.boxcox(df_bike['cnt'])\n",
    "# print(stats.shapiro(df_bike[\"cnt\"]))"
   ]
  },
  {
   "cell_type": "markdown",
   "metadata": {},
   "source": [
    "### Variables predictoras CATEGORICAS - GRAFICO"
   ]
  },
  {
   "cell_type": "markdown",
   "metadata": {},
   "source": [
    "    Estas son nuestras variables categoricas"
   ]
  },
  {
   "cell_type": "code",
   "execution_count": 979,
   "metadata": {},
   "outputs": [
    {
     "data": {
      "text/html": [
       "<div>\n",
       "<style scoped>\n",
       "    .dataframe tbody tr th:only-of-type {\n",
       "        vertical-align: middle;\n",
       "    }\n",
       "\n",
       "    .dataframe tbody tr th {\n",
       "        vertical-align: top;\n",
       "    }\n",
       "\n",
       "    .dataframe thead th {\n",
       "        text-align: right;\n",
       "    }\n",
       "</style>\n",
       "<table border=\"1\" class=\"dataframe\">\n",
       "  <thead>\n",
       "    <tr style=\"text-align: right;\">\n",
       "      <th></th>\n",
       "      <th>season_encoding</th>\n",
       "      <th>yr</th>\n",
       "      <th>mnth</th>\n",
       "      <th>day</th>\n",
       "      <th>holiday</th>\n",
       "      <th>weekday</th>\n",
       "      <th>workingday</th>\n",
       "      <th>weathersit</th>\n",
       "    </tr>\n",
       "  </thead>\n",
       "  <tbody>\n",
       "    <tr>\n",
       "      <th>0</th>\n",
       "      <td>1</td>\n",
       "      <td>0</td>\n",
       "      <td>1</td>\n",
       "      <td>1</td>\n",
       "      <td>0</td>\n",
       "      <td>6</td>\n",
       "      <td>0</td>\n",
       "      <td>2</td>\n",
       "    </tr>\n",
       "  </tbody>\n",
       "</table>\n",
       "</div>"
      ],
      "text/plain": [
       "  season_encoding yr mnth day holiday weekday workingday weathersit\n",
       "0               1  0    1   1       0       6          0          2"
      ]
     },
     "execution_count": 979,
     "metadata": {},
     "output_type": "execute_result"
    }
   ],
   "source": [
    "categoricas = df.select_dtypes(include='category')\n",
    "categoricas.head(1)"
   ]
  },
  {
   "cell_type": "code",
   "execution_count": 980,
   "metadata": {},
   "outputs": [
    {
     "data": {
      "image/png": "[encoded data removed]",
      "text/plain": [
       "<Figure size 2160x1080 with 8 Axes>"
      ]
     },
     "metadata": {
      "needs_background": "light"
     },
     "output_type": "display_data"
    }
   ],
   "source": [
    "# Gráfico de relación entre variables predictoras y la variable a predecir CATEGORICAS\n",
    "# ===================================================================================\n",
    "\n",
    "fig, axes = plt.subplots(nrows = 2, ncols = 4, figsize = (30, 15))\n",
    "\n",
    "axes = axes.flat\n",
    "\n",
    "columnas_object = df.select_dtypes(include = \"category\").columns\n",
    "\n",
    "for i, colum in enumerate(columnas_object):\n",
    "    sns.countplot(df[colum], ax=axes[i], palette=\"mako\")\n",
    "    axes[i].set_title(colum, fontsize = 12, fontweight = \"bold\")\n",
    "    axes[i].tick_params(labelsize = 10)\n",
    "    axes[i].set_xlabel(\"\")\n",
    "    \n",
    "fig.tight_layout();\n"
   ]
  },
  {
   "cell_type": "markdown",
   "metadata": {},
   "source": [
    "\n",
    "### Variables predictoras NUMERICAS - GRAFICO"
   ]
  },
  {
   "cell_type": "markdown",
   "metadata": {},
   "source": [
    "    Estas son nuestras variables numéricas"
   ]
  },
  {
   "cell_type": "code",
   "execution_count": 981,
   "metadata": {},
   "outputs": [
    {
     "data": {
      "text/html": [
       "<div>\n",
       "<style scoped>\n",
       "    .dataframe tbody tr th:only-of-type {\n",
       "        vertical-align: middle;\n",
       "    }\n",
       "\n",
       "    .dataframe tbody tr th {\n",
       "        vertical-align: top;\n",
       "    }\n",
       "\n",
       "    .dataframe thead th {\n",
       "        text-align: right;\n",
       "    }\n",
       "</style>\n",
       "<table border=\"1\" class=\"dataframe\">\n",
       "  <thead>\n",
       "    <tr style=\"text-align: right;\">\n",
       "      <th></th>\n",
       "      <th>casual</th>\n",
       "      <th>registered</th>\n",
       "      <th>cnt</th>\n",
       "      <th>temp</th>\n",
       "      <th>hum</th>\n",
       "      <th>windspeed</th>\n",
       "    </tr>\n",
       "  </thead>\n",
       "  <tbody>\n",
       "    <tr>\n",
       "      <th>0</th>\n",
       "      <td>331</td>\n",
       "      <td>654</td>\n",
       "      <td>985</td>\n",
       "      <td>14.1</td>\n",
       "      <td>80.6</td>\n",
       "      <td>10.749882</td>\n",
       "    </tr>\n",
       "  </tbody>\n",
       "</table>\n",
       "</div>"
      ],
      "text/plain": [
       "   casual  registered  cnt  temp   hum  windspeed\n",
       "0     331         654  985  14.1  80.6  10.749882"
      ]
     },
     "execution_count": 981,
     "metadata": {},
     "output_type": "execute_result"
    }
   ],
   "source": [
    "numericas = df.select_dtypes(include = np.number)\n",
    "numericas.head(1)"
   ]
  },
  {
   "cell_type": "code",
   "execution_count": 982,
   "metadata": {},
   "outputs": [
    {
     "data": {
      "image/png": "[encoded data removed]",
      "text/plain": [
       "<Figure size 2160x720 with 5 Axes>"
      ]
     },
     "metadata": {
      "needs_background": "light"
     },
     "output_type": "display_data"
    }
   ],
   "source": [
    "# Gráfico de distribución para cada variable numérica\n",
    "# ==============================================================================\n",
    "\n",
    "fig, axes = plt.subplots(nrows = 1, ncols = 5, figsize = (30, 10))\n",
    "\n",
    "axes = axes.flat\n",
    "\n",
    "columnas_numeric = df.select_dtypes(include = np.number).columns\n",
    "columnas_numeric = columnas_numeric.drop(\"cnt\") # excluimos nuestra variable respuesta. (No la necesitamos ahora\n",
    "\n",
    "for i, colum in enumerate(columnas_numeric):\n",
    "    sns.regplot(\n",
    "        x = df[colum], \n",
    "        y = df[\"cnt\"], \n",
    "        color = \"black\", \n",
    "        marker = \".\", \n",
    "        scatter_kws = {\"alpha\": 0.4}, \n",
    "        line_kws = {\"color\": \"red\", \"alpha\": 0.7 }, \n",
    "        ax = axes[i])\n",
    "    \n",
    "    axes[i].set_title(f\"Reservas vs {colum}\", fontsize = 15, fontweight = \"bold\")\n",
    "    axes[i].tick_params(labelsize = 20)\n",
    "    axes[i].set_xlabel(colum,  fontsize = 15, fontweight = \"bold\")\n",
    "    axes[i].set_ylabel(\"cnt\", fontsize = 15, fontweight = \"bold\")\n",
    "    \n",
    "fig.tight_layout();"
   ]
  },
  {
   "cell_type": "markdown",
   "metadata": {},
   "source": [
    "### Vamos a comprobar la relación entre todas las variables"
   ]
  },
  {
   "cell_type": "code",
   "execution_count": 983,
   "metadata": {},
   "outputs": [
    {
     "data": {
      "image/png": "[encoded data removed]",
      "text/plain": [
       "<Figure size 1728x864 with 2 Axes>"
      ]
     },
     "metadata": {
      "needs_background": "light"
     },
     "output_type": "display_data"
    }
   ],
   "source": [
    "plt.figure(figsize = (24, 12))\n",
    "\n",
    "corr = df.corr()\n",
    "sns.heatmap(corr, annot = True, linewidths = 1)\n",
    "plt.show()"
   ]
  },
  {
   "cell_type": "markdown",
   "metadata": {},
   "source": [
    "    CORRELACIÓN\n",
    "        Vamos a ver la correlación entre las variables predictoras y que relación tienen tb con la respuesta.\n",
    "        intervalo [-1 y 1]\n",
    "\t    r= 1 corr perfecta positiva (aumenta una , la otra tb aumenta)\n",
    "\t    r =0 no hay correlación\n",
    " \t    r= -1 corr perfecta negativa (una aumenta y la otra disminuye)"
   ]
  },
  {
   "cell_type": "markdown",
   "metadata": {},
   "source": [
    "    Correlación con respecto a la columna \"cnt\""
   ]
  },
  {
   "cell_type": "code",
   "execution_count": 984,
   "metadata": {},
   "outputs": [
    {
     "data": {
      "text/plain": [
       "cnt           1.000000\n",
       "registered    0.945411\n",
       "casual        0.672123\n",
       "temp          0.627003\n",
       "windspeed     0.235132\n",
       "hum           0.098502\n",
       "Name: cnt, dtype: float64"
      ]
     },
     "execution_count": 984,
     "metadata": {},
     "output_type": "execute_result"
    }
   ],
   "source": [
    "correlation = df.corr()['cnt'].abs().sort_values(ascending = False) #correlación solo te enseña numéricas, Pearson RESPECTO A LA COLUMNA \"cnt\"\n",
    "correlation"
   ]
  },
  {
   "cell_type": "markdown",
   "metadata": {},
   "source": [
    "    Correlación entre todas las numéricas"
   ]
  },
  {
   "cell_type": "code",
   "execution_count": 985,
   "metadata": {},
   "outputs": [
    {
     "data": {
      "text/html": [
       "<div>\n",
       "<style scoped>\n",
       "    .dataframe tbody tr th:only-of-type {\n",
       "        vertical-align: middle;\n",
       "    }\n",
       "\n",
       "    .dataframe tbody tr th {\n",
       "        vertical-align: top;\n",
       "    }\n",
       "\n",
       "    .dataframe thead th {\n",
       "        text-align: right;\n",
       "    }\n",
       "</style>\n",
       "<table border=\"1\" class=\"dataframe\">\n",
       "  <thead>\n",
       "    <tr style=\"text-align: right;\">\n",
       "      <th></th>\n",
       "      <th>casual</th>\n",
       "      <th>registered</th>\n",
       "      <th>cnt</th>\n",
       "      <th>temp</th>\n",
       "      <th>hum</th>\n",
       "      <th>windspeed</th>\n",
       "    </tr>\n",
       "  </thead>\n",
       "  <tbody>\n",
       "    <tr>\n",
       "      <th>casual</th>\n",
       "      <td>1.000000</td>\n",
       "      <td>0.394137</td>\n",
       "      <td>0.672123</td>\n",
       "      <td>0.542824</td>\n",
       "      <td>-0.075259</td>\n",
       "      <td>-0.167995</td>\n",
       "    </tr>\n",
       "    <tr>\n",
       "      <th>registered</th>\n",
       "      <td>0.394137</td>\n",
       "      <td>1.000000</td>\n",
       "      <td>0.945411</td>\n",
       "      <td>0.539345</td>\n",
       "      <td>-0.089140</td>\n",
       "      <td>-0.217914</td>\n",
       "    </tr>\n",
       "    <tr>\n",
       "      <th>cnt</th>\n",
       "      <td>0.672123</td>\n",
       "      <td>0.945411</td>\n",
       "      <td>1.000000</td>\n",
       "      <td>0.627003</td>\n",
       "      <td>-0.098502</td>\n",
       "      <td>-0.235132</td>\n",
       "    </tr>\n",
       "    <tr>\n",
       "      <th>temp</th>\n",
       "      <td>0.542824</td>\n",
       "      <td>0.539345</td>\n",
       "      <td>0.627003</td>\n",
       "      <td>1.000000</td>\n",
       "      <td>0.128716</td>\n",
       "      <td>-0.158367</td>\n",
       "    </tr>\n",
       "    <tr>\n",
       "      <th>hum</th>\n",
       "      <td>-0.075259</td>\n",
       "      <td>-0.089140</td>\n",
       "      <td>-0.098502</td>\n",
       "      <td>0.128716</td>\n",
       "      <td>1.000000</td>\n",
       "      <td>-0.248582</td>\n",
       "    </tr>\n",
       "    <tr>\n",
       "      <th>windspeed</th>\n",
       "      <td>-0.167995</td>\n",
       "      <td>-0.217914</td>\n",
       "      <td>-0.235132</td>\n",
       "      <td>-0.158367</td>\n",
       "      <td>-0.248582</td>\n",
       "      <td>1.000000</td>\n",
       "    </tr>\n",
       "  </tbody>\n",
       "</table>\n",
       "</div>"
      ],
      "text/plain": [
       "              casual  registered       cnt      temp       hum  windspeed\n",
       "casual      1.000000    0.394137  0.672123  0.542824 -0.075259  -0.167995\n",
       "registered  0.394137    1.000000  0.945411  0.539345 -0.089140  -0.217914\n",
       "cnt         0.672123    0.945411  1.000000  0.627003 -0.098502  -0.235132\n",
       "temp        0.542824    0.539345  0.627003  1.000000  0.128716  -0.158367\n",
       "hum        -0.075259   -0.089140 -0.098502  0.128716  1.000000  -0.248582\n",
       "windspeed  -0.167995   -0.217914 -0.235132 -0.158367 -0.248582   1.000000"
      ]
     },
     "execution_count": 985,
     "metadata": {},
     "output_type": "execute_result"
    }
   ],
   "source": [
    "numericas.corr() "
   ]
  },
  {
   "cell_type": "code",
   "execution_count": 986,
   "metadata": {},
   "outputs": [
    {
     "data": {
      "image/png": "[encoded data removed]",
      "text/plain": [
       "<Figure size 432x288 with 2 Axes>"
      ]
     },
     "metadata": {
      "needs_background": "light"
     },
     "output_type": "display_data"
    }
   ],
   "source": [
    "mask = np.triu(np.ones_like(numericas.corr(), dtype = np.bool))\n",
    "sns.heatmap(numericas.corr(), \n",
    "           cmap = \"YlGnBu\", \n",
    "           annot = True, \n",
    "           mask =mask);\n"
   ]
  },
  {
   "cell_type": "markdown",
   "metadata": {},
   "source": [
    "### Vamos a comprobar la relación que hay entre numericas"
   ]
  },
  {
   "cell_type": "code",
   "execution_count": 987,
   "metadata": {},
   "outputs": [],
   "source": [
    "numericas2 = df.select_dtypes(include = np.number).drop(\"cnt\", axis = 1)"
   ]
  },
  {
   "cell_type": "markdown",
   "metadata": {},
   "source": [
    "    COVARIANZA\n",
    "    ¿Ambas variables aumentan o disminuyen en la misma dirección o cuando una aumenta la otra disminuye?\n",
    "        S> 0 COVARIANZA POSITIVA : Todos aumentan misma dirección ( a grandes valores de X, grandes valores de Y)\n",
    "        S = 0 NO HAY RELACIÓN LINEAL\n",
    "        S< 0 COVARIANZA NEGATIVA: Aumenta una y disminuye la otra (a grandes valores de X , pequeños valores de Y)"
   ]
  },
  {
   "cell_type": "code",
   "execution_count": 988,
   "metadata": {},
   "outputs": [
    {
     "data": {
      "text/html": [
       "<div>\n",
       "<style scoped>\n",
       "    .dataframe tbody tr th:only-of-type {\n",
       "        vertical-align: middle;\n",
       "    }\n",
       "\n",
       "    .dataframe tbody tr th {\n",
       "        vertical-align: top;\n",
       "    }\n",
       "\n",
       "    .dataframe thead th {\n",
       "        text-align: right;\n",
       "    }\n",
       "</style>\n",
       "<table border=\"1\" class=\"dataframe\">\n",
       "  <thead>\n",
       "    <tr style=\"text-align: right;\">\n",
       "      <th></th>\n",
       "      <th>casual</th>\n",
       "      <th>registered</th>\n",
       "      <th>temp</th>\n",
       "      <th>hum</th>\n",
       "      <th>windspeed</th>\n",
       "    </tr>\n",
       "  </thead>\n",
       "  <tbody>\n",
       "    <tr>\n",
       "      <th>casual</th>\n",
       "      <td>471254.618141</td>\n",
       "      <td>4.220196e+05</td>\n",
       "      <td>2797.280226</td>\n",
       "      <td>-735.582158</td>\n",
       "      <td>-599.212506</td>\n",
       "    </tr>\n",
       "    <tr>\n",
       "      <th>registered</th>\n",
       "      <td>422019.595513</td>\n",
       "      <td>2.432847e+06</td>\n",
       "      <td>6314.994264</td>\n",
       "      <td>-1979.593043</td>\n",
       "      <td>-1766.034199</td>\n",
       "    </tr>\n",
       "    <tr>\n",
       "      <th>temp</th>\n",
       "      <td>2797.280226</td>\n",
       "      <td>6.314994e+03</td>\n",
       "      <td>56.350559</td>\n",
       "      <td>13.757125</td>\n",
       "      <td>-6.176868</td>\n",
       "    </tr>\n",
       "    <tr>\n",
       "      <th>hum</th>\n",
       "      <td>-735.582158</td>\n",
       "      <td>-1.979593e+03</td>\n",
       "      <td>13.757125</td>\n",
       "      <td>202.717828</td>\n",
       "      <td>-18.389602</td>\n",
       "    </tr>\n",
       "    <tr>\n",
       "      <th>windspeed</th>\n",
       "      <td>-599.212506</td>\n",
       "      <td>-1.766034e+03</td>\n",
       "      <td>-6.176868</td>\n",
       "      <td>-18.389602</td>\n",
       "      <td>26.996761</td>\n",
       "    </tr>\n",
       "  </tbody>\n",
       "</table>\n",
       "</div>"
      ],
      "text/plain": [
       "                   casual    registered         temp          hum    windspeed\n",
       "casual      471254.618141  4.220196e+05  2797.280226  -735.582158  -599.212506\n",
       "registered  422019.595513  2.432847e+06  6314.994264 -1979.593043 -1766.034199\n",
       "temp          2797.280226  6.314994e+03    56.350559    13.757125    -6.176868\n",
       "hum           -735.582158 -1.979593e+03    13.757125   202.717828   -18.389602\n",
       "windspeed     -599.212506 -1.766034e+03    -6.176868   -18.389602    26.996761"
      ]
     },
     "execution_count": 988,
     "metadata": {},
     "output_type": "execute_result"
    }
   ],
   "source": [
    "numericas2.cov() # vamos a ver si existe colinealidad entre mas medias de las variables predictoras"
   ]
  },
  {
   "cell_type": "markdown",
   "metadata": {},
   "source": [
    "----"
   ]
  },
  {
   "cell_type": "markdown",
   "metadata": {},
   "source": [
    "### Comprobar Outliers en este modelo"
   ]
  },
  {
   "cell_type": "code",
   "execution_count": 989,
   "metadata": {},
   "outputs": [],
   "source": [
    "def detectar_outliers(lista_columnas, dataframe): \n",
    "    dicc_indices = {} # creamos un diccionario donde almacenaremos índices de los outliers\n",
    "    \n",
    "    # iteramos por la lista de las columnas numéricas de nuestro dataframe\n",
    "    for col in lista_columnas:\n",
    "        \n",
    "        #calculamos los cuartiles Q1 y Q3\n",
    "        Q1 = np.nanpercentile(df[col], 25)\n",
    "        Q3 = np.nanpercentile(df[col], 75)\n",
    "        \n",
    "        # calculamos el rango intercuartil\n",
    "        IQR = Q3 - Q1\n",
    "        \n",
    "        # calculamos los límites\n",
    "        outlier_step = 1.5 * IQR\n",
    "        \n",
    "        # filtramos nuestro dataframe para indentificar los outliers\n",
    "        outliers_data = dataframe[(dataframe[col] < Q1 - outlier_step) | (dataframe[col] > Q3 + outlier_step)]\n",
    "        \n",
    "        \n",
    "        if outliers_data.shape[0] > 0: # chequeamos si nuestro dataframe tiene alguna fila. \n",
    "        \n",
    "            dicc_indices[col] = (list(outliers_data.index)) # si tiene fila es que hay outliers y por lo tanto lo añadimos a nuestro diccionario\n",
    "        \n",
    "\n",
    "    return dicc_indices "
   ]
  },
  {
   "cell_type": "code",
   "execution_count": 990,
   "metadata": {},
   "outputs": [
    {
     "data": {
      "text/plain": [
       "['casual', 'registered', 'cnt', 'temp', 'hum', 'windspeed']"
      ]
     },
     "execution_count": 990,
     "metadata": {},
     "output_type": "execute_result"
    }
   ],
   "source": [
    "lista_columnas = list(numericas.columns)\n",
    "lista_columnas"
   ]
  },
  {
   "cell_type": "markdown",
   "metadata": {},
   "source": [
    "     Son pocos Outliers que no influyen en demasiado lo cambiamos por la mediana"
   ]
  },
  {
   "cell_type": "code",
   "execution_count": 991,
   "metadata": {},
   "outputs": [
    {
     "name": "stdout",
     "output_type": "stream",
     "text": [
      "{'casual': [148, 183, 184, 196, 246, 281, 440, 446, 454, 455, 461, 468, 469, 475, 489, 496, 503, 504, 510, 511, 512, 517, 518, 524, 531, 532, 538, 539, 549, 559, 567, 580, 594, 608, 609, 616, 622, 629, 630, 636, 643, 657, 664, 679], 'hum': [49, 68], 'windspeed': [44, 49, 93, 94, 292, 382, 407, 420, 431, 432, 449, 665, 720]}\n"
     ]
    }
   ],
   "source": [
    "ind = detectar_outliers(lista_columnas, df)\n",
    "print(ind)"
   ]
  },
  {
   "cell_type": "code",
   "execution_count": 992,
   "metadata": {},
   "outputs": [],
   "source": [
    "for key, values in ind.items():\n",
    "    median = df[key].median()\n",
    "     \n",
    "    if key == \"hum\" or key == 'windspeed':\n",
    "        for i in values: \n",
    "            df.loc[i,key] = median\n",
    "    else:\n",
    "        pass"
   ]
  },
  {
   "cell_type": "markdown",
   "metadata": {},
   "source": [
    "# Comprobación de las asunciones - Las variables predictoras deben cumplir: Homocedasteidad, Independencia "
   ]
  },
  {
   "cell_type": "markdown",
   "metadata": {},
   "source": [
    "### ASUNCIÓN DE NORMALIDAD  "
   ]
  },
  {
   "cell_type": "markdown",
   "metadata": {},
   "source": [
    "    Ya la hemos comprobado y nuestros datos NO son normales."
   ]
  },
  {
   "cell_type": "markdown",
   "metadata": {},
   "source": [
    "- Visualmente\n",
    "- Test de Shapiro\n",
    "\n",
    "\n",
    "| Test Shapiro  |  Resultado | Conclusión |\n",
    "|---|---|---|\n",
    "|  p-value > 0.05 | No significativo   | Datos  Normales|\n",
    "|p-value < 0.05| Significativo| Datos No Normales |"
   ]
  },
  {
   "cell_type": "code",
   "execution_count": 993,
   "metadata": {},
   "outputs": [
    {
     "data": {
      "text/plain": [
       "ShapiroResult(statistic=0.9802490472793579, pvalue=2.313480784721378e-08)"
      ]
     },
     "execution_count": 993,
     "metadata": {},
     "output_type": "execute_result"
    }
   ],
   "source": [
    "stats.shapiro(df[\"cnt\"]) # El p-value< 0.05 Quiere decir que la distribución es No es NORMAL"
   ]
  },
  {
   "cell_type": "markdown",
   "metadata": {},
   "source": [
    "### ASUNCIÓN DE HOMOCEDASTICIDAD (Levene)"
   ]
  },
  {
   "cell_type": "markdown",
   "metadata": {},
   "source": [
    "Las varianzas no difieren entre las distintas categorías de nuestros datos\n",
    "\n",
    "\n",
    "| Test Levene  |  Resultado | Conclusión   |\n",
    "|---|---|---|\n",
    "|  p-value > 0.05 | No significativo   | Cumple asunción, tienen varianzas similares|\n",
    "|p-value < 0.05| Significativo| No cumple asunción, no tienen varianzas similares |"
   ]
  },
  {
   "cell_type": "markdown",
   "metadata": {},
   "source": [
    "    - Variables Categoricas -"
   ]
  },
  {
   "cell_type": "code",
   "execution_count": 994,
   "metadata": {},
   "outputs": [
    {
     "data": {
      "image/png": "[encoded data removed]",
      "text/plain": [
       "<Figure size 2160x1080 with 8 Axes>"
      ]
     },
     "metadata": {
      "needs_background": "light"
     },
     "output_type": "display_data"
    }
   ],
   "source": [
    "fig, axes = plt.subplots(nrows = 2, ncols = 4 ,figsize = (30, 15))\n",
    "\n",
    "axes = axes.flat\n",
    "\n",
    "colum_cat = df.select_dtypes(include = ['category']).columns\n",
    "\n",
    "for i, col in enumerate(colum_cat):\n",
    "    sns.boxplot(\n",
    "        x = col,\n",
    "        y = 'cnt',\n",
    "        data = df,\n",
    "        palette = 'tab10',\n",
    "        ax = axes[i]\n",
    "\n",
    "    )"
   ]
  },
  {
   "cell_type": "markdown",
   "metadata": {},
   "source": [
    "                                                        --TEST LEVENE PARA CADA VARIABLE CATEGORICA PREDICTORA--"
   ]
  },
  {
   "cell_type": "code",
   "execution_count": 995,
   "metadata": {},
   "outputs": [],
   "source": [
    "#Para desglosar cada una de las columnas, hacemos test de levene a cada una\n",
    "def datos_test_levene (columna, df):\n",
    "    valores = df[columna].unique()\n",
    "    d = {}\n",
    "\n",
    "    for x in valores:\n",
    "        d['{0}'.format(x)] = df[df[columna] == x]['cnt']\n",
    "    return d"
   ]
  },
  {
   "cell_type": "code",
   "execution_count": 996,
   "metadata": {},
   "outputs": [],
   "source": [
    "# 8 variables categoricas predictoras\n",
    "season = datos_test_levene('season_encoding', df)\n",
    "year = datos_test_levene('yr', df)\n",
    "month = datos_test_levene('mnth', df)\n",
    "day = datos_test_levene('day', df)\n",
    "holiday = datos_test_levene('holiday', df)\n",
    "weekday =  datos_test_levene('weekday', df)\n",
    "workingday = datos_test_levene('workingday', df)\n",
    "weathersit = datos_test_levene('weathersit', df)"
   ]
  },
  {
   "cell_type": "markdown",
   "metadata": {},
   "source": [
    "        --NO CUMPLEN--"
   ]
  },
  {
   "cell_type": "code",
   "execution_count": 997,
   "metadata": {},
   "outputs": [
    {
     "data": {
      "text/plain": [
       "LeveneResult(statistic=13.553593496753745, pvalue=0.0002489869491449798)"
      ]
     },
     "execution_count": 997,
     "metadata": {},
     "output_type": "execute_result"
    }
   ],
   "source": [
    "levene_temp_interval = stats.levene(year['0'], year['1'], center='median')\n",
    "levene_temp_interval # NO CUMPLE"
   ]
  },
  {
   "cell_type": "code",
   "execution_count": 998,
   "metadata": {},
   "outputs": [
    {
     "data": {
      "text/plain": [
       "LeveneResult(statistic=4.460702577469021, pvalue=0.03502326959654844)"
      ]
     },
     "execution_count": 998,
     "metadata": {},
     "output_type": "execute_result"
    }
   ],
   "source": [
    "levene_workingday = stats.levene(workingday['0'], workingday['1'], center='median')\n",
    "levene_workingday # NO CUMPLE"
   ]
  },
  {
   "cell_type": "code",
   "execution_count": 999,
   "metadata": {},
   "outputs": [
    {
     "data": {
      "text/plain": [
       "LeveneResult(statistic=5.787944098760116, pvalue=2.73789175494516e-10)"
      ]
     },
     "execution_count": 999,
     "metadata": {},
     "output_type": "execute_result"
    }
   ],
   "source": [
    "levene_month = stats.levene(month['1'], month['2'],month['3'],month['4'],month['5'],month['6'],month['1'],month['7'],month['1'],month['8'],month['9'],month['10'],month['11'],month['12'], center='median')\n",
    "levene_month # NO CUMPLE"
   ]
  },
  {
   "cell_type": "markdown",
   "metadata": {},
   "source": [
    "    ---SI CUMPLE---"
   ]
  },
  {
   "cell_type": "code",
   "execution_count": 1000,
   "metadata": {},
   "outputs": [
    {
     "data": {
      "text/plain": [
       "LeveneResult(statistic=1.7590626071065214, pvalue=0.15360584747469838)"
      ]
     },
     "execution_count": 1000,
     "metadata": {},
     "output_type": "execute_result"
    }
   ],
   "source": [
    "levene_season = stats.levene(season['1'], season['2'], season['3'], season['4'], center='median')\n",
    "levene_season # SI CUMPLE"
   ]
  },
  {
   "cell_type": "code",
   "execution_count": 1001,
   "metadata": {},
   "outputs": [
    {
     "data": {
      "text/plain": [
       "LeveneResult(statistic=0.5456780499569595, pvalue=0.9815493458112784)"
      ]
     },
     "execution_count": 1001,
     "metadata": {},
     "output_type": "execute_result"
    }
   ],
   "source": [
    "levene_day = stats.levene(day['1'], day['2'],day['3'],day['4'],day['5'],day['6'],day['1'],day['7'],day['1'],day['8'],day['9'],day['10'],day['11'],day['12'],\n",
    " day['13'], day['14'],day['15'],day['16'],day['17'],day['18'],day['19'],day['20'],day['21'],day['22'],day['23'],day['24'],day['25'],day['26'],\n",
    " day['27'], day['28'],day['29'],day['30'],day['31'],center='median')\n",
    "levene_day # SI CUMPLE"
   ]
  },
  {
   "cell_type": "code",
   "execution_count": 1002,
   "metadata": {},
   "outputs": [
    {
     "data": {
      "text/plain": [
       "LeveneResult(statistic=0.7261499110317795, pvalue=0.39441424379573353)"
      ]
     },
     "execution_count": 1002,
     "metadata": {},
     "output_type": "execute_result"
    }
   ],
   "source": [
    "levene_holiday = stats.levene(holiday['0'], holiday['1'], center='median')\n",
    "levene_holiday # SI CUMPLE"
   ]
  },
  {
   "cell_type": "code",
   "execution_count": 1003,
   "metadata": {},
   "outputs": [
    {
     "data": {
      "text/plain": [
       "LeveneResult(statistic=1.496581827336433, pvalue=0.17647662349169893)"
      ]
     },
     "execution_count": 1003,
     "metadata": {},
     "output_type": "execute_result"
    }
   ],
   "source": [
    "levene_weekday = stats.levene(weekday['0'], weekday['1'],weekday['2'],weekday['3'],weekday['4'],weekday['5'],weekday['6'], center='median')\n",
    "levene_weekday # SI CUMPLE"
   ]
  },
  {
   "cell_type": "code",
   "execution_count": 1004,
   "metadata": {},
   "outputs": [
    {
     "data": {
      "text/plain": [
       "LeveneResult(statistic=2.981948873358019, pvalue=0.05131438057388725)"
      ]
     },
     "execution_count": 1004,
     "metadata": {},
     "output_type": "execute_result"
    }
   ],
   "source": [
    "levene_weathersit = stats.levene(weathersit['1'], weathersit['2'], weathersit['3'],center='median')\n",
    "levene_weathersit # SI CUMPLE"
   ]
  },
  {
   "cell_type": "markdown",
   "metadata": {},
   "source": [
    "    Numéricas"
   ]
  },
  {
   "cell_type": "code",
   "execution_count": 1005,
   "metadata": {},
   "outputs": [],
   "source": [
    "\n",
    "# creamos un diccionario para almacenar los resultados de los test\n",
    "resultados = {}\n",
    "\n",
    "# seleccionamos solo las columnas numéricas y eliminamos la columna de precio\n",
    "numericas_col = df.select_dtypes(include = np.number).drop(\"cnt\", axis = 1).columns\n",
    "\n",
    "#iteremos por la lista de las columnas numéricas\n",
    "for col in numericas_col:\n",
    "    # calculamos el p-valor de test\n",
    "    statistic, p_val = levene(df[col], df.cnt, center='median')\n",
    "    # lo almacenamos en el charges\n",
    "    resultados[col] = p_val"
   ]
  },
  {
   "cell_type": "markdown",
   "metadata": {},
   "source": [
    "                    --  NO CUMPLEN NINGUNA --"
   ]
  },
  {
   "cell_type": "code",
   "execution_count": 1006,
   "metadata": {},
   "outputs": [
    {
     "data": {
      "text/plain": [
       "{'casual': 3.031094721085453e-106,\n",
       " 'registered': 3.756413456870291e-09,\n",
       " 'temp': 2.483823693494982e-220,\n",
       " 'hum': 2.4852444623529654e-219,\n",
       " 'windspeed': 6.996761844872213e-221}"
      ]
     },
     "execution_count": 1006,
     "metadata": {},
     "output_type": "execute_result"
    }
   ],
   "source": [
    "resultados "
   ]
  },
  {
   "cell_type": "markdown",
   "metadata": {},
   "source": [
    "    Aplicamos log a las variables numéricas, para ver si podemos transformar y que alguna o todas puedan cumplir la asunción.  NO IMPLICA CAMBIO"
   ]
  },
  {
   "cell_type": "code",
   "execution_count": 1007,
   "metadata": {},
   "outputs": [],
   "source": [
    "#hemos intentado hacer logaritmonimos las variables categoricas .    NO nos funciona.\n",
    "\n",
    "# df['casual'] = df['casual'].apply(lambda x: np.log(x) if x != 0 else 0)\n",
    "# df['registered'] = df['registered'].apply(lambda x: np.log(x) if x != 0 else 0)\n",
    "# df['temp'] = df['temp'].apply(lambda x: np.log(x) if x != 0 else 0)\n",
    "# df['hum'] = df['hum'].apply(lambda x: np.log(x) if x != 0 else 0)\n",
    "# df['windspeed'] = df['windspeed'].apply(lambda x: np.log(x) if x != 0 else 0)"
   ]
  },
  {
   "cell_type": "markdown",
   "metadata": {},
   "source": [
    "    Aplicamos raiz cuadrada a las variables numéricas, para ver si podemos transformar y que alguna o todas puedan cumplir la asunción."
   ]
  },
  {
   "cell_type": "code",
   "execution_count": 1008,
   "metadata": {},
   "outputs": [],
   "source": [
    "# df[\"temp\"]= df[\"temp\"].apply(lambda x: math.sqrt(x))\n",
    "# df[\"hum\"]= df[\"hum\"].apply(lambda x: math.sqrt(x))\n",
    "# df[\"windspeed\"]= df[\"windspeed\"].apply(lambda x: math.sqrt(x))"
   ]
  },
  {
   "cell_type": "markdown",
   "metadata": {},
   "source": [
    "## Asunción independencia (Chi-Cuadrado)"
   ]
  },
  {
   "cell_type": "markdown",
   "metadata": {},
   "source": [
    "\n",
    "| Test Independencia |  Resultado | Conclusión   |\n",
    "|---|---|---|\n",
    "|  p-value > 0.05 | No significativo   | Cumple asunción, tienen varianzas similares|\n",
    "|p-value < 0.05| Significativo| No cumple asunción, no tienen varianzas similares |"
   ]
  },
  {
   "cell_type": "code",
   "execution_count": 1009,
   "metadata": {},
   "outputs": [],
   "source": [
    "columnas = df.columns"
   ]
  },
  {
   "cell_type": "code",
   "execution_count": 1010,
   "metadata": {},
   "outputs": [
    {
     "data": {
      "text/plain": [
       "('registered', 'cnt')"
      ]
     },
     "execution_count": 1010,
     "metadata": {},
     "output_type": "execute_result"
    }
   ],
   "source": [
    "combinaciones = list(itertools.combinations(columnas, 2))\n",
    "combinaciones[13]"
   ]
  },
  {
   "cell_type": "code",
   "execution_count": 1011,
   "metadata": {},
   "outputs": [
    {
     "data": {
      "text/plain": [
       "[('cnt', 'season_encoding'),\n",
       " ('cnt', 'yr'),\n",
       " ('cnt', 'mnth'),\n",
       " ('cnt', 'day'),\n",
       " ('cnt', 'holiday'),\n",
       " ('cnt', 'weekday'),\n",
       " ('cnt', 'workingday'),\n",
       " ('cnt', 'weathersit'),\n",
       " ('cnt', 'temp'),\n",
       " ('cnt', 'hum'),\n",
       " ('cnt', 'windspeed')]"
      ]
     },
     "execution_count": 1011,
     "metadata": {},
     "output_type": "execute_result"
    }
   ],
   "source": [
    "combinaciones = list(itertools.combinations(columnas, 2))\n",
    "combinaciones_cnt= combinaciones[25:36]#, combinaciones[1], combinaciones[13] # ya solo te muestra con respecto a \"cnt\"\n",
    "combinaciones_cnt"
   ]
  },
  {
   "cell_type": "markdown",
   "metadata": {},
   "source": [
    "    Test Chi Cuadrado\n",
    "    Kramer: \n",
    "    de 0-0,1: no hay independencia\n",
    "    de 0,1 - 0,3 independencia baja\n",
    "    0,3 a 0,5 independencia moderada\n",
    "    0,5+ independencia alta\n"
   ]
  },
  {
   "cell_type": "code",
   "execution_count": 1012,
   "metadata": {},
   "outputs": [
    {
     "name": "stdout",
     "output_type": "stream",
     "text": [
      "--------------------------------- cnt season_encoding ---------------------------------\n",
      "                   Chi-square test    results\n",
      "0  Pearson Chi-square ( 2082.0) =   2089.9375\n",
      "1                       p-value =      0.4470\n",
      "2                    Cramer's V =      0.9769\n",
      "--------------------------------- cnt yr ---------------------------------\n",
      "                  Chi-square test   results\n",
      "0  Pearson Chi-square ( 694.0) =   706.0000\n",
      "1                      p-value =     0.3676\n",
      "2                   Cramer's V =     0.9834\n",
      "--------------------------------- cnt mnth ---------------------------------\n",
      "                   Chi-square test    results\n",
      "0  Pearson Chi-square ( 7634.0) =   7636.3074\n",
      "1                       p-value =      0.4904\n",
      "2                    Cramer's V =      0.9752\n",
      "--------------------------------- cnt day ---------------------------------\n",
      "                    Chi-square test     results\n",
      "0  Pearson Chi-square ( 20820.0) =   20849.4399\n",
      "1                        p-value =       0.4414\n",
      "2                     Cramer's V =       0.9757\n",
      "--------------------------------- cnt holiday ---------------------------------\n",
      "                  Chi-square test   results\n",
      "0  Pearson Chi-square ( 694.0) =   676.3127\n",
      "1                      p-value =     0.6776\n",
      "2                   Cramer's V =     0.9625\n",
      "--------------------------------- cnt weekday ---------------------------------\n",
      "                   Chi-square test    results\n",
      "0  Pearson Chi-square ( 4164.0) =   4184.1596\n",
      "1                       p-value =      0.4099\n",
      "2                    Cramer's V =      0.9774\n",
      "--------------------------------- cnt workingday ---------------------------------\n",
      "                  Chi-square test   results\n",
      "0  Pearson Chi-square ( 694.0) =   697.6383\n",
      "1                      p-value =     0.4541\n",
      "2                   Cramer's V =     0.9776\n",
      "--------------------------------- cnt weathersit ---------------------------------\n",
      "                   Chi-square test    results\n",
      "0  Pearson Chi-square ( 1388.0) =   1368.4435\n",
      "1                       p-value =      0.6407\n",
      "2                    Cramer's V =      0.9681\n",
      "--------------------------------- cnt temp ---------------------------------\n",
      "                     Chi-square test      results\n",
      "0  Pearson Chi-square ( 174194.0) =   174395.2619\n",
      "1                         p-value =        0.3662\n",
      "2                      Cramer's V =        0.9756\n",
      "--------------------------------- cnt hum ---------------------------------\n",
      "                     Chi-square test      results\n",
      "0  Pearson Chi-square ( 272048.0) =   272947.0000\n",
      "1                         p-value =        0.1115\n",
      "2                      Cramer's V =        0.9766\n",
      "--------------------------------- cnt windspeed ---------------------------------\n",
      "                     Chi-square test      results\n",
      "0  Pearson Chi-square ( 440690.0) =   441479.6667\n",
      "1                         p-value =        0.2001\n",
      "2                      Cramer's V =        0.9759\n"
     ]
    }
   ],
   "source": [
    "for par in combinaciones_cnt:\n",
    "    crosstab, test_results, expected = rp.crosstab(df[par[0]], df[par[1]],\n",
    "                                               test= \"chi-square\",\n",
    "                                               expected_freqs= True,\n",
    "                                               prop= \"cell\")\n",
    "    print(\"---------------------------------\", par[0], par[1], \"---------------------------------\")\n",
    "    print(test_results) #todas son independientes"
   ]
  },
  {
   "cell_type": "markdown",
   "metadata": {},
   "source": [
    "    --Si son independientes--"
   ]
  },
  {
   "cell_type": "markdown",
   "metadata": {},
   "source": [
    "# ANOVA"
   ]
  },
  {
   "cell_type": "markdown",
   "metadata": {},
   "source": [
    "    Ya podemos pasar a la ANOVA después de comprobar si las variables predictoras cumplen las asunciones"
   ]
  },
  {
   "cell_type": "code",
   "execution_count": 1013,
   "metadata": {},
   "outputs": [
    {
     "data": {
      "text/plain": [
       "Index(['casual', 'registered', 'cnt', 'season_encoding', 'yr', 'mnth', 'day',\n",
       "       'holiday', 'weekday', 'workingday', 'weathersit', 'temp', 'hum',\n",
       "       'windspeed'],\n",
       "      dtype='object')"
      ]
     },
     "execution_count": 1013,
     "metadata": {},
     "output_type": "execute_result"
    }
   ],
   "source": [
    "df.columns"
   ]
  },
  {
   "cell_type": "markdown",
   "metadata": {},
   "source": [
    "    No añadimos \"registered\""
   ]
  },
  {
   "cell_type": "code",
   "execution_count": 1014,
   "metadata": {},
   "outputs": [
    {
     "data": {
      "text/html": [
       "<div>\n",
       "<style scoped>\n",
       "    .dataframe tbody tr th:only-of-type {\n",
       "        vertical-align: middle;\n",
       "    }\n",
       "\n",
       "    .dataframe tbody tr th {\n",
       "        vertical-align: top;\n",
       "    }\n",
       "\n",
       "    .dataframe thead th {\n",
       "        text-align: right;\n",
       "    }\n",
       "</style>\n",
       "<table border=\"1\" class=\"dataframe\">\n",
       "  <thead>\n",
       "    <tr style=\"text-align: right;\">\n",
       "      <th></th>\n",
       "      <th>df</th>\n",
       "      <th>sum_sq</th>\n",
       "      <th>mean_sq</th>\n",
       "      <th>F</th>\n",
       "      <th>PR(&gt;F)</th>\n",
       "    </tr>\n",
       "  </thead>\n",
       "  <tbody>\n",
       "    <tr>\n",
       "      <th>season_encoding</th>\n",
       "      <td>3.0</td>\n",
       "      <td>2.965983e+08</td>\n",
       "      <td>9.886610e+07</td>\n",
       "      <td>262.807410</td>\n",
       "      <td>9.232468e-113</td>\n",
       "    </tr>\n",
       "    <tr>\n",
       "      <th>yr</th>\n",
       "      <td>1.0</td>\n",
       "      <td>8.869095e+08</td>\n",
       "      <td>8.869095e+08</td>\n",
       "      <td>2357.596632</td>\n",
       "      <td>8.943830e-222</td>\n",
       "    </tr>\n",
       "    <tr>\n",
       "      <th>mnth</th>\n",
       "      <td>11.0</td>\n",
       "      <td>7.803896e+08</td>\n",
       "      <td>7.094451e+07</td>\n",
       "      <td>188.585804</td>\n",
       "      <td>6.726230e-197</td>\n",
       "    </tr>\n",
       "    <tr>\n",
       "      <th>day</th>\n",
       "      <td>30.0</td>\n",
       "      <td>6.263900e+07</td>\n",
       "      <td>2.087967e+06</td>\n",
       "      <td>5.550266</td>\n",
       "      <td>3.255271e-18</td>\n",
       "    </tr>\n",
       "    <tr>\n",
       "      <th>holiday</th>\n",
       "      <td>1.0</td>\n",
       "      <td>8.356054e+06</td>\n",
       "      <td>8.356054e+06</td>\n",
       "      <td>22.212193</td>\n",
       "      <td>2.969398e-06</td>\n",
       "    </tr>\n",
       "    <tr>\n",
       "      <th>weekday</th>\n",
       "      <td>6.0</td>\n",
       "      <td>1.555021e+07</td>\n",
       "      <td>2.591702e+06</td>\n",
       "      <td>6.889303</td>\n",
       "      <td>4.102127e-07</td>\n",
       "    </tr>\n",
       "    <tr>\n",
       "      <th>workingday</th>\n",
       "      <td>1.0</td>\n",
       "      <td>1.100045e+06</td>\n",
       "      <td>1.100045e+06</td>\n",
       "      <td>2.924157</td>\n",
       "      <td>8.772510e-02</td>\n",
       "    </tr>\n",
       "    <tr>\n",
       "      <th>weathersit</th>\n",
       "      <td>2.0</td>\n",
       "      <td>1.740145e+08</td>\n",
       "      <td>8.700727e+07</td>\n",
       "      <td>231.284091</td>\n",
       "      <td>3.964787e-77</td>\n",
       "    </tr>\n",
       "    <tr>\n",
       "      <th>casual</th>\n",
       "      <td>1.0</td>\n",
       "      <td>2.338266e+08</td>\n",
       "      <td>2.338266e+08</td>\n",
       "      <td>621.561475</td>\n",
       "      <td>1.318961e-97</td>\n",
       "    </tr>\n",
       "    <tr>\n",
       "      <th>temp</th>\n",
       "      <td>1.0</td>\n",
       "      <td>1.248884e+07</td>\n",
       "      <td>1.248884e+07</td>\n",
       "      <td>33.198030</td>\n",
       "      <td>1.268586e-08</td>\n",
       "    </tr>\n",
       "    <tr>\n",
       "      <th>hum</th>\n",
       "      <td>1.0</td>\n",
       "      <td>2.092345e+06</td>\n",
       "      <td>2.092345e+06</td>\n",
       "      <td>5.561903</td>\n",
       "      <td>1.864131e-02</td>\n",
       "    </tr>\n",
       "    <tr>\n",
       "      <th>windspeed</th>\n",
       "      <td>1.0</td>\n",
       "      <td>6.232525e+06</td>\n",
       "      <td>6.232525e+06</td>\n",
       "      <td>16.567394</td>\n",
       "      <td>5.254503e-05</td>\n",
       "    </tr>\n",
       "    <tr>\n",
       "      <th>Residual</th>\n",
       "      <td>671.0</td>\n",
       "      <td>2.524250e+08</td>\n",
       "      <td>3.761922e+05</td>\n",
       "      <td>NaN</td>\n",
       "      <td>NaN</td>\n",
       "    </tr>\n",
       "  </tbody>\n",
       "</table>\n",
       "</div>"
      ],
      "text/plain": [
       "                    df        sum_sq       mean_sq            F         PR(>F)\n",
       "season_encoding    3.0  2.965983e+08  9.886610e+07   262.807410  9.232468e-113\n",
       "yr                 1.0  8.869095e+08  8.869095e+08  2357.596632  8.943830e-222\n",
       "mnth              11.0  7.803896e+08  7.094451e+07   188.585804  6.726230e-197\n",
       "day               30.0  6.263900e+07  2.087967e+06     5.550266   3.255271e-18\n",
       "holiday            1.0  8.356054e+06  8.356054e+06    22.212193   2.969398e-06\n",
       "weekday            6.0  1.555021e+07  2.591702e+06     6.889303   4.102127e-07\n",
       "workingday         1.0  1.100045e+06  1.100045e+06     2.924157   8.772510e-02\n",
       "weathersit         2.0  1.740145e+08  8.700727e+07   231.284091   3.964787e-77\n",
       "casual             1.0  2.338266e+08  2.338266e+08   621.561475   1.318961e-97\n",
       "temp               1.0  1.248884e+07  1.248884e+07    33.198030   1.268586e-08\n",
       "hum                1.0  2.092345e+06  2.092345e+06     5.561903   1.864131e-02\n",
       "windspeed          1.0  6.232525e+06  6.232525e+06    16.567394   5.254503e-05\n",
       "Residual         671.0  2.524250e+08  3.761922e+05          NaN            NaN"
      ]
     },
     "execution_count": 1014,
     "metadata": {},
     "output_type": "execute_result"
    }
   ],
   "source": [
    "lm = ols('cnt ~  casual + season_encoding + yr + mnth + day + holiday + weekday + workingday + weathersit + temp + hum +  windspeed' , data=df).fit()\n",
    "sm.stats.anova_lm(lm)"
   ]
  },
  {
   "cell_type": "code",
   "execution_count": 1015,
   "metadata": {},
   "outputs": [
    {
     "data": {
      "text/html": [
       "<table class=\"simpletable\">\n",
       "<caption>OLS Regression Results</caption>\n",
       "<tr>\n",
       "  <th>Dep. Variable:</th>           <td>cnt</td>       <th>  R-squared:         </th> <td>   0.908</td> \n",
       "</tr>\n",
       "<tr>\n",
       "  <th>Model:</th>                   <td>OLS</td>       <th>  Adj. R-squared:    </th> <td>   0.900</td> \n",
       "</tr>\n",
       "<tr>\n",
       "  <th>Method:</th>             <td>Least Squares</td>  <th>  F-statistic:       </th> <td>   113.7</td> \n",
       "</tr>\n",
       "<tr>\n",
       "  <th>Date:</th>             <td>Tue, 14 Jun 2022</td> <th>  Prob (F-statistic):</th> <td>3.36e-307</td>\n",
       "</tr>\n",
       "<tr>\n",
       "  <th>Time:</th>                 <td>20:36:36</td>     <th>  Log-Likelihood:    </th> <td> -5690.9</td> \n",
       "</tr>\n",
       "<tr>\n",
       "  <th>No. Observations:</th>      <td>   730</td>      <th>  AIC:               </th> <td>1.150e+04</td>\n",
       "</tr>\n",
       "<tr>\n",
       "  <th>Df Residuals:</th>          <td>   671</td>      <th>  BIC:               </th> <td>1.177e+04</td>\n",
       "</tr>\n",
       "<tr>\n",
       "  <th>Df Model:</th>              <td>    58</td>      <th>                     </th>     <td> </td>    \n",
       "</tr>\n",
       "<tr>\n",
       "  <th>Covariance Type:</th>      <td>nonrobust</td>    <th>                     </th>     <td> </td>    \n",
       "</tr>\n",
       "</table>\n",
       "<table class=\"simpletable\">\n",
       "<tr>\n",
       "            <td></td>              <th>coef</th>     <th>std err</th>      <th>t</th>      <th>P>|t|</th>  <th>[0.025</th>    <th>0.975]</th>  \n",
       "</tr>\n",
       "<tr>\n",
       "  <th>Intercept</th>            <td>  356.6242</td> <td>  237.055</td> <td>    1.504</td> <td> 0.133</td> <td> -108.835</td> <td>  822.084</td>\n",
       "</tr>\n",
       "<tr>\n",
       "  <th>season_encoding[T.2]</th> <td> -112.2496</td> <td>  132.729</td> <td>   -0.846</td> <td> 0.398</td> <td> -372.864</td> <td>  148.365</td>\n",
       "</tr>\n",
       "<tr>\n",
       "  <th>season_encoding[T.3]</th> <td>  170.1781</td> <td>  135.956</td> <td>    1.252</td> <td> 0.211</td> <td>  -96.772</td> <td>  437.128</td>\n",
       "</tr>\n",
       "<tr>\n",
       "  <th>season_encoding[T.4]</th> <td> -863.7501</td> <td>  134.176</td> <td>   -6.437</td> <td> 0.000</td> <td>-1127.206</td> <td> -600.294</td>\n",
       "</tr>\n",
       "<tr>\n",
       "  <th>yr[T.1]</th>              <td> 1618.6137</td> <td>   50.344</td> <td>   32.151</td> <td> 0.000</td> <td> 1519.764</td> <td> 1717.464</td>\n",
       "</tr>\n",
       "<tr>\n",
       "  <th>mnth[T.2]</th>            <td>  167.1802</td> <td>  115.594</td> <td>    1.446</td> <td> 0.149</td> <td>  -59.789</td> <td>  394.150</td>\n",
       "</tr>\n",
       "<tr>\n",
       "  <th>mnth[T.3]</th>            <td>  357.7042</td> <td>  124.355</td> <td>    2.876</td> <td> 0.004</td> <td>  113.532</td> <td>  601.877</td>\n",
       "</tr>\n",
       "<tr>\n",
       "  <th>mnth[T.4]</th>            <td>  725.6083</td> <td>  162.872</td> <td>    4.455</td> <td> 0.000</td> <td>  405.808</td> <td> 1045.409</td>\n",
       "</tr>\n",
       "<tr>\n",
       "  <th>mnth[T.5]</th>            <td>  965.1883</td> <td>  183.955</td> <td>    5.247</td> <td> 0.000</td> <td>  603.991</td> <td> 1326.385</td>\n",
       "</tr>\n",
       "<tr>\n",
       "  <th>mnth[T.6]</th>            <td>  984.5038</td> <td>  206.093</td> <td>    4.777</td> <td> 0.000</td> <td>  579.838</td> <td> 1389.169</td>\n",
       "</tr>\n",
       "<tr>\n",
       "  <th>mnth[T.7]</th>            <td>  475.4431</td> <td>  238.019</td> <td>    1.998</td> <td> 0.046</td> <td>    8.091</td> <td>  942.795</td>\n",
       "</tr>\n",
       "<tr>\n",
       "  <th>mnth[T.8]</th>            <td>  763.8200</td> <td>  224.378</td> <td>    3.404</td> <td> 0.001</td> <td>  323.253</td> <td> 1204.387</td>\n",
       "</tr>\n",
       "<tr>\n",
       "  <th>mnth[T.9]</th>            <td> 1328.8584</td> <td>  201.801</td> <td>    6.585</td> <td> 0.000</td> <td>  932.620</td> <td> 1725.097</td>\n",
       "</tr>\n",
       "<tr>\n",
       "  <th>mnth[T.10]</th>           <td> 2000.1314</td> <td>  171.104</td> <td>   11.690</td> <td> 0.000</td> <td> 1664.168</td> <td> 2336.095</td>\n",
       "</tr>\n",
       "<tr>\n",
       "  <th>mnth[T.11]</th>           <td> 1695.6418</td> <td>  150.259</td> <td>   11.285</td> <td> 0.000</td> <td> 1400.608</td> <td> 1990.676</td>\n",
       "</tr>\n",
       "<tr>\n",
       "  <th>mnth[T.12]</th>           <td> 1394.2986</td> <td>  144.184</td> <td>    9.670</td> <td> 0.000</td> <td> 1111.193</td> <td> 1677.405</td>\n",
       "</tr>\n",
       "<tr>\n",
       "  <th>day[T.2]</th>             <td>   74.7387</td> <td>  177.810</td> <td>    0.420</td> <td> 0.674</td> <td> -274.393</td> <td>  423.870</td>\n",
       "</tr>\n",
       "<tr>\n",
       "  <th>day[T.3]</th>             <td>   93.2341</td> <td>  178.114</td> <td>    0.523</td> <td> 0.601</td> <td> -256.495</td> <td>  442.963</td>\n",
       "</tr>\n",
       "<tr>\n",
       "  <th>day[T.4]</th>             <td>  199.8793</td> <td>  223.082</td> <td>    0.896</td> <td> 0.371</td> <td> -238.143</td> <td>  637.902</td>\n",
       "</tr>\n",
       "<tr>\n",
       "  <th>day[T.5]</th>             <td>  230.2166</td> <td>  222.135</td> <td>    1.036</td> <td> 0.300</td> <td> -205.947</td> <td>  666.380</td>\n",
       "</tr>\n",
       "<tr>\n",
       "  <th>day[T.6]</th>             <td>  264.3795</td> <td>  222.928</td> <td>    1.186</td> <td> 0.236</td> <td> -173.341</td> <td>  702.100</td>\n",
       "</tr>\n",
       "<tr>\n",
       "  <th>day[T.7]</th>             <td> -187.9049</td> <td>  224.193</td> <td>   -0.838</td> <td> 0.402</td> <td> -628.108</td> <td>  252.299</td>\n",
       "</tr>\n",
       "<tr>\n",
       "  <th>day[T.8]</th>             <td> -150.6411</td> <td>  223.709</td> <td>   -0.673</td> <td> 0.501</td> <td> -589.896</td> <td>  288.614</td>\n",
       "</tr>\n",
       "<tr>\n",
       "  <th>day[T.9]</th>             <td> -108.5017</td> <td>  223.168</td> <td>   -0.486</td> <td> 0.627</td> <td> -546.693</td> <td>  329.690</td>\n",
       "</tr>\n",
       "<tr>\n",
       "  <th>day[T.10]</th>            <td> 1045.1206</td> <td>  223.163</td> <td>    4.683</td> <td> 0.000</td> <td>  606.938</td> <td> 1483.303</td>\n",
       "</tr>\n",
       "<tr>\n",
       "  <th>day[T.11]</th>            <td> 1117.8522</td> <td>  222.726</td> <td>    5.019</td> <td> 0.000</td> <td>  680.528</td> <td> 1555.176</td>\n",
       "</tr>\n",
       "<tr>\n",
       "  <th>day[T.12]</th>            <td> 1054.7443</td> <td>  223.202</td> <td>    4.726</td> <td> 0.000</td> <td>  616.485</td> <td> 1493.003</td>\n",
       "</tr>\n",
       "<tr>\n",
       "  <th>day[T.13]</th>            <td>  304.5042</td> <td>  196.799</td> <td>    1.547</td> <td> 0.122</td> <td>  -81.911</td> <td>  690.919</td>\n",
       "</tr>\n",
       "<tr>\n",
       "  <th>day[T.14]</th>            <td>  268.5003</td> <td>  196.151</td> <td>    1.369</td> <td> 0.172</td> <td> -116.644</td> <td>  653.645</td>\n",
       "</tr>\n",
       "<tr>\n",
       "  <th>day[T.15]</th>            <td>  442.4931</td> <td>  196.707</td> <td>    2.250</td> <td> 0.025</td> <td>   56.258</td> <td>  828.728</td>\n",
       "</tr>\n",
       "<tr>\n",
       "  <th>day[T.16]</th>            <td>  495.4151</td> <td>  196.838</td> <td>    2.517</td> <td> 0.012</td> <td>  108.922</td> <td>  881.908</td>\n",
       "</tr>\n",
       "<tr>\n",
       "  <th>day[T.17]</th>            <td>  498.9497</td> <td>  197.102</td> <td>    2.531</td> <td> 0.012</td> <td>  111.939</td> <td>  885.960</td>\n",
       "</tr>\n",
       "<tr>\n",
       "  <th>day[T.18]</th>            <td>  165.2025</td> <td>  196.388</td> <td>    0.841</td> <td> 0.401</td> <td> -220.406</td> <td>  550.811</td>\n",
       "</tr>\n",
       "<tr>\n",
       "  <th>day[T.19]</th>            <td>  356.8517</td> <td>  195.858</td> <td>    1.822</td> <td> 0.069</td> <td>  -27.717</td> <td>  741.420</td>\n",
       "</tr>\n",
       "<tr>\n",
       "  <th>day[T.20]</th>            <td>  399.0020</td> <td>  196.173</td> <td>    2.034</td> <td> 0.042</td> <td>   13.816</td> <td>  784.188</td>\n",
       "</tr>\n",
       "<tr>\n",
       "  <th>day[T.21]</th>            <td>  301.0728</td> <td>  197.044</td> <td>    1.528</td> <td> 0.127</td> <td>  -85.825</td> <td>  687.970</td>\n",
       "</tr>\n",
       "<tr>\n",
       "  <th>day[T.22]</th>            <td>  114.2977</td> <td>  196.193</td> <td>    0.583</td> <td> 0.560</td> <td> -270.927</td> <td>  499.523</td>\n",
       "</tr>\n",
       "<tr>\n",
       "  <th>day[T.23]</th>            <td>   41.8280</td> <td>  196.502</td> <td>    0.213</td> <td> 0.831</td> <td> -344.005</td> <td>  427.661</td>\n",
       "</tr>\n",
       "<tr>\n",
       "  <th>day[T.24]</th>            <td>  115.2730</td> <td>  195.883</td> <td>    0.588</td> <td> 0.556</td> <td> -269.345</td> <td>  499.891</td>\n",
       "</tr>\n",
       "<tr>\n",
       "  <th>day[T.25]</th>            <td>  151.7682</td> <td>  195.902</td> <td>    0.775</td> <td> 0.439</td> <td> -232.887</td> <td>  536.423</td>\n",
       "</tr>\n",
       "<tr>\n",
       "  <th>day[T.26]</th>            <td>  294.3107</td> <td>  196.680</td> <td>    1.496</td> <td> 0.135</td> <td>  -91.871</td> <td>  680.492</td>\n",
       "</tr>\n",
       "<tr>\n",
       "  <th>day[T.27]</th>            <td>   99.2650</td> <td>  196.652</td> <td>    0.505</td> <td> 0.614</td> <td> -286.861</td> <td>  485.391</td>\n",
       "</tr>\n",
       "<tr>\n",
       "  <th>day[T.28]</th>            <td>  135.4307</td> <td>  196.475</td> <td>    0.689</td> <td> 0.491</td> <td> -250.349</td> <td>  521.210</td>\n",
       "</tr>\n",
       "<tr>\n",
       "  <th>day[T.29]</th>            <td>   38.7465</td> <td>  201.997</td> <td>    0.192</td> <td> 0.848</td> <td> -357.876</td> <td>  435.369</td>\n",
       "</tr>\n",
       "<tr>\n",
       "  <th>day[T.30]</th>            <td>  248.8699</td> <td>  200.989</td> <td>    1.238</td> <td> 0.216</td> <td> -145.774</td> <td>  643.513</td>\n",
       "</tr>\n",
       "<tr>\n",
       "  <th>day[T.31]</th>            <td>  331.6607</td> <td>  223.763</td> <td>    1.482</td> <td> 0.139</td> <td> -107.699</td> <td>  771.021</td>\n",
       "</tr>\n",
       "<tr>\n",
       "  <th>holiday[T.1]</th>         <td> -276.8994</td> <td>  129.470</td> <td>   -2.139</td> <td> 0.033</td> <td> -531.114</td> <td>  -22.684</td>\n",
       "</tr>\n",
       "<tr>\n",
       "  <th>weekday[T.1]</th>         <td>   45.8736</td> <td>   57.983</td> <td>    0.791</td> <td> 0.429</td> <td>  -67.977</td> <td>  159.724</td>\n",
       "</tr>\n",
       "<tr>\n",
       "  <th>weekday[T.2]</th>         <td>  216.7074</td> <td>   63.253</td> <td>    3.426</td> <td> 0.001</td> <td>   92.509</td> <td>  340.906</td>\n",
       "</tr>\n",
       "<tr>\n",
       "  <th>weekday[T.3]</th>         <td>  301.4409</td> <td>   63.557</td> <td>    4.743</td> <td> 0.000</td> <td>  176.646</td> <td>  426.236</td>\n",
       "</tr>\n",
       "<tr>\n",
       "  <th>weekday[T.4]</th>         <td>  282.5927</td> <td>   62.667</td> <td>    4.509</td> <td> 0.000</td> <td>  159.545</td> <td>  405.640</td>\n",
       "</tr>\n",
       "<tr>\n",
       "  <th>weekday[T.5]</th>         <td>   77.3306</td> <td>   61.630</td> <td>    1.255</td> <td> 0.210</td> <td>  -43.680</td> <td>  198.342</td>\n",
       "</tr>\n",
       "<tr>\n",
       "  <th>weekday[T.6]</th>         <td>  208.7957</td> <td>   85.930</td> <td>    2.430</td> <td> 0.015</td> <td>   40.072</td> <td>  377.519</td>\n",
       "</tr>\n",
       "<tr>\n",
       "  <th>workingday[T.1]</th>      <td> 1200.8447</td> <td>   66.914</td> <td>   17.946</td> <td> 0.000</td> <td> 1069.459</td> <td> 1332.230</td>\n",
       "</tr>\n",
       "<tr>\n",
       "  <th>weathersit[T.2]</th>      <td> -273.6660</td> <td>   64.578</td> <td>   -4.238</td> <td> 0.000</td> <td> -400.466</td> <td> -146.866</td>\n",
       "</tr>\n",
       "<tr>\n",
       "  <th>weathersit[T.3]</th>      <td>-1473.7196</td> <td>  166.368</td> <td>   -8.858</td> <td> 0.000</td> <td>-1800.384</td> <td>-1147.055</td>\n",
       "</tr>\n",
       "<tr>\n",
       "  <th>casual</th>               <td>    1.3910</td> <td>    0.066</td> <td>   21.143</td> <td> 0.000</td> <td>    1.262</td> <td>    1.520</td>\n",
       "</tr>\n",
       "<tr>\n",
       "  <th>temp</th>                 <td>   56.1613</td> <td>    8.724</td> <td>    6.438</td> <td> 0.000</td> <td>   39.032</td> <td>   73.291</td>\n",
       "</tr>\n",
       "<tr>\n",
       "  <th>hum</th>                  <td>   -8.3373</td> <td>    2.516</td> <td>   -3.314</td> <td> 0.001</td> <td>  -13.277</td> <td>   -3.397</td>\n",
       "</tr>\n",
       "<tr>\n",
       "  <th>windspeed</th>            <td>  -21.8345</td> <td>    5.396</td> <td>   -4.046</td> <td> 0.000</td> <td>  -32.430</td> <td>  -11.239</td>\n",
       "</tr>\n",
       "</table>\n",
       "<table class=\"simpletable\">\n",
       "<tr>\n",
       "  <th>Omnibus:</th>       <td>134.026</td> <th>  Durbin-Watson:     </th> <td>   0.966</td>\n",
       "</tr>\n",
       "<tr>\n",
       "  <th>Prob(Omnibus):</th> <td> 0.000</td>  <th>  Jarque-Bera (JB):  </th> <td> 325.626</td>\n",
       "</tr>\n",
       "<tr>\n",
       "  <th>Skew:</th>          <td>-0.965</td>  <th>  Prob(JB):          </th> <td>1.96e-71</td>\n",
       "</tr>\n",
       "<tr>\n",
       "  <th>Kurtosis:</th>      <td> 5.642</td>  <th>  Cond. No.          </th> <td>2.72e+18</td>\n",
       "</tr>\n",
       "</table><br/><br/>Notes:<br/>[1] Standard Errors assume that the covariance matrix of the errors is correctly specified.<br/>[2] The smallest eigenvalue is 1.18e-28. This might indicate that there are<br/>strong multicollinearity problems or that the design matrix is singular."
      ],
      "text/plain": [
       "<class 'statsmodels.iolib.summary.Summary'>\n",
       "\"\"\"\n",
       "                            OLS Regression Results                            \n",
       "==============================================================================\n",
       "Dep. Variable:                    cnt   R-squared:                       0.908\n",
       "Model:                            OLS   Adj. R-squared:                  0.900\n",
       "Method:                 Least Squares   F-statistic:                     113.7\n",
       "Date:                Tue, 14 Jun 2022   Prob (F-statistic):          3.36e-307\n",
       "Time:                        20:36:36   Log-Likelihood:                -5690.9\n",
       "No. Observations:                 730   AIC:                         1.150e+04\n",
       "Df Residuals:                     671   BIC:                         1.177e+04\n",
       "Df Model:                          58                                         \n",
       "Covariance Type:            nonrobust                                         \n",
       "========================================================================================\n",
       "                           coef    std err          t      P>|t|      [0.025      0.975]\n",
       "----------------------------------------------------------------------------------------\n",
       "Intercept              356.6242    237.055      1.504      0.133    -108.835     822.084\n",
       "season_encoding[T.2]  -112.2496    132.729     -0.846      0.398    -372.864     148.365\n",
       "season_encoding[T.3]   170.1781    135.956      1.252      0.211     -96.772     437.128\n",
       "season_encoding[T.4]  -863.7501    134.176     -6.437      0.000   -1127.206    -600.294\n",
       "yr[T.1]               1618.6137     50.344     32.151      0.000    1519.764    1717.464\n",
       "mnth[T.2]              167.1802    115.594      1.446      0.149     -59.789     394.150\n",
       "mnth[T.3]              357.7042    124.355      2.876      0.004     113.532     601.877\n",
       "mnth[T.4]              725.6083    162.872      4.455      0.000     405.808    1045.409\n",
       "mnth[T.5]              965.1883    183.955      5.247      0.000     603.991    1326.385\n",
       "mnth[T.6]              984.5038    206.093      4.777      0.000     579.838    1389.169\n",
       "mnth[T.7]              475.4431    238.019      1.998      0.046       8.091     942.795\n",
       "mnth[T.8]              763.8200    224.378      3.404      0.001     323.253    1204.387\n",
       "mnth[T.9]             1328.8584    201.801      6.585      0.000     932.620    1725.097\n",
       "mnth[T.10]            2000.1314    171.104     11.690      0.000    1664.168    2336.095\n",
       "mnth[T.11]            1695.6418    150.259     11.285      0.000    1400.608    1990.676\n",
       "mnth[T.12]            1394.2986    144.184      9.670      0.000    1111.193    1677.405\n",
       "day[T.2]                74.7387    177.810      0.420      0.674    -274.393     423.870\n",
       "day[T.3]                93.2341    178.114      0.523      0.601    -256.495     442.963\n",
       "day[T.4]               199.8793    223.082      0.896      0.371    -238.143     637.902\n",
       "day[T.5]               230.2166    222.135      1.036      0.300    -205.947     666.380\n",
       "day[T.6]               264.3795    222.928      1.186      0.236    -173.341     702.100\n",
       "day[T.7]              -187.9049    224.193     -0.838      0.402    -628.108     252.299\n",
       "day[T.8]              -150.6411    223.709     -0.673      0.501    -589.896     288.614\n",
       "day[T.9]              -108.5017    223.168     -0.486      0.627    -546.693     329.690\n",
       "day[T.10]             1045.1206    223.163      4.683      0.000     606.938    1483.303\n",
       "day[T.11]             1117.8522    222.726      5.019      0.000     680.528    1555.176\n",
       "day[T.12]             1054.7443    223.202      4.726      0.000     616.485    1493.003\n",
       "day[T.13]              304.5042    196.799      1.547      0.122     -81.911     690.919\n",
       "day[T.14]              268.5003    196.151      1.369      0.172    -116.644     653.645\n",
       "day[T.15]              442.4931    196.707      2.250      0.025      56.258     828.728\n",
       "day[T.16]              495.4151    196.838      2.517      0.012     108.922     881.908\n",
       "day[T.17]              498.9497    197.102      2.531      0.012     111.939     885.960\n",
       "day[T.18]              165.2025    196.388      0.841      0.401    -220.406     550.811\n",
       "day[T.19]              356.8517    195.858      1.822      0.069     -27.717     741.420\n",
       "day[T.20]              399.0020    196.173      2.034      0.042      13.816     784.188\n",
       "day[T.21]              301.0728    197.044      1.528      0.127     -85.825     687.970\n",
       "day[T.22]              114.2977    196.193      0.583      0.560    -270.927     499.523\n",
       "day[T.23]               41.8280    196.502      0.213      0.831    -344.005     427.661\n",
       "day[T.24]              115.2730    195.883      0.588      0.556    -269.345     499.891\n",
       "day[T.25]              151.7682    195.902      0.775      0.439    -232.887     536.423\n",
       "day[T.26]              294.3107    196.680      1.496      0.135     -91.871     680.492\n",
       "day[T.27]               99.2650    196.652      0.505      0.614    -286.861     485.391\n",
       "day[T.28]              135.4307    196.475      0.689      0.491    -250.349     521.210\n",
       "day[T.29]               38.7465    201.997      0.192      0.848    -357.876     435.369\n",
       "day[T.30]              248.8699    200.989      1.238      0.216    -145.774     643.513\n",
       "day[T.31]              331.6607    223.763      1.482      0.139    -107.699     771.021\n",
       "holiday[T.1]          -276.8994    129.470     -2.139      0.033    -531.114     -22.684\n",
       "weekday[T.1]            45.8736     57.983      0.791      0.429     -67.977     159.724\n",
       "weekday[T.2]           216.7074     63.253      3.426      0.001      92.509     340.906\n",
       "weekday[T.3]           301.4409     63.557      4.743      0.000     176.646     426.236\n",
       "weekday[T.4]           282.5927     62.667      4.509      0.000     159.545     405.640\n",
       "weekday[T.5]            77.3306     61.630      1.255      0.210     -43.680     198.342\n",
       "weekday[T.6]           208.7957     85.930      2.430      0.015      40.072     377.519\n",
       "workingday[T.1]       1200.8447     66.914     17.946      0.000    1069.459    1332.230\n",
       "weathersit[T.2]       -273.6660     64.578     -4.238      0.000    -400.466    -146.866\n",
       "weathersit[T.3]      -1473.7196    166.368     -8.858      0.000   -1800.384   -1147.055\n",
       "casual                   1.3910      0.066     21.143      0.000       1.262       1.520\n",
       "temp                    56.1613      8.724      6.438      0.000      39.032      73.291\n",
       "hum                     -8.3373      2.516     -3.314      0.001     -13.277      -3.397\n",
       "windspeed              -21.8345      5.396     -4.046      0.000     -32.430     -11.239\n",
       "==============================================================================\n",
       "Omnibus:                      134.026   Durbin-Watson:                   0.966\n",
       "Prob(Omnibus):                  0.000   Jarque-Bera (JB):              325.626\n",
       "Skew:                          -0.965   Prob(JB):                     1.96e-71\n",
       "Kurtosis:                       5.642   Cond. No.                     2.72e+18\n",
       "==============================================================================\n",
       "\n",
       "Notes:\n",
       "[1] Standard Errors assume that the covariance matrix of the errors is correctly specified.\n",
       "[2] The smallest eigenvalue is 1.18e-28. This might indicate that there are\n",
       "strong multicollinearity problems or that the design matrix is singular.\n",
       "\"\"\""
      ]
     },
     "execution_count": 1015,
     "metadata": {},
     "output_type": "execute_result"
    }
   ],
   "source": [
    "lm.summary()"
   ]
  },
  {
   "cell_type": "markdown",
   "metadata": {},
   "source": [
    "# VIF - Para comprobar si hay o no multicolinealidad (Correlación alta entre dos v. predictoras), podemos averiguar si eliminar o no ésta variable."
   ]
  },
  {
   "cell_type": "markdown",
   "metadata": {},
   "source": [
    "Vif = 1 No existe corr entre una variable predictora y el resto\n",
    "\n",
    "Vif = 1-5 Correlación moderada\n",
    "\n",
    "Vif= +5 Correlación severa (Puede que se deba eliminar esa variable)"
   ]
  },
  {
   "cell_type": "code",
   "execution_count": 1016,
   "metadata": {},
   "outputs": [],
   "source": [
    "def get_VIF(dataframe, target):\n",
    "        X = add_constant(dataframe.loc[:, dataframe.columns != target])\n",
    "        seriesObject = pd.Series([variance_inflation_factor(X.values,i) for i in range(X.shape[1])] , index=X.columns,).sort_values(ascending= False)\n",
    "        return seriesObject"
   ]
  },
  {
   "cell_type": "code",
   "execution_count": 1017,
   "metadata": {},
   "outputs": [
    {
     "data": {
      "text/plain": [
       "const              59.127926\n",
       "registered          5.257165\n",
       "casual              3.499429\n",
       "workingday          3.048632\n",
       "yr                  2.504376\n",
       "temp                2.485197\n",
       "hum                 2.024499\n",
       "weathersit          1.998636\n",
       "mnth                1.976746\n",
       "season_encoding     1.609012\n",
       "windspeed           1.177147\n",
       "holiday             1.097696\n",
       "day                 1.053979\n",
       "weekday             1.041385\n",
       "dtype: float64"
      ]
     },
     "execution_count": 1017,
     "metadata": {},
     "output_type": "execute_result"
    }
   ],
   "source": [
    "get_VIF(df,'cnt')"
   ]
  },
  {
   "cell_type": "code",
   "execution_count": 1018,
   "metadata": {},
   "outputs": [
    {
     "data": {
      "text/plain": [
       "const              54.166646\n",
       "hum                 2.000805\n",
       "weathersit          1.857104\n",
       "mnth                1.713224\n",
       "season_encoding     1.601565\n",
       "temp                1.137576\n",
       "windspeed           1.134926\n",
       "holiday             1.081125\n",
       "workingday          1.076346\n",
       "day                 1.048997\n",
       "yr                  1.027226\n",
       "weekday             1.019483\n",
       "dtype: float64"
      ]
     },
     "execution_count": 1018,
     "metadata": {},
     "output_type": "execute_result"
    }
   ],
   "source": [
    "get_VIF(df.drop(columns=['registered','casual']),'cnt')"
   ]
  },
  {
   "cell_type": "markdown",
   "metadata": {},
   "source": [
    "# Regresion Lineal"
   ]
  },
  {
   "cell_type": "code",
   "execution_count": 1019,
   "metadata": {},
   "outputs": [],
   "source": [
    "df_standardized = df.copy()"
   ]
  },
  {
   "cell_type": "code",
   "execution_count": 1020,
   "metadata": {},
   "outputs": [],
   "source": [
    "numericas2 = df_standardized.select_dtypes(include = np.number)"
   ]
  },
  {
   "cell_type": "code",
   "execution_count": 1021,
   "metadata": {},
   "outputs": [
    {
     "data": {
      "text/html": [
       "<div>\n",
       "<style scoped>\n",
       "    .dataframe tbody tr th:only-of-type {\n",
       "        vertical-align: middle;\n",
       "    }\n",
       "\n",
       "    .dataframe tbody tr th {\n",
       "        vertical-align: top;\n",
       "    }\n",
       "\n",
       "    .dataframe thead th {\n",
       "        text-align: right;\n",
       "    }\n",
       "</style>\n",
       "<table border=\"1\" class=\"dataframe\">\n",
       "  <thead>\n",
       "    <tr style=\"text-align: right;\">\n",
       "      <th></th>\n",
       "      <th>casual</th>\n",
       "      <th>registered</th>\n",
       "      <th>cnt</th>\n",
       "      <th>season_encoding</th>\n",
       "      <th>yr</th>\n",
       "      <th>mnth</th>\n",
       "      <th>day</th>\n",
       "      <th>holiday</th>\n",
       "      <th>weekday</th>\n",
       "      <th>workingday</th>\n",
       "      <th>weathersit</th>\n",
       "      <th>temp</th>\n",
       "      <th>hum</th>\n",
       "      <th>windspeed</th>\n",
       "    </tr>\n",
       "  </thead>\n",
       "  <tbody>\n",
       "    <tr>\n",
       "      <th>0</th>\n",
       "      <td>0.096538</td>\n",
       "      <td>0.091539</td>\n",
       "      <td>0.110792</td>\n",
       "      <td>1</td>\n",
       "      <td>0</td>\n",
       "      <td>1</td>\n",
       "      <td>1</td>\n",
       "      <td>0</td>\n",
       "      <td>6</td>\n",
       "      <td>0</td>\n",
       "      <td>2</td>\n",
       "      <td>0.355623</td>\n",
       "      <td>0.768802</td>\n",
       "      <td>0.388102</td>\n",
       "    </tr>\n",
       "    <tr>\n",
       "      <th>1</th>\n",
       "      <td>0.037852</td>\n",
       "      <td>0.093849</td>\n",
       "      <td>0.089623</td>\n",
       "      <td>1</td>\n",
       "      <td>0</td>\n",
       "      <td>1</td>\n",
       "      <td>2</td>\n",
       "      <td>0</td>\n",
       "      <td>0</td>\n",
       "      <td>0</td>\n",
       "      <td>2</td>\n",
       "      <td>0.379939</td>\n",
       "      <td>0.615599</td>\n",
       "      <td>0.635752</td>\n",
       "    </tr>\n",
       "    <tr>\n",
       "      <th>2</th>\n",
       "      <td>0.034624</td>\n",
       "      <td>0.174560</td>\n",
       "      <td>0.152669</td>\n",
       "      <td>1</td>\n",
       "      <td>0</td>\n",
       "      <td>1</td>\n",
       "      <td>3</td>\n",
       "      <td>0</td>\n",
       "      <td>1</td>\n",
       "      <td>1</td>\n",
       "      <td>1</td>\n",
       "      <td>0.173252</td>\n",
       "      <td>0.254875</td>\n",
       "      <td>0.635105</td>\n",
       "    </tr>\n",
       "    <tr>\n",
       "      <th>3</th>\n",
       "      <td>0.031103</td>\n",
       "      <td>0.207046</td>\n",
       "      <td>0.177174</td>\n",
       "      <td>2</td>\n",
       "      <td>0</td>\n",
       "      <td>1</td>\n",
       "      <td>4</td>\n",
       "      <td>0</td>\n",
       "      <td>2</td>\n",
       "      <td>1</td>\n",
       "      <td>1</td>\n",
       "      <td>0.176292</td>\n",
       "      <td>0.467967</td>\n",
       "      <td>0.387681</td>\n",
       "    </tr>\n",
       "    <tr>\n",
       "      <th>4</th>\n",
       "      <td>0.023474</td>\n",
       "      <td>0.216286</td>\n",
       "      <td>0.181546</td>\n",
       "      <td>2</td>\n",
       "      <td>0</td>\n",
       "      <td>1</td>\n",
       "      <td>5</td>\n",
       "      <td>0</td>\n",
       "      <td>3</td>\n",
       "      <td>1</td>\n",
       "      <td>1</td>\n",
       "      <td>0.209726</td>\n",
       "      <td>0.254875</td>\n",
       "      <td>0.462471</td>\n",
       "    </tr>\n",
       "  </tbody>\n",
       "</table>\n",
       "</div>"
      ],
      "text/plain": [
       "     casual  registered       cnt  ...      temp       hum windspeed\n",
       "0  0.096538    0.091539  0.110792  ...  0.355623  0.768802  0.388102\n",
       "1  0.037852    0.093849  0.089623  ...  0.379939  0.615599  0.635752\n",
       "2  0.034624    0.174560  0.152669  ...  0.173252  0.254875  0.635105\n",
       "3  0.031103    0.207046  0.177174  ...  0.176292  0.467967  0.387681\n",
       "4  0.023474    0.216286  0.181546  ...  0.209726  0.254875  0.462471\n",
       "\n",
       "[5 rows x 14 columns]"
      ]
     },
     "execution_count": 1021,
     "metadata": {},
     "output_type": "execute_result"
    }
   ],
   "source": [
    "st = MinMaxScaler()\n",
    "x_tranformadas = pd.DataFrame(st.fit_transform(numericas2))\n",
    "x_tranformadas.columns = numericas2.columns\n",
    "df[x_tranformadas.columns] = x_tranformadas\n",
    "df.head()"
   ]
  },
  {
   "cell_type": "code",
   "execution_count": 1022,
   "metadata": {},
   "outputs": [],
   "source": [
    "x2 = df_standardized.drop(['cnt','registered','casual'] ,axis =1)\n",
    "y2 = df_standardized['cnt']"
   ]
  },
  {
   "cell_type": "code",
   "execution_count": 1023,
   "metadata": {},
   "outputs": [],
   "source": [
    "X_train, X_test, y_train, y_test = train_test_split(x2, y2, train_size   = 0.8, random_state = 42)\n",
    "lr = LinearRegression()\n",
    "lr.fit(X_train, y_train)\n",
    "y_pred_train = lr.predict(X_train)\n",
    "y_pred_test = lr.predict(X_test)"
   ]
  },
  {
   "cell_type": "code",
   "execution_count": 1024,
   "metadata": {},
   "outputs": [],
   "source": [
    "def metricas(y_test, y_train, y_test_pred, y_train_pred):\n",
    "    \n",
    "    resultados = {'MAE': [metrics.mean_absolute_error(y_test, y_test_pred), metrics.mean_absolute_error(y_train, y_train_pred)],\n",
    "                'MSE': [metrics.mean_squared_error(y_test, y_test_pred), metrics.mean_squared_error(y_train, y_train_pred)],\n",
    "                'RMSE': [np.sqrt(metrics.mean_squared_error(y_test, y_test_pred)), np.sqrt(metrics.mean_squared_error(y_train, y_train_pred))],\n",
    "                'R2':  [metrics.r2_score(y_test, y_test_pred), metrics.r2_score(y_train, y_train_pred)],\n",
    "                 \"set\": [\"test\", \"train\"]}\n",
    "    df = pd.DataFrame(resultados)\n",
    "    return df"
   ]
  },
  {
   "cell_type": "code",
   "execution_count": 1025,
   "metadata": {},
   "outputs": [
    {
     "data": {
      "text/html": [
       "<div>\n",
       "<style scoped>\n",
       "    .dataframe tbody tr th:only-of-type {\n",
       "        vertical-align: middle;\n",
       "    }\n",
       "\n",
       "    .dataframe tbody tr th {\n",
       "        vertical-align: top;\n",
       "    }\n",
       "\n",
       "    .dataframe thead th {\n",
       "        text-align: right;\n",
       "    }\n",
       "</style>\n",
       "<table border=\"1\" class=\"dataframe\">\n",
       "  <thead>\n",
       "    <tr style=\"text-align: right;\">\n",
       "      <th></th>\n",
       "      <th>MAE</th>\n",
       "      <th>MSE</th>\n",
       "      <th>RMSE</th>\n",
       "      <th>R2</th>\n",
       "      <th>set</th>\n",
       "    </tr>\n",
       "  </thead>\n",
       "  <tbody>\n",
       "    <tr>\n",
       "      <th>0</th>\n",
       "      <td>612.080112</td>\n",
       "      <td>651204.915388</td>\n",
       "      <td>806.972686</td>\n",
       "      <td>0.809747</td>\n",
       "      <td>test</td>\n",
       "    </tr>\n",
       "    <tr>\n",
       "      <th>1</th>\n",
       "      <td>714.125564</td>\n",
       "      <td>897542.027626</td>\n",
       "      <td>947.386947</td>\n",
       "      <td>0.764776</td>\n",
       "      <td>train</td>\n",
       "    </tr>\n",
       "  </tbody>\n",
       "</table>\n",
       "</div>"
      ],
      "text/plain": [
       "          MAE            MSE        RMSE        R2    set\n",
       "0  612.080112  651204.915388  806.972686  0.809747   test\n",
       "1  714.125564  897542.027626  947.386947  0.764776  train"
      ]
     },
     "execution_count": 1025,
     "metadata": {},
     "output_type": "execute_result"
    }
   ],
   "source": [
    "results = metricas(y_test, y_train, y_pred_test, y_pred_train)\n",
    "results.style.background_gradient(cmap='coolwarm')\n",
    "results"
   ]
  },
  {
   "cell_type": "code",
   "execution_count": 1026,
   "metadata": {},
   "outputs": [
    {
     "name": "stdout",
     "output_type": "stream",
     "text": [
      "Este es el % de error entre los conjuntos de datos entrenado y test 14.82 %\n",
      "El 76.48 % de la variación de nuestros datos están explicados con este modelo, según las variables que hemos tenido en cuenta\n",
      "No es capaz de explicar el 24.0 %\n"
     ]
    }
   ],
   "source": [
    "print('Este es el % de error entre los conjuntos de datos entrenado y test', (100 - results['RMSE'][0]* 100 / results['RMSE'][1]).round(2),'%')\n",
    "\n",
    "print('El', (100 * results['R2'][1]).round(2), '% de la variación de nuestros datos están explicados con este modelo, según las variables que hemos tenido en cuenta')\n",
    "\n",
    "print('No es capaz de explicar el', (1 - results['R2'][1]).round(2)*100,'%')"
   ]
  },
  {
   "cell_type": "markdown",
   "metadata": {},
   "source": [
    "    El error cuadrático medio (RMSE) mide la cantidad de error que hay entre dos conjuntos de datos.\n",
    "\n",
    "    El R-cuadrado es una medida estadística de qué tan cerca están los datos de la línea de regresión ajustada. \n",
    "    El R-cuadrado siempre está entre 0 y 100%:\n",
    "    0% indica que el modelo no explica ninguna porción de la variabilidad de los datos de respuesta en torno a su media.\n",
    "    100% indica que el modelo explica toda la variabilidad de los datos de respuesta en torno a su media."
   ]
  },
  {
   "cell_type": "markdown",
   "metadata": {
    "toc": true
   },
   "source": []
  },
  {
   "cell_type": "markdown",
   "metadata": {},
   "source": [
    "----"
   ]
  },
  {
   "cell_type": "markdown",
   "metadata": {},
   "source": [
    "    Residuos son valores reales frente a los predichos: valor real menos valor predicho"
   ]
  },
  {
   "cell_type": "code",
   "execution_count": 1027,
   "metadata": {},
   "outputs": [
    {
     "data": {
      "image/png": "[encoded data removed]",
      "text/plain": [
       "<Figure size 576x288 with 1 Axes>"
      ]
     },
     "metadata": {
      "needs_background": "light"
     },
     "output_type": "display_data"
    },
    {
     "data": {
      "image/png": "[encoded data removed]",
      "text/plain": [
       "<Figure size 576x288 with 1 Axes>"
      ]
     },
     "metadata": {
      "needs_background": "light"
     },
     "output_type": "display_data"
    },
    {
     "data": {
      "image/png": "[encoded data removed]",
      "text/plain": [
       "<Figure size 576x288 with 1 Axes>"
      ]
     },
     "metadata": {
      "needs_background": "light"
     },
     "output_type": "display_data"
    },
    {
     "data": {
      "image/png": "[encoded data removed]",
      "text/plain": [
       "<Figure size 432x288 with 1 Axes>"
      ]
     },
     "metadata": {
      "needs_background": "light"
     },
     "output_type": "display_data"
    },
    {
     "data": {
      "image/png": "[encoded data removed]",
      "text/plain": [
       "<Figure size 432x288 with 1 Axes>"
      ]
     },
     "metadata": {
      "needs_background": "light"
     },
     "output_type": "display_data"
    }
   ],
   "source": [
    "# Aquí comienza la resolucion del ejercicio 1\n",
    "residuals = (y_test - y_pred_test)\n",
    "\n",
    "# 1. Linealidad\n",
    "\n",
    "plt.figure(figsize =(8,4))\n",
    "plt.scatter(x=y_test , y=y_test)\n",
    "plt.show()\n",
    "\n",
    "# 2. Independencia\n",
    "\n",
    "fig,ax = plt.subplots(figsize= (8,4))\n",
    "plt.scatter(x=y_test , y=residuals)\n",
    "plt.axline((float(min(y_pred_test)),0),(float(max(y_pred_test)),0),color=\"black\",linestyle= '--') \n",
    "plt.title('Gráfica de dispersion de dos conjuntos de datos')\n",
    "ax.set_xlabel('Longitud del sépalo conjunto test')\n",
    "ax.set_ylabel('Residuos')\n",
    "plt.show()\n",
    "\n",
    "# 3. Homocedasticidad\n",
    "\n",
    "fig,ax = plt.subplots(figsize= (8,4))\n",
    "plt.scatter(x=y_pred_test , y=residuals)\n",
    "plt.axline((float(min(y_pred_test)),0),(float(max(y_pred_test)),0),color=\"black\",linestyle= '--') \n",
    "plt.title('Gráfica de dispersion de dos conjuntos de datos')\n",
    "ax.set_xlabel('Longitud del sépalo conjunto test predicho')\n",
    "ax.set_ylabel('Residuos')\n",
    "plt.show()\n",
    "\n",
    "# 4. Normalidad\n",
    "# preprocessing.normalize()\n",
    "fig = plt.figure()\n",
    "sns.distplot(residuals,bins = len(residuals))\n",
    "plt.show()\n",
    "sm.qqplot(residuals, line = '45', fit = True)\n",
    "py.show()"
   ]
  },
  {
   "cell_type": "markdown",
   "metadata": {},
   "source": [
    "-----"
   ]
  },
  {
   "cell_type": "code",
   "execution_count": 1028,
   "metadata": {},
   "outputs": [],
   "source": [
    "residuals_test = (y_test - y_pred_test)"
   ]
  },
  {
   "cell_type": "code",
   "execution_count": 1029,
   "metadata": {},
   "outputs": [],
   "source": [
    "residuals_train = (y_train - y_pred_train)"
   ]
  },
  {
   "cell_type": "code",
   "execution_count": 1030,
   "metadata": {},
   "outputs": [],
   "source": [
    "# fig, axes = plt.subplots(nrows = 1, ncols = 2, figsize = (20, 15))\n",
    "\n",
    "# axes = axes.flat\n",
    "\n",
    "# ---------\n",
    "# sns.regplot(\n",
    "#     x =y_pred_train,\n",
    "#     y = y_train,  \n",
    "#     color = \"black\", \n",
    "#     marker = \".\", \n",
    "#     scatter_kws = {\"alpha\": 0.4}, \n",
    "#     line_kws = {\"color\": \"red\", \"alpha\": 0.7 }, \n",
    "#     ax = axes[0])\n",
    "    \n",
    "# axes[0,0].set_title(\"y_pred_train vs y_train\", fontsize = 15, fontweight = \"bold\")\n",
    "# axes[0,0].tick_params(labelsize = 20)\n",
    "# axes[0,0].set_xlabel(\"y_pred_train\",  fontsize = 15, fontweight = \"bold\")\n",
    "# axes[0,0].set_ylabel(\"y_train\", fontsize = 15, fontweight = \"bold\")\n",
    "\n",
    "# ---------\n",
    "# sns.countplot(\n",
    "#     x = residuals_train,\n",
    "    \n",
    "#     color = \"black\", \n",
    "#     marker = \".\", \n",
    "#     scatter_kws = {\"alpha\": 0.4}, \n",
    "#     line_kws = {\"color\": \"red\", \"alpha\": 0.7 }, \n",
    "#     ax = axes[0])\n",
    "\n",
    "# axes[0,1].set_title(\"y_pred_test vs y_test\", fontsize = 15, fontweight = \"bold\")\n",
    "# axes[0,1].tick_params(labelsize = 20)\n",
    "# axes[0,1].set_xlabel(\"y_pred_test\",  fontsize = 15, fontweight = \"bold\")\n",
    "# axes[0,1].set_ylabel(\"y_test\", fontsize = 15, fontweight = \"bold\")"
   ]
  },
  {
   "cell_type": "markdown",
   "metadata": {},
   "source": [
    " ### Leyenda\n",
    "\n",
    " casual: nº de reservas\n",
    "\n",
    " season_encoing : 1- Winter   2- Spring   3- Summer    4-  Auttumn\n",
    "\n",
    " yr : random\n",
    "\n",
    " month: 1- Enero   2- Febrero  3- Marzo   4- Abril  5- Mayo   6 -Junio   7 - Julio  8- Agosto  9- Septiembre  10- OCtubre  11- Noviembre  12- Diciembre\n",
    "\n",
    " day: del 1 al 31\n",
    "\n",
    " holiday: 0- NO FESTIVO     1- FESTIVO\n",
    "\n",
    " weekday: 0 Domingo - 6 Sábado\n",
    "\n",
    " workingday: 1-laborable  0-fin de semana\n",
    "\n",
    " weathersit: \n",
    " \n",
    " \t- 1: Clear, Few clouds, Partly cloudy, Partly cloudy\n",
    "\n",
    "\t- 2: Mist + Cloudy, Mist + Broken clouds, Mist + Few clouds, Mist\n",
    "\n",
    "\t- 3: Light Snow, Light Rain + Thunderstorm + Scattered clouds, Light Rain + Scattered clouds\n",
    "\t\n",
    "\t- 4: Heavy Rain + Ice Pallets + Thunderstorm + Mist, Snow + Fog\n",
    "\n",
    " temp: grados\n",
    "\n",
    " hum: en % (gramo/metro cúbico)\n",
    " \n",
    " windspeed:km/h"
   ]
  },
  {
   "cell_type": "markdown",
   "metadata": {},
   "source": [
    "    Preguntas generales:"
   ]
  },
  {
   "cell_type": "markdown",
   "metadata": {},
   "source": [
    "    1- Cuantas reservas tendré en las dos próximas semanas, es Junio y en Madrid va hacer mucha calor, una ola de calor."
   ]
  },
  {
   "cell_type": "code",
   "execution_count": 1031,
   "metadata": {},
   "outputs": [],
   "source": [
    "#DF Viernes 17 al Sábado 2 de Julio\n",
    "\n",
    "df_quince_dias= pd.DataFrame({\n",
    "'season_encoding':[3,3,3,3,3,3,3,3,3,3,3,3,3,3,3],\n",
    "'yr':[1,1,1,1,1,1,1,1,1,1,1,1,1,1,1],\n",
    "'mnth':[7,7,7,7,7,7,7,7,7,7,7,7,7,8,8],\n",
    "'day':[18,19,20,21,22,23,24,25,26,27,28,29,30,1,2],\n",
    "'holiday':[0,0,0,0,0,0,0,0,0,0,0,0,0,0,0],\n",
    "'weekday':[5,6,0,1,2,3,4,5,6,0,1,2,3,4,5],\n",
    "'workingday':[0,0,1,1,1,1,1,0,0,1,1,1,1,1,0],\n",
    "'weathersit':[1,1,1,1,1,1,1,1,1,1,1,1,1,1,1],\n",
    "'temp':[37,33,30,33,33,31,32,34,37,38,38,39,38,36,33],\n",
    "'hum':[47,53,58,60,63,70,73,75,77,78,79,80,81,82,83],\n",
    "'windspeed':[9,9,9,9,10,10,11,10,10,7,8,8,10,10,12]})\n"
   ]
  },
  {
   "cell_type": "code",
   "execution_count": 1032,
   "metadata": {},
   "outputs": [],
   "source": [
    "df_quince_dias['season_encoding'] = df_quince_dias['season_encoding'].astype('category')  \n",
    "df_quince_dias['yr'] = df_quince_dias['yr'].astype('category')  \n",
    "df_quince_dias['mnth'] = df_quince_dias['mnth'].astype('category')  \n",
    "df_quince_dias['day'] = df_quince_dias['day'].astype('category') \n",
    "df_quince_dias['holiday'] = df_quince_dias['holiday'].astype('category')  \n",
    "df_quince_dias['weekday'] = df_quince_dias['weekday'].astype('category')  \n",
    "df_quince_dias['workingday'] = df_quince_dias['workingday'].astype('category')   \n",
    "df_quince_dias['weathersit'] = df_quince_dias['weathersit'].astype('category')  "
   ]
  },
  {
   "cell_type": "code",
   "execution_count": 1033,
   "metadata": {},
   "outputs": [],
   "source": [
    "numericas_d=df_quince_dias.select_dtypes(include=np.number)"
   ]
  },
  {
   "cell_type": "code",
   "execution_count": 1034,
   "metadata": {},
   "outputs": [
    {
     "data": {
      "text/html": [
       "<div>\n",
       "<style scoped>\n",
       "    .dataframe tbody tr th:only-of-type {\n",
       "        vertical-align: middle;\n",
       "    }\n",
       "\n",
       "    .dataframe tbody tr th {\n",
       "        vertical-align: top;\n",
       "    }\n",
       "\n",
       "    .dataframe thead th {\n",
       "        text-align: right;\n",
       "    }\n",
       "</style>\n",
       "<table border=\"1\" class=\"dataframe\">\n",
       "  <thead>\n",
       "    <tr style=\"text-align: right;\">\n",
       "      <th></th>\n",
       "      <th>season_encoding</th>\n",
       "      <th>yr</th>\n",
       "      <th>mnth</th>\n",
       "      <th>day</th>\n",
       "      <th>holiday</th>\n",
       "      <th>weekday</th>\n",
       "      <th>workingday</th>\n",
       "      <th>weathersit</th>\n",
       "      <th>temp</th>\n",
       "      <th>hum</th>\n",
       "      <th>windspeed</th>\n",
       "    </tr>\n",
       "  </thead>\n",
       "  <tbody>\n",
       "    <tr>\n",
       "      <th>0</th>\n",
       "      <td>3</td>\n",
       "      <td>1</td>\n",
       "      <td>7</td>\n",
       "      <td>18</td>\n",
       "      <td>0</td>\n",
       "      <td>5</td>\n",
       "      <td>0</td>\n",
       "      <td>1</td>\n",
       "      <td>0.777778</td>\n",
       "      <td>0.000000</td>\n",
       "      <td>0.4</td>\n",
       "    </tr>\n",
       "    <tr>\n",
       "      <th>1</th>\n",
       "      <td>3</td>\n",
       "      <td>1</td>\n",
       "      <td>7</td>\n",
       "      <td>19</td>\n",
       "      <td>0</td>\n",
       "      <td>6</td>\n",
       "      <td>0</td>\n",
       "      <td>1</td>\n",
       "      <td>0.333333</td>\n",
       "      <td>0.166667</td>\n",
       "      <td>0.4</td>\n",
       "    </tr>\n",
       "    <tr>\n",
       "      <th>2</th>\n",
       "      <td>3</td>\n",
       "      <td>1</td>\n",
       "      <td>7</td>\n",
       "      <td>20</td>\n",
       "      <td>0</td>\n",
       "      <td>0</td>\n",
       "      <td>1</td>\n",
       "      <td>1</td>\n",
       "      <td>0.000000</td>\n",
       "      <td>0.305556</td>\n",
       "      <td>0.4</td>\n",
       "    </tr>\n",
       "    <tr>\n",
       "      <th>3</th>\n",
       "      <td>3</td>\n",
       "      <td>1</td>\n",
       "      <td>7</td>\n",
       "      <td>21</td>\n",
       "      <td>0</td>\n",
       "      <td>1</td>\n",
       "      <td>1</td>\n",
       "      <td>1</td>\n",
       "      <td>0.333333</td>\n",
       "      <td>0.361111</td>\n",
       "      <td>0.4</td>\n",
       "    </tr>\n",
       "    <tr>\n",
       "      <th>4</th>\n",
       "      <td>3</td>\n",
       "      <td>1</td>\n",
       "      <td>7</td>\n",
       "      <td>22</td>\n",
       "      <td>0</td>\n",
       "      <td>2</td>\n",
       "      <td>1</td>\n",
       "      <td>1</td>\n",
       "      <td>0.333333</td>\n",
       "      <td>0.444444</td>\n",
       "      <td>0.6</td>\n",
       "    </tr>\n",
       "  </tbody>\n",
       "</table>\n",
       "</div>"
      ],
      "text/plain": [
       "  season_encoding yr mnth day  ... weathersit      temp       hum windspeed\n",
       "0               3  1    7  18  ...          1  0.777778  0.000000       0.4\n",
       "1               3  1    7  19  ...          1  0.333333  0.166667       0.4\n",
       "2               3  1    7  20  ...          1  0.000000  0.305556       0.4\n",
       "3               3  1    7  21  ...          1  0.333333  0.361111       0.4\n",
       "4               3  1    7  22  ...          1  0.333333  0.444444       0.6\n",
       "\n",
       "[5 rows x 11 columns]"
      ]
     },
     "execution_count": 1034,
     "metadata": {},
     "output_type": "execute_result"
    }
   ],
   "source": [
    "st = MinMaxScaler()\n",
    "x_tranformadas = pd.DataFrame(st.fit_transform(numericas_d))\n",
    "x_tranformadas.columns = numericas_d.columns\n",
    "df_quince_dias[x_tranformadas.columns] = x_tranformadas\n",
    "df_quince_dias.head(2)"
   ]
  },
  {
   "cell_type": "code",
   "execution_count": 1035,
   "metadata": {},
   "outputs": [
    {
     "name": "stdout",
     "output_type": "stream",
     "text": [
      "El total de alquiler de bicicletas durante esos 15, será de  61374  bicicletas\n",
      "Estos 15 dias del 17 de Junio al 2 de Julio representan 2,99% del alquiler anual \n",
      "La media de alquiler se encuentra en 4.508 en 2019, en estas fechas el numero de reservas es menor a la media diaria (4.091 al día)\n"
     ]
    }
   ],
   "source": [
    "print('El total de alquiler de bicicletas durante esos 15, será de ',lr.predict(df_quince_dias).sum().astype('int64'),' bicicletas')\n",
    "print('Estos 15 dias del 17 de Junio al 2 de Julio representan 2,99% del alquiler anual ')\n",
    "print('La media de alquiler se encuentra en 4.508 en 2019, en estas fechas el numero de reservas es menor a la media diaria (4.091 al día)')"
   ]
  },
  {
   "cell_type": "markdown",
   "metadata": {},
   "source": [
    "    Cuantas reservas una semana en Enero, el cliente quiere ir de vacaciones en esta fecha del 1 al 7"
   ]
  },
  {
   "cell_type": "code",
   "execution_count": 1040,
   "metadata": {},
   "outputs": [],
   "source": [
    "df_enero= pd.DataFrame({\n",
    "'season_encoding':[1,1,1,1,1,1,1],\n",
    "'yr':[1,1,1,1,1,1,1],\n",
    "'mnth':[1,1,1,1,1,1,1],\n",
    "'day':[1,2,3,4,5,6,7],\n",
    "'holiday':[1,0,0,0,0,1,0],\n",
    "'weekday':[0,1,2,3,4,5,6],\n",
    "'workingday':[0,1,1,1,1,1,0],\n",
    "'weathersit':[3,2,3,2,2,2,2],\n",
    "'temp':[13.1,14.9,8,9.8,7.2,7.1,10],\n",
    "'hum':[47,60,49.9,47,53.2,70.2,53.8],\n",
    "'windspeed':[6,10.18,20.43,20.10,9.8,13,11.13]})"
   ]
  },
  {
   "cell_type": "code",
   "execution_count": 1041,
   "metadata": {},
   "outputs": [],
   "source": [
    "df_enero['season_encoding'] = df_enero['season_encoding'].astype('category')  \n",
    "df_enero['yr'] = df_enero['yr'].astype('category')  \n",
    "df_enero['mnth'] = df_enero['mnth'].astype('category')  \n",
    "df_enero['day'] = df_enero['day'].astype('category') \n",
    "df_enero['holiday'] = df_enero['holiday'].astype('category')  \n",
    "df_enero['weekday'] = df_enero['weekday'].astype('category')  \n",
    "df_enero['workingday'] = df_enero['workingday'].astype('category')   \n",
    "df_enero['weathersit'] = df_enero['weathersit'].astype('category')  "
   ]
  },
  {
   "cell_type": "code",
   "execution_count": 1042,
   "metadata": {},
   "outputs": [],
   "source": [
    "numericas_enero =df_enero.select_dtypes(include=np.number)"
   ]
  },
  {
   "cell_type": "code",
   "execution_count": 1043,
   "metadata": {},
   "outputs": [
    {
     "data": {
      "text/html": [
       "<div>\n",
       "<style scoped>\n",
       "    .dataframe tbody tr th:only-of-type {\n",
       "        vertical-align: middle;\n",
       "    }\n",
       "\n",
       "    .dataframe tbody tr th {\n",
       "        vertical-align: top;\n",
       "    }\n",
       "\n",
       "    .dataframe thead th {\n",
       "        text-align: right;\n",
       "    }\n",
       "</style>\n",
       "<table border=\"1\" class=\"dataframe\">\n",
       "  <thead>\n",
       "    <tr style=\"text-align: right;\">\n",
       "      <th></th>\n",
       "      <th>season_encoding</th>\n",
       "      <th>yr</th>\n",
       "      <th>mnth</th>\n",
       "      <th>day</th>\n",
       "      <th>holiday</th>\n",
       "      <th>weekday</th>\n",
       "      <th>workingday</th>\n",
       "      <th>weathersit</th>\n",
       "      <th>temp</th>\n",
       "      <th>hum</th>\n",
       "      <th>windspeed</th>\n",
       "    </tr>\n",
       "  </thead>\n",
       "  <tbody>\n",
       "    <tr>\n",
       "      <th>0</th>\n",
       "      <td>1</td>\n",
       "      <td>1</td>\n",
       "      <td>1</td>\n",
       "      <td>1</td>\n",
       "      <td>1</td>\n",
       "      <td>0</td>\n",
       "      <td>0</td>\n",
       "      <td>3</td>\n",
       "      <td>0.769231</td>\n",
       "      <td>0.000000</td>\n",
       "      <td>0.000000</td>\n",
       "    </tr>\n",
       "    <tr>\n",
       "      <th>1</th>\n",
       "      <td>1</td>\n",
       "      <td>1</td>\n",
       "      <td>1</td>\n",
       "      <td>2</td>\n",
       "      <td>0</td>\n",
       "      <td>1</td>\n",
       "      <td>1</td>\n",
       "      <td>2</td>\n",
       "      <td>1.000000</td>\n",
       "      <td>0.560345</td>\n",
       "      <td>0.289674</td>\n",
       "    </tr>\n",
       "    <tr>\n",
       "      <th>2</th>\n",
       "      <td>1</td>\n",
       "      <td>1</td>\n",
       "      <td>1</td>\n",
       "      <td>3</td>\n",
       "      <td>0</td>\n",
       "      <td>2</td>\n",
       "      <td>1</td>\n",
       "      <td>3</td>\n",
       "      <td>0.115385</td>\n",
       "      <td>0.125000</td>\n",
       "      <td>1.000000</td>\n",
       "    </tr>\n",
       "    <tr>\n",
       "      <th>3</th>\n",
       "      <td>1</td>\n",
       "      <td>1</td>\n",
       "      <td>1</td>\n",
       "      <td>4</td>\n",
       "      <td>0</td>\n",
       "      <td>3</td>\n",
       "      <td>1</td>\n",
       "      <td>2</td>\n",
       "      <td>0.346154</td>\n",
       "      <td>0.000000</td>\n",
       "      <td>0.977131</td>\n",
       "    </tr>\n",
       "    <tr>\n",
       "      <th>4</th>\n",
       "      <td>1</td>\n",
       "      <td>1</td>\n",
       "      <td>1</td>\n",
       "      <td>5</td>\n",
       "      <td>0</td>\n",
       "      <td>4</td>\n",
       "      <td>1</td>\n",
       "      <td>2</td>\n",
       "      <td>0.012821</td>\n",
       "      <td>0.267241</td>\n",
       "      <td>0.263340</td>\n",
       "    </tr>\n",
       "  </tbody>\n",
       "</table>\n",
       "</div>"
      ],
      "text/plain": [
       "  season_encoding yr mnth day  ... weathersit      temp       hum windspeed\n",
       "0               1  1    1   1  ...          3  0.769231  0.000000  0.000000\n",
       "1               1  1    1   2  ...          2  1.000000  0.560345  0.289674\n",
       "2               1  1    1   3  ...          3  0.115385  0.125000  1.000000\n",
       "3               1  1    1   4  ...          2  0.346154  0.000000  0.977131\n",
       "4               1  1    1   5  ...          2  0.012821  0.267241  0.263340\n",
       "\n",
       "[5 rows x 11 columns]"
      ]
     },
     "execution_count": 1043,
     "metadata": {},
     "output_type": "execute_result"
    }
   ],
   "source": [
    "st = MinMaxScaler()\n",
    "x_tranformadas = pd.DataFrame(st.fit_transform(numericas_enero))\n",
    "x_tranformadas.columns = numericas_enero.columns\n",
    "df_enero[x_tranformadas.columns] = x_tranformadas\n",
    "df_enero.head(2)"
   ]
  },
  {
   "cell_type": "code",
   "execution_count": 1046,
   "metadata": {},
   "outputs": [
    {
     "name": "stdout",
     "output_type": "stream",
     "text": [
      "El total de alquiler de bicicletas durante la primera semana de Enero del 1 al 7 será de  18792  bicicletas\n",
      "Esta primera semana de Enero, temporda baja para el negocio, los datos obtenidos representan un  0,9º% del alquiler anual \n",
      "La media de alquiler diaria en 2019 se encuentra en 4.508, en estas fechas el numero de reservas es menor a la media diaria (2.685 bicicletas al día)\n"
     ]
    }
   ],
   "source": [
    "print('El total de alquiler de bicicletas durante la primera semana de Enero del 1 al 7 será de ',lr.predict(df_enero).sum().astype('int64'),' bicicletas')\n",
    "print('Esta primera semana de Enero, temporda baja para el negocio, los datos obtenidos representan un  0,9º% del alquiler anual ')\n",
    "print('La media de alquiler diaria en 2019 se encuentra en 4.508, en estas fechas el numero de reservas es menor a la media diaria (2.685 bicicletas al día)')"
   ]
  },
  {
   "cell_type": "markdown",
   "metadata": {},
   "source": [
    "---"
   ]
  },
  {
   "cell_type": "markdown",
   "metadata": {},
   "source": [
    "### Ejemplo en Directo para el Cliente  👩🏼‍💻 "
   ]
  },
  {
   "cell_type": "code",
   "execution_count": null,
   "metadata": {},
   "outputs": [
    {
     "name": "stdout",
     "output_type": "stream",
     "text": [
      "El día que el cliente ha elegido es el _ de ____\n",
      "Existe una previsión de alquiler total [8729.65963385] bicicletas para este dia\n"
     ]
    }
   ],
   "source": [
    "# Preparar los datos del  17 de junio al 2 de julio\n",
    "dict_model = {\"season_encoding\":[2] ,'yr':[1], 'mnth':[6], 'day':[14] , 'holiday':[0], 'weekday':[4], 'workingday':[1], 'weathersit':[1], 'temp':[38], 'hum':[30], 'windspeed':[10]}\n",
    "df_dict_model = pd.DataFrame(dict_model)\n",
    "print('El día que el cliente ha elegido es el _ de ____')\n",
    "print('Existe una previsión de alquiler total', lr.predict(df_dict_model) ,'bicicletas para este dia')#número de bicicletas que serán reservadas "
   ]
  }
 ],
 "metadata": {
  "interpreter": {
   "hash": "40d3a090f54c6569ab1632332b64b2c03c39dcf918b08424e98f38b5ae0af88f"
  },
  "kernelspec": {
   "display_name": "Python 3.9.7 ('base')",
   "language": "python",
   "name": "python3"
  },
  "language_info": {
   "codemirror_mode": {
    "name": "ipython",
    "version": 3
   },
   "file_extension": ".py",
   "mimetype": "text/x-python",
   "name": "python",
   "nbconvert_exporter": "python",
   "pygments_lexer": "ipython3",
   "version": "3.9.7"
  },
  "orig_nbformat": 4
 },
 "nbformat": 4,
 "nbformat_minor": 2
}
