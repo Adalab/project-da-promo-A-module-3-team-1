{
 "cells": [
  {
   "cell_type": "markdown",
   "metadata": {},
   "source": [
    "# PROYECTO FINAL"
   ]
  },
  {
   "cell_type": "markdown",
   "metadata": {},
   "source": [
    "La empresa GoGreen Bikesharing se dedica al alquiler de bicicletas y posee datos tales como la cantidad de bicis alquiladas por usuarios registrados, la cantidad de alquileres realizados por usuarios puntuales, y la cantidad total. \n",
    "\n",
    "A estos datos se les añadió información meteorológica y el calendario de festivos.\n",
    "\n",
    "Ahora buscan analizar cuáles son los aspectos que más influyen en la cantidad de bicis que van a alquilar en un día."
   ]
  },
  {
   "cell_type": "code",
   "execution_count": 1,
   "metadata": {},
   "outputs": [],
   "source": [
    "# Tratamiento de datos\n",
    "import numpy as np\n",
    "import pandas as pd\n",
    "#import sidetable as stb\n",
    "\n",
    "# Gráficos\n",
    "import matplotlib.pyplot as plt\n",
    "from matplotlib import style\n",
    "import matplotlib.ticker as ticker\n",
    "import seaborn as sns\n",
    "import sidetable as stb\n",
    "\n",
    "# Asunciones y Preprocesamiento\n",
    "from scipy import stats\n",
    "import math\n",
    "from scipy.stats import levene\n",
    "#import researchpy as rp\n",
    "from sklearn.preprocessing import StandardScaler\n",
    "import itertools\n",
    "from statsmodels.tools.tools import add_constant\n",
    "from statsmodels.stats.outliers_influence import variance_inflation_factor\n",
    "\n",
    "# ANOVA\n",
    "import statsmodels.api as sm\n",
    "from statsmodels.formula.api import ols\n",
    "import researchpy as rp # chi square\n",
    "\n",
    "#Linear Regresion con Sklearn\n",
    "from sklearn.linear_model import LinearRegression\n",
    "from sklearn.model_selection import train_test_split\n",
    "from sklearn import metrics\n",
    "\n",
    "# Configuración warnings\n",
    "import warnings\n",
    "warnings.filterwarnings('ignore')\n",
    "pd.options.display.max_columns = False"
   ]
  },
  {
   "cell_type": "code",
   "execution_count": 2,
   "metadata": {},
   "outputs": [
    {
     "data": {
      "text/html": [
       "<div>\n",
       "<style scoped>\n",
       "    .dataframe tbody tr th:only-of-type {\n",
       "        vertical-align: middle;\n",
       "    }\n",
       "\n",
       "    .dataframe tbody tr th {\n",
       "        vertical-align: top;\n",
       "    }\n",
       "\n",
       "    .dataframe thead th {\n",
       "        text-align: right;\n",
       "    }\n",
       "</style>\n",
       "<table border=\"1\" class=\"dataframe\">\n",
       "  <thead>\n",
       "    <tr style=\"text-align: right;\">\n",
       "      <th></th>\n",
       "      <th>casual</th>\n",
       "      <th>registered</th>\n",
       "      <th>cnt</th>\n",
       "      <th>season_encoding</th>\n",
       "      <th>yr</th>\n",
       "      <th>mnth</th>\n",
       "      <th>day</th>\n",
       "      <th>holiday</th>\n",
       "      <th>weekday</th>\n",
       "      <th>workingday</th>\n",
       "      <th>weathersit</th>\n",
       "      <th>temp</th>\n",
       "      <th>temp_interval</th>\n",
       "      <th>temp_interval_ord</th>\n",
       "      <th>hum</th>\n",
       "      <th>hum_interval</th>\n",
       "      <th>hum_interval_ord</th>\n",
       "      <th>windspeed</th>\n",
       "      <th>wind_interval</th>\n",
       "      <th>wind_num_encoding</th>\n",
       "    </tr>\n",
       "  </thead>\n",
       "  <tbody>\n",
       "    <tr>\n",
       "      <th>90</th>\n",
       "      <td>307</td>\n",
       "      <td>1920</td>\n",
       "      <td>2227</td>\n",
       "      <td>1</td>\n",
       "      <td>0</td>\n",
       "      <td>4</td>\n",
       "      <td>1</td>\n",
       "      <td>0</td>\n",
       "      <td>5</td>\n",
       "      <td>1</td>\n",
       "      <td>2</td>\n",
       "      <td>12.3</td>\n",
       "      <td>low</td>\n",
       "      <td>2</td>\n",
       "      <td>68.6</td>\n",
       "      <td>high</td>\n",
       "      <td>4</td>\n",
       "      <td>17.333436</td>\n",
       "      <td>medium</td>\n",
       "      <td>2</td>\n",
       "    </tr>\n",
       "    <tr>\n",
       "      <th>626</th>\n",
       "      <td>788</td>\n",
       "      <td>6803</td>\n",
       "      <td>7591</td>\n",
       "      <td>3</td>\n",
       "      <td>1</td>\n",
       "      <td>9</td>\n",
       "      <td>19</td>\n",
       "      <td>0</td>\n",
       "      <td>3</td>\n",
       "      <td>1</td>\n",
       "      <td>1</td>\n",
       "      <td>22.7</td>\n",
       "      <td>high</td>\n",
       "      <td>4</td>\n",
       "      <td>53.7</td>\n",
       "      <td>medium</td>\n",
       "      <td>3</td>\n",
       "      <td>14.416725</td>\n",
       "      <td>low</td>\n",
       "      <td>1</td>\n",
       "    </tr>\n",
       "    <tr>\n",
       "      <th>432</th>\n",
       "      <td>447</td>\n",
       "      <td>4122</td>\n",
       "      <td>4569</td>\n",
       "      <td>3</td>\n",
       "      <td>1</td>\n",
       "      <td>3</td>\n",
       "      <td>9</td>\n",
       "      <td>0</td>\n",
       "      <td>5</td>\n",
       "      <td>1</td>\n",
       "      <td>2</td>\n",
       "      <td>16.8</td>\n",
       "      <td>medium</td>\n",
       "      <td>3</td>\n",
       "      <td>40.7</td>\n",
       "      <td>medium</td>\n",
       "      <td>3</td>\n",
       "      <td>27.791600</td>\n",
       "      <td>very_high</td>\n",
       "      <td>4</td>\n",
       "    </tr>\n",
       "    <tr>\n",
       "      <th>224</th>\n",
       "      <td>1504</td>\n",
       "      <td>2646</td>\n",
       "      <td>4150</td>\n",
       "      <td>3</td>\n",
       "      <td>0</td>\n",
       "      <td>8</td>\n",
       "      <td>13</td>\n",
       "      <td>0</td>\n",
       "      <td>6</td>\n",
       "      <td>0</td>\n",
       "      <td>2</td>\n",
       "      <td>28.1</td>\n",
       "      <td>high</td>\n",
       "      <td>4</td>\n",
       "      <td>73.0</td>\n",
       "      <td>high</td>\n",
       "      <td>4</td>\n",
       "      <td>14.167418</td>\n",
       "      <td>low</td>\n",
       "      <td>1</td>\n",
       "    </tr>\n",
       "    <tr>\n",
       "      <th>582</th>\n",
       "      <td>1233</td>\n",
       "      <td>5780</td>\n",
       "      <td>7013</td>\n",
       "      <td>2</td>\n",
       "      <td>1</td>\n",
       "      <td>8</td>\n",
       "      <td>6</td>\n",
       "      <td>0</td>\n",
       "      <td>1</td>\n",
       "      <td>1</td>\n",
       "      <td>2</td>\n",
       "      <td>30.9</td>\n",
       "      <td>very_high</td>\n",
       "      <td>5</td>\n",
       "      <td>65.4</td>\n",
       "      <td>high</td>\n",
       "      <td>4</td>\n",
       "      <td>8.666718</td>\n",
       "      <td>low</td>\n",
       "      <td>1</td>\n",
       "    </tr>\n",
       "    <tr>\n",
       "      <th>471</th>\n",
       "      <td>989</td>\n",
       "      <td>5702</td>\n",
       "      <td>6691</td>\n",
       "      <td>2</td>\n",
       "      <td>1</td>\n",
       "      <td>4</td>\n",
       "      <td>17</td>\n",
       "      <td>0</td>\n",
       "      <td>2</td>\n",
       "      <td>1</td>\n",
       "      <td>1</td>\n",
       "      <td>24.9</td>\n",
       "      <td>high</td>\n",
       "      <td>4</td>\n",
       "      <td>39.0</td>\n",
       "      <td>medium</td>\n",
       "      <td>3</td>\n",
       "      <td>18.333143</td>\n",
       "      <td>medium</td>\n",
       "      <td>2</td>\n",
       "    </tr>\n",
       "  </tbody>\n",
       "</table>\n",
       "</div>"
      ],
      "text/plain": [
       "     casual  registered   cnt  ...  windspeed  wind_interval  wind_num_encoding\n",
       "90      307        1920  2227  ...  17.333436         medium                  2\n",
       "626     788        6803  7591  ...  14.416725            low                  1\n",
       "432     447        4122  4569  ...  27.791600      very_high                  4\n",
       "224    1504        2646  4150  ...  14.167418            low                  1\n",
       "582    1233        5780  7013  ...   8.666718            low                  1\n",
       "471     989        5702  6691  ...  18.333143         medium                  2\n",
       "\n",
       "[6 rows x 20 columns]"
      ]
     },
     "execution_count": 2,
     "metadata": {},
     "output_type": "execute_result"
    }
   ],
   "source": [
    "df_bike = pd.read_csv(\"./EDA__parte_3.csv\", index_col=0)\n",
    "df_bike.sample(6)"
   ]
  },
  {
   "cell_type": "markdown",
   "metadata": {},
   "source": [
    "---------"
   ]
  },
  {
   "cell_type": "markdown",
   "metadata": {},
   "source": [
    "# <font color = orange> REGRESIÓN LINEAL MULTIPLE"
   ]
  },
  {
   "cell_type": "markdown",
   "metadata": {},
   "source": [
    "### Este DF por ahora debe contener nuestra variable respuesta y todas las variables predictivas.\n",
    "\n",
    "- Vamos a ver la variable respuesta grafico y comprobar la normalidad = 'cnt'\n",
    "- Vamos a ver graficos de variables predictivas\n",
    "- Correlacion\n",
    "- Covarianza\n",
    "- Vamos a ver si cumplen las asunciones para hacer Anova\n",
    "\n"
   ]
  },
  {
   "cell_type": "markdown",
   "metadata": {},
   "source": [
    "### Puede haber 2 opciones:\n",
    "1. cnt + todas encoding\n",
    "2. cnt + encoding + numericas(que habrá que estandarizar antes de meter en el modelo de regresion)"
   ]
  },
  {
   "cell_type": "markdown",
   "metadata": {},
   "source": [
    "###  <font color = yellow> Opcion 2\n",
    "\n",
    "cnt + encoding + numericas(que habrá que estandarizar antes de meter en el modelo de regresion)"
   ]
  },
  {
   "cell_type": "markdown",
   "metadata": {},
   "source": [
    "    Este dataframe tiene variable respuesta, y las predictoras encoding como tipo objets y numericas que sin encoding."
   ]
  },
  {
   "cell_type": "code",
   "execution_count": 3,
   "metadata": {},
   "outputs": [],
   "source": [
    "df= df_bike.copy() # Voy a hacer una copia para no perder los datos por si necesita hacer OPCION 1"
   ]
  },
  {
   "cell_type": "code",
   "execution_count": 4,
   "metadata": {},
   "outputs": [],
   "source": [
    "df.drop(['casual', 'registered','temp_interval', 'temp_interval_ord','hum_interval','hum_interval_ord', 'wind_interval', 'wind_num_encoding'],axis=1, inplace=True)\n",
    "    "
   ]
  },
  {
   "cell_type": "code",
   "execution_count": 5,
   "metadata": {},
   "outputs": [
    {
     "data": {
      "text/html": [
       "<div>\n",
       "<style scoped>\n",
       "    .dataframe tbody tr th:only-of-type {\n",
       "        vertical-align: middle;\n",
       "    }\n",
       "\n",
       "    .dataframe tbody tr th {\n",
       "        vertical-align: top;\n",
       "    }\n",
       "\n",
       "    .dataframe thead th {\n",
       "        text-align: right;\n",
       "    }\n",
       "</style>\n",
       "<table border=\"1\" class=\"dataframe\">\n",
       "  <thead>\n",
       "    <tr style=\"text-align: right;\">\n",
       "      <th></th>\n",
       "      <th>cnt</th>\n",
       "      <th>season_encoding</th>\n",
       "      <th>yr</th>\n",
       "      <th>mnth</th>\n",
       "      <th>day</th>\n",
       "      <th>holiday</th>\n",
       "      <th>weekday</th>\n",
       "      <th>workingday</th>\n",
       "      <th>weathersit</th>\n",
       "      <th>temp</th>\n",
       "      <th>hum</th>\n",
       "      <th>windspeed</th>\n",
       "    </tr>\n",
       "  </thead>\n",
       "  <tbody>\n",
       "    <tr>\n",
       "      <th>0</th>\n",
       "      <td>985</td>\n",
       "      <td>1</td>\n",
       "      <td>0</td>\n",
       "      <td>1</td>\n",
       "      <td>1</td>\n",
       "      <td>0</td>\n",
       "      <td>6</td>\n",
       "      <td>0</td>\n",
       "      <td>2</td>\n",
       "      <td>14.1</td>\n",
       "      <td>80.6</td>\n",
       "      <td>10.749882</td>\n",
       "    </tr>\n",
       "    <tr>\n",
       "      <th>1</th>\n",
       "      <td>801</td>\n",
       "      <td>1</td>\n",
       "      <td>0</td>\n",
       "      <td>1</td>\n",
       "      <td>2</td>\n",
       "      <td>0</td>\n",
       "      <td>0</td>\n",
       "      <td>0</td>\n",
       "      <td>2</td>\n",
       "      <td>14.9</td>\n",
       "      <td>69.6</td>\n",
       "      <td>16.652113</td>\n",
       "    </tr>\n",
       "    <tr>\n",
       "      <th>2</th>\n",
       "      <td>1349</td>\n",
       "      <td>1</td>\n",
       "      <td>0</td>\n",
       "      <td>1</td>\n",
       "      <td>3</td>\n",
       "      <td>0</td>\n",
       "      <td>1</td>\n",
       "      <td>1</td>\n",
       "      <td>1</td>\n",
       "      <td>8.1</td>\n",
       "      <td>43.7</td>\n",
       "      <td>16.636703</td>\n",
       "    </tr>\n",
       "    <tr>\n",
       "      <th>3</th>\n",
       "      <td>1562</td>\n",
       "      <td>2</td>\n",
       "      <td>0</td>\n",
       "      <td>1</td>\n",
       "      <td>4</td>\n",
       "      <td>0</td>\n",
       "      <td>2</td>\n",
       "      <td>1</td>\n",
       "      <td>1</td>\n",
       "      <td>8.2</td>\n",
       "      <td>59.0</td>\n",
       "      <td>10.739832</td>\n",
       "    </tr>\n",
       "    <tr>\n",
       "      <th>4</th>\n",
       "      <td>1600</td>\n",
       "      <td>2</td>\n",
       "      <td>0</td>\n",
       "      <td>1</td>\n",
       "      <td>5</td>\n",
       "      <td>0</td>\n",
       "      <td>3</td>\n",
       "      <td>1</td>\n",
       "      <td>1</td>\n",
       "      <td>9.3</td>\n",
       "      <td>43.7</td>\n",
       "      <td>12.522300</td>\n",
       "    </tr>\n",
       "  </tbody>\n",
       "</table>\n",
       "</div>"
      ],
      "text/plain": [
       "    cnt  season_encoding  yr  mnth  ...  weathersit  temp   hum  windspeed\n",
       "0   985                1   0     1  ...           2  14.1  80.6  10.749882\n",
       "1   801                1   0     1  ...           2  14.9  69.6  16.652113\n",
       "2  1349                1   0     1  ...           1   8.1  43.7  16.636703\n",
       "3  1562                2   0     1  ...           1   8.2  59.0  10.739832\n",
       "4  1600                2   0     1  ...           1   9.3  43.7  12.522300\n",
       "\n",
       "[5 rows x 12 columns]"
      ]
     },
     "execution_count": 5,
     "metadata": {},
     "output_type": "execute_result"
    }
   ],
   "source": [
    "df.head()"
   ]
  },
  {
   "cell_type": "code",
   "execution_count": 6,
   "metadata": {},
   "outputs": [
    {
     "name": "stdout",
     "output_type": "stream",
     "text": [
      "<class 'pandas.core.frame.DataFrame'>\n",
      "Int64Index: 730 entries, 0 to 729\n",
      "Data columns (total 12 columns):\n",
      " #   Column           Non-Null Count  Dtype  \n",
      "---  ------           --------------  -----  \n",
      " 0   cnt              730 non-null    int64  \n",
      " 1   season_encoding  730 non-null    int64  \n",
      " 2   yr               730 non-null    int64  \n",
      " 3   mnth             730 non-null    int64  \n",
      " 4   day              730 non-null    int64  \n",
      " 5   holiday          730 non-null    int64  \n",
      " 6   weekday          730 non-null    int64  \n",
      " 7   workingday       730 non-null    int64  \n",
      " 8   weathersit       730 non-null    int64  \n",
      " 9   temp             730 non-null    float64\n",
      " 10  hum              730 non-null    float64\n",
      " 11  windspeed        730 non-null    float64\n",
      "dtypes: float64(3), int64(9)\n",
      "memory usage: 74.1 KB\n"
     ]
    }
   ],
   "source": [
    "df.info() #Correcto tenemos que volver a cambiar el tipo de cada columna "
   ]
  },
  {
   "cell_type": "code",
   "execution_count": 7,
   "metadata": {},
   "outputs": [
    {
     "data": {
      "text/plain": [
       "Index(['cnt', 'season_encoding', 'yr', 'mnth', 'day', 'holiday', 'weekday',\n",
       "       'workingday', 'weathersit', 'temp', 'hum', 'windspeed'],\n",
       "      dtype='object')"
      ]
     },
     "execution_count": 7,
     "metadata": {},
     "output_type": "execute_result"
    }
   ],
   "source": [
    "df.columns"
   ]
  },
  {
   "cell_type": "code",
   "execution_count": 8,
   "metadata": {},
   "outputs": [],
   "source": [
    "df['season_encoding'] = df['season_encoding'].astype('object')  \n",
    "df['yr'] = df['yr'].astype('object')  \n",
    "df['mnth'] = df['mnth'].astype('object')  \n",
    "df['day'] = df['day'].astype('object')  \n",
    "df['holiday'] = df['holiday'].astype('object')  \n",
    "df['weekday'] = df['weekday'].astype('object')  \n",
    "df['workingday'] = df['workingday'].astype('object')  \n",
    "df['weathersit'] = df['weathersit'].astype('object')  "
   ]
  },
  {
   "cell_type": "markdown",
   "metadata": {},
   "source": [
    "### Variable respuesta - NORMALIDAD - SHAPIRO"
   ]
  },
  {
   "cell_type": "markdown",
   "metadata": {},
   "source": [
    "    Nuestra variable respuesta es 'cnt', queremos ver cuantas reservas general según las variables predictoras.\n",
    "    Parece que tenemos una distribución normal de nuestros datos."
   ]
  },
  {
   "cell_type": "code",
   "execution_count": 9,
   "metadata": {},
   "outputs": [
    {
     "name": "stdout",
     "output_type": "stream",
     "text": [
      "ShapiroResult(statistic=0.9802490472793579, pvalue=2.313480784721378e-08)\n"
     ]
    },
    {
     "data": {
      "image/png": "[encoded data removed]",
      "text/plain": [
       "<Figure size 432x288 with 1 Axes>"
      ]
     },
     "metadata": {
      "needs_background": "light"
     },
     "output_type": "display_data"
    }
   ],
   "source": [
    "sns.distplot(\n",
    "    df_bike.cnt, \n",
    "    hist = False, \n",
    "    color = \"blue\", \n",
    "    kde_kws = {\"shade\": True, \"linewidth\": 1});\n",
    "\n",
    "print(stats.shapiro(df_bike[\"cnt\"])) # EL p-value< 0.05 Quiere decir que la distribución es normal"
   ]
  },
  {
   "cell_type": "markdown",
   "metadata": {},
   "source": [
    "### Variables predictoras CATEGORICAS - GRAFICO"
   ]
  },
  {
   "cell_type": "markdown",
   "metadata": {},
   "source": [
    "    Estas son nuestras variables categoricas"
   ]
  },
  {
   "cell_type": "code",
   "execution_count": 10,
   "metadata": {},
   "outputs": [
    {
     "data": {
      "text/html": [
       "<div>\n",
       "<style scoped>\n",
       "    .dataframe tbody tr th:only-of-type {\n",
       "        vertical-align: middle;\n",
       "    }\n",
       "\n",
       "    .dataframe tbody tr th {\n",
       "        vertical-align: top;\n",
       "    }\n",
       "\n",
       "    .dataframe thead th {\n",
       "        text-align: right;\n",
       "    }\n",
       "</style>\n",
       "<table border=\"1\" class=\"dataframe\">\n",
       "  <thead>\n",
       "    <tr style=\"text-align: right;\">\n",
       "      <th></th>\n",
       "      <th>temp_interval</th>\n",
       "      <th>hum_interval</th>\n",
       "      <th>wind_interval</th>\n",
       "    </tr>\n",
       "  </thead>\n",
       "  <tbody>\n",
       "    <tr>\n",
       "      <th>0</th>\n",
       "      <td>low</td>\n",
       "      <td>very_high</td>\n",
       "      <td>low</td>\n",
       "    </tr>\n",
       "  </tbody>\n",
       "</table>\n",
       "</div>"
      ],
      "text/plain": [
       "  temp_interval hum_interval wind_interval\n",
       "0           low    very_high           low"
      ]
     },
     "execution_count": 10,
     "metadata": {},
     "output_type": "execute_result"
    }
   ],
   "source": [
    "categoricas = df_bike.select_dtypes(include='object')\n",
    "categoricas.head(1)"
   ]
  },
  {
   "cell_type": "code",
   "execution_count": 11,
   "metadata": {},
   "outputs": [
    {
     "data": {
      "image/png": "[encoded data removed]",
      "text/plain": [
       "<Figure size 2160x1080 with 8 Axes>"
      ]
     },
     "metadata": {
      "needs_background": "light"
     },
     "output_type": "display_data"
    }
   ],
   "source": [
    "# Gráfico de relación entre variables predictoras y la variable a predecir CATEGORICAS\n",
    "# ===================================================================================\n",
    "\n",
    "fig, axes = plt.subplots(nrows = 2, ncols = 4, figsize = (30, 15))\n",
    "\n",
    "axes = axes.flat\n",
    "\n",
    "columnas_object = df.select_dtypes(include = \"object\").columns\n",
    "\n",
    "for i, colum in enumerate(columnas_object):\n",
    "    sns.countplot(df[colum], ax=axes[i], palette=\"mako\")\n",
    "    axes[i].set_title(colum, fontsize = 12, fontweight = \"bold\")\n",
    "    axes[i].tick_params(labelsize = 10)\n",
    "    axes[i].set_xlabel(\"\")\n",
    "    \n",
    "fig.tight_layout();\n"
   ]
  },
  {
   "cell_type": "markdown",
   "metadata": {},
   "source": [
    "\n",
    "### Variables predictoras NUMERICAS - GRAFICO"
   ]
  },
  {
   "cell_type": "markdown",
   "metadata": {},
   "source": [
    "    Estas son nuestras variables numéricas"
   ]
  },
  {
   "cell_type": "code",
   "execution_count": 12,
   "metadata": {},
   "outputs": [
    {
     "data": {
      "text/html": [
       "<div>\n",
       "<style scoped>\n",
       "    .dataframe tbody tr th:only-of-type {\n",
       "        vertical-align: middle;\n",
       "    }\n",
       "\n",
       "    .dataframe tbody tr th {\n",
       "        vertical-align: top;\n",
       "    }\n",
       "\n",
       "    .dataframe thead th {\n",
       "        text-align: right;\n",
       "    }\n",
       "</style>\n",
       "<table border=\"1\" class=\"dataframe\">\n",
       "  <thead>\n",
       "    <tr style=\"text-align: right;\">\n",
       "      <th></th>\n",
       "      <th>cnt</th>\n",
       "      <th>temp</th>\n",
       "      <th>hum</th>\n",
       "      <th>windspeed</th>\n",
       "    </tr>\n",
       "  </thead>\n",
       "  <tbody>\n",
       "    <tr>\n",
       "      <th>0</th>\n",
       "      <td>985</td>\n",
       "      <td>14.1</td>\n",
       "      <td>80.6</td>\n",
       "      <td>10.749882</td>\n",
       "    </tr>\n",
       "  </tbody>\n",
       "</table>\n",
       "</div>"
      ],
      "text/plain": [
       "   cnt  temp   hum  windspeed\n",
       "0  985  14.1  80.6  10.749882"
      ]
     },
     "execution_count": 12,
     "metadata": {},
     "output_type": "execute_result"
    }
   ],
   "source": [
    "numericas = df.select_dtypes(include = np.number)\n",
    "numericas.head(1)"
   ]
  },
  {
   "cell_type": "code",
   "execution_count": 13,
   "metadata": {},
   "outputs": [
    {
     "data": {
      "image/png": "[encoded data removed]",
      "text/plain": [
       "<Figure size 2160x720 with 3 Axes>"
      ]
     },
     "metadata": {
      "needs_background": "light"
     },
     "output_type": "display_data"
    }
   ],
   "source": [
    "# Gráfico de distribución para cada variable numérica\n",
    "# ==============================================================================\n",
    "\n",
    "fig, axes = plt.subplots(nrows = 1, ncols = 3, figsize = (30, 10))\n",
    "\n",
    "axes = axes.flat\n",
    "\n",
    "columnas_numeric = df.select_dtypes(include = np.number).columns\n",
    "columnas_numeric = columnas_numeric.drop(\"cnt\") # excluimos nuestra variable respuesta. (No la necesitamos ahora\n",
    "\n",
    "for i, colum in enumerate(columnas_numeric):\n",
    "    sns.regplot(\n",
    "        x = df[colum], \n",
    "        y = df[\"cnt\"], \n",
    "        color = \"black\", \n",
    "        marker = \".\", \n",
    "        scatter_kws = {\"alpha\": 0.4}, \n",
    "        line_kws = {\"color\": \"red\", \"alpha\": 0.7 }, \n",
    "        ax = axes[i])\n",
    "    \n",
    "    axes[i].set_title(f\"Reservas vs {colum}\", fontsize = 15, fontweight = \"bold\")\n",
    "    axes[i].tick_params(labelsize = 20)\n",
    "    axes[i].set_xlabel(colum,  fontsize = 15, fontweight = \"bold\")\n",
    "    axes[i].set_ylabel(\"cnt\", fontsize = 15, fontweight = \"bold\")\n",
    "    \n",
    "fig.tight_layout();"
   ]
  },
  {
   "cell_type": "markdown",
   "metadata": {},
   "source": [
    "### Vamos a comprobar la relación que hay entre numericas"
   ]
  },
  {
   "cell_type": "code",
   "execution_count": 14,
   "metadata": {},
   "outputs": [],
   "source": [
    "numericas2 = df.select_dtypes(include = np.number).drop(\"cnt\", axis = 1)"
   ]
  },
  {
   "cell_type": "markdown",
   "metadata": {},
   "source": [
    "    COVARIANZA\n",
    "    ¿Ambas variables aumentan o disminuyen en la misma dirección o cuando una aumenta la otra disminuye?\n",
    "        S> 0 COVARIANZA POSITIVA : Todos aumentan misma dirección ( a grandes valores de X, grandes valores de Y)\n",
    "        S = 0 NO HAY RELACIÓN LINEAL\n",
    "        S< 0 COVARIANZA NEGATIVA: Aumenta una y disminuye la otra (a grandes valores de X , pequeños valores de Y)"
   ]
  },
  {
   "cell_type": "code",
   "execution_count": 15,
   "metadata": {},
   "outputs": [
    {
     "data": {
      "text/html": [
       "<div>\n",
       "<style scoped>\n",
       "    .dataframe tbody tr th:only-of-type {\n",
       "        vertical-align: middle;\n",
       "    }\n",
       "\n",
       "    .dataframe tbody tr th {\n",
       "        vertical-align: top;\n",
       "    }\n",
       "\n",
       "    .dataframe thead th {\n",
       "        text-align: right;\n",
       "    }\n",
       "</style>\n",
       "<table border=\"1\" class=\"dataframe\">\n",
       "  <thead>\n",
       "    <tr style=\"text-align: right;\">\n",
       "      <th></th>\n",
       "      <th>temp</th>\n",
       "      <th>hum</th>\n",
       "      <th>windspeed</th>\n",
       "    </tr>\n",
       "  </thead>\n",
       "  <tbody>\n",
       "    <tr>\n",
       "      <th>temp</th>\n",
       "      <td>56.350559</td>\n",
       "      <td>13.757125</td>\n",
       "      <td>-6.176868</td>\n",
       "    </tr>\n",
       "    <tr>\n",
       "      <th>hum</th>\n",
       "      <td>13.757125</td>\n",
       "      <td>202.717828</td>\n",
       "      <td>-18.389602</td>\n",
       "    </tr>\n",
       "    <tr>\n",
       "      <th>windspeed</th>\n",
       "      <td>-6.176868</td>\n",
       "      <td>-18.389602</td>\n",
       "      <td>26.996761</td>\n",
       "    </tr>\n",
       "  </tbody>\n",
       "</table>\n",
       "</div>"
      ],
      "text/plain": [
       "                temp         hum  windspeed\n",
       "temp       56.350559   13.757125  -6.176868\n",
       "hum        13.757125  202.717828 -18.389602\n",
       "windspeed  -6.176868  -18.389602  26.996761"
      ]
     },
     "execution_count": 15,
     "metadata": {},
     "output_type": "execute_result"
    }
   ],
   "source": [
    "numericas2.cov() # vamos a ver si existe colinealidad entre mas medias de las variables predictoras"
   ]
  },
  {
   "cell_type": "markdown",
   "metadata": {},
   "source": [
    "    CORRELACIÓN\n",
    "        Vamos a ver la correlación entre las variables predictoras y que relación tienen tb con la respuesta.\n",
    "        intervalo [-1 y 1]\n",
    "\t    r= 1 corr perfecta positiva (aumenta una , la otra tb aumenta)\n",
    "\t    r =0 no hay correlación\n",
    " \t    r= -1 corr perfecta negativa (una aumenta y la otra disminuye)"
   ]
  },
  {
   "cell_type": "code",
   "execution_count": 16,
   "metadata": {},
   "outputs": [
    {
     "data": {
      "text/html": [
       "<div>\n",
       "<style scoped>\n",
       "    .dataframe tbody tr th:only-of-type {\n",
       "        vertical-align: middle;\n",
       "    }\n",
       "\n",
       "    .dataframe tbody tr th {\n",
       "        vertical-align: top;\n",
       "    }\n",
       "\n",
       "    .dataframe thead th {\n",
       "        text-align: right;\n",
       "    }\n",
       "</style>\n",
       "<table border=\"1\" class=\"dataframe\">\n",
       "  <thead>\n",
       "    <tr style=\"text-align: right;\">\n",
       "      <th></th>\n",
       "      <th>cnt</th>\n",
       "      <th>temp</th>\n",
       "      <th>hum</th>\n",
       "      <th>windspeed</th>\n",
       "    </tr>\n",
       "  </thead>\n",
       "  <tbody>\n",
       "    <tr>\n",
       "      <th>cnt</th>\n",
       "      <td>1.000000</td>\n",
       "      <td>0.627003</td>\n",
       "      <td>-0.098502</td>\n",
       "      <td>-0.235132</td>\n",
       "    </tr>\n",
       "    <tr>\n",
       "      <th>temp</th>\n",
       "      <td>0.627003</td>\n",
       "      <td>1.000000</td>\n",
       "      <td>0.128716</td>\n",
       "      <td>-0.158367</td>\n",
       "    </tr>\n",
       "    <tr>\n",
       "      <th>hum</th>\n",
       "      <td>-0.098502</td>\n",
       "      <td>0.128716</td>\n",
       "      <td>1.000000</td>\n",
       "      <td>-0.248582</td>\n",
       "    </tr>\n",
       "    <tr>\n",
       "      <th>windspeed</th>\n",
       "      <td>-0.235132</td>\n",
       "      <td>-0.158367</td>\n",
       "      <td>-0.248582</td>\n",
       "      <td>1.000000</td>\n",
       "    </tr>\n",
       "  </tbody>\n",
       "</table>\n",
       "</div>"
      ],
      "text/plain": [
       "                cnt      temp       hum  windspeed\n",
       "cnt        1.000000  0.627003 -0.098502  -0.235132\n",
       "temp       0.627003  1.000000  0.128716  -0.158367\n",
       "hum       -0.098502  0.128716  1.000000  -0.248582\n",
       "windspeed -0.235132 -0.158367 -0.248582   1.000000"
      ]
     },
     "execution_count": 16,
     "metadata": {},
     "output_type": "execute_result"
    }
   ],
   "source": [
    "numericas.corr()  # Pearson Correlation Coefficient"
   ]
  },
  {
   "cell_type": "code",
   "execution_count": 17,
   "metadata": {},
   "outputs": [
    {
     "data": {
      "image/png": "[encoded data removed]",
      "text/plain": [
       "<Figure size 432x288 with 2 Axes>"
      ]
     },
     "metadata": {
      "needs_background": "light"
     },
     "output_type": "display_data"
    }
   ],
   "source": [
    "mask = np.triu(np.ones_like(numericas.corr(), dtype = np.bool))\n",
    "sns.heatmap(numericas.corr(), \n",
    "           cmap = \"YlGnBu\", \n",
    "           annot = True, \n",
    "           mask =mask);\n"
   ]
  },
  {
   "cell_type": "code",
   "execution_count": 18,
   "metadata": {},
   "outputs": [],
   "source": [
    "def detectar_outliers(lista_columnas, dataframe): \n",
    "    dicc_indices = {} # creamos un diccionario donde almacenaremos índices de los outliers\n",
    "    \n",
    "    # iteramos por la lista de las columnas numéricas de nuestro dataframe\n",
    "    for col in lista_columnas:\n",
    "        \n",
    "        #calculamos los cuartiles Q1 y Q3\n",
    "        Q1 = np.nanpercentile(df[col], 25)\n",
    "        Q3 = np.nanpercentile(df[col], 75)\n",
    "        \n",
    "        # calculamos el rango intercuartil\n",
    "        IQR = Q3 - Q1\n",
    "        \n",
    "        # calculamos los límites\n",
    "        outlier_step = 1.5 * IQR\n",
    "        \n",
    "        # filtramos nuestro dataframe para indentificar los outliers\n",
    "        outliers_data = dataframe[(dataframe[col] < Q1 - outlier_step) | (dataframe[col] > Q3 + outlier_step)]\n",
    "        \n",
    "        \n",
    "        if outliers_data.shape[0] > 0: # chequeamos si nuestro dataframe tiene alguna fila. \n",
    "        \n",
    "            dicc_indices[col] = (list(outliers_data.index)) # si tiene fila es que hay outliers y por lo tanto lo añadimos a nuestro diccionario\n",
    "        \n",
    "\n",
    "    return dicc_indices "
   ]
  },
  {
   "cell_type": "code",
   "execution_count": 19,
   "metadata": {},
   "outputs": [
    {
     "data": {
      "text/plain": [
       "['cnt', 'temp', 'hum', 'windspeed']"
      ]
     },
     "execution_count": 19,
     "metadata": {},
     "output_type": "execute_result"
    }
   ],
   "source": [
    "lista_columnas = list(numericas.columns)\n",
    "lista_columnas"
   ]
  },
  {
   "cell_type": "markdown",
   "metadata": {},
   "source": [
    "     Son pocos Outliers que no influyen en demasiado lo cambiamos por la mediana"
   ]
  },
  {
   "cell_type": "code",
   "execution_count": 20,
   "metadata": {},
   "outputs": [
    {
     "name": "stdout",
     "output_type": "stream",
     "text": [
      "{'hum': [49, 68], 'windspeed': [44, 49, 93, 94, 292, 382, 407, 420, 431, 432, 449, 665, 720]}\n"
     ]
    }
   ],
   "source": [
    "ind = detectar_outliers(lista_columnas, df)\n",
    "print(ind)"
   ]
  },
  {
   "cell_type": "code",
   "execution_count": 21,
   "metadata": {},
   "outputs": [],
   "source": [
    "for k, v in ind.items():\n",
    "    mediana = df[k].median() \n",
    "    for i in v: \n",
    "        df.loc[i,k] = mediana"
   ]
  },
  {
   "cell_type": "markdown",
   "metadata": {},
   "source": [
    "# Comprobación de las asunciones - Las variables predictoras deben cumplir: Homocedasteidad, Independencia "
   ]
  },
  {
   "cell_type": "markdown",
   "metadata": {},
   "source": [
    "### ASUNCIÓN DE NORMALIDAD  "
   ]
  },
  {
   "cell_type": "markdown",
   "metadata": {},
   "source": [
    "    Ya la hemos comprobado y nuestros datos son normales."
   ]
  },
  {
   "cell_type": "markdown",
   "metadata": {},
   "source": [
    "- Visualmente\n",
    "- Test de Shapiro\n",
    "\n",
    "\n",
    "| Test Shapiro  |  Resultado | Conclusión |\n",
    "|---|---|---|\n",
    "|  p-value > 0.05 | No significativo   | Datos  Normales|\n",
    "|p-value < 0.05| Significativo| Datos No Normales |"
   ]
  },
  {
   "cell_type": "code",
   "execution_count": 22,
   "metadata": {},
   "outputs": [
    {
     "data": {
      "text/plain": [
       "ShapiroResult(statistic=0.9802490472793579, pvalue=2.313480784721378e-08)"
      ]
     },
     "execution_count": 22,
     "metadata": {},
     "output_type": "execute_result"
    }
   ],
   "source": [
    "stats.shapiro(df[\"cnt\"]) # El p-value< 0.05 Quiere decir que la distribución es normal"
   ]
  },
  {
   "cell_type": "markdown",
   "metadata": {},
   "source": [
    "### ASUNCIÓN DE HOMOCEDASTICIDAD (Levene)"
   ]
  },
  {
   "cell_type": "markdown",
   "metadata": {},
   "source": [
    "Las varianzas no difieren entre las distintas categorías de nuestros datos\n",
    "\n",
    "\n",
    "| Test Levene  |  Resultado | Conclusión   |\n",
    "|---|---|---|\n",
    "|  p-value > 0.05 | No significativo   | Cumple asunción, tienen varianzas similares|\n",
    "|p-value < 0.05| Significativo| No cumple asunción, no tienen varianzas similares |"
   ]
  },
  {
   "cell_type": "markdown",
   "metadata": {},
   "source": [
    "    - Variables Categoricas -"
   ]
  },
  {
   "cell_type": "code",
   "execution_count": 23,
   "metadata": {},
   "outputs": [
    {
     "data": {
      "image/png": "[encoded data removed]",
      "text/plain": [
       "<Figure size 2160x1080 with 8 Axes>"
      ]
     },
     "metadata": {
      "needs_background": "light"
     },
     "output_type": "display_data"
    }
   ],
   "source": [
    "fig, axes = plt.subplots(nrows = 2, ncols = 4 ,figsize = (30, 15))\n",
    "\n",
    "axes = axes.flat\n",
    "\n",
    "colum_cat = df.select_dtypes(include = ['object']).columns\n",
    "\n",
    "for i, col in enumerate(colum_cat):\n",
    "    sns.boxplot(\n",
    "        x = col,\n",
    "        y = 'cnt',\n",
    "        data = df,\n",
    "        palette = 'tab10',\n",
    "        ax = axes[i]\n",
    "\n",
    "    )"
   ]
  },
  {
   "cell_type": "markdown",
   "metadata": {},
   "source": [
    "                                                        --TEST LEVENE PARA CADA VARIABLE CATEGORICA PREDICTORA--"
   ]
  },
  {
   "cell_type": "code",
   "execution_count": 24,
   "metadata": {},
   "outputs": [],
   "source": [
    "#Para desglosar cada una de las columnas, hacemos test de levene a cada una\n",
    "def datos_test_levene (columna, df):\n",
    "    valores = df[columna].unique()\n",
    "    d = {}\n",
    "\n",
    "    for x in valores:\n",
    "        d['{0}'.format(x)] = df[df[columna] == x]['cnt']\n",
    "    return d"
   ]
  },
  {
   "cell_type": "code",
   "execution_count": 25,
   "metadata": {},
   "outputs": [],
   "source": [
    "# 8 variables categoricas predictoras\n",
    "season = datos_test_levene('season_encoding', df)\n",
    "year = datos_test_levene('yr', df)\n",
    "month = sexo = datos_test_levene('mnth', df)\n",
    "day = sexo = datos_test_levene('day', df)\n",
    "holiday = sexo = datos_test_levene('holiday', df)\n",
    "weekday = sexo = datos_test_levene('weekday', df)\n",
    "workingday = sexo = datos_test_levene('workingday', df)\n",
    "weathersit = sexo = datos_test_levene('weathersit', df)"
   ]
  },
  {
   "cell_type": "markdown",
   "metadata": {},
   "source": [
    "                                                                        --NO CUMPLEN : \"YEAR\" , \"MONTH\" , \"WORKINGDAY\"--"
   ]
  },
  {
   "cell_type": "code",
   "execution_count": 26,
   "metadata": {},
   "outputs": [
    {
     "data": {
      "text/plain": [
       "LeveneResult(statistic=13.553593496753745, pvalue=0.0002489869491449798)"
      ]
     },
     "execution_count": 26,
     "metadata": {},
     "output_type": "execute_result"
    }
   ],
   "source": [
    "levene_temp_interval = stats.levene(year['0'], year['1'], center='median')\n",
    "levene_temp_interval # NO CUMPLE"
   ]
  },
  {
   "cell_type": "code",
   "execution_count": 27,
   "metadata": {},
   "outputs": [
    {
     "data": {
      "text/plain": [
       "LeveneResult(statistic=5.787944098760116, pvalue=2.73789175494516e-10)"
      ]
     },
     "execution_count": 27,
     "metadata": {},
     "output_type": "execute_result"
    }
   ],
   "source": [
    "levene_temp_interval = stats.levene(month['1'], month['2'],month['3'],month['4'],month['5'],month['6'],month['1'],month['7'],month['1'],month['8'],month['9'],month['10'],month['11'],month['12'], center='median')\n",
    "levene_temp_interval # NO CUMPLE"
   ]
  },
  {
   "cell_type": "code",
   "execution_count": 28,
   "metadata": {},
   "outputs": [
    {
     "data": {
      "text/plain": [
       "LeveneResult(statistic=4.460702577469021, pvalue=0.03502326959654844)"
      ]
     },
     "execution_count": 28,
     "metadata": {},
     "output_type": "execute_result"
    }
   ],
   "source": [
    "levene_temp_interval = stats.levene(workingday['0'], workingday['1'], center='median')\n",
    "levene_temp_interval # NO CUMPLE"
   ]
  },
  {
   "cell_type": "markdown",
   "metadata": {},
   "source": [
    "                                                         --SI CUMPLEN : \"SEASON\", \"DAY\", \"HOLIDAY\" , \"WEEKDAY\" , \"WEATHERSIT\"--"
   ]
  },
  {
   "cell_type": "code",
   "execution_count": 29,
   "metadata": {},
   "outputs": [
    {
     "data": {
      "text/plain": [
       "LeveneResult(statistic=1.7590626071065214, pvalue=0.15360584747469838)"
      ]
     },
     "execution_count": 29,
     "metadata": {},
     "output_type": "execute_result"
    }
   ],
   "source": [
    "levene_season = stats.levene(season['1'], season['2'], season['3'], season['4'], center='median')\n",
    "levene_season # SI CUMPLE"
   ]
  },
  {
   "cell_type": "code",
   "execution_count": 30,
   "metadata": {},
   "outputs": [
    {
     "data": {
      "text/plain": [
       "LeveneResult(statistic=0.5456780499569595, pvalue=0.9815493458112784)"
      ]
     },
     "execution_count": 30,
     "metadata": {},
     "output_type": "execute_result"
    }
   ],
   "source": [
    "levene_temp_interval = stats.levene(day['1'], day['2'],day['3'],day['4'],day['5'],day['6'],day['1'],day['7'],day['1'],day['8'],day['9'],day['10'],day['11'],day['12'],\n",
    " day['13'], day['14'],day['15'],day['16'],day['17'],day['18'],day['19'],day['20'],day['21'],day['22'],day['23'],day['24'],day['25'],day['26'],\n",
    " day['27'], day['28'],day['29'],day['30'],day['31'],center='median')\n",
    "levene_temp_interval # SI CUMPLE"
   ]
  },
  {
   "cell_type": "code",
   "execution_count": 31,
   "metadata": {},
   "outputs": [
    {
     "data": {
      "text/plain": [
       "LeveneResult(statistic=0.7261499110317795, pvalue=0.39441424379573353)"
      ]
     },
     "execution_count": 31,
     "metadata": {},
     "output_type": "execute_result"
    }
   ],
   "source": [
    "levene_temp_interval = stats.levene(holiday['0'], holiday['1'], center='median')\n",
    "levene_temp_interval # SI CUMPLE"
   ]
  },
  {
   "cell_type": "code",
   "execution_count": 32,
   "metadata": {},
   "outputs": [
    {
     "data": {
      "text/plain": [
       "LeveneResult(statistic=1.496581827336433, pvalue=0.17647662349169893)"
      ]
     },
     "execution_count": 32,
     "metadata": {},
     "output_type": "execute_result"
    }
   ],
   "source": [
    "levene_temp_interval = stats.levene(weekday['0'], weekday['1'],weekday['2'],weekday['3'],weekday['4'],weekday['5'],weekday['6'], center='median')\n",
    "levene_temp_interval # SI CUMPLE"
   ]
  },
  {
   "cell_type": "code",
   "execution_count": 33,
   "metadata": {},
   "outputs": [
    {
     "data": {
      "text/plain": [
       "LeveneResult(statistic=2.981948873358019, pvalue=0.05131438057388725)"
      ]
     },
     "execution_count": 33,
     "metadata": {},
     "output_type": "execute_result"
    }
   ],
   "source": [
    "levene_temp_interval = stats.levene(weathersit['1'], weathersit['2'], weathersit['3'],center='median')\n",
    "levene_temp_interval # SI CUMPLE"
   ]
  },
  {
   "cell_type": "markdown",
   "metadata": {},
   "source": [
    "    Numéricas"
   ]
  },
  {
   "cell_type": "code",
   "execution_count": 34,
   "metadata": {},
   "outputs": [],
   "source": [
    "\n",
    "# creamos un diccionario para almacenar los resultados de los test\n",
    "resultados = {}\n",
    "\n",
    "# seleccionamos solo las columnas numéricas y eliminamos la columna de precio\n",
    "numericas_col = df.select_dtypes(include = np.number).drop(\"cnt\", axis = 1).columns\n",
    "\n",
    "#iteremos por la lista de las columnas numéricas\n",
    "for col in numericas_col:\n",
    "    # calculamos el p-valor de test\n",
    "    statistic, p_val = levene(df[col], df.cnt, center='median')\n",
    "    # lo almacenamos en el charges\n",
    "    resultados[col] = p_val"
   ]
  },
  {
   "cell_type": "markdown",
   "metadata": {},
   "source": [
    "                    --  SI CUMPLEN TODAS --"
   ]
  },
  {
   "cell_type": "code",
   "execution_count": 35,
   "metadata": {},
   "outputs": [
    {
     "data": {
      "text/plain": [
       "{'temp': 2.483823693494982e-220,\n",
       " 'hum': 2.4852444623529654e-219,\n",
       " 'windspeed': 6.996761844872213e-221}"
      ]
     },
     "execution_count": 35,
     "metadata": {},
     "output_type": "execute_result"
    }
   ],
   "source": [
    "resultados "
   ]
  },
  {
   "cell_type": "markdown",
   "metadata": {},
   "source": [
    "## Asunción independencia (Chi-Cuadrado)"
   ]
  },
  {
   "cell_type": "markdown",
   "metadata": {},
   "source": [
    "\n",
    "| Test Independencia |  Resultado | Conclusión   |\n",
    "|---|---|---|\n",
    "|  p-value > 0.05 | No significativo   | Cumple asunción, tienen varianzas similares|\n",
    "|p-value < 0.05| Significativo| No cumple asunción, no tienen varianzas similares |"
   ]
  },
  {
   "cell_type": "code",
   "execution_count": 36,
   "metadata": {},
   "outputs": [],
   "source": [
    "columnas = df.columns"
   ]
  },
  {
   "cell_type": "code",
   "execution_count": 37,
   "metadata": {},
   "outputs": [
    {
     "data": {
      "text/plain": [
       "[('cnt', 'season_encoding'),\n",
       " ('cnt', 'yr'),\n",
       " ('cnt', 'mnth'),\n",
       " ('cnt', 'day'),\n",
       " ('cnt', 'holiday'),\n",
       " ('cnt', 'weekday'),\n",
       " ('cnt', 'workingday'),\n",
       " ('cnt', 'weathersit'),\n",
       " ('cnt', 'temp'),\n",
       " ('cnt', 'hum'),\n",
       " ('cnt', 'windspeed'),\n",
       " ('season_encoding', 'yr'),\n",
       " ('season_encoding', 'mnth'),\n",
       " ('season_encoding', 'day'),\n",
       " ('season_encoding', 'holiday'),\n",
       " ('season_encoding', 'weekday'),\n",
       " ('season_encoding', 'workingday'),\n",
       " ('season_encoding', 'weathersit'),\n",
       " ('season_encoding', 'temp'),\n",
       " ('season_encoding', 'hum'),\n",
       " ('season_encoding', 'windspeed'),\n",
       " ('yr', 'mnth'),\n",
       " ('yr', 'day'),\n",
       " ('yr', 'holiday'),\n",
       " ('yr', 'weekday'),\n",
       " ('yr', 'workingday'),\n",
       " ('yr', 'weathersit'),\n",
       " ('yr', 'temp'),\n",
       " ('yr', 'hum'),\n",
       " ('yr', 'windspeed'),\n",
       " ('mnth', 'day'),\n",
       " ('mnth', 'holiday'),\n",
       " ('mnth', 'weekday'),\n",
       " ('mnth', 'workingday'),\n",
       " ('mnth', 'weathersit'),\n",
       " ('mnth', 'temp'),\n",
       " ('mnth', 'hum'),\n",
       " ('mnth', 'windspeed'),\n",
       " ('day', 'holiday'),\n",
       " ('day', 'weekday'),\n",
       " ('day', 'workingday'),\n",
       " ('day', 'weathersit'),\n",
       " ('day', 'temp'),\n",
       " ('day', 'hum'),\n",
       " ('day', 'windspeed'),\n",
       " ('holiday', 'weekday'),\n",
       " ('holiday', 'workingday'),\n",
       " ('holiday', 'weathersit'),\n",
       " ('holiday', 'temp'),\n",
       " ('holiday', 'hum'),\n",
       " ('holiday', 'windspeed'),\n",
       " ('weekday', 'workingday'),\n",
       " ('weekday', 'weathersit'),\n",
       " ('weekday', 'temp'),\n",
       " ('weekday', 'hum'),\n",
       " ('weekday', 'windspeed'),\n",
       " ('workingday', 'weathersit'),\n",
       " ('workingday', 'temp'),\n",
       " ('workingday', 'hum'),\n",
       " ('workingday', 'windspeed'),\n",
       " ('weathersit', 'temp'),\n",
       " ('weathersit', 'hum'),\n",
       " ('weathersit', 'windspeed'),\n",
       " ('temp', 'hum'),\n",
       " ('temp', 'windspeed'),\n",
       " ('hum', 'windspeed')]"
      ]
     },
     "execution_count": 37,
     "metadata": {},
     "output_type": "execute_result"
    }
   ],
   "source": [
    "combinaciones = list(itertools.combinations(columnas, 2))\n",
    "combinaciones"
   ]
  },
  {
   "cell_type": "markdown",
   "metadata": {},
   "source": [
    "    Test Chi Cuadrado\n",
    "    Kramer: \n",
    "    de 0-0,1: no hay independencia\n",
    "    de 0,1 - 0,3 independencia baja\n",
    "    0,3 a 0,5 independencia moderada\n",
    "    0,5+ independencia alta\n"
   ]
  },
  {
   "cell_type": "code",
   "execution_count": 38,
   "metadata": {},
   "outputs": [
    {
     "name": "stdout",
     "output_type": "stream",
     "text": [
      "--------------------------------- cnt season_encoding ---------------------------------\n",
      "                   Chi-square test    results\n",
      "0  Pearson Chi-square ( 2082.0) =   2089.9375\n",
      "1                       p-value =      0.4470\n",
      "2                    Cramer's V =      0.9769\n",
      "--------------------------------- cnt yr ---------------------------------\n",
      "                  Chi-square test   results\n",
      "0  Pearson Chi-square ( 694.0) =   706.0000\n",
      "1                      p-value =     0.3676\n",
      "2                   Cramer's V =     0.9834\n",
      "--------------------------------- cnt mnth ---------------------------------\n",
      "                   Chi-square test    results\n",
      "0  Pearson Chi-square ( 7634.0) =   7636.3074\n",
      "1                       p-value =      0.4904\n",
      "2                    Cramer's V =      0.9752\n",
      "--------------------------------- cnt day ---------------------------------\n",
      "                    Chi-square test     results\n",
      "0  Pearson Chi-square ( 20820.0) =   20849.4399\n",
      "1                        p-value =       0.4414\n",
      "2                     Cramer's V =       0.9757\n",
      "--------------------------------- cnt holiday ---------------------------------\n",
      "                  Chi-square test   results\n",
      "0  Pearson Chi-square ( 694.0) =   676.3127\n",
      "1                      p-value =     0.6776\n",
      "2                   Cramer's V =     0.9625\n",
      "--------------------------------- cnt weekday ---------------------------------\n",
      "                   Chi-square test    results\n",
      "0  Pearson Chi-square ( 4164.0) =   4184.1596\n",
      "1                       p-value =      0.4099\n",
      "2                    Cramer's V =      0.9774\n",
      "--------------------------------- cnt workingday ---------------------------------\n",
      "                  Chi-square test   results\n",
      "0  Pearson Chi-square ( 694.0) =   697.6383\n",
      "1                      p-value =     0.4541\n",
      "2                   Cramer's V =     0.9776\n",
      "--------------------------------- cnt weathersit ---------------------------------\n",
      "                   Chi-square test    results\n",
      "0  Pearson Chi-square ( 1388.0) =   1368.4435\n",
      "1                       p-value =      0.6407\n",
      "2                    Cramer's V =      0.9681\n",
      "--------------------------------- cnt temp ---------------------------------\n",
      "                     Chi-square test      results\n",
      "0  Pearson Chi-square ( 174194.0) =   174395.2619\n",
      "1                         p-value =        0.3662\n",
      "2                      Cramer's V =        0.9756\n",
      "--------------------------------- cnt hum ---------------------------------\n",
      "                     Chi-square test      results\n",
      "0  Pearson Chi-square ( 272048.0) =   272947.0000\n",
      "1                         p-value =        0.1115\n",
      "2                      Cramer's V =        0.9766\n",
      "--------------------------------- cnt windspeed ---------------------------------\n",
      "                     Chi-square test      results\n",
      "0  Pearson Chi-square ( 440690.0) =   441479.6667\n",
      "1                         p-value =        0.2001\n",
      "2                      Cramer's V =        0.9759\n",
      "--------------------------------- season_encoding yr ---------------------------------\n",
      "                Chi-square test  results\n",
      "0  Pearson Chi-square ( 3.0) =       0.0\n",
      "1                    p-value =       1.0\n",
      "2                 Cramer's V =       0.0\n",
      "--------------------------------- season_encoding mnth ---------------------------------\n",
      "                 Chi-square test   results\n",
      "0  Pearson Chi-square ( 33.0) =   803.0595\n",
      "1                     p-value =     0.0000\n",
      "2                  Cramer's V =     0.6056\n",
      "--------------------------------- season_encoding day ---------------------------------\n",
      "                 Chi-square test   results\n",
      "0  Pearson Chi-square ( 90.0) =   865.9709\n",
      "1                     p-value =     0.0000\n",
      "2                  Cramer's V =     0.6288\n",
      "--------------------------------- season_encoding holiday ---------------------------------\n",
      "                Chi-square test  results\n",
      "0  Pearson Chi-square ( 3.0) =    4.8984\n",
      "1                    p-value =    0.1794\n",
      "2                 Cramer's V =    0.0819\n",
      "--------------------------------- season_encoding weekday ---------------------------------\n",
      "                 Chi-square test  results\n",
      "0  Pearson Chi-square ( 18.0) =    0.9045\n",
      "1                     p-value =    1.0000\n",
      "2                  Cramer's V =    0.0203\n",
      "--------------------------------- season_encoding workingday ---------------------------------\n",
      "                Chi-square test  results\n",
      "0  Pearson Chi-square ( 3.0) =    0.6389\n",
      "1                    p-value =    0.8875\n",
      "2                 Cramer's V =    0.0296\n",
      "--------------------------------- season_encoding weathersit ---------------------------------\n",
      "                Chi-square test  results\n",
      "0  Pearson Chi-square ( 6.0) =    9.5266\n",
      "1                    p-value =    0.1461\n",
      "2                 Cramer's V =    0.0808\n",
      "--------------------------------- season_encoding temp ---------------------------------\n",
      "                  Chi-square test   results\n",
      "0  Pearson Chi-square ( 753.0) =   933.0807\n",
      "1                      p-value =     0.0000\n",
      "2                   Cramer's V =     0.6527\n",
      "--------------------------------- season_encoding hum ---------------------------------\n",
      "                   Chi-square test    results\n",
      "0  Pearson Chi-square ( 1176.0) =   1180.7088\n",
      "1                       p-value =      0.4559\n",
      "2                    Cramer's V =      0.7343\n",
      "--------------------------------- season_encoding windspeed ---------------------------------\n",
      "                   Chi-square test    results\n",
      "0  Pearson Chi-square ( 1905.0) =   1908.5431\n",
      "1                       p-value =      0.4728\n",
      "2                    Cramer's V =      0.9335\n",
      "--------------------------------- yr mnth ---------------------------------\n",
      "                 Chi-square test  results\n",
      "0  Pearson Chi-square ( 11.0) =       0.0\n",
      "1                     p-value =       1.0\n",
      "2                  Cramer's V =       0.0\n",
      "--------------------------------- yr day ---------------------------------\n",
      "                 Chi-square test  results\n",
      "0  Pearson Chi-square ( 30.0) =       0.0\n",
      "1                     p-value =       1.0\n",
      "2                  Cramer's V =       0.0\n",
      "--------------------------------- yr holiday ---------------------------------\n",
      "                Chi-square test  results\n",
      "0  Pearson Chi-square ( 1.0) =    0.0490\n",
      "1                    p-value =    0.8248\n",
      "2               Cramer's phi =    0.0082\n",
      "--------------------------------- yr weekday ---------------------------------\n",
      "                Chi-square test  results\n",
      "0  Pearson Chi-square ( 6.0) =    0.0383\n",
      "1                    p-value =    1.0000\n",
      "2                 Cramer's V =    0.0072\n",
      "--------------------------------- yr workingday ---------------------------------\n",
      "                Chi-square test  results\n",
      "0  Pearson Chi-square ( 1.0) =    0.0063\n",
      "1                    p-value =    0.9366\n",
      "2               Cramer's phi =    0.0029\n",
      "--------------------------------- yr weathersit ---------------------------------\n",
      "                Chi-square test  results\n",
      "0  Pearson Chi-square ( 2.0) =    4.1347\n",
      "1                    p-value =    0.1265\n",
      "2                 Cramer's V =    0.0753\n",
      "--------------------------------- yr temp ---------------------------------\n",
      "                  Chi-square test   results\n",
      "0  Pearson Chi-square ( 251.0) =   272.5587\n",
      "1                      p-value =     0.1671\n",
      "2                   Cramer's V =     0.6110\n",
      "--------------------------------- yr hum ---------------------------------\n",
      "                  Chi-square test   results\n",
      "0  Pearson Chi-square ( 392.0) =   396.8524\n",
      "1                      p-value =     0.4222\n",
      "2                   Cramer's V =     0.7373\n",
      "--------------------------------- yr windspeed ---------------------------------\n",
      "                  Chi-square test   results\n",
      "0  Pearson Chi-square ( 635.0) =   629.3333\n",
      "1                      p-value =     0.5560\n",
      "2                   Cramer's V =     0.9285\n",
      "--------------------------------- mnth day ---------------------------------\n",
      "                  Chi-square test  results\n",
      "0  Pearson Chi-square ( 330.0) =   13.7841\n",
      "1                      p-value =    1.0000\n",
      "2                   Cramer's V =    0.0414\n",
      "--------------------------------- mnth holiday ---------------------------------\n",
      "                 Chi-square test  results\n",
      "0  Pearson Chi-square ( 11.0) =    9.6832\n",
      "1                     p-value =    0.5591\n",
      "2                  Cramer's V =    0.1152\n",
      "--------------------------------- mnth weekday ---------------------------------\n",
      "                 Chi-square test  results\n",
      "0  Pearson Chi-square ( 66.0) =    3.2503\n",
      "1                     p-value =    1.0000\n",
      "2                  Cramer's V =    0.0272\n",
      "--------------------------------- mnth workingday ---------------------------------\n",
      "                 Chi-square test  results\n",
      "0  Pearson Chi-square ( 11.0) =    2.7826\n",
      "1                     p-value =    0.9933\n",
      "2                  Cramer's V =    0.0617\n",
      "--------------------------------- mnth weathersit ---------------------------------\n",
      "                 Chi-square test  results\n",
      "0  Pearson Chi-square ( 22.0) =   38.9302\n",
      "1                     p-value =    0.0144\n",
      "2                  Cramer's V =    0.1633\n",
      "--------------------------------- mnth temp ---------------------------------\n",
      "                   Chi-square test    results\n",
      "0  Pearson Chi-square ( 2761.0) =   3705.6150\n",
      "1                       p-value =      0.0000\n",
      "2                    Cramer's V =      0.6793\n",
      "--------------------------------- mnth hum ---------------------------------\n",
      "                   Chi-square test    results\n",
      "0  Pearson Chi-square ( 4312.0) =   4304.9787\n",
      "1                       p-value =      0.5273\n",
      "2                    Cramer's V =      0.7322\n",
      "--------------------------------- mnth windspeed ---------------------------------\n",
      "                   Chi-square test    results\n",
      "0  Pearson Chi-square ( 6985.0) =   7023.3831\n",
      "1                       p-value =      0.3708\n",
      "2                    Cramer's V =      0.9352\n",
      "--------------------------------- day holiday ---------------------------------\n",
      "                 Chi-square test  results\n",
      "0  Pearson Chi-square ( 30.0) =   15.7964\n",
      "1                     p-value =    0.9844\n",
      "2                  Cramer's V =    0.1471\n",
      "--------------------------------- day weekday ---------------------------------\n",
      "                  Chi-square test  results\n",
      "0  Pearson Chi-square ( 180.0) =   35.3882\n",
      "1                      p-value =    1.0000\n",
      "2                   Cramer's V =    0.0899\n",
      "--------------------------------- day workingday ---------------------------------\n",
      "                 Chi-square test  results\n",
      "0  Pearson Chi-square ( 30.0) =    6.3049\n",
      "1                     p-value =    1.0000\n",
      "2                  Cramer's V =    0.0929\n",
      "--------------------------------- day weathersit ---------------------------------\n",
      "                 Chi-square test  results\n",
      "0  Pearson Chi-square ( 60.0) =   59.2861\n",
      "1                     p-value =    0.5018\n",
      "2                  Cramer's V =    0.2015\n",
      "--------------------------------- day temp ---------------------------------\n",
      "                   Chi-square test    results\n",
      "0  Pearson Chi-square ( 7530.0) =   7657.6225\n",
      "1                       p-value =      0.1493\n",
      "2                    Cramer's V =      0.5913\n",
      "--------------------------------- day hum ---------------------------------\n",
      "                    Chi-square test     results\n",
      "0  Pearson Chi-square ( 11760.0) =   11804.6195\n",
      "1                        p-value =       0.3840\n",
      "2                     Cramer's V =       0.7342\n",
      "--------------------------------- day windspeed ---------------------------------\n",
      "                    Chi-square test     results\n",
      "0  Pearson Chi-square ( 19050.0) =   18981.8566\n",
      "1                        p-value =       0.6354\n",
      "2                     Cramer's V =       0.9310\n",
      "--------------------------------- holiday weekday ---------------------------------\n",
      "                Chi-square test  results\n",
      "0  Pearson Chi-square ( 6.0) =   58.5190\n",
      "1                    p-value =    0.0000\n",
      "2                 Cramer's V =    0.2831\n",
      "--------------------------------- holiday workingday ---------------------------------\n",
      "                Chi-square test  results\n",
      "0  Pearson Chi-square ( 1.0) =   46.7073\n",
      "1                    p-value =    0.0000\n",
      "2               Cramer's phi =    0.2529\n",
      "--------------------------------- holiday weathersit ---------------------------------\n",
      "                Chi-square test  results\n",
      "0  Pearson Chi-square ( 2.0) =    1.0091\n",
      "1                    p-value =    0.6038\n",
      "2                 Cramer's V =    0.0372\n",
      "--------------------------------- holiday temp ---------------------------------\n",
      "                  Chi-square test   results\n",
      "0  Pearson Chi-square ( 251.0) =   252.2684\n",
      "1                      p-value =     0.4656\n",
      "2                   Cramer's V =     0.5879\n",
      "--------------------------------- holiday hum ---------------------------------\n",
      "                  Chi-square test   results\n",
      "0  Pearson Chi-square ( 392.0) =   302.0356\n",
      "1                      p-value =     0.9997\n",
      "2                   Cramer's V =     0.6432\n",
      "--------------------------------- holiday windspeed ---------------------------------\n",
      "                  Chi-square test   results\n",
      "0  Pearson Chi-square ( 635.0) =   676.3127\n",
      "1                      p-value =     0.1243\n",
      "2                   Cramer's V =     0.9625\n",
      "--------------------------------- weekday workingday ---------------------------------\n",
      "                Chi-square test   results\n",
      "0  Pearson Chi-square ( 6.0) =   643.2665\n",
      "1                    p-value =     0.0000\n",
      "2                 Cramer's V =     0.9387\n",
      "--------------------------------- weekday weathersit ---------------------------------\n",
      "                 Chi-square test  results\n",
      "0  Pearson Chi-square ( 12.0) =   14.5411\n",
      "1                     p-value =    0.2675\n",
      "2                  Cramer's V =    0.0998\n",
      "--------------------------------- weekday temp ---------------------------------\n",
      "                   Chi-square test    results\n",
      "0  Pearson Chi-square ( 1506.0) =   1434.6935\n",
      "1                       p-value =      0.9046\n",
      "2                    Cramer's V =      0.5723\n",
      "--------------------------------- weekday hum ---------------------------------\n",
      "                   Chi-square test    results\n",
      "0  Pearson Chi-square ( 2352.0) =   2373.6285\n",
      "1                       p-value =      0.3729\n",
      "2                    Cramer's V =      0.7362\n",
      "--------------------------------- weekday windspeed ---------------------------------\n",
      "                   Chi-square test    results\n",
      "0  Pearson Chi-square ( 3810.0) =   3810.2113\n",
      "1                       p-value =      0.4960\n",
      "2                    Cramer's V =      0.9327\n",
      "--------------------------------- workingday weathersit ---------------------------------\n",
      "                Chi-square test  results\n",
      "0  Pearson Chi-square ( 2.0) =    2.6512\n",
      "1                    p-value =    0.2656\n",
      "2                 Cramer's V =    0.0603\n",
      "--------------------------------- workingday temp ---------------------------------\n",
      "                  Chi-square test   results\n",
      "0  Pearson Chi-square ( 251.0) =   227.6251\n",
      "1                      p-value =     0.8526\n",
      "2                   Cramer's V =     0.5584\n",
      "--------------------------------- workingday hum ---------------------------------\n",
      "                  Chi-square test   results\n",
      "0  Pearson Chi-square ( 392.0) =   393.6806\n",
      "1                      p-value =     0.4666\n",
      "2                   Cramer's V =     0.7344\n",
      "--------------------------------- workingday windspeed ---------------------------------\n",
      "                  Chi-square test   results\n",
      "0  Pearson Chi-square ( 635.0) =   635.2265\n",
      "1                      p-value =     0.4900\n",
      "2                   Cramer's V =     0.9328\n",
      "--------------------------------- weathersit temp ---------------------------------\n",
      "                  Chi-square test   results\n",
      "0  Pearson Chi-square ( 502.0) =   541.2969\n",
      "1                      p-value =     0.1093\n",
      "2                   Cramer's V =     0.6089\n",
      "--------------------------------- weathersit hum ---------------------------------\n",
      "                  Chi-square test    results\n",
      "0  Pearson Chi-square ( 784.0) =   1084.1822\n",
      "1                      p-value =      0.0000\n",
      "2                   Cramer's V =      0.8617\n",
      "--------------------------------- weathersit windspeed ---------------------------------\n",
      "                   Chi-square test    results\n",
      "0  Pearson Chi-square ( 1270.0) =   1327.0249\n",
      "1                       p-value =      0.1296\n",
      "2                    Cramer's V =      0.9534\n",
      "--------------------------------- temp hum ---------------------------------\n",
      "                    Chi-square test     results\n",
      "0  Pearson Chi-square ( 98392.0) =   97127.6491\n",
      "1                        p-value =       0.9979\n",
      "2                     Cramer's V =       0.7281\n",
      "--------------------------------- temp windspeed ---------------------------------\n",
      "                     Chi-square test      results\n",
      "0  Pearson Chi-square ( 159385.0) =   161203.4184\n",
      "1                         p-value =        0.0007\n",
      "2                      Cramer's V =        0.9380\n",
      "--------------------------------- hum windspeed ---------------------------------\n",
      "                     Chi-square test      results\n",
      "0  Pearson Chi-square ( 248920.0) =   250925.4782\n",
      "1                         p-value =        0.0023\n",
      "2                      Cramer's V =        0.9364\n"
     ]
    }
   ],
   "source": [
    "for par in combinaciones:\n",
    "    crosstab, test_results, expected = rp.crosstab(df[par[0]], df[par[1]],\n",
    "                                               test= \"chi-square\",\n",
    "                                               expected_freqs= True,\n",
    "                                               prop= \"cell\")\n",
    "    print(\"---------------------------------\", par[0], par[1], \"---------------------------------\")\n",
    "    print(test_results)"
   ]
  },
  {
   "cell_type": "markdown",
   "metadata": {},
   "source": [
    "# ANOVA"
   ]
  },
  {
   "cell_type": "markdown",
   "metadata": {},
   "source": [
    "    Ya podemos pasar a la ANOVA después de comprobar si las variables predictoras cumplen las asunciones"
   ]
  },
  {
   "cell_type": "code",
   "execution_count": 39,
   "metadata": {},
   "outputs": [
    {
     "data": {
      "text/plain": [
       "Index(['cnt', 'season_encoding', 'yr', 'mnth', 'day', 'holiday', 'weekday',\n",
       "       'workingday', 'weathersit', 'temp', 'hum', 'windspeed'],\n",
       "      dtype='object')"
      ]
     },
     "execution_count": 39,
     "metadata": {},
     "output_type": "execute_result"
    }
   ],
   "source": [
    "df.columns"
   ]
  },
  {
   "cell_type": "markdown",
   "metadata": {},
   "source": [
    "    Debo estandarizar los datos de las numericas??"
   ]
  },
  {
   "cell_type": "code",
   "execution_count": 40,
   "metadata": {},
   "outputs": [
    {
     "data": {
      "text/html": [
       "<div>\n",
       "<style scoped>\n",
       "    .dataframe tbody tr th:only-of-type {\n",
       "        vertical-align: middle;\n",
       "    }\n",
       "\n",
       "    .dataframe tbody tr th {\n",
       "        vertical-align: top;\n",
       "    }\n",
       "\n",
       "    .dataframe thead th {\n",
       "        text-align: right;\n",
       "    }\n",
       "</style>\n",
       "<table border=\"1\" class=\"dataframe\">\n",
       "  <thead>\n",
       "    <tr style=\"text-align: right;\">\n",
       "      <th></th>\n",
       "      <th>df</th>\n",
       "      <th>sum_sq</th>\n",
       "      <th>mean_sq</th>\n",
       "      <th>F</th>\n",
       "      <th>PR(&gt;F)</th>\n",
       "    </tr>\n",
       "  </thead>\n",
       "  <tbody>\n",
       "    <tr>\n",
       "      <th>season_encoding</th>\n",
       "      <td>3.0</td>\n",
       "      <td>2.965983e+08</td>\n",
       "      <td>9.886610e+07</td>\n",
       "      <td>157.963531</td>\n",
       "      <td>1.775265e-77</td>\n",
       "    </tr>\n",
       "    <tr>\n",
       "      <th>yr</th>\n",
       "      <td>1.0</td>\n",
       "      <td>8.869095e+08</td>\n",
       "      <td>8.869095e+08</td>\n",
       "      <td>1417.061602</td>\n",
       "      <td>1.160184e-167</td>\n",
       "    </tr>\n",
       "    <tr>\n",
       "      <th>mnth</th>\n",
       "      <td>11.0</td>\n",
       "      <td>7.803896e+08</td>\n",
       "      <td>7.094451e+07</td>\n",
       "      <td>113.351749</td>\n",
       "      <td>5.236439e-145</td>\n",
       "    </tr>\n",
       "    <tr>\n",
       "      <th>day</th>\n",
       "      <td>30.0</td>\n",
       "      <td>6.263900e+07</td>\n",
       "      <td>2.087967e+06</td>\n",
       "      <td>3.336053</td>\n",
       "      <td>1.043850e-08</td>\n",
       "    </tr>\n",
       "    <tr>\n",
       "      <th>holiday</th>\n",
       "      <td>1.0</td>\n",
       "      <td>8.356054e+06</td>\n",
       "      <td>8.356054e+06</td>\n",
       "      <td>13.350904</td>\n",
       "      <td>2.784305e-04</td>\n",
       "    </tr>\n",
       "    <tr>\n",
       "      <th>weekday</th>\n",
       "      <td>6.0</td>\n",
       "      <td>1.555021e+07</td>\n",
       "      <td>2.591702e+06</td>\n",
       "      <td>4.140898</td>\n",
       "      <td>4.279602e-04</td>\n",
       "    </tr>\n",
       "    <tr>\n",
       "      <th>workingday</th>\n",
       "      <td>1.0</td>\n",
       "      <td>1.100045e+06</td>\n",
       "      <td>1.100045e+06</td>\n",
       "      <td>1.757599</td>\n",
       "      <td>1.853747e-01</td>\n",
       "    </tr>\n",
       "    <tr>\n",
       "      <th>weathersit</th>\n",
       "      <td>2.0</td>\n",
       "      <td>1.740145e+08</td>\n",
       "      <td>8.700727e+07</td>\n",
       "      <td>139.016064</td>\n",
       "      <td>2.992330e-51</td>\n",
       "    </tr>\n",
       "    <tr>\n",
       "      <th>temp</th>\n",
       "      <td>1.0</td>\n",
       "      <td>5.589275e+07</td>\n",
       "      <td>5.589275e+07</td>\n",
       "      <td>89.302758</td>\n",
       "      <td>5.514519e-20</td>\n",
       "    </tr>\n",
       "    <tr>\n",
       "      <th>hum</th>\n",
       "      <td>1.0</td>\n",
       "      <td>6.484288e+06</td>\n",
       "      <td>6.484288e+06</td>\n",
       "      <td>10.360286</td>\n",
       "      <td>1.349474e-03</td>\n",
       "    </tr>\n",
       "    <tr>\n",
       "      <th>windspeed</th>\n",
       "      <td>1.0</td>\n",
       "      <td>2.388205e+07</td>\n",
       "      <td>2.388205e+07</td>\n",
       "      <td>38.157601</td>\n",
       "      <td>1.130250e-09</td>\n",
       "    </tr>\n",
       "    <tr>\n",
       "      <th>Residual</th>\n",
       "      <td>672.0</td>\n",
       "      <td>4.205909e+08</td>\n",
       "      <td>6.258793e+05</td>\n",
       "      <td>NaN</td>\n",
       "      <td>NaN</td>\n",
       "    </tr>\n",
       "  </tbody>\n",
       "</table>\n",
       "</div>"
      ],
      "text/plain": [
       "                    df        sum_sq       mean_sq            F         PR(>F)\n",
       "season_encoding    3.0  2.965983e+08  9.886610e+07   157.963531   1.775265e-77\n",
       "yr                 1.0  8.869095e+08  8.869095e+08  1417.061602  1.160184e-167\n",
       "mnth              11.0  7.803896e+08  7.094451e+07   113.351749  5.236439e-145\n",
       "day               30.0  6.263900e+07  2.087967e+06     3.336053   1.043850e-08\n",
       "holiday            1.0  8.356054e+06  8.356054e+06    13.350904   2.784305e-04\n",
       "weekday            6.0  1.555021e+07  2.591702e+06     4.140898   4.279602e-04\n",
       "workingday         1.0  1.100045e+06  1.100045e+06     1.757599   1.853747e-01\n",
       "weathersit         2.0  1.740145e+08  8.700727e+07   139.016064   2.992330e-51\n",
       "temp               1.0  5.589275e+07  5.589275e+07    89.302758   5.514519e-20\n",
       "hum                1.0  6.484288e+06  6.484288e+06    10.360286   1.349474e-03\n",
       "windspeed          1.0  2.388205e+07  2.388205e+07    38.157601   1.130250e-09\n",
       "Residual         672.0  4.205909e+08  6.258793e+05          NaN            NaN"
      ]
     },
     "execution_count": 40,
     "metadata": {},
     "output_type": "execute_result"
    }
   ],
   "source": [
    "lm = ols('cnt ~ season_encoding + yr + mnth + day + holiday + weekday + workingday + weathersit + temp + hum +  windspeed' , data=df).fit()\n",
    "sm.stats.anova_lm(lm)"
   ]
  },
  {
   "cell_type": "code",
   "execution_count": 41,
   "metadata": {},
   "outputs": [
    {
     "data": {
      "text/html": [
       "<table class=\"simpletable\">\n",
       "<caption>OLS Regression Results</caption>\n",
       "<tr>\n",
       "  <th>Dep. Variable:</th>           <td>cnt</td>       <th>  R-squared:         </th> <td>   0.846</td> \n",
       "</tr>\n",
       "<tr>\n",
       "  <th>Model:</th>                   <td>OLS</td>       <th>  Adj. R-squared:    </th> <td>   0.833</td> \n",
       "</tr>\n",
       "<tr>\n",
       "  <th>Method:</th>             <td>Least Squares</td>  <th>  F-statistic:       </th> <td>   64.80</td> \n",
       "</tr>\n",
       "<tr>\n",
       "  <th>Date:</th>             <td>Mon, 13 Jun 2022</td> <th>  Prob (F-statistic):</th> <td>1.44e-234</td>\n",
       "</tr>\n",
       "<tr>\n",
       "  <th>Time:</th>                 <td>15:43:50</td>     <th>  Log-Likelihood:    </th> <td> -5877.2</td> \n",
       "</tr>\n",
       "<tr>\n",
       "  <th>No. Observations:</th>      <td>   730</td>      <th>  AIC:               </th> <td>1.187e+04</td>\n",
       "</tr>\n",
       "<tr>\n",
       "  <th>Df Residuals:</th>          <td>   672</td>      <th>  BIC:               </th> <td>1.214e+04</td>\n",
       "</tr>\n",
       "<tr>\n",
       "  <th>Df Model:</th>              <td>    57</td>      <th>                     </th>     <td> </td>    \n",
       "</tr>\n",
       "<tr>\n",
       "  <th>Covariance Type:</th>      <td>nonrobust</td>    <th>                     </th>     <td> </td>    \n",
       "</tr>\n",
       "</table>\n",
       "<table class=\"simpletable\">\n",
       "<tr>\n",
       "            <td></td>              <th>coef</th>     <th>std err</th>      <th>t</th>      <th>P>|t|</th>  <th>[0.025</th>    <th>0.975]</th>  \n",
       "</tr>\n",
       "<tr>\n",
       "  <th>Intercept</th>            <td> 1053.5278</td> <td>  302.796</td> <td>    3.479</td> <td> 0.001</td> <td>  458.987</td> <td> 1648.069</td>\n",
       "</tr>\n",
       "<tr>\n",
       "  <th>season_encoding[T.2]</th> <td> -308.4979</td> <td>  170.782</td> <td>   -1.806</td> <td> 0.071</td> <td> -643.829</td> <td>   26.833</td>\n",
       "</tr>\n",
       "<tr>\n",
       "  <th>season_encoding[T.3]</th> <td>  -22.0288</td> <td>  174.971</td> <td>   -0.126</td> <td> 0.900</td> <td> -365.584</td> <td>  321.526</td>\n",
       "</tr>\n",
       "<tr>\n",
       "  <th>season_encoding[T.4]</th> <td>-1075.2111</td> <td>  172.586</td> <td>   -6.230</td> <td> 0.000</td> <td>-1414.084</td> <td> -736.338</td>\n",
       "</tr>\n",
       "<tr>\n",
       "  <th>yr[T.1]</th>              <td> 2017.2122</td> <td>   60.211</td> <td>   33.503</td> <td> 0.000</td> <td> 1898.988</td> <td> 2135.436</td>\n",
       "</tr>\n",
       "<tr>\n",
       "  <th>mnth[T.2]</th>            <td>  134.9292</td> <td>  149.086</td> <td>    0.905</td> <td> 0.366</td> <td> -157.802</td> <td>  427.660</td>\n",
       "</tr>\n",
       "<tr>\n",
       "  <th>mnth[T.3]</th>            <td>  846.6635</td> <td>  157.602</td> <td>    5.372</td> <td> 0.000</td> <td>  537.212</td> <td> 1156.115</td>\n",
       "</tr>\n",
       "<tr>\n",
       "  <th>mnth[T.4]</th>            <td> 1531.2036</td> <td>  204.252</td> <td>    7.497</td> <td> 0.000</td> <td> 1130.155</td> <td> 1932.252</td>\n",
       "</tr>\n",
       "<tr>\n",
       "  <th>mnth[T.5]</th>            <td> 1818.9226</td> <td>  231.488</td> <td>    7.858</td> <td> 0.000</td> <td> 1364.395</td> <td> 2273.450</td>\n",
       "</tr>\n",
       "<tr>\n",
       "  <th>mnth[T.6]</th>            <td> 1575.1935</td> <td>  263.376</td> <td>    5.981</td> <td> 0.000</td> <td> 1058.054</td> <td> 2092.333</td>\n",
       "</tr>\n",
       "<tr>\n",
       "  <th>mnth[T.7]</th>            <td>  886.0844</td> <td>  305.986</td> <td>    2.896</td> <td> 0.004</td> <td>  285.281</td> <td> 1486.888</td>\n",
       "</tr>\n",
       "<tr>\n",
       "  <th>mnth[T.8]</th>            <td> 1269.6197</td> <td>  287.765</td> <td>    4.412</td> <td> 0.000</td> <td>  704.594</td> <td> 1834.646</td>\n",
       "</tr>\n",
       "<tr>\n",
       "  <th>mnth[T.9]</th>            <td> 2050.9704</td> <td>  256.539</td> <td>    7.995</td> <td> 0.000</td> <td> 1547.256</td> <td> 2554.685</td>\n",
       "</tr>\n",
       "<tr>\n",
       "  <th>mnth[T.10]</th>           <td> 2746.0005</td> <td>  215.957</td> <td>   12.715</td> <td> 0.000</td> <td> 2321.969</td> <td> 3170.032</td>\n",
       "</tr>\n",
       "<tr>\n",
       "  <th>mnth[T.11]</th>           <td> 2141.0754</td> <td>  191.897</td> <td>   11.157</td> <td> 0.000</td> <td> 1764.285</td> <td> 2517.866</td>\n",
       "</tr>\n",
       "<tr>\n",
       "  <th>mnth[T.12]</th>           <td> 1589.8065</td> <td>  185.593</td> <td>    8.566</td> <td> 0.000</td> <td> 1225.394</td> <td> 1954.219</td>\n",
       "</tr>\n",
       "<tr>\n",
       "  <th>day[T.2]</th>             <td>  208.9083</td> <td>  229.203</td> <td>    0.911</td> <td> 0.362</td> <td> -241.132</td> <td>  658.948</td>\n",
       "</tr>\n",
       "<tr>\n",
       "  <th>day[T.3]</th>             <td>  331.1072</td> <td>  229.283</td> <td>    1.444</td> <td> 0.149</td> <td> -119.090</td> <td>  781.304</td>\n",
       "</tr>\n",
       "<tr>\n",
       "  <th>day[T.4]</th>             <td>  722.6532</td> <td>  285.970</td> <td>    2.527</td> <td> 0.012</td> <td>  161.151</td> <td> 1284.156</td>\n",
       "</tr>\n",
       "<tr>\n",
       "  <th>day[T.5]</th>             <td>  566.4052</td> <td>  285.787</td> <td>    1.982</td> <td> 0.048</td> <td>    5.263</td> <td> 1127.547</td>\n",
       "</tr>\n",
       "<tr>\n",
       "  <th>day[T.6]</th>             <td>  695.4048</td> <td>  286.340</td> <td>    2.429</td> <td> 0.015</td> <td>  133.177</td> <td> 1257.633</td>\n",
       "</tr>\n",
       "<tr>\n",
       "  <th>day[T.7]</th>             <td>  156.1130</td> <td>  288.413</td> <td>    0.541</td> <td> 0.588</td> <td> -410.186</td> <td>  722.412</td>\n",
       "</tr>\n",
       "<tr>\n",
       "  <th>day[T.8]</th>             <td>  102.1095</td> <td>  288.140</td> <td>    0.354</td> <td> 0.723</td> <td> -463.654</td> <td>  667.873</td>\n",
       "</tr>\n",
       "<tr>\n",
       "  <th>day[T.9]</th>             <td>  271.2148</td> <td>  286.920</td> <td>    0.945</td> <td> 0.345</td> <td> -292.153</td> <td>  834.583</td>\n",
       "</tr>\n",
       "<tr>\n",
       "  <th>day[T.10]</th>            <td> 1440.9054</td> <td>  286.833</td> <td>    5.023</td> <td> 0.000</td> <td>  877.708</td> <td> 2004.103</td>\n",
       "</tr>\n",
       "<tr>\n",
       "  <th>day[T.11]</th>            <td> 1533.7674</td> <td>  286.161</td> <td>    5.360</td> <td> 0.000</td> <td>  971.889</td> <td> 2095.645</td>\n",
       "</tr>\n",
       "<tr>\n",
       "  <th>day[T.12]</th>            <td> 1355.8208</td> <td>  287.312</td> <td>    4.719</td> <td> 0.000</td> <td>  791.684</td> <td> 1919.957</td>\n",
       "</tr>\n",
       "<tr>\n",
       "  <th>day[T.13]</th>            <td>  667.5143</td> <td>  252.873</td> <td>    2.640</td> <td> 0.008</td> <td>  170.997</td> <td> 1164.031</td>\n",
       "</tr>\n",
       "<tr>\n",
       "  <th>day[T.14]</th>            <td>  599.4625</td> <td>  252.200</td> <td>    2.377</td> <td> 0.018</td> <td>  104.268</td> <td> 1094.657</td>\n",
       "</tr>\n",
       "<tr>\n",
       "  <th>day[T.15]</th>            <td>  858.8688</td> <td>  252.448</td> <td>    3.402</td> <td> 0.001</td> <td>  363.187</td> <td> 1354.551</td>\n",
       "</tr>\n",
       "<tr>\n",
       "  <th>day[T.16]</th>            <td>  806.4521</td> <td>  253.183</td> <td>    3.185</td> <td> 0.002</td> <td>  309.328</td> <td> 1303.576</td>\n",
       "</tr>\n",
       "<tr>\n",
       "  <th>day[T.17]</th>            <td>  975.6708</td> <td>  252.563</td> <td>    3.863</td> <td> 0.000</td> <td>  479.762</td> <td> 1471.579</td>\n",
       "</tr>\n",
       "<tr>\n",
       "  <th>day[T.18]</th>            <td>  516.9351</td> <td>  252.401</td> <td>    2.048</td> <td> 0.041</td> <td>   21.346</td> <td> 1012.525</td>\n",
       "</tr>\n",
       "<tr>\n",
       "  <th>day[T.19]</th>            <td>  657.8317</td> <td>  251.960</td> <td>    2.611</td> <td> 0.009</td> <td>  163.108</td> <td> 1152.556</td>\n",
       "</tr>\n",
       "<tr>\n",
       "  <th>day[T.20]</th>            <td>  772.7934</td> <td>  252.004</td> <td>    3.067</td> <td> 0.002</td> <td>  277.983</td> <td> 1267.604</td>\n",
       "</tr>\n",
       "<tr>\n",
       "  <th>day[T.21]</th>            <td>  690.0279</td> <td>  253.048</td> <td>    2.727</td> <td> 0.007</td> <td>  193.168</td> <td> 1186.888</td>\n",
       "</tr>\n",
       "<tr>\n",
       "  <th>day[T.22]</th>            <td>  296.1050</td> <td>  252.816</td> <td>    1.171</td> <td> 0.242</td> <td> -200.300</td> <td>  792.510</td>\n",
       "</tr>\n",
       "<tr>\n",
       "  <th>day[T.23]</th>            <td>  500.5820</td> <td>  251.909</td> <td>    1.987</td> <td> 0.047</td> <td>    5.959</td> <td>  995.205</td>\n",
       "</tr>\n",
       "<tr>\n",
       "  <th>day[T.24]</th>            <td>  366.2885</td> <td>  252.196</td> <td>    1.452</td> <td> 0.147</td> <td> -128.899</td> <td>  861.476</td>\n",
       "</tr>\n",
       "<tr>\n",
       "  <th>day[T.25]</th>            <td>  399.7895</td> <td>  252.232</td> <td>    1.585</td> <td> 0.113</td> <td>  -95.468</td> <td>  895.047</td>\n",
       "</tr>\n",
       "<tr>\n",
       "  <th>day[T.26]</th>            <td>  582.1133</td> <td>  253.080</td> <td>    2.300</td> <td> 0.022</td> <td>   85.191</td> <td> 1079.035</td>\n",
       "</tr>\n",
       "<tr>\n",
       "  <th>day[T.27]</th>            <td>  410.2954</td> <td>  252.941</td> <td>    1.622</td> <td> 0.105</td> <td>  -86.354</td> <td>  906.945</td>\n",
       "</tr>\n",
       "<tr>\n",
       "  <th>day[T.28]</th>            <td>  385.6384</td> <td>  252.964</td> <td>    1.524</td> <td> 0.128</td> <td> -111.056</td> <td>  882.333</td>\n",
       "</tr>\n",
       "<tr>\n",
       "  <th>day[T.29]</th>            <td>  224.7160</td> <td>  260.300</td> <td>    0.863</td> <td> 0.388</td> <td> -286.383</td> <td>  735.815</td>\n",
       "</tr>\n",
       "<tr>\n",
       "  <th>day[T.30]</th>            <td>  399.0228</td> <td>  259.085</td> <td>    1.540</td> <td> 0.124</td> <td> -109.690</td> <td>  907.736</td>\n",
       "</tr>\n",
       "<tr>\n",
       "  <th>day[T.31]</th>            <td>  684.7541</td> <td>  287.817</td> <td>    2.379</td> <td> 0.018</td> <td>  119.626</td> <td> 1249.882</td>\n",
       "</tr>\n",
       "<tr>\n",
       "  <th>holiday[T.1]</th>         <td> -414.0308</td> <td>  166.788</td> <td>   -2.482</td> <td> 0.013</td> <td> -741.518</td> <td>  -86.543</td>\n",
       "</tr>\n",
       "<tr>\n",
       "  <th>weekday[T.1]</th>         <td> -144.3404</td> <td>   73.884</td> <td>   -1.954</td> <td> 0.051</td> <td> -289.412</td> <td>    0.731</td>\n",
       "</tr>\n",
       "<tr>\n",
       "  <th>weekday[T.2]</th>         <td>  -46.7825</td> <td>   79.989</td> <td>   -0.585</td> <td> 0.559</td> <td> -203.840</td> <td>  110.275</td>\n",
       "</tr>\n",
       "<tr>\n",
       "  <th>weekday[T.3]</th>         <td>   36.4968</td> <td>   80.370</td> <td>    0.454</td> <td> 0.650</td> <td> -121.311</td> <td>  194.304</td>\n",
       "</tr>\n",
       "<tr>\n",
       "  <th>weekday[T.4]</th>         <td>   35.6871</td> <td>   79.416</td> <td>    0.449</td> <td> 0.653</td> <td> -120.246</td> <td>  191.620</td>\n",
       "</tr>\n",
       "<tr>\n",
       "  <th>weekday[T.5]</th>         <td>   62.9248</td> <td>   79.489</td> <td>    0.792</td> <td> 0.429</td> <td>  -93.152</td> <td>  219.001</td>\n",
       "</tr>\n",
       "<tr>\n",
       "  <th>weekday[T.6]</th>         <td>  419.8685</td> <td>  110.086</td> <td>    3.814</td> <td> 0.000</td> <td>  203.714</td> <td>  636.023</td>\n",
       "</tr>\n",
       "<tr>\n",
       "  <th>workingday[T.1]</th>      <td>  358.0166</td> <td>   69.321</td> <td>    5.165</td> <td> 0.000</td> <td>  221.904</td> <td>  494.129</td>\n",
       "</tr>\n",
       "<tr>\n",
       "  <th>weathersit[T.2]</th>      <td> -426.7794</td> <td>   82.771</td> <td>   -5.156</td> <td> 0.000</td> <td> -589.300</td> <td> -264.259</td>\n",
       "</tr>\n",
       "<tr>\n",
       "  <th>weathersit[T.3]</th>      <td>-1890.9845</td> <td>  213.075</td> <td>   -8.875</td> <td> 0.000</td> <td>-2309.358</td> <td>-1472.611</td>\n",
       "</tr>\n",
       "<tr>\n",
       "  <th>temp</th>                 <td>  108.9136</td> <td>   10.783</td> <td>   10.101</td> <td> 0.000</td> <td>   87.742</td> <td>  130.085</td>\n",
       "</tr>\n",
       "<tr>\n",
       "  <th>hum</th>                  <td>  -15.0386</td> <td>    3.219</td> <td>   -4.671</td> <td> 0.000</td> <td>  -21.360</td> <td>   -8.718</td>\n",
       "</tr>\n",
       "<tr>\n",
       "  <th>windspeed</th>            <td>  -42.3729</td> <td>    6.847</td> <td>   -6.189</td> <td> 0.000</td> <td>  -55.816</td> <td>  -28.929</td>\n",
       "</tr>\n",
       "</table>\n",
       "<table class=\"simpletable\">\n",
       "<tr>\n",
       "  <th>Omnibus:</th>       <td>71.749</td> <th>  Durbin-Watson:     </th> <td>   1.116</td>\n",
       "</tr>\n",
       "<tr>\n",
       "  <th>Prob(Omnibus):</th> <td> 0.000</td> <th>  Jarque-Bera (JB):  </th> <td> 142.858</td>\n",
       "</tr>\n",
       "<tr>\n",
       "  <th>Skew:</th>          <td>-0.601</td> <th>  Prob(JB):          </th> <td>9.52e-32</td>\n",
       "</tr>\n",
       "<tr>\n",
       "  <th>Kurtosis:</th>      <td> 4.804</td> <th>  Cond. No.          </th> <td>1.71e+17</td>\n",
       "</tr>\n",
       "</table><br/><br/>Notes:<br/>[1] Standard Errors assume that the covariance matrix of the errors is correctly specified.<br/>[2] The smallest eigenvalue is 1.17e-28. This might indicate that there are<br/>strong multicollinearity problems or that the design matrix is singular."
      ],
      "text/plain": [
       "<class 'statsmodels.iolib.summary.Summary'>\n",
       "\"\"\"\n",
       "                            OLS Regression Results                            \n",
       "==============================================================================\n",
       "Dep. Variable:                    cnt   R-squared:                       0.846\n",
       "Model:                            OLS   Adj. R-squared:                  0.833\n",
       "Method:                 Least Squares   F-statistic:                     64.80\n",
       "Date:                Mon, 13 Jun 2022   Prob (F-statistic):          1.44e-234\n",
       "Time:                        15:43:50   Log-Likelihood:                -5877.2\n",
       "No. Observations:                 730   AIC:                         1.187e+04\n",
       "Df Residuals:                     672   BIC:                         1.214e+04\n",
       "Df Model:                          57                                         \n",
       "Covariance Type:            nonrobust                                         \n",
       "========================================================================================\n",
       "                           coef    std err          t      P>|t|      [0.025      0.975]\n",
       "----------------------------------------------------------------------------------------\n",
       "Intercept             1053.5278    302.796      3.479      0.001     458.987    1648.069\n",
       "season_encoding[T.2]  -308.4979    170.782     -1.806      0.071    -643.829      26.833\n",
       "season_encoding[T.3]   -22.0288    174.971     -0.126      0.900    -365.584     321.526\n",
       "season_encoding[T.4] -1075.2111    172.586     -6.230      0.000   -1414.084    -736.338\n",
       "yr[T.1]               2017.2122     60.211     33.503      0.000    1898.988    2135.436\n",
       "mnth[T.2]              134.9292    149.086      0.905      0.366    -157.802     427.660\n",
       "mnth[T.3]              846.6635    157.602      5.372      0.000     537.212    1156.115\n",
       "mnth[T.4]             1531.2036    204.252      7.497      0.000    1130.155    1932.252\n",
       "mnth[T.5]             1818.9226    231.488      7.858      0.000    1364.395    2273.450\n",
       "mnth[T.6]             1575.1935    263.376      5.981      0.000    1058.054    2092.333\n",
       "mnth[T.7]              886.0844    305.986      2.896      0.004     285.281    1486.888\n",
       "mnth[T.8]             1269.6197    287.765      4.412      0.000     704.594    1834.646\n",
       "mnth[T.9]             2050.9704    256.539      7.995      0.000    1547.256    2554.685\n",
       "mnth[T.10]            2746.0005    215.957     12.715      0.000    2321.969    3170.032\n",
       "mnth[T.11]            2141.0754    191.897     11.157      0.000    1764.285    2517.866\n",
       "mnth[T.12]            1589.8065    185.593      8.566      0.000    1225.394    1954.219\n",
       "day[T.2]               208.9083    229.203      0.911      0.362    -241.132     658.948\n",
       "day[T.3]               331.1072    229.283      1.444      0.149    -119.090     781.304\n",
       "day[T.4]               722.6532    285.970      2.527      0.012     161.151    1284.156\n",
       "day[T.5]               566.4052    285.787      1.982      0.048       5.263    1127.547\n",
       "day[T.6]               695.4048    286.340      2.429      0.015     133.177    1257.633\n",
       "day[T.7]               156.1130    288.413      0.541      0.588    -410.186     722.412\n",
       "day[T.8]               102.1095    288.140      0.354      0.723    -463.654     667.873\n",
       "day[T.9]               271.2148    286.920      0.945      0.345    -292.153     834.583\n",
       "day[T.10]             1440.9054    286.833      5.023      0.000     877.708    2004.103\n",
       "day[T.11]             1533.7674    286.161      5.360      0.000     971.889    2095.645\n",
       "day[T.12]             1355.8208    287.312      4.719      0.000     791.684    1919.957\n",
       "day[T.13]              667.5143    252.873      2.640      0.008     170.997    1164.031\n",
       "day[T.14]              599.4625    252.200      2.377      0.018     104.268    1094.657\n",
       "day[T.15]              858.8688    252.448      3.402      0.001     363.187    1354.551\n",
       "day[T.16]              806.4521    253.183      3.185      0.002     309.328    1303.576\n",
       "day[T.17]              975.6708    252.563      3.863      0.000     479.762    1471.579\n",
       "day[T.18]              516.9351    252.401      2.048      0.041      21.346    1012.525\n",
       "day[T.19]              657.8317    251.960      2.611      0.009     163.108    1152.556\n",
       "day[T.20]              772.7934    252.004      3.067      0.002     277.983    1267.604\n",
       "day[T.21]              690.0279    253.048      2.727      0.007     193.168    1186.888\n",
       "day[T.22]              296.1050    252.816      1.171      0.242    -200.300     792.510\n",
       "day[T.23]              500.5820    251.909      1.987      0.047       5.959     995.205\n",
       "day[T.24]              366.2885    252.196      1.452      0.147    -128.899     861.476\n",
       "day[T.25]              399.7895    252.232      1.585      0.113     -95.468     895.047\n",
       "day[T.26]              582.1133    253.080      2.300      0.022      85.191    1079.035\n",
       "day[T.27]              410.2954    252.941      1.622      0.105     -86.354     906.945\n",
       "day[T.28]              385.6384    252.964      1.524      0.128    -111.056     882.333\n",
       "day[T.29]              224.7160    260.300      0.863      0.388    -286.383     735.815\n",
       "day[T.30]              399.0228    259.085      1.540      0.124    -109.690     907.736\n",
       "day[T.31]              684.7541    287.817      2.379      0.018     119.626    1249.882\n",
       "holiday[T.1]          -414.0308    166.788     -2.482      0.013    -741.518     -86.543\n",
       "weekday[T.1]          -144.3404     73.884     -1.954      0.051    -289.412       0.731\n",
       "weekday[T.2]           -46.7825     79.989     -0.585      0.559    -203.840     110.275\n",
       "weekday[T.3]            36.4968     80.370      0.454      0.650    -121.311     194.304\n",
       "weekday[T.4]            35.6871     79.416      0.449      0.653    -120.246     191.620\n",
       "weekday[T.5]            62.9248     79.489      0.792      0.429     -93.152     219.001\n",
       "weekday[T.6]           419.8685    110.086      3.814      0.000     203.714     636.023\n",
       "workingday[T.1]        358.0166     69.321      5.165      0.000     221.904     494.129\n",
       "weathersit[T.2]       -426.7794     82.771     -5.156      0.000    -589.300    -264.259\n",
       "weathersit[T.3]      -1890.9845    213.075     -8.875      0.000   -2309.358   -1472.611\n",
       "temp                   108.9136     10.783     10.101      0.000      87.742     130.085\n",
       "hum                    -15.0386      3.219     -4.671      0.000     -21.360      -8.718\n",
       "windspeed              -42.3729      6.847     -6.189      0.000     -55.816     -28.929\n",
       "==============================================================================\n",
       "Omnibus:                       71.749   Durbin-Watson:                   1.116\n",
       "Prob(Omnibus):                  0.000   Jarque-Bera (JB):              142.858\n",
       "Skew:                          -0.601   Prob(JB):                     9.52e-32\n",
       "Kurtosis:                       4.804   Cond. No.                     1.71e+17\n",
       "==============================================================================\n",
       "\n",
       "Notes:\n",
       "[1] Standard Errors assume that the covariance matrix of the errors is correctly specified.\n",
       "[2] The smallest eigenvalue is 1.17e-28. This might indicate that there are\n",
       "strong multicollinearity problems or that the design matrix is singular.\n",
       "\"\"\""
      ]
     },
     "execution_count": 41,
     "metadata": {},
     "output_type": "execute_result"
    }
   ],
   "source": [
    "lm.summary()"
   ]
  },
  {
   "cell_type": "markdown",
   "metadata": {},
   "source": [
    "# VIF - REpasar no me sale"
   ]
  },
  {
   "cell_type": "code",
   "execution_count": 42,
   "metadata": {},
   "outputs": [],
   "source": [
    "def get_VIF(dataframe, target):\n",
    "        X = add_constant(dataframe.loc[:, dataframe.columns != target])\n",
    "        seriesObject = pd.Series([variance_inflation_factor(X.values,i) for i in range(X.shape[1])] , index=X.columns,).sort_values(ascending= False)\n",
    "        return seriesObject"
   ]
  },
  {
   "cell_type": "code",
   "execution_count": null,
   "metadata": {},
   "outputs": [],
   "source": [
    "get_VIF(df, 'cnt')"
   ]
  },
  {
   "cell_type": "markdown",
   "metadata": {},
   "source": [
    "# Regresion Lineal"
   ]
  },
  {
   "cell_type": "markdown",
   "metadata": {},
   "source": [
    "    Prueba con los datos tal cualen DF"
   ]
  },
  {
   "cell_type": "code",
   "execution_count": null,
   "metadata": {},
   "outputs": [
    {
     "data": {
      "text/html": [
       "<div>\n",
       "<style scoped>\n",
       "    .dataframe tbody tr th:only-of-type {\n",
       "        vertical-align: middle;\n",
       "    }\n",
       "\n",
       "    .dataframe tbody tr th {\n",
       "        vertical-align: top;\n",
       "    }\n",
       "\n",
       "    .dataframe thead th {\n",
       "        text-align: right;\n",
       "    }\n",
       "</style>\n",
       "<table border=\"1\" class=\"dataframe\">\n",
       "  <thead>\n",
       "    <tr style=\"text-align: right;\">\n",
       "      <th></th>\n",
       "      <th>cnt</th>\n",
       "      <th>season_encoding</th>\n",
       "      <th>yr</th>\n",
       "      <th>mnth</th>\n",
       "      <th>day</th>\n",
       "      <th>holiday</th>\n",
       "      <th>weekday</th>\n",
       "      <th>workingday</th>\n",
       "      <th>weathersit</th>\n",
       "      <th>temp</th>\n",
       "      <th>hum</th>\n",
       "      <th>windspeed</th>\n",
       "    </tr>\n",
       "  </thead>\n",
       "  <tbody>\n",
       "    <tr>\n",
       "      <th>0</th>\n",
       "      <td>985</td>\n",
       "      <td>1</td>\n",
       "      <td>0</td>\n",
       "      <td>1</td>\n",
       "      <td>1</td>\n",
       "      <td>0</td>\n",
       "      <td>6</td>\n",
       "      <td>0</td>\n",
       "      <td>2</td>\n",
       "      <td>14.1</td>\n",
       "      <td>80.6</td>\n",
       "      <td>10.749882</td>\n",
       "    </tr>\n",
       "    <tr>\n",
       "      <th>1</th>\n",
       "      <td>801</td>\n",
       "      <td>1</td>\n",
       "      <td>0</td>\n",
       "      <td>1</td>\n",
       "      <td>2</td>\n",
       "      <td>0</td>\n",
       "      <td>0</td>\n",
       "      <td>0</td>\n",
       "      <td>2</td>\n",
       "      <td>14.9</td>\n",
       "      <td>69.6</td>\n",
       "      <td>16.652113</td>\n",
       "    </tr>\n",
       "  </tbody>\n",
       "</table>\n",
       "</div>"
      ],
      "text/plain": [
       "   cnt season_encoding yr mnth day  ... workingday weathersit  temp   hum  windspeed\n",
       "0  985               1  0    1   1  ...          0          2  14.1  80.6  10.749882\n",
       "1  801               1  0    1   2  ...          0          2  14.9  69.6  16.652113\n",
       "\n",
       "[2 rows x 12 columns]"
      ]
     },
     "execution_count": 245,
     "metadata": {},
     "output_type": "execute_result"
    }
   ],
   "source": [
    "df.head(2)"
   ]
  },
  {
   "cell_type": "code",
   "execution_count": null,
   "metadata": {},
   "outputs": [],
   "source": [
    "# lo primero que hacemos es definir cual es nuestra variable Y y nuestras variables X\n",
    "X = df.drop('cnt', axis =1)\n",
    "y = df['cnt']"
   ]
  },
  {
   "cell_type": "code",
   "execution_count": null,
   "metadata": {},
   "outputs": [
    {
     "data": {
      "text/plain": [
       "LinearRegression()"
      ]
     },
     "execution_count": 236,
     "metadata": {},
     "output_type": "execute_result"
    }
   ],
   "source": [
    "X_train, X_test, y_train, y_test = train_test_split(X, y, train_size   = 0.8, random_state = 42)\n",
    "lr = LinearRegression()\n",
    "lr.fit(X_train, y_train)\n",
    "y_pred_train = lr.predict(X_train)\n",
    "y_pred_test = lr.predict(X_test)"
   ]
  },
  {
   "cell_type": "code",
   "execution_count": null,
   "metadata": {},
   "outputs": [],
   "source": [
    "def metricas(y_test, y_train, y_test_pred, y_train_pred):\n",
    "    \n",
    "    \n",
    "    resultados = {'MAE': [metrics.mean_absolute_error(y_test, y_test_pred), metrics.mean_absolute_error(y_train, y_train_pred)],\n",
    "                'MSE': [metrics.mean_squared_error(y_test, y_test_pred), metrics.mean_squared_error(y_train, y_train_pred)],\n",
    "                'RMSE': [np.sqrt(metrics.mean_squared_error(y_test, y_test_pred)), np.sqrt(metrics.mean_squared_error(y_train, y_train_pred))],\n",
    "                'R2':  [metrics.r2_score(y_test, y_test_pred), metrics.r2_score(y_train, y_train_pred)],\n",
    "                 \"set\": [\"test\", \"train\"]}\n",
    "    df = pd.DataFrame(resultados)\n",
    "    return df\n",
    "    "
   ]
  },
  {
   "cell_type": "code",
   "execution_count": null,
   "metadata": {},
   "outputs": [
    {
     "data": {
      "text/html": [
       "<div>\n",
       "<style scoped>\n",
       "    .dataframe tbody tr th:only-of-type {\n",
       "        vertical-align: middle;\n",
       "    }\n",
       "\n",
       "    .dataframe tbody tr th {\n",
       "        vertical-align: top;\n",
       "    }\n",
       "\n",
       "    .dataframe thead th {\n",
       "        text-align: right;\n",
       "    }\n",
       "</style>\n",
       "<table border=\"1\" class=\"dataframe\">\n",
       "  <thead>\n",
       "    <tr style=\"text-align: right;\">\n",
       "      <th></th>\n",
       "      <th>MAE</th>\n",
       "      <th>MSE</th>\n",
       "      <th>RMSE</th>\n",
       "      <th>R2</th>\n",
       "      <th>set</th>\n",
       "    </tr>\n",
       "  </thead>\n",
       "  <tbody>\n",
       "    <tr>\n",
       "      <th>0</th>\n",
       "      <td>612.080112</td>\n",
       "      <td>651204.915388</td>\n",
       "      <td>806.972686</td>\n",
       "      <td>0.809747</td>\n",
       "      <td>test</td>\n",
       "    </tr>\n",
       "    <tr>\n",
       "      <th>1</th>\n",
       "      <td>714.125564</td>\n",
       "      <td>897542.027626</td>\n",
       "      <td>947.386947</td>\n",
       "      <td>0.764776</td>\n",
       "      <td>train</td>\n",
       "    </tr>\n",
       "  </tbody>\n",
       "</table>\n",
       "</div>"
      ],
      "text/plain": [
       "          MAE            MSE        RMSE        R2    set\n",
       "0  612.080112  651204.915388  806.972686  0.809747   test\n",
       "1  714.125564  897542.027626  947.386947  0.764776  train"
      ]
     },
     "execution_count": 243,
     "metadata": {},
     "output_type": "execute_result"
    }
   ],
   "source": [
    "results = metricas(y_test, y_train, y_pred_test, y_pred_train)\n",
    "results.style.background_gradient(cmap='coolwarm')\n",
    "results"
   ]
  },
  {
   "cell_type": "markdown",
   "metadata": {},
   "source": [
    "    Prueba Estandarizando las variables numéricas"
   ]
  },
  {
   "cell_type": "code",
   "execution_count": null,
   "metadata": {},
   "outputs": [],
   "source": [
    "df_standardized = df.copy()"
   ]
  },
  {
   "cell_type": "code",
   "execution_count": null,
   "metadata": {},
   "outputs": [],
   "source": [
    "numericas2 = df_standardized.select_dtypes(include = np.number)"
   ]
  },
  {
   "cell_type": "code",
   "execution_count": null,
   "metadata": {},
   "outputs": [
    {
     "data": {
      "text/html": [
       "<div>\n",
       "<style scoped>\n",
       "    .dataframe tbody tr th:only-of-type {\n",
       "        vertical-align: middle;\n",
       "    }\n",
       "\n",
       "    .dataframe tbody tr th {\n",
       "        vertical-align: top;\n",
       "    }\n",
       "\n",
       "    .dataframe thead th {\n",
       "        text-align: right;\n",
       "    }\n",
       "</style>\n",
       "<table border=\"1\" class=\"dataframe\">\n",
       "  <thead>\n",
       "    <tr style=\"text-align: right;\">\n",
       "      <th></th>\n",
       "      <th>cnt</th>\n",
       "      <th>season_encoding</th>\n",
       "      <th>yr</th>\n",
       "      <th>mnth</th>\n",
       "      <th>day</th>\n",
       "      <th>holiday</th>\n",
       "      <th>weekday</th>\n",
       "      <th>workingday</th>\n",
       "      <th>weathersit</th>\n",
       "      <th>temp</th>\n",
       "      <th>hum</th>\n",
       "      <th>windspeed</th>\n",
       "    </tr>\n",
       "  </thead>\n",
       "  <tbody>\n",
       "    <tr>\n",
       "      <th>0</th>\n",
       "      <td>-1.820972</td>\n",
       "      <td>1</td>\n",
       "      <td>0</td>\n",
       "      <td>1</td>\n",
       "      <td>1</td>\n",
       "      <td>0</td>\n",
       "      <td>6</td>\n",
       "      <td>0</td>\n",
       "      <td>2</td>\n",
       "      <td>-0.829070</td>\n",
       "      <td>1.253554</td>\n",
       "      <td>-0.387833</td>\n",
       "    </tr>\n",
       "    <tr>\n",
       "      <th>1</th>\n",
       "      <td>-1.916078</td>\n",
       "      <td>1</td>\n",
       "      <td>0</td>\n",
       "      <td>1</td>\n",
       "      <td>2</td>\n",
       "      <td>0</td>\n",
       "      <td>0</td>\n",
       "      <td>0</td>\n",
       "      <td>2</td>\n",
       "      <td>-0.722425</td>\n",
       "      <td>0.480439</td>\n",
       "      <td>0.748899</td>\n",
       "    </tr>\n",
       "    <tr>\n",
       "      <th>2</th>\n",
       "      <td>-1.632827</td>\n",
       "      <td>1</td>\n",
       "      <td>0</td>\n",
       "      <td>1</td>\n",
       "      <td>3</td>\n",
       "      <td>0</td>\n",
       "      <td>1</td>\n",
       "      <td>1</td>\n",
       "      <td>1</td>\n",
       "      <td>-1.628904</td>\n",
       "      <td>-1.339897</td>\n",
       "      <td>0.745931</td>\n",
       "    </tr>\n",
       "    <tr>\n",
       "      <th>3</th>\n",
       "      <td>-1.522732</td>\n",
       "      <td>2</td>\n",
       "      <td>0</td>\n",
       "      <td>1</td>\n",
       "      <td>4</td>\n",
       "      <td>0</td>\n",
       "      <td>2</td>\n",
       "      <td>1</td>\n",
       "      <td>1</td>\n",
       "      <td>-1.615573</td>\n",
       "      <td>-0.264563</td>\n",
       "      <td>-0.389769</td>\n",
       "    </tr>\n",
       "    <tr>\n",
       "      <th>4</th>\n",
       "      <td>-1.503090</td>\n",
       "      <td>2</td>\n",
       "      <td>0</td>\n",
       "      <td>1</td>\n",
       "      <td>5</td>\n",
       "      <td>0</td>\n",
       "      <td>3</td>\n",
       "      <td>1</td>\n",
       "      <td>1</td>\n",
       "      <td>-1.468937</td>\n",
       "      <td>-1.339897</td>\n",
       "      <td>-0.046477</td>\n",
       "    </tr>\n",
       "  </tbody>\n",
       "</table>\n",
       "</div>"
      ],
      "text/plain": [
       "        cnt season_encoding yr mnth  ... weathersit      temp       hum windspeed\n",
       "0 -1.820972               1  0    1  ...          2 -0.829070  1.253554 -0.387833\n",
       "1 -1.916078               1  0    1  ...          2 -0.722425  0.480439  0.748899\n",
       "2 -1.632827               1  0    1  ...          1 -1.628904 -1.339897  0.745931\n",
       "3 -1.522732               2  0    1  ...          1 -1.615573 -0.264563 -0.389769\n",
       "4 -1.503090               2  0    1  ...          1 -1.468937 -1.339897 -0.046477\n",
       "\n",
       "[5 rows x 12 columns]"
      ]
     },
     "execution_count": 249,
     "metadata": {},
     "output_type": "execute_result"
    }
   ],
   "source": [
    "st = StandardScaler()\n",
    "x_tranformadas = pd.DataFrame(st.fit_transform(numericas2))\n",
    "x_tranformadas.columns = numericas2.columns\n",
    "df[x_tranformadas.columns] = x_tranformadas\n",
    "df.head()"
   ]
  },
  {
   "cell_type": "code",
   "execution_count": null,
   "metadata": {},
   "outputs": [],
   "source": [
    "x2 = df_standardized.drop('cnt', axis =1)\n",
    "y2 = df_standardized['cnt']"
   ]
  },
  {
   "cell_type": "code",
   "execution_count": null,
   "metadata": {},
   "outputs": [],
   "source": [
    "X_train, X_test, y_train, y_test = train_test_split(x2, y2, train_size   = 0.8, random_state = 42)\n",
    "lr = LinearRegression()\n",
    "lr.fit(X_train, y_train)\n",
    "y_pred_train = lr.predict(X_train)\n",
    "y_pred_test = lr.predict(X_test)"
   ]
  },
  {
   "cell_type": "code",
   "execution_count": null,
   "metadata": {},
   "outputs": [],
   "source": [
    "def metricas(y_test, y_train, y_test_pred, y_train_pred):\n",
    "    \n",
    "    \n",
    "    resultados = {'MAE': [metrics.mean_absolute_error(y_test, y_test_pred), metrics.mean_absolute_error(y_train, y_train_pred)],\n",
    "                'MSE': [metrics.mean_squared_error(y_test, y_test_pred), metrics.mean_squared_error(y_train, y_train_pred)],\n",
    "                'RMSE': [np.sqrt(metrics.mean_squared_error(y_test, y_test_pred)), np.sqrt(metrics.mean_squared_error(y_train, y_train_pred))],\n",
    "                'R2':  [metrics.r2_score(y_test, y_test_pred), metrics.r2_score(y_train, y_train_pred)],\n",
    "                 \"set\": [\"test\", \"train\"]}\n",
    "    df = pd.DataFrame(resultados)\n",
    "    return df"
   ]
  },
  {
   "cell_type": "code",
   "execution_count": null,
   "metadata": {},
   "outputs": [
    {
     "data": {
      "text/html": [
       "<div>\n",
       "<style scoped>\n",
       "    .dataframe tbody tr th:only-of-type {\n",
       "        vertical-align: middle;\n",
       "    }\n",
       "\n",
       "    .dataframe tbody tr th {\n",
       "        vertical-align: top;\n",
       "    }\n",
       "\n",
       "    .dataframe thead th {\n",
       "        text-align: right;\n",
       "    }\n",
       "</style>\n",
       "<table border=\"1\" class=\"dataframe\">\n",
       "  <thead>\n",
       "    <tr style=\"text-align: right;\">\n",
       "      <th></th>\n",
       "      <th>MAE</th>\n",
       "      <th>MSE</th>\n",
       "      <th>RMSE</th>\n",
       "      <th>R2</th>\n",
       "      <th>set</th>\n",
       "    </tr>\n",
       "  </thead>\n",
       "  <tbody>\n",
       "    <tr>\n",
       "      <th>0</th>\n",
       "      <td>0.310200</td>\n",
       "      <td>0.162431</td>\n",
       "      <td>0.403027</td>\n",
       "      <td>0.822376</td>\n",
       "      <td>test</td>\n",
       "    </tr>\n",
       "    <tr>\n",
       "      <th>1</th>\n",
       "      <td>0.367896</td>\n",
       "      <td>0.238463</td>\n",
       "      <td>0.488326</td>\n",
       "      <td>0.766080</td>\n",
       "      <td>train</td>\n",
       "    </tr>\n",
       "  </tbody>\n",
       "</table>\n",
       "</div>"
      ],
      "text/plain": [
       "        MAE       MSE      RMSE        R2    set\n",
       "0  0.310200  0.162431  0.403027  0.822376   test\n",
       "1  0.367896  0.238463  0.488326  0.766080  train"
      ]
     },
     "execution_count": 253,
     "metadata": {},
     "output_type": "execute_result"
    }
   ],
   "source": [
    "results = metricas(y_test, y_train, y_pred_test, y_pred_train)\n",
    "results.style.background_gradient(cmap='coolwarm')\n",
    "results"
   ]
  },
  {
   "cell_type": "markdown",
   "metadata": {},
   "source": [
    "----"
   ]
  },
  {
   "cell_type": "markdown",
   "metadata": {},
   "source": []
  },
  {
   "cell_type": "markdown",
   "metadata": {},
   "source": [
    "# FIN"
   ]
  },
  {
   "cell_type": "markdown",
   "metadata": {},
   "source": [
    "- Habria que revisar Anova y VIF para determinar si merece la pena quitar una variable o no\n",
    "- Que nos cuentan los datos, resumen en ANOVA y VIF\n",
    "- VIF no me ha funcionado (hay que nvestigar por que)"
   ]
  }
 ],
 "metadata": {
  "interpreter": {
   "hash": "40d3a090f54c6569ab1632332b64b2c03c39dcf918b08424e98f38b5ae0af88f"
  },
  "kernelspec": {
   "display_name": "Python 3.9.7 ('base')",
   "language": "python",
   "name": "python3"
  },
  "language_info": {
   "codemirror_mode": {
    "name": "ipython",
    "version": 3
   },
   "file_extension": ".py",
   "mimetype": "text/x-python",
   "name": "python",
   "nbconvert_exporter": "python",
   "pygments_lexer": "ipython3",
   "version": "3.9.7"
  },
  "orig_nbformat": 4
 },
 "nbformat": 4,
 "nbformat_minor": 2
}
