{
 "cells": [
  {
   "cell_type": "markdown",
   "metadata": {},
   "source": [
    "# PROYECTO FINAL"
   ]
  },
  {
   "cell_type": "markdown",
   "metadata": {},
   "source": [
    "La empresa GoGreen Bikesharing, se dedica al alquiler de bicicletas y posee datos tales como la cantidad de bicis alquiladas por usuarios registrados, la cantidad de alquileres realizados por usuarios puntuales, y la cantidad total. \n",
    "\n",
    "A estos datos se les añadió información meteorológica, y el calendario de festivos.\n",
    "\n",
    "Ahora buscan analizar cuáles son los aspectos que más influyen en la cantidad de bicis que van a alquilar en un día."
   ]
  },
  {
   "cell_type": "code",
   "execution_count": 156,
   "metadata": {},
   "outputs": [],
   "source": [
    "# Tratamiento de datos\n",
    "import numpy as np\n",
    "import pandas as pd\n",
    "import sidetable as stb\n",
    "\n",
    "# Gráficos\n",
    "import matplotlib.pyplot as plt\n",
    "from matplotlib import style\n",
    "import matplotlib.ticker as ticker\n",
    "import seaborn as sns\n",
    "\n",
    "# Asunciones y Preprocesamiento\n",
    "from scipy import stats\n",
    "import math\n",
    "from scipy.stats import levene\n",
    "#import researchpy as rp\n",
    "from sklearn.preprocessing import StandardScaler\n",
    "import itertools\n",
    "from statsmodels.tools.tools import add_constant\n",
    "from statsmodels.stats.outliers_influence import variance_inflation_factor\n",
    "\n",
    "# ANOVA\n",
    "import statsmodels.api as sm\n",
    "from statsmodels.formula.api import ols\n",
    "\n",
    "#Linear Regresion con Sklearn\n",
    "from sklearn.linear_model import LinearRegression\n",
    "from sklearn.model_selection import train_test_split\n",
    "from sklearn import metrics\n",
    "\n",
    "# Configuración warnings\n",
    "import warnings\n",
    "warnings.filterwarnings('ignore')\n",
    "pd.options.display.max_columns = False"
   ]
  },
  {
   "cell_type": "code",
   "execution_count": 157,
   "metadata": {},
   "outputs": [
    {
     "data": {
      "text/html": [
       "<div>\n",
       "<style scoped>\n",
       "    .dataframe tbody tr th:only-of-type {\n",
       "        vertical-align: middle;\n",
       "    }\n",
       "\n",
       "    .dataframe tbody tr th {\n",
       "        vertical-align: top;\n",
       "    }\n",
       "\n",
       "    .dataframe thead th {\n",
       "        text-align: right;\n",
       "    }\n",
       "</style>\n",
       "<table border=\"1\" class=\"dataframe\">\n",
       "  <thead>\n",
       "    <tr style=\"text-align: right;\">\n",
       "      <th></th>\n",
       "      <th>instant</th>\n",
       "      <th>dteday</th>\n",
       "      <th>season</th>\n",
       "      <th>yr</th>\n",
       "      <th>mnth</th>\n",
       "      <th>holiday</th>\n",
       "      <th>weekday</th>\n",
       "      <th>workingday</th>\n",
       "      <th>weathersit</th>\n",
       "      <th>temp</th>\n",
       "      <th>atemp</th>\n",
       "      <th>hum</th>\n",
       "      <th>windspeed</th>\n",
       "      <th>casual</th>\n",
       "      <th>registered</th>\n",
       "      <th>cnt</th>\n",
       "    </tr>\n",
       "  </thead>\n",
       "  <tbody>\n",
       "    <tr>\n",
       "      <th>92</th>\n",
       "      <td>93</td>\n",
       "      <td>03-04-2018</td>\n",
       "      <td>summer</td>\n",
       "      <td>0</td>\n",
       "      <td>4</td>\n",
       "      <td>0</td>\n",
       "      <td>0</td>\n",
       "      <td>0</td>\n",
       "      <td>1</td>\n",
       "      <td>15.511653</td>\n",
       "      <td>18.93835</td>\n",
       "      <td>48.0000</td>\n",
       "      <td>12.208271</td>\n",
       "      <td>1651</td>\n",
       "      <td>1598</td>\n",
       "      <td>3249</td>\n",
       "    </tr>\n",
       "    <tr>\n",
       "      <th>182</th>\n",
       "      <td>183</td>\n",
       "      <td>02-07-2018</td>\n",
       "      <td>autumn</td>\n",
       "      <td>0</td>\n",
       "      <td>7</td>\n",
       "      <td>0</td>\n",
       "      <td>6</td>\n",
       "      <td>0</td>\n",
       "      <td>1</td>\n",
       "      <td>30.271653</td>\n",
       "      <td>33.36540</td>\n",
       "      <td>44.4583</td>\n",
       "      <td>7.709154</td>\n",
       "      <td>2204</td>\n",
       "      <td>2915</td>\n",
       "      <td>5119</td>\n",
       "    </tr>\n",
       "    <tr>\n",
       "      <th>493</th>\n",
       "      <td>494</td>\n",
       "      <td>09-05-2019</td>\n",
       "      <td>summer</td>\n",
       "      <td>1</td>\n",
       "      <td>5</td>\n",
       "      <td>0</td>\n",
       "      <td>3</td>\n",
       "      <td>1</td>\n",
       "      <td>2</td>\n",
       "      <td>23.575000</td>\n",
       "      <td>27.65125</td>\n",
       "      <td>74.4167</td>\n",
       "      <td>14.499604</td>\n",
       "      <td>620</td>\n",
       "      <td>4097</td>\n",
       "      <td>4717</td>\n",
       "    </tr>\n",
       "    <tr>\n",
       "      <th>215</th>\n",
       "      <td>216</td>\n",
       "      <td>04-08-2018</td>\n",
       "      <td>autumn</td>\n",
       "      <td>0</td>\n",
       "      <td>8</td>\n",
       "      <td>0</td>\n",
       "      <td>4</td>\n",
       "      <td>1</td>\n",
       "      <td>2</td>\n",
       "      <td>29.110000</td>\n",
       "      <td>33.23940</td>\n",
       "      <td>75.7500</td>\n",
       "      <td>13.209050</td>\n",
       "      <td>799</td>\n",
       "      <td>3777</td>\n",
       "      <td>4576</td>\n",
       "    </tr>\n",
       "    <tr>\n",
       "      <th>355</th>\n",
       "      <td>356</td>\n",
       "      <td>22-12-2018</td>\n",
       "      <td>spring</td>\n",
       "      <td>0</td>\n",
       "      <td>12</td>\n",
       "      <td>0</td>\n",
       "      <td>4</td>\n",
       "      <td>1</td>\n",
       "      <td>2</td>\n",
       "      <td>17.356653</td>\n",
       "      <td>21.30605</td>\n",
       "      <td>75.7500</td>\n",
       "      <td>3.167425</td>\n",
       "      <td>227</td>\n",
       "      <td>2841</td>\n",
       "      <td>3068</td>\n",
       "    </tr>\n",
       "    <tr>\n",
       "      <th>622</th>\n",
       "      <td>623</td>\n",
       "      <td>15-09-2019</td>\n",
       "      <td>autumn</td>\n",
       "      <td>1</td>\n",
       "      <td>9</td>\n",
       "      <td>0</td>\n",
       "      <td>6</td>\n",
       "      <td>0</td>\n",
       "      <td>1</td>\n",
       "      <td>24.941653</td>\n",
       "      <td>29.29335</td>\n",
       "      <td>50.1667</td>\n",
       "      <td>16.583907</td>\n",
       "      <td>3160</td>\n",
       "      <td>5554</td>\n",
       "      <td>8714</td>\n",
       "    </tr>\n",
       "  </tbody>\n",
       "</table>\n",
       "</div>"
      ],
      "text/plain": [
       "     instant      dteday  season  yr  ...  windspeed  casual  registered   cnt\n",
       "92        93  03-04-2018  summer   0  ...  12.208271    1651        1598  3249\n",
       "182      183  02-07-2018  autumn   0  ...   7.709154    2204        2915  5119\n",
       "493      494  09-05-2019  summer   1  ...  14.499604     620        4097  4717\n",
       "215      216  04-08-2018  autumn   0  ...  13.209050     799        3777  4576\n",
       "355      356  22-12-2018  spring   0  ...   3.167425     227        2841  3068\n",
       "622      623  15-09-2019  autumn   1  ...  16.583907    3160        5554  8714\n",
       "\n",
       "[6 rows x 16 columns]"
      ]
     },
     "execution_count": 157,
     "metadata": {},
     "output_type": "execute_result"
    }
   ],
   "source": [
    "df_bike = pd.read_csv(\"./bikes.csv\", index_col=0)\n",
    "df_bike.sample(6)"
   ]
  },
  {
   "cell_type": "markdown",
   "metadata": {},
   "source": [
    "---------"
   ]
  },
  {
   "cell_type": "code",
   "execution_count": 158,
   "metadata": {},
   "outputs": [],
   "source": [
    "#df_bike.stb.counts().T"
   ]
  },
  {
   "cell_type": "code",
   "execution_count": 159,
   "metadata": {},
   "outputs": [
    {
     "data": {
      "text/html": [
       "<div>\n",
       "<style scoped>\n",
       "    .dataframe tbody tr th:only-of-type {\n",
       "        vertical-align: middle;\n",
       "    }\n",
       "\n",
       "    .dataframe tbody tr th {\n",
       "        vertical-align: top;\n",
       "    }\n",
       "\n",
       "    .dataframe thead th {\n",
       "        text-align: right;\n",
       "    }\n",
       "</style>\n",
       "<table border=\"1\" class=\"dataframe\">\n",
       "  <thead>\n",
       "    <tr style=\"text-align: right;\">\n",
       "      <th></th>\n",
       "      <th>instant</th>\n",
       "      <th>yr</th>\n",
       "      <th>mnth</th>\n",
       "      <th>holiday</th>\n",
       "      <th>weekday</th>\n",
       "      <th>workingday</th>\n",
       "      <th>weathersit</th>\n",
       "      <th>temp</th>\n",
       "      <th>atemp</th>\n",
       "      <th>hum</th>\n",
       "      <th>windspeed</th>\n",
       "      <th>casual</th>\n",
       "      <th>registered</th>\n",
       "      <th>cnt</th>\n",
       "    </tr>\n",
       "  </thead>\n",
       "  <tbody>\n",
       "    <tr>\n",
       "      <th>count</th>\n",
       "      <td>730.000000</td>\n",
       "      <td>730.000000</td>\n",
       "      <td>730.000000</td>\n",
       "      <td>730.000000</td>\n",
       "      <td>730.000000</td>\n",
       "      <td>730.000000</td>\n",
       "      <td>730.000000</td>\n",
       "      <td>730.000000</td>\n",
       "      <td>730.000000</td>\n",
       "      <td>730.000000</td>\n",
       "      <td>730.000000</td>\n",
       "      <td>730.000000</td>\n",
       "      <td>730.000000</td>\n",
       "      <td>730.000000</td>\n",
       "    </tr>\n",
       "    <tr>\n",
       "      <th>mean</th>\n",
       "      <td>365.500000</td>\n",
       "      <td>0.500000</td>\n",
       "      <td>6.526027</td>\n",
       "      <td>0.028767</td>\n",
       "      <td>2.997260</td>\n",
       "      <td>0.683562</td>\n",
       "      <td>1.394521</td>\n",
       "      <td>20.319259</td>\n",
       "      <td>23.726322</td>\n",
       "      <td>62.765175</td>\n",
       "      <td>12.763620</td>\n",
       "      <td>849.249315</td>\n",
       "      <td>3658.757534</td>\n",
       "      <td>4508.006849</td>\n",
       "    </tr>\n",
       "    <tr>\n",
       "      <th>std</th>\n",
       "      <td>210.877136</td>\n",
       "      <td>0.500343</td>\n",
       "      <td>3.450215</td>\n",
       "      <td>0.167266</td>\n",
       "      <td>2.006161</td>\n",
       "      <td>0.465405</td>\n",
       "      <td>0.544807</td>\n",
       "      <td>7.506729</td>\n",
       "      <td>8.150308</td>\n",
       "      <td>14.237589</td>\n",
       "      <td>5.195841</td>\n",
       "      <td>686.479875</td>\n",
       "      <td>1559.758728</td>\n",
       "      <td>1936.011647</td>\n",
       "    </tr>\n",
       "    <tr>\n",
       "      <th>min</th>\n",
       "      <td>1.000000</td>\n",
       "      <td>0.000000</td>\n",
       "      <td>1.000000</td>\n",
       "      <td>0.000000</td>\n",
       "      <td>0.000000</td>\n",
       "      <td>0.000000</td>\n",
       "      <td>1.000000</td>\n",
       "      <td>2.424346</td>\n",
       "      <td>3.953480</td>\n",
       "      <td>0.000000</td>\n",
       "      <td>1.500244</td>\n",
       "      <td>2.000000</td>\n",
       "      <td>20.000000</td>\n",
       "      <td>22.000000</td>\n",
       "    </tr>\n",
       "    <tr>\n",
       "      <th>25%</th>\n",
       "      <td>183.250000</td>\n",
       "      <td>0.000000</td>\n",
       "      <td>4.000000</td>\n",
       "      <td>0.000000</td>\n",
       "      <td>1.000000</td>\n",
       "      <td>0.000000</td>\n",
       "      <td>1.000000</td>\n",
       "      <td>13.811885</td>\n",
       "      <td>16.889713</td>\n",
       "      <td>52.000000</td>\n",
       "      <td>9.041650</td>\n",
       "      <td>316.250000</td>\n",
       "      <td>2502.250000</td>\n",
       "      <td>3169.750000</td>\n",
       "    </tr>\n",
       "    <tr>\n",
       "      <th>50%</th>\n",
       "      <td>365.500000</td>\n",
       "      <td>0.500000</td>\n",
       "      <td>7.000000</td>\n",
       "      <td>0.000000</td>\n",
       "      <td>3.000000</td>\n",
       "      <td>1.000000</td>\n",
       "      <td>1.000000</td>\n",
       "      <td>20.465826</td>\n",
       "      <td>24.368225</td>\n",
       "      <td>62.625000</td>\n",
       "      <td>12.125325</td>\n",
       "      <td>717.000000</td>\n",
       "      <td>3664.500000</td>\n",
       "      <td>4548.500000</td>\n",
       "    </tr>\n",
       "    <tr>\n",
       "      <th>75%</th>\n",
       "      <td>547.750000</td>\n",
       "      <td>1.000000</td>\n",
       "      <td>10.000000</td>\n",
       "      <td>0.000000</td>\n",
       "      <td>5.000000</td>\n",
       "      <td>1.000000</td>\n",
       "      <td>2.000000</td>\n",
       "      <td>26.880615</td>\n",
       "      <td>30.445775</td>\n",
       "      <td>72.989575</td>\n",
       "      <td>15.625589</td>\n",
       "      <td>1096.500000</td>\n",
       "      <td>4783.250000</td>\n",
       "      <td>5966.000000</td>\n",
       "    </tr>\n",
       "    <tr>\n",
       "      <th>max</th>\n",
       "      <td>730.000000</td>\n",
       "      <td>1.000000</td>\n",
       "      <td>12.000000</td>\n",
       "      <td>1.000000</td>\n",
       "      <td>6.000000</td>\n",
       "      <td>1.000000</td>\n",
       "      <td>3.000000</td>\n",
       "      <td>35.328347</td>\n",
       "      <td>42.044800</td>\n",
       "      <td>97.250000</td>\n",
       "      <td>34.000021</td>\n",
       "      <td>3410.000000</td>\n",
       "      <td>6946.000000</td>\n",
       "      <td>8714.000000</td>\n",
       "    </tr>\n",
       "  </tbody>\n",
       "</table>\n",
       "</div>"
      ],
      "text/plain": [
       "          instant          yr  ...   registered          cnt\n",
       "count  730.000000  730.000000  ...   730.000000   730.000000\n",
       "mean   365.500000    0.500000  ...  3658.757534  4508.006849\n",
       "std    210.877136    0.500343  ...  1559.758728  1936.011647\n",
       "min      1.000000    0.000000  ...    20.000000    22.000000\n",
       "25%    183.250000    0.000000  ...  2502.250000  3169.750000\n",
       "50%    365.500000    0.500000  ...  3664.500000  4548.500000\n",
       "75%    547.750000    1.000000  ...  4783.250000  5966.000000\n",
       "max    730.000000    1.000000  ...  6946.000000  8714.000000\n",
       "\n",
       "[8 rows x 14 columns]"
      ]
     },
     "execution_count": 159,
     "metadata": {},
     "output_type": "execute_result"
    }
   ],
   "source": [
    "df_bike.describe()"
   ]
  },
  {
   "cell_type": "code",
   "execution_count": 160,
   "metadata": {},
   "outputs": [
    {
     "name": "stdout",
     "output_type": "stream",
     "text": [
      "<class 'pandas.core.frame.DataFrame'>\n",
      "Int64Index: 730 entries, 0 to 729\n",
      "Data columns (total 16 columns):\n",
      " #   Column      Non-Null Count  Dtype  \n",
      "---  ------      --------------  -----  \n",
      " 0   instant     730 non-null    int64  \n",
      " 1   dteday      730 non-null    object \n",
      " 2   season      730 non-null    object \n",
      " 3   yr          730 non-null    int64  \n",
      " 4   mnth        730 non-null    int64  \n",
      " 5   holiday     730 non-null    int64  \n",
      " 6   weekday     730 non-null    int64  \n",
      " 7   workingday  730 non-null    int64  \n",
      " 8   weathersit  730 non-null    int64  \n",
      " 9   temp        730 non-null    float64\n",
      " 10  atemp       730 non-null    float64\n",
      " 11  hum         730 non-null    float64\n",
      " 12  windspeed   730 non-null    float64\n",
      " 13  casual      730 non-null    int64  \n",
      " 14  registered  730 non-null    int64  \n",
      " 15  cnt         730 non-null    int64  \n",
      "dtypes: float64(4), int64(10), object(2)\n",
      "memory usage: 97.0+ KB\n"
     ]
    }
   ],
   "source": [
    "df_bike.info()"
   ]
  },
  {
   "cell_type": "markdown",
   "metadata": {},
   "source": [
    "> - <font color = violet> NO TENEMOS NULOS\n",
    "> -  730 filas\n",
    "> - 17 columnas\n",
    "- **Holiday** : 1 = festivo / 0 = no festivo\n",
    "- **Weekday** = 0 Domingo - 6 Sábado\n",
    "- **Workingday** = 1 laborable / 0 finde\n",
    "- **Weathersit** = grados en el readme\n",
    "- **Temperatura** = \n",
    "- **Humedad** =\n",
    "- **Viento** = \n",
    "- **Casual** = nº de usuarios no registrados/día\n",
    "- **Registered** = nº de usuarios registrados/día\n",
    "- **Total** = total de usuarios/día\n",
    "\n"
   ]
  },
  {
   "cell_type": "markdown",
   "metadata": {},
   "source": [
    "# REVISIÓN DE COLUMNAS:"
   ]
  },
  {
   "cell_type": "markdown",
   "metadata": {},
   "source": [
    "### 1. FECHA:\n",
    "- Tenemos \"yr\" (año) y \"mnth\" (mes) y obtenemos \"day\" a través de la separación de \"dteday\", que posteriormente eliminaremos:"
   ]
  },
  {
   "cell_type": "code",
   "execution_count": 161,
   "metadata": {},
   "outputs": [],
   "source": [
    "df_bike[\"day\"] = df_bike[\"dteday\"].str.split(pat= \"-\", n = -1, expand = True)[0]"
   ]
  },
  {
   "cell_type": "code",
   "execution_count": 162,
   "metadata": {},
   "outputs": [],
   "source": [
    "df_bike=df_bike.reindex(columns=['instant', 'dteday', 'season', 'yr', 'mnth','day', 'holiday', 'weekday',\n",
    "       'workingday', 'weathersit', 'temp', 'atemp', 'hum', 'windspeed',\n",
    "       'casual', 'registered', 'cnt'])"
   ]
  },
  {
   "cell_type": "markdown",
   "metadata": {},
   "source": [
    "------"
   ]
  },
  {
   "cell_type": "markdown",
   "metadata": {},
   "source": [
    "### 2. Columna \"season\"\n",
    "- Corregir de acuerdo con las fechas."
   ]
  },
  {
   "cell_type": "code",
   "execution_count": 163,
   "metadata": {},
   "outputs": [],
   "source": [
    "df_bike['dteday'] = df_bike['dteday'].apply(pd.to_datetime)"
   ]
  },
  {
   "cell_type": "code",
   "execution_count": 164,
   "metadata": {},
   "outputs": [],
   "source": [
    "def meses(x):\n",
    "    a = x.month\n",
    "\n",
    "    if  a >= 1 and a<=3:\n",
    "        return 'winter'\n",
    "    elif a >= 4 and a<=6:\n",
    "        return 'spring'\n",
    "    elif a >= 7 and a<=9:\n",
    "        return 'summer'\n",
    "    else:\n",
    "        return 'autumn'"
   ]
  },
  {
   "cell_type": "code",
   "execution_count": 165,
   "metadata": {},
   "outputs": [],
   "source": [
    "df_bike['season'] = df_bike['dteday'].apply(meses)"
   ]
  },
  {
   "cell_type": "code",
   "execution_count": 166,
   "metadata": {},
   "outputs": [
    {
     "data": {
      "text/html": [
       "<div>\n",
       "<style scoped>\n",
       "    .dataframe tbody tr th:only-of-type {\n",
       "        vertical-align: middle;\n",
       "    }\n",
       "\n",
       "    .dataframe tbody tr th {\n",
       "        vertical-align: top;\n",
       "    }\n",
       "\n",
       "    .dataframe thead th {\n",
       "        text-align: right;\n",
       "    }\n",
       "</style>\n",
       "<table border=\"1\" class=\"dataframe\">\n",
       "  <thead>\n",
       "    <tr style=\"text-align: right;\">\n",
       "      <th></th>\n",
       "      <th>instant</th>\n",
       "      <th>dteday</th>\n",
       "      <th>season</th>\n",
       "      <th>yr</th>\n",
       "      <th>mnth</th>\n",
       "      <th>day</th>\n",
       "      <th>holiday</th>\n",
       "      <th>weekday</th>\n",
       "      <th>workingday</th>\n",
       "      <th>weathersit</th>\n",
       "      <th>temp</th>\n",
       "      <th>atemp</th>\n",
       "      <th>hum</th>\n",
       "      <th>windspeed</th>\n",
       "      <th>casual</th>\n",
       "      <th>registered</th>\n",
       "      <th>cnt</th>\n",
       "    </tr>\n",
       "  </thead>\n",
       "  <tbody>\n",
       "    <tr>\n",
       "      <th>338</th>\n",
       "      <td>339</td>\n",
       "      <td>2018-05-12</td>\n",
       "      <td>spring</td>\n",
       "      <td>0</td>\n",
       "      <td>12</td>\n",
       "      <td>05</td>\n",
       "      <td>0</td>\n",
       "      <td>1</td>\n",
       "      <td>1</td>\n",
       "      <td>2</td>\n",
       "      <td>15.819153</td>\n",
       "      <td>19.69625</td>\n",
       "      <td>82.7083</td>\n",
       "      <td>4.167956</td>\n",
       "      <td>233</td>\n",
       "      <td>3578</td>\n",
       "      <td>3811</td>\n",
       "    </tr>\n",
       "    <tr>\n",
       "      <th>216</th>\n",
       "      <td>217</td>\n",
       "      <td>2018-05-08</td>\n",
       "      <td>spring</td>\n",
       "      <td>0</td>\n",
       "      <td>8</td>\n",
       "      <td>05</td>\n",
       "      <td>0</td>\n",
       "      <td>5</td>\n",
       "      <td>1</td>\n",
       "      <td>1</td>\n",
       "      <td>29.144153</td>\n",
       "      <td>32.82835</td>\n",
       "      <td>63.0833</td>\n",
       "      <td>12.374632</td>\n",
       "      <td>1023</td>\n",
       "      <td>3843</td>\n",
       "      <td>4866</td>\n",
       "    </tr>\n",
       "    <tr>\n",
       "      <th>680</th>\n",
       "      <td>681</td>\n",
       "      <td>2019-12-11</td>\n",
       "      <td>autumn</td>\n",
       "      <td>1</td>\n",
       "      <td>11</td>\n",
       "      <td>12</td>\n",
       "      <td>1</td>\n",
       "      <td>1</td>\n",
       "      <td>0</td>\n",
       "      <td>1</td>\n",
       "      <td>19.885000</td>\n",
       "      <td>23.76915</td>\n",
       "      <td>74.1667</td>\n",
       "      <td>11.625639</td>\n",
       "      <td>1097</td>\n",
       "      <td>5172</td>\n",
       "      <td>6269</td>\n",
       "    </tr>\n",
       "    <tr>\n",
       "      <th>618</th>\n",
       "      <td>619</td>\n",
       "      <td>2019-11-09</td>\n",
       "      <td>autumn</td>\n",
       "      <td>1</td>\n",
       "      <td>9</td>\n",
       "      <td>11</td>\n",
       "      <td>0</td>\n",
       "      <td>2</td>\n",
       "      <td>1</td>\n",
       "      <td>1</td>\n",
       "      <td>23.677500</td>\n",
       "      <td>27.71460</td>\n",
       "      <td>52.0000</td>\n",
       "      <td>6.167631</td>\n",
       "      <td>1070</td>\n",
       "      <td>6697</td>\n",
       "      <td>7767</td>\n",
       "    </tr>\n",
       "    <tr>\n",
       "      <th>259</th>\n",
       "      <td>260</td>\n",
       "      <td>2018-09-17</td>\n",
       "      <td>summer</td>\n",
       "      <td>0</td>\n",
       "      <td>9</td>\n",
       "      <td>17</td>\n",
       "      <td>0</td>\n",
       "      <td>6</td>\n",
       "      <td>0</td>\n",
       "      <td>2</td>\n",
       "      <td>20.158347</td>\n",
       "      <td>23.92560</td>\n",
       "      <td>71.8333</td>\n",
       "      <td>12.708225</td>\n",
       "      <td>1434</td>\n",
       "      <td>3077</td>\n",
       "      <td>4511</td>\n",
       "    </tr>\n",
       "  </tbody>\n",
       "</table>\n",
       "</div>"
      ],
      "text/plain": [
       "     instant     dteday  season  yr  ...  windspeed casual  registered   cnt\n",
       "338      339 2018-05-12  spring   0  ...   4.167956    233        3578  3811\n",
       "216      217 2018-05-08  spring   0  ...  12.374632   1023        3843  4866\n",
       "680      681 2019-12-11  autumn   1  ...  11.625639   1097        5172  6269\n",
       "618      619 2019-11-09  autumn   1  ...   6.167631   1070        6697  7767\n",
       "259      260 2018-09-17  summer   0  ...  12.708225   1434        3077  4511\n",
       "\n",
       "[5 rows x 17 columns]"
      ]
     },
     "execution_count": 166,
     "metadata": {},
     "output_type": "execute_result"
    }
   ],
   "source": [
    "df_bike.sample(5)"
   ]
  },
  {
   "cell_type": "markdown",
   "metadata": {},
   "source": [
    " - Antes de codificarla hacemos una gráfica para ver cómo se reparte el alquiler de bicicletas durante las estaciones."
   ]
  },
  {
   "cell_type": "code",
   "execution_count": 167,
   "metadata": {},
   "outputs": [
    {
     "data": {
      "image/png": "[encoded data removed]",
      "text/plain": [
       "<Figure size 1080x504 with 1 Axes>"
      ]
     },
     "metadata": {},
     "output_type": "display_data"
    }
   ],
   "source": [
    "plt.figure(figsize=(15,7))\n",
    "sns.set_theme(style= \"whitegrid\")\n",
    "ax = sns.barplot(x = \"season\", y=\"cnt\", data= df_bike)"
   ]
  },
  {
   "cell_type": "markdown",
   "metadata": {},
   "source": [
    " - Encoding numérico para la columna season"
   ]
  },
  {
   "cell_type": "code",
   "execution_count": 168,
   "metadata": {},
   "outputs": [],
   "source": [
    "scale_mapper = {\"winter\":1, \"spring\":1, \"summer\":2, 'autumn':3}\n",
    "\n",
    "df_bike['season_encoding'] = df_bike[\"season\"].replace(scale_mapper)"
   ]
  },
  {
   "cell_type": "markdown",
   "metadata": {},
   "source": [
    "- Hacemos una pequeña exploración preliminar con \"season\": ¿Cuántas reservas se hacen por estación y por tipo de cliente?"
   ]
  },
  {
   "cell_type": "code",
   "execution_count": 169,
   "metadata": {},
   "outputs": [
    {
     "data": {
      "text/html": [
       "<div>\n",
       "<style scoped>\n",
       "    .dataframe tbody tr th:only-of-type {\n",
       "        vertical-align: middle;\n",
       "    }\n",
       "\n",
       "    .dataframe tbody tr th {\n",
       "        vertical-align: top;\n",
       "    }\n",
       "\n",
       "    .dataframe thead tr th {\n",
       "        text-align: left;\n",
       "    }\n",
       "\n",
       "    .dataframe thead tr:last-of-type th {\n",
       "        text-align: right;\n",
       "    }\n",
       "</style>\n",
       "<table border=\"1\" class=\"dataframe\">\n",
       "  <thead>\n",
       "    <tr>\n",
       "      <th></th>\n",
       "      <th>cnt</th>\n",
       "      <th>casual</th>\n",
       "      <th>registered</th>\n",
       "    </tr>\n",
       "    <tr>\n",
       "      <th></th>\n",
       "      <th>sum</th>\n",
       "      <th>sum</th>\n",
       "      <th>sum</th>\n",
       "    </tr>\n",
       "    <tr>\n",
       "      <th>season</th>\n",
       "      <th></th>\n",
       "      <th></th>\n",
       "      <th></th>\n",
       "    </tr>\n",
       "  </thead>\n",
       "  <tbody>\n",
       "    <tr>\n",
       "      <th>autumn</th>\n",
       "      <td>771700</td>\n",
       "      <td>128069</td>\n",
       "      <td>643631</td>\n",
       "    </tr>\n",
       "    <tr>\n",
       "      <th>spring</th>\n",
       "      <td>909613</td>\n",
       "      <td>192850</td>\n",
       "      <td>716763</td>\n",
       "    </tr>\n",
       "    <tr>\n",
       "      <th>summer</th>\n",
       "      <td>958925</td>\n",
       "      <td>187579</td>\n",
       "      <td>771346</td>\n",
       "    </tr>\n",
       "    <tr>\n",
       "      <th>winter</th>\n",
       "      <td>650607</td>\n",
       "      <td>111454</td>\n",
       "      <td>539153</td>\n",
       "    </tr>\n",
       "    <tr>\n",
       "      <th>grand_total</th>\n",
       "      <td>3290845</td>\n",
       "      <td>619952</td>\n",
       "      <td>2670893</td>\n",
       "    </tr>\n",
       "  </tbody>\n",
       "</table>\n",
       "</div>"
      ],
      "text/plain": [
       "                 cnt  casual registered\n",
       "                 sum     sum        sum\n",
       "season                                 \n",
       "autumn        771700  128069     643631\n",
       "spring        909613  192850     716763\n",
       "summer        958925  187579     771346\n",
       "winter        650607  111454     539153\n",
       "grand_total  3290845  619952    2670893"
      ]
     },
     "execution_count": 169,
     "metadata": {},
     "output_type": "execute_result"
    }
   ],
   "source": [
    "x= df_bike.groupby(['season']).agg({'cnt': ['sum'],'casual': ['sum'],'registered': ['sum']}).stb.subtotal()\n",
    "x"
   ]
  },
  {
   "cell_type": "code",
   "execution_count": 170,
   "metadata": {},
   "outputs": [
    {
     "data": {
      "text/plain": [
       "<AxesSubplot:xlabel='registered', ylabel='season'>"
      ]
     },
     "execution_count": 170,
     "metadata": {},
     "output_type": "execute_result"
    },
    {
     "data": {
      "image/png": "[encoded data removed]",
      "text/plain": [
       "<Figure size 1440x360 with 3 Axes>"
      ]
     },
     "metadata": {},
     "output_type": "display_data"
    }
   ],
   "source": [
    "fig, axes = plt.subplots(1, 3, figsize=(20,5))\n",
    "sns.histplot(data=df_bike, x=\"cnt\",y=\"season\",ax=axes[0])\n",
    "sns.histplot(data=df_bike, x=\"casual\",y=\"season\",ax=axes[1])\n",
    "sns.histplot(data=df_bike, x=\"registered\",y=\"season\",ax=axes[2])\n",
    "\n",
    "#HAY MAS RESERVAS DE GENTE REGISTRADA QUE CASUAL"
   ]
  },
  {
   "cell_type": "markdown",
   "metadata": {},
   "source": [
    "--------"
   ]
  },
  {
   "cell_type": "markdown",
   "metadata": {},
   "source": [
    "### 3. Columna \"year\" "
   ]
  },
  {
   "cell_type": "code",
   "execution_count": 171,
   "metadata": {},
   "outputs": [
    {
     "data": {
      "text/plain": [
       "([<matplotlib.axis.XTick at 0x7f3055188da0>,\n",
       "  <matplotlib.axis.XTick at 0x7f3055188e48>],\n",
       " [Text(0, 0, '2018'), Text(1, 0, '2019')])"
      ]
     },
     "execution_count": 171,
     "metadata": {},
     "output_type": "execute_result"
    },
    {
     "data": {
      "image/png": "[encoded data removed]",
      "text/plain": [
       "<Figure size 1080x504 with 1 Axes>"
      ]
     },
     "metadata": {},
     "output_type": "display_data"
    }
   ],
   "source": [
    "plt.figure(figsize=(15,7))\n",
    "sns.set_theme(style= \"whitegrid\")\n",
    "sns.barplot(x = \"yr\", y=\"cnt\", data= df_bike)\n",
    "plt.xticks([0, 1], [\"2018\", \"2019\"])"
   ]
  },
  {
   "cell_type": "markdown",
   "metadata": {},
   "source": [
    "----"
   ]
  },
  {
   "cell_type": "markdown",
   "metadata": {},
   "source": [
    "### 4. \"Month\" -> Exploración preliminar: reservas por mes."
   ]
  },
  {
   "cell_type": "code",
   "execution_count": 172,
   "metadata": {},
   "outputs": [
    {
     "data": {
      "text/plain": [
       "<AxesSubplot:xlabel='mnth', ylabel='casual'>"
      ]
     },
     "execution_count": 172,
     "metadata": {},
     "output_type": "execute_result"
    },
    {
     "data": {
      "image/png": "[encoded data removed]",
      "text/plain": [
       "<Figure size 1080x504 with 1 Axes>"
      ]
     },
     "metadata": {},
     "output_type": "display_data"
    }
   ],
   "source": [
    "plt.figure(figsize=(15,7))\n",
    "sns.set_theme(style= \"whitegrid\")\n",
    "sns.barplot(x = \"mnth\", y =\"cnt\", data= df_bike, color = \"black\")\n",
    "\n",
    "sns.barplot(x = \"mnth\", y=\"registered\", data= df_bike)\n",
    "sns.barplot(x = \"mnth\", y=\"casual\", data= df_bike, color = \"grey\")\n",
    "#plt.xticks([0, 1], [\"2018\", \"2019\"])"
   ]
  },
  {
   "cell_type": "markdown",
   "metadata": {},
   "source": [
    "----"
   ]
  },
  {
   "cell_type": "markdown",
   "metadata": {},
   "source": [
    "### 5. \"Holiday\"\n",
    "1 = festivo /  0 = no festivo"
   ]
  },
  {
   "cell_type": "markdown",
   "metadata": {},
   "source": [
    "df_bike.groupby([\"holiday\"]).agg({ 'cnt': ['min','max','sum','mean'],'casual': ['min','max','sum','mean'],'registered': ['min','max','sum','mean']}).stb.subtotal().round(2)\n"
   ]
  },
  {
   "cell_type": "markdown",
   "metadata": {},
   "source": [
    "Observamos: \n",
    "- Más reservas en NO FESTIVOS\n",
    "- HAY MAYOR NUMERO DE RESERVAS LOS NO FESTIVOS\n",
    "- Además:\n",
    "    - SUMA EN NO FESTIVO\n",
    "         - REGISTRADOS 2.614.817 RESERVAS EN NO FESTIVO\n",
    "         - CASUAL 597.593 RESERVAS EN NO FESTIVO\n",
    "\n",
    "    - SUMA EN FESTIVO\n",
    "        - REGISTRADOS 56.076 RESERVAS EN  FESTIVO\n",
    "        - CASUAL 22.359 RESERVAS EN NO FESTIVO"
   ]
  },
  {
   "cell_type": "code",
   "execution_count": 173,
   "metadata": {},
   "outputs": [
    {
     "data": {
      "text/plain": [
       "<AxesSubplot:xlabel='holiday', ylabel='count'>"
      ]
     },
     "execution_count": 173,
     "metadata": {},
     "output_type": "execute_result"
    },
    {
     "data": {
      "image/png": "[encoded data removed]",
      "text/plain": [
       "<Figure size 432x288 with 1 Axes>"
      ]
     },
     "metadata": {},
     "output_type": "display_data"
    }
   ],
   "source": [
    "sns.countplot(x='holiday', data=df_bike)"
   ]
  },
  {
   "cell_type": "markdown",
   "metadata": {},
   "source": [
    "-----"
   ]
  },
  {
   "cell_type": "markdown",
   "metadata": {},
   "source": [
    "### 6. \"Weekday\" \n",
    "- 1-LUNES / 2-MARTES / 3-MIERCOLES / 4- JUEVES / 5-VIERNES / 6-SÁBADO / 0 -DOMINGO "
   ]
  },
  {
   "cell_type": "markdown",
   "metadata": {},
   "source": [
    "     Hay bastante igualdad entre los dias de la semana, siendo el ranking de más a menos reservas:\n",
    "     ORDEN DE DIAS POR RESERVA: Viernes, jueves,sabado, miercoles,martes,lunes y domingo.\n"
   ]
  },
  {
   "cell_type": "code",
   "execution_count": 174,
   "metadata": {},
   "outputs": [
    {
     "data": {
      "text/html": [
       "<div>\n",
       "<style scoped>\n",
       "    .dataframe tbody tr th:only-of-type {\n",
       "        vertical-align: middle;\n",
       "    }\n",
       "\n",
       "    .dataframe tbody tr th {\n",
       "        vertical-align: top;\n",
       "    }\n",
       "\n",
       "    .dataframe thead tr th {\n",
       "        text-align: left;\n",
       "    }\n",
       "\n",
       "    .dataframe thead tr:last-of-type th {\n",
       "        text-align: right;\n",
       "    }\n",
       "</style>\n",
       "<table border=\"1\" class=\"dataframe\">\n",
       "  <thead>\n",
       "    <tr>\n",
       "      <th></th>\n",
       "      <th colspan=\"4\" halign=\"left\">cnt</th>\n",
       "      <th colspan=\"4\" halign=\"left\">casual</th>\n",
       "      <th colspan=\"4\" halign=\"left\">registered</th>\n",
       "    </tr>\n",
       "    <tr>\n",
       "      <th></th>\n",
       "      <th>min</th>\n",
       "      <th>max</th>\n",
       "      <th>sum</th>\n",
       "      <th>mean</th>\n",
       "      <th>min</th>\n",
       "      <th>max</th>\n",
       "      <th>sum</th>\n",
       "      <th>mean</th>\n",
       "      <th>min</th>\n",
       "      <th>max</th>\n",
       "      <th>sum</th>\n",
       "      <th>mean</th>\n",
       "    </tr>\n",
       "    <tr>\n",
       "      <th>weekday</th>\n",
       "      <th></th>\n",
       "      <th></th>\n",
       "      <th></th>\n",
       "      <th></th>\n",
       "      <th></th>\n",
       "      <th></th>\n",
       "      <th></th>\n",
       "      <th></th>\n",
       "      <th></th>\n",
       "      <th></th>\n",
       "      <th></th>\n",
       "      <th></th>\n",
       "    </tr>\n",
       "  </thead>\n",
       "  <tbody>\n",
       "    <tr>\n",
       "      <th>0</th>\n",
       "      <td>605.0</td>\n",
       "      <td>8227.0</td>\n",
       "      <td>444027.0</td>\n",
       "      <td>4228.83</td>\n",
       "      <td>54.0</td>\n",
       "      <td>3283.0</td>\n",
       "      <td>140521.0</td>\n",
       "      <td>1338.30</td>\n",
       "      <td>451.0</td>\n",
       "      <td>5657.0</td>\n",
       "      <td>303506.0</td>\n",
       "      <td>2890.53</td>\n",
       "    </tr>\n",
       "    <tr>\n",
       "      <th>1</th>\n",
       "      <td>22.0</td>\n",
       "      <td>7525.0</td>\n",
       "      <td>455503.0</td>\n",
       "      <td>4338.12</td>\n",
       "      <td>2.0</td>\n",
       "      <td>3065.0</td>\n",
       "      <td>70784.0</td>\n",
       "      <td>674.13</td>\n",
       "      <td>20.0</td>\n",
       "      <td>6435.0</td>\n",
       "      <td>384719.0</td>\n",
       "      <td>3663.99</td>\n",
       "    </tr>\n",
       "    <tr>\n",
       "      <th>2</th>\n",
       "      <td>683.0</td>\n",
       "      <td>7767.0</td>\n",
       "      <td>469109.0</td>\n",
       "      <td>4510.66</td>\n",
       "      <td>9.0</td>\n",
       "      <td>1348.0</td>\n",
       "      <td>57843.0</td>\n",
       "      <td>556.18</td>\n",
       "      <td>573.0</td>\n",
       "      <td>6697.0</td>\n",
       "      <td>411266.0</td>\n",
       "      <td>3954.48</td>\n",
       "    </tr>\n",
       "    <tr>\n",
       "      <th>3</th>\n",
       "      <td>441.0</td>\n",
       "      <td>8173.0</td>\n",
       "      <td>471214.0</td>\n",
       "      <td>4574.89</td>\n",
       "      <td>9.0</td>\n",
       "      <td>2562.0</td>\n",
       "      <td>57254.0</td>\n",
       "      <td>555.86</td>\n",
       "      <td>432.0</td>\n",
       "      <td>6946.0</td>\n",
       "      <td>413960.0</td>\n",
       "      <td>4019.03</td>\n",
       "    </tr>\n",
       "    <tr>\n",
       "      <th>4</th>\n",
       "      <td>431.0</td>\n",
       "      <td>7804.0</td>\n",
       "      <td>485395.0</td>\n",
       "      <td>4667.26</td>\n",
       "      <td>15.0</td>\n",
       "      <td>1405.0</td>\n",
       "      <td>61460.0</td>\n",
       "      <td>590.96</td>\n",
       "      <td>416.0</td>\n",
       "      <td>6781.0</td>\n",
       "      <td>423935.0</td>\n",
       "      <td>4076.30</td>\n",
       "    </tr>\n",
       "    <tr>\n",
       "      <th>5</th>\n",
       "      <td>1167.0</td>\n",
       "      <td>8362.0</td>\n",
       "      <td>487790.0</td>\n",
       "      <td>4690.29</td>\n",
       "      <td>38.0</td>\n",
       "      <td>2469.0</td>\n",
       "      <td>78238.0</td>\n",
       "      <td>752.29</td>\n",
       "      <td>1129.0</td>\n",
       "      <td>6917.0</td>\n",
       "      <td>409552.0</td>\n",
       "      <td>3938.00</td>\n",
       "    </tr>\n",
       "    <tr>\n",
       "      <th>6</th>\n",
       "      <td>627.0</td>\n",
       "      <td>8714.0</td>\n",
       "      <td>477807.0</td>\n",
       "      <td>4550.54</td>\n",
       "      <td>57.0</td>\n",
       "      <td>3410.0</td>\n",
       "      <td>153852.0</td>\n",
       "      <td>1465.26</td>\n",
       "      <td>570.0</td>\n",
       "      <td>5966.0</td>\n",
       "      <td>323955.0</td>\n",
       "      <td>3085.29</td>\n",
       "    </tr>\n",
       "    <tr>\n",
       "      <th>grand_total</th>\n",
       "      <td>3976.0</td>\n",
       "      <td>56572.0</td>\n",
       "      <td>3290845.0</td>\n",
       "      <td>31560.60</td>\n",
       "      <td>184.0</td>\n",
       "      <td>17542.0</td>\n",
       "      <td>619952.0</td>\n",
       "      <td>5932.98</td>\n",
       "      <td>3591.0</td>\n",
       "      <td>45399.0</td>\n",
       "      <td>2670893.0</td>\n",
       "      <td>25627.62</td>\n",
       "    </tr>\n",
       "  </tbody>\n",
       "</table>\n",
       "</div>"
      ],
      "text/plain": [
       "                cnt                      ... registered                     \n",
       "                min      max        sum  ...        max        sum      mean\n",
       "weekday                                  ...                                \n",
       "0             605.0   8227.0   444027.0  ...     5657.0   303506.0   2890.53\n",
       "1              22.0   7525.0   455503.0  ...     6435.0   384719.0   3663.99\n",
       "2             683.0   7767.0   469109.0  ...     6697.0   411266.0   3954.48\n",
       "3             441.0   8173.0   471214.0  ...     6946.0   413960.0   4019.03\n",
       "4             431.0   7804.0   485395.0  ...     6781.0   423935.0   4076.30\n",
       "5            1167.0   8362.0   487790.0  ...     6917.0   409552.0   3938.00\n",
       "6             627.0   8714.0   477807.0  ...     5966.0   323955.0   3085.29\n",
       "grand_total  3976.0  56572.0  3290845.0  ...    45399.0  2670893.0  25627.62\n",
       "\n",
       "[8 rows x 12 columns]"
      ]
     },
     "execution_count": 174,
     "metadata": {},
     "output_type": "execute_result"
    }
   ],
   "source": [
    "df_bike.groupby([\"weekday\"]).agg({ 'cnt': ['min','max','sum','mean'],'casual': ['min','max','sum','mean'],'registered': ['min','max','sum','mean']}).stb.subtotal().round(2)"
   ]
  },
  {
   "cell_type": "code",
   "execution_count": 175,
   "metadata": {},
   "outputs": [
    {
     "data": {
      "text/plain": [
       "<AxesSubplot:xlabel='weekday', ylabel='registered'>"
      ]
     },
     "execution_count": 175,
     "metadata": {},
     "output_type": "execute_result"
    },
    {
     "data": {
      "image/png": "[encoded data removed]",
      "text/plain": [
       "<Figure size 1440x360 with 2 Axes>"
      ]
     },
     "metadata": {},
     "output_type": "display_data"
    }
   ],
   "source": [
    "fig, axes = plt.subplots(1, 2, figsize=(20,5))\n",
    "sns.boxplot(data=df_bike, x='weekday', y='casual',ax=axes[0])\n",
    "sns.boxplot(data=df_bike, x='weekday', y='registered',ax=axes[1])"
   ]
  },
  {
   "cell_type": "markdown",
   "metadata": {},
   "source": [
    "----"
   ]
  },
  {
   "cell_type": "markdown",
   "metadata": {},
   "source": [
    "### 7. \"workingday\": \n",
    "- 1 - LABORABLE  /  0 -FIN DE SEMANA"
   ]
  },
  {
   "cell_type": "code",
   "execution_count": 176,
   "metadata": {},
   "outputs": [
    {
     "data": {
      "text/html": [
       "<div>\n",
       "<style scoped>\n",
       "    .dataframe tbody tr th:only-of-type {\n",
       "        vertical-align: middle;\n",
       "    }\n",
       "\n",
       "    .dataframe tbody tr th {\n",
       "        vertical-align: top;\n",
       "    }\n",
       "\n",
       "    .dataframe thead tr th {\n",
       "        text-align: left;\n",
       "    }\n",
       "\n",
       "    .dataframe thead tr:last-of-type th {\n",
       "        text-align: right;\n",
       "    }\n",
       "</style>\n",
       "<table border=\"1\" class=\"dataframe\">\n",
       "  <thead>\n",
       "    <tr>\n",
       "      <th></th>\n",
       "      <th colspan=\"4\" halign=\"left\">cnt</th>\n",
       "      <th colspan=\"4\" halign=\"left\">casual</th>\n",
       "      <th colspan=\"4\" halign=\"left\">registered</th>\n",
       "    </tr>\n",
       "    <tr>\n",
       "      <th></th>\n",
       "      <th>min</th>\n",
       "      <th>max</th>\n",
       "      <th>sum</th>\n",
       "      <th>mean</th>\n",
       "      <th>min</th>\n",
       "      <th>max</th>\n",
       "      <th>sum</th>\n",
       "      <th>mean</th>\n",
       "      <th>min</th>\n",
       "      <th>max</th>\n",
       "      <th>sum</th>\n",
       "      <th>mean</th>\n",
       "    </tr>\n",
       "    <tr>\n",
       "      <th>workingday</th>\n",
       "      <th></th>\n",
       "      <th></th>\n",
       "      <th></th>\n",
       "      <th></th>\n",
       "      <th></th>\n",
       "      <th></th>\n",
       "      <th></th>\n",
       "      <th></th>\n",
       "      <th></th>\n",
       "      <th></th>\n",
       "      <th></th>\n",
       "      <th></th>\n",
       "    </tr>\n",
       "  </thead>\n",
       "  <tbody>\n",
       "    <tr>\n",
       "      <th>0</th>\n",
       "      <td>605.0</td>\n",
       "      <td>8714.0</td>\n",
       "      <td>1000269.0</td>\n",
       "      <td>4330.17</td>\n",
       "      <td>54.0</td>\n",
       "      <td>3410.0</td>\n",
       "      <td>316732.0</td>\n",
       "      <td>1371.13</td>\n",
       "      <td>451.0</td>\n",
       "      <td>5966.0</td>\n",
       "      <td>683537.0</td>\n",
       "      <td>2959.03</td>\n",
       "    </tr>\n",
       "    <tr>\n",
       "      <th>1</th>\n",
       "      <td>22.0</td>\n",
       "      <td>8362.0</td>\n",
       "      <td>2290576.0</td>\n",
       "      <td>4590.33</td>\n",
       "      <td>2.0</td>\n",
       "      <td>2469.0</td>\n",
       "      <td>303220.0</td>\n",
       "      <td>607.66</td>\n",
       "      <td>20.0</td>\n",
       "      <td>6946.0</td>\n",
       "      <td>1987356.0</td>\n",
       "      <td>3982.68</td>\n",
       "    </tr>\n",
       "    <tr>\n",
       "      <th>grand_total</th>\n",
       "      <td>627.0</td>\n",
       "      <td>17076.0</td>\n",
       "      <td>3290845.0</td>\n",
       "      <td>8920.50</td>\n",
       "      <td>56.0</td>\n",
       "      <td>5879.0</td>\n",
       "      <td>619952.0</td>\n",
       "      <td>1978.79</td>\n",
       "      <td>471.0</td>\n",
       "      <td>12912.0</td>\n",
       "      <td>2670893.0</td>\n",
       "      <td>6941.71</td>\n",
       "    </tr>\n",
       "  </tbody>\n",
       "</table>\n",
       "</div>"
      ],
      "text/plain": [
       "               cnt                      ... registered                    \n",
       "               min      max        sum  ...        max        sum     mean\n",
       "workingday                              ...                               \n",
       "0            605.0   8714.0  1000269.0  ...     5966.0   683537.0  2959.03\n",
       "1             22.0   8362.0  2290576.0  ...     6946.0  1987356.0  3982.68\n",
       "grand_total  627.0  17076.0  3290845.0  ...    12912.0  2670893.0  6941.71\n",
       "\n",
       "[3 rows x 12 columns]"
      ]
     },
     "execution_count": 176,
     "metadata": {},
     "output_type": "execute_result"
    }
   ],
   "source": [
    "df_bike.groupby([\"workingday\"]).agg({ 'cnt': ['min','max','sum','mean'],'casual': ['min','max','sum','mean'],'registered': ['min','max','sum','mean']}).stb.subtotal().round(2)\n",
    "# 1 dia laborable - hay muchas mas reservas en días laborables que festivos, más de el doble."
   ]
  },
  {
   "cell_type": "markdown",
   "metadata": {},
   "source": [
    "---"
   ]
  },
  {
   "cell_type": "markdown",
   "metadata": {},
   "source": [
    "### 8. \"weathersit\": \n",
    "- 1: Clear, Few clouds, Partly cloudy, Partly cloudy\n",
    "- 2: Mist + Cloudy, Mist + Broken clouds, Mist + Few clouds, Mist\n",
    "- 3: Light Snow, Light Rain + Thunderstorm + Scattered clouds, Light Rain + Scattered clouds\n",
    "- 4: Heavy Rain + Ice Pallets + Thunderstorm + Mist, Snow + Fog"
   ]
  },
  {
   "cell_type": "code",
   "execution_count": 177,
   "metadata": {},
   "outputs": [],
   "source": [
    "weather = pd.DataFrame(df_bike[[\"cnt\", \"weathersit\"]].groupby(\"weathersit\"))"
   ]
  },
  {
   "cell_type": "code",
   "execution_count": 178,
   "metadata": {},
   "outputs": [],
   "source": [
    "i = 0\n",
    "lista2 = []\n",
    "for i in range(len(df_bike[\"weathersit\"].value_counts())):\n",
    "    a = weather[1][i][\"cnt\"].sum()\n",
    "    i = i+1\n",
    "    lista2.append(a)"
   ]
  },
  {
   "cell_type": "code",
   "execution_count": 179,
   "metadata": {},
   "outputs": [],
   "source": [
    "weathersit = pd.DataFrame(lista2)\n",
    "weathersit[\"%\"] = weathersit[0].apply(lambda x: x / df_bike.shape[0] * 100)\n",
    "weathersit[\"Tipo\"] = [\"1\", \"2\", \"3\"]"
   ]
  },
  {
   "cell_type": "code",
   "execution_count": 180,
   "metadata": {},
   "outputs": [],
   "source": [
    "labelsX = [\"1: Clear, Few clouds, Partly cloudy, Partly cloudy\", \"2: Mist + Cloudy, Mist + Broken clouds, Mist + Few clouds, Mist\", \"Light Snow, Light Rain + Thunderstorm + Scattered clouds, Light Rain + Scattered clouds\"]\n"
   ]
  },
  {
   "cell_type": "code",
   "execution_count": 181,
   "metadata": {},
   "outputs": [
    {
     "data": {
      "image/png": "[encoded data removed]",
      "text/plain": [
       "<Figure size 480x320 with 1 Axes>"
      ]
     },
     "metadata": {},
     "output_type": "display_data"
    }
   ],
   "source": [
    "plt.figure(figsize=(6,4), dpi= 80)\n",
    "\n",
    "sns.barplot(x = \"weathersit\", y = \"cnt\", data = df_bike)\n",
    "plt.xticks([0, 1, 2], [\"¡Súper!\", \"Feo\", \"Peli y mantita\"]);\n"
   ]
  },
  {
   "cell_type": "markdown",
   "metadata": {},
   "source": [
    "---"
   ]
  },
  {
   "cell_type": "markdown",
   "metadata": {},
   "source": [
    "### 9. Temperatura, Sensación Térmica y Humedad"
   ]
  },
  {
   "cell_type": "markdown",
   "metadata": {},
   "source": [
    "hay que hacer encoding con etiquetas para las graficas"
   ]
  },
  {
   "cell_type": "code",
   "execution_count": 182,
   "metadata": {},
   "outputs": [
    {
     "data": {
      "text/html": [
       "<div>\n",
       "<style scoped>\n",
       "    .dataframe tbody tr th:only-of-type {\n",
       "        vertical-align: middle;\n",
       "    }\n",
       "\n",
       "    .dataframe tbody tr th {\n",
       "        vertical-align: top;\n",
       "    }\n",
       "\n",
       "    .dataframe thead th {\n",
       "        text-align: right;\n",
       "    }\n",
       "</style>\n",
       "<table border=\"1\" class=\"dataframe\">\n",
       "  <thead>\n",
       "    <tr style=\"text-align: right;\">\n",
       "      <th></th>\n",
       "      <th>instant</th>\n",
       "      <th>dteday</th>\n",
       "      <th>season</th>\n",
       "      <th>yr</th>\n",
       "      <th>mnth</th>\n",
       "      <th>day</th>\n",
       "      <th>holiday</th>\n",
       "      <th>weekday</th>\n",
       "      <th>workingday</th>\n",
       "      <th>weathersit</th>\n",
       "      <th>temp</th>\n",
       "      <th>atemp</th>\n",
       "      <th>hum</th>\n",
       "      <th>windspeed</th>\n",
       "      <th>casual</th>\n",
       "      <th>registered</th>\n",
       "      <th>cnt</th>\n",
       "      <th>season_encoding</th>\n",
       "    </tr>\n",
       "  </thead>\n",
       "  <tbody>\n",
       "    <tr>\n",
       "      <th>0</th>\n",
       "      <td>1</td>\n",
       "      <td>2018-01-01</td>\n",
       "      <td>winter</td>\n",
       "      <td>0</td>\n",
       "      <td>1</td>\n",
       "      <td>01</td>\n",
       "      <td>0</td>\n",
       "      <td>6</td>\n",
       "      <td>0</td>\n",
       "      <td>2</td>\n",
       "      <td>14.110847</td>\n",
       "      <td>18.18125</td>\n",
       "      <td>80.5833</td>\n",
       "      <td>10.749882</td>\n",
       "      <td>331</td>\n",
       "      <td>654</td>\n",
       "      <td>985</td>\n",
       "      <td>1</td>\n",
       "    </tr>\n",
       "    <tr>\n",
       "      <th>1</th>\n",
       "      <td>2</td>\n",
       "      <td>2018-02-01</td>\n",
       "      <td>winter</td>\n",
       "      <td>0</td>\n",
       "      <td>1</td>\n",
       "      <td>02</td>\n",
       "      <td>0</td>\n",
       "      <td>0</td>\n",
       "      <td>0</td>\n",
       "      <td>2</td>\n",
       "      <td>14.902598</td>\n",
       "      <td>17.68695</td>\n",
       "      <td>69.6087</td>\n",
       "      <td>16.652113</td>\n",
       "      <td>131</td>\n",
       "      <td>670</td>\n",
       "      <td>801</td>\n",
       "      <td>1</td>\n",
       "    </tr>\n",
       "  </tbody>\n",
       "</table>\n",
       "</div>"
      ],
      "text/plain": [
       "   instant     dteday  season  yr  ...  casual registered  cnt  season_encoding\n",
       "0        1 2018-01-01  winter   0  ...     331        654  985                1\n",
       "1        2 2018-02-01  winter   0  ...     131        670  801                1\n",
       "\n",
       "[2 rows x 18 columns]"
      ]
     },
     "execution_count": 182,
     "metadata": {},
     "output_type": "execute_result"
    }
   ],
   "source": [
    "df_bike.head(2)"
   ]
  },
  {
   "cell_type": "code",
   "execution_count": 183,
   "metadata": {},
   "outputs": [],
   "source": [
    "df_bike[['temp','atemp','hum']] = df_bike[['temp','atemp','hum']].round(1)"
   ]
  },
  {
   "cell_type": "code",
   "execution_count": 184,
   "metadata": {},
   "outputs": [
    {
     "data": {
      "text/html": [
       "<div>\n",
       "<style scoped>\n",
       "    .dataframe tbody tr th:only-of-type {\n",
       "        vertical-align: middle;\n",
       "    }\n",
       "\n",
       "    .dataframe tbody tr th {\n",
       "        vertical-align: top;\n",
       "    }\n",
       "\n",
       "    .dataframe thead th {\n",
       "        text-align: right;\n",
       "    }\n",
       "</style>\n",
       "<table border=\"1\" class=\"dataframe\">\n",
       "  <thead>\n",
       "    <tr style=\"text-align: right;\">\n",
       "      <th></th>\n",
       "      <th>temp</th>\n",
       "      <th>atemp</th>\n",
       "    </tr>\n",
       "  </thead>\n",
       "  <tbody>\n",
       "    <tr>\n",
       "      <th>0</th>\n",
       "      <td>14.1</td>\n",
       "      <td>18.2</td>\n",
       "    </tr>\n",
       "    <tr>\n",
       "      <th>1</th>\n",
       "      <td>14.9</td>\n",
       "      <td>17.7</td>\n",
       "    </tr>\n",
       "    <tr>\n",
       "      <th>2</th>\n",
       "      <td>8.1</td>\n",
       "      <td>9.5</td>\n",
       "    </tr>\n",
       "    <tr>\n",
       "      <th>3</th>\n",
       "      <td>8.2</td>\n",
       "      <td>10.6</td>\n",
       "    </tr>\n",
       "    <tr>\n",
       "      <th>4</th>\n",
       "      <td>9.3</td>\n",
       "      <td>11.5</td>\n",
       "    </tr>\n",
       "    <tr>\n",
       "      <th>...</th>\n",
       "      <td>...</td>\n",
       "      <td>...</td>\n",
       "    </tr>\n",
       "    <tr>\n",
       "      <th>725</th>\n",
       "      <td>10.4</td>\n",
       "      <td>11.3</td>\n",
       "    </tr>\n",
       "    <tr>\n",
       "      <th>726</th>\n",
       "      <td>10.4</td>\n",
       "      <td>12.8</td>\n",
       "    </tr>\n",
       "    <tr>\n",
       "      <th>727</th>\n",
       "      <td>10.4</td>\n",
       "      <td>12.1</td>\n",
       "    </tr>\n",
       "    <tr>\n",
       "      <th>728</th>\n",
       "      <td>10.5</td>\n",
       "      <td>11.6</td>\n",
       "    </tr>\n",
       "    <tr>\n",
       "      <th>729</th>\n",
       "      <td>8.8</td>\n",
       "      <td>11.2</td>\n",
       "    </tr>\n",
       "  </tbody>\n",
       "</table>\n",
       "<p>730 rows × 2 columns</p>\n",
       "</div>"
      ],
      "text/plain": [
       "     temp  atemp\n",
       "0    14.1   18.2\n",
       "1    14.9   17.7\n",
       "2     8.1    9.5\n",
       "3     8.2   10.6\n",
       "4     9.3   11.5\n",
       "..    ...    ...\n",
       "725  10.4   11.3\n",
       "726  10.4   12.8\n",
       "727  10.4   12.1\n",
       "728  10.5   11.6\n",
       "729   8.8   11.2\n",
       "\n",
       "[730 rows x 2 columns]"
      ]
     },
     "execution_count": 184,
     "metadata": {},
     "output_type": "execute_result"
    }
   ],
   "source": [
    "df_temp = df_bike[['temp','atemp']]\n",
    "df_temp"
   ]
  },
  {
   "cell_type": "code",
   "execution_count": 185,
   "metadata": {},
   "outputs": [
    {
     "data": {
      "text/plain": [
       "<seaborn.axisgrid.FacetGrid at 0x7f3057afa828>"
      ]
     },
     "execution_count": 185,
     "metadata": {},
     "output_type": "execute_result"
    },
    {
     "data": {
      "image/png": "[encoded data removed]",
      "text/plain": [
       "<Figure size 435.35x360 with 1 Axes>"
      ]
     },
     "metadata": {},
     "output_type": "display_data"
    }
   ],
   "source": [
    "sns.displot(df_temp)"
   ]
  },
  {
   "cell_type": "code",
   "execution_count": 186,
   "metadata": {},
   "outputs": [
    {
     "data": {
      "text/plain": [
       "<seaborn.axisgrid.FacetGrid at 0x7f305ed49f28>"
      ]
     },
     "execution_count": 186,
     "metadata": {},
     "output_type": "execute_result"
    },
    {
     "data": {
      "image/png": "[encoded data removed]",
      "text/plain": [
       "<Figure size 360x360 with 1 Axes>"
      ]
     },
     "metadata": {},
     "output_type": "display_data"
    }
   ],
   "source": [
    "sns.displot(df_bike[\"hum\"])"
   ]
  },
  {
   "cell_type": "code",
   "execution_count": 187,
   "metadata": {},
   "outputs": [],
   "source": [
    "df_clima = df_bike[['temp','atemp','hum']]"
   ]
  },
  {
   "cell_type": "code",
   "execution_count": 188,
   "metadata": {},
   "outputs": [
    {
     "data": {
      "text/plain": [
       "<seaborn.axisgrid.FacetGrid at 0x7f30575923c8>"
      ]
     },
     "execution_count": 188,
     "metadata": {},
     "output_type": "execute_result"
    },
    {
     "data": {
      "image/png": "[encoded data removed]",
      "text/plain": [
       "<Figure size 435.35x360 with 1 Axes>"
      ]
     },
     "metadata": {},
     "output_type": "display_data"
    }
   ],
   "source": [
    "sns.displot(df_clima)"
   ]
  },
  {
   "cell_type": "code",
   "execution_count": 189,
   "metadata": {},
   "outputs": [
    {
     "data": {
      "image/png": "[encoded data removed]",
      "text/plain": [
       "<Figure size 540x540 with 12 Axes>"
      ]
     },
     "metadata": {},
     "output_type": "display_data"
    }
   ],
   "source": [
    "sns.pairplot(df_clima);"
   ]
  },
  {
   "cell_type": "markdown",
   "metadata": {},
   "source": [
    "Voy a ver normalidad numéricamente"
   ]
  },
  {
   "cell_type": "code",
   "execution_count": 190,
   "metadata": {},
   "outputs": [
    {
     "data": {
      "text/plain": [
       "ShapiroResult(statistic=0.9737697243690491, pvalue=3.6718658669165904e-10)"
      ]
     },
     "execution_count": 190,
     "metadata": {},
     "output_type": "execute_result"
    }
   ],
   "source": [
    "stats.shapiro(df_bike[\"atemp\"])"
   ]
  },
  {
   "cell_type": "code",
   "execution_count": 191,
   "metadata": {},
   "outputs": [
    {
     "data": {
      "text/plain": [
       "ShapiroResult(statistic=0.9657878279685974, pvalue=4.954737575085799e-12)"
      ]
     },
     "execution_count": 191,
     "metadata": {},
     "output_type": "execute_result"
    }
   ],
   "source": [
    "stats.shapiro(df_bike[\"temp\"])"
   ]
  },
  {
   "cell_type": "code",
   "execution_count": 192,
   "metadata": {},
   "outputs": [
    {
     "data": {
      "text/plain": [
       "ShapiroResult(statistic=0.9933574795722961, pvalue=0.0025413876865059137)"
      ]
     },
     "execution_count": 192,
     "metadata": {},
     "output_type": "execute_result"
    }
   ],
   "source": [
    "stats.shapiro(df_bike[\"hum\"])"
   ]
  },
  {
   "cell_type": "markdown",
   "metadata": {},
   "source": [
    "Estas tres variables parecen normales"
   ]
  },
  {
   "cell_type": "markdown",
   "metadata": {},
   "source": [
    "- Codificando variables"
   ]
  },
  {
   "cell_type": "code",
   "execution_count": 193,
   "metadata": {},
   "outputs": [],
   "source": [
    "df_bike[\"temp_interval\"] = pd.cut(df_bike[\"temp\"], 5,labels = [\"very_low\", \"low\", \"medium\", \"high\", \"very_high\"], ordered=True)"
   ]
  },
  {
   "cell_type": "code",
   "execution_count": 194,
   "metadata": {},
   "outputs": [
    {
     "data": {
      "text/html": [
       "<div>\n",
       "<style scoped>\n",
       "    .dataframe tbody tr th:only-of-type {\n",
       "        vertical-align: middle;\n",
       "    }\n",
       "\n",
       "    .dataframe tbody tr th {\n",
       "        vertical-align: top;\n",
       "    }\n",
       "\n",
       "    .dataframe thead th {\n",
       "        text-align: right;\n",
       "    }\n",
       "</style>\n",
       "<table border=\"1\" class=\"dataframe\">\n",
       "  <thead>\n",
       "    <tr style=\"text-align: right;\">\n",
       "      <th></th>\n",
       "      <th>instant</th>\n",
       "      <th>dteday</th>\n",
       "      <th>season</th>\n",
       "      <th>yr</th>\n",
       "      <th>mnth</th>\n",
       "      <th>day</th>\n",
       "      <th>holiday</th>\n",
       "      <th>weekday</th>\n",
       "      <th>workingday</th>\n",
       "      <th>weathersit</th>\n",
       "      <th>temp</th>\n",
       "      <th>atemp</th>\n",
       "      <th>hum</th>\n",
       "      <th>windspeed</th>\n",
       "      <th>casual</th>\n",
       "      <th>registered</th>\n",
       "      <th>cnt</th>\n",
       "      <th>season_encoding</th>\n",
       "      <th>temp_interval</th>\n",
       "    </tr>\n",
       "  </thead>\n",
       "  <tbody>\n",
       "    <tr>\n",
       "      <th>0</th>\n",
       "      <td>1</td>\n",
       "      <td>2018-01-01</td>\n",
       "      <td>winter</td>\n",
       "      <td>0</td>\n",
       "      <td>1</td>\n",
       "      <td>01</td>\n",
       "      <td>0</td>\n",
       "      <td>6</td>\n",
       "      <td>0</td>\n",
       "      <td>2</td>\n",
       "      <td>14.1</td>\n",
       "      <td>18.2</td>\n",
       "      <td>80.6</td>\n",
       "      <td>10.749882</td>\n",
       "      <td>331</td>\n",
       "      <td>654</td>\n",
       "      <td>985</td>\n",
       "      <td>1</td>\n",
       "      <td>low</td>\n",
       "    </tr>\n",
       "    <tr>\n",
       "      <th>1</th>\n",
       "      <td>2</td>\n",
       "      <td>2018-02-01</td>\n",
       "      <td>winter</td>\n",
       "      <td>0</td>\n",
       "      <td>1</td>\n",
       "      <td>02</td>\n",
       "      <td>0</td>\n",
       "      <td>0</td>\n",
       "      <td>0</td>\n",
       "      <td>2</td>\n",
       "      <td>14.9</td>\n",
       "      <td>17.7</td>\n",
       "      <td>69.6</td>\n",
       "      <td>16.652113</td>\n",
       "      <td>131</td>\n",
       "      <td>670</td>\n",
       "      <td>801</td>\n",
       "      <td>1</td>\n",
       "      <td>low</td>\n",
       "    </tr>\n",
       "  </tbody>\n",
       "</table>\n",
       "</div>"
      ],
      "text/plain": [
       "   instant     dteday  season  ...  cnt  season_encoding temp_interval\n",
       "0        1 2018-01-01  winter  ...  985                1           low\n",
       "1        2 2018-02-01  winter  ...  801                1           low\n",
       "\n",
       "[2 rows x 19 columns]"
      ]
     },
     "execution_count": 194,
     "metadata": {},
     "output_type": "execute_result"
    }
   ],
   "source": [
    "df_bike.head(2)"
   ]
  },
  {
   "cell_type": "code",
   "execution_count": 195,
   "metadata": {},
   "outputs": [],
   "source": [
    "df_bike[\"temp_interval_num\"] = pd.cut(df_bike[\"temp\"], 5, ordered=True)"
   ]
  },
  {
   "cell_type": "code",
   "execution_count": 196,
   "metadata": {},
   "outputs": [
    {
     "data": {
      "text/html": [
       "<div>\n",
       "<style scoped>\n",
       "    .dataframe tbody tr th:only-of-type {\n",
       "        vertical-align: middle;\n",
       "    }\n",
       "\n",
       "    .dataframe tbody tr th {\n",
       "        vertical-align: top;\n",
       "    }\n",
       "\n",
       "    .dataframe thead th {\n",
       "        text-align: right;\n",
       "    }\n",
       "</style>\n",
       "<table border=\"1\" class=\"dataframe\">\n",
       "  <thead>\n",
       "    <tr style=\"text-align: right;\">\n",
       "      <th></th>\n",
       "      <th>instant</th>\n",
       "      <th>dteday</th>\n",
       "      <th>season</th>\n",
       "      <th>yr</th>\n",
       "      <th>mnth</th>\n",
       "      <th>day</th>\n",
       "      <th>holiday</th>\n",
       "      <th>weekday</th>\n",
       "      <th>workingday</th>\n",
       "      <th>weathersit</th>\n",
       "      <th>temp</th>\n",
       "      <th>atemp</th>\n",
       "      <th>hum</th>\n",
       "      <th>windspeed</th>\n",
       "      <th>casual</th>\n",
       "      <th>registered</th>\n",
       "      <th>cnt</th>\n",
       "      <th>season_encoding</th>\n",
       "      <th>temp_interval</th>\n",
       "      <th>temp_interval_num</th>\n",
       "    </tr>\n",
       "  </thead>\n",
       "  <tbody>\n",
       "    <tr>\n",
       "      <th>0</th>\n",
       "      <td>1</td>\n",
       "      <td>2018-01-01</td>\n",
       "      <td>winter</td>\n",
       "      <td>0</td>\n",
       "      <td>1</td>\n",
       "      <td>01</td>\n",
       "      <td>0</td>\n",
       "      <td>6</td>\n",
       "      <td>0</td>\n",
       "      <td>2</td>\n",
       "      <td>14.1</td>\n",
       "      <td>18.2</td>\n",
       "      <td>80.6</td>\n",
       "      <td>10.749882</td>\n",
       "      <td>331</td>\n",
       "      <td>654</td>\n",
       "      <td>985</td>\n",
       "      <td>1</td>\n",
       "      <td>low</td>\n",
       "      <td>(8.98, 15.56]</td>\n",
       "    </tr>\n",
       "    <tr>\n",
       "      <th>1</th>\n",
       "      <td>2</td>\n",
       "      <td>2018-02-01</td>\n",
       "      <td>winter</td>\n",
       "      <td>0</td>\n",
       "      <td>1</td>\n",
       "      <td>02</td>\n",
       "      <td>0</td>\n",
       "      <td>0</td>\n",
       "      <td>0</td>\n",
       "      <td>2</td>\n",
       "      <td>14.9</td>\n",
       "      <td>17.7</td>\n",
       "      <td>69.6</td>\n",
       "      <td>16.652113</td>\n",
       "      <td>131</td>\n",
       "      <td>670</td>\n",
       "      <td>801</td>\n",
       "      <td>1</td>\n",
       "      <td>low</td>\n",
       "      <td>(8.98, 15.56]</td>\n",
       "    </tr>\n",
       "  </tbody>\n",
       "</table>\n",
       "</div>"
      ],
      "text/plain": [
       "   instant     dteday  season  ...  season_encoding  temp_interval temp_interval_num\n",
       "0        1 2018-01-01  winter  ...                1            low     (8.98, 15.56]\n",
       "1        2 2018-02-01  winter  ...                1            low     (8.98, 15.56]\n",
       "\n",
       "[2 rows x 20 columns]"
      ]
     },
     "execution_count": 196,
     "metadata": {},
     "output_type": "execute_result"
    }
   ],
   "source": [
    "df_bike.head(2)"
   ]
  },
  {
   "cell_type": "code",
   "execution_count": 197,
   "metadata": {},
   "outputs": [],
   "source": [
    "#df_bike[\"atemp_interval\"] = pd.cut(df_bike[\"atemp\"], 5,labels = [\"very_low\", \"low\", \"medium\", \"high\", \"very_high\"], ordered=True)"
   ]
  },
  {
   "cell_type": "code",
   "execution_count": 198,
   "metadata": {},
   "outputs": [],
   "source": [
    "df_bike[\"hum_interval\"] = pd.cut(df_bike[\"hum\"], 5,labels = [\"very_low\", \"low\", \"medium\", \"high\", \"very_high\"], ordered=True)"
   ]
  },
  {
   "cell_type": "code",
   "execution_count": 199,
   "metadata": {},
   "outputs": [],
   "source": [
    "df_bike[\"hum_interval_num\"] = pd.cut(df_bike[\"hum\"], 5, ordered=True)"
   ]
  },
  {
   "cell_type": "code",
   "execution_count": 200,
   "metadata": {},
   "outputs": [
    {
     "data": {
      "text/html": [
       "<div>\n",
       "<style scoped>\n",
       "    .dataframe tbody tr th:only-of-type {\n",
       "        vertical-align: middle;\n",
       "    }\n",
       "\n",
       "    .dataframe tbody tr th {\n",
       "        vertical-align: top;\n",
       "    }\n",
       "\n",
       "    .dataframe thead th {\n",
       "        text-align: right;\n",
       "    }\n",
       "</style>\n",
       "<table border=\"1\" class=\"dataframe\">\n",
       "  <thead>\n",
       "    <tr style=\"text-align: right;\">\n",
       "      <th></th>\n",
       "      <th>instant</th>\n",
       "      <th>dteday</th>\n",
       "      <th>season</th>\n",
       "      <th>yr</th>\n",
       "      <th>mnth</th>\n",
       "      <th>day</th>\n",
       "      <th>holiday</th>\n",
       "      <th>weekday</th>\n",
       "      <th>workingday</th>\n",
       "      <th>weathersit</th>\n",
       "      <th>temp</th>\n",
       "      <th>atemp</th>\n",
       "      <th>hum</th>\n",
       "      <th>windspeed</th>\n",
       "      <th>casual</th>\n",
       "      <th>registered</th>\n",
       "      <th>cnt</th>\n",
       "      <th>season_encoding</th>\n",
       "      <th>temp_interval</th>\n",
       "      <th>temp_interval_num</th>\n",
       "      <th>hum_interval</th>\n",
       "      <th>hum_interval_num</th>\n",
       "    </tr>\n",
       "  </thead>\n",
       "  <tbody>\n",
       "    <tr>\n",
       "      <th>0</th>\n",
       "      <td>1</td>\n",
       "      <td>2018-01-01</td>\n",
       "      <td>winter</td>\n",
       "      <td>0</td>\n",
       "      <td>1</td>\n",
       "      <td>01</td>\n",
       "      <td>0</td>\n",
       "      <td>6</td>\n",
       "      <td>0</td>\n",
       "      <td>2</td>\n",
       "      <td>14.1</td>\n",
       "      <td>18.2</td>\n",
       "      <td>80.6</td>\n",
       "      <td>10.749882</td>\n",
       "      <td>331</td>\n",
       "      <td>654</td>\n",
       "      <td>985</td>\n",
       "      <td>1</td>\n",
       "      <td>low</td>\n",
       "      <td>(8.98, 15.56]</td>\n",
       "      <td>very_high</td>\n",
       "      <td>(77.76, 97.2]</td>\n",
       "    </tr>\n",
       "    <tr>\n",
       "      <th>1</th>\n",
       "      <td>2</td>\n",
       "      <td>2018-02-01</td>\n",
       "      <td>winter</td>\n",
       "      <td>0</td>\n",
       "      <td>1</td>\n",
       "      <td>02</td>\n",
       "      <td>0</td>\n",
       "      <td>0</td>\n",
       "      <td>0</td>\n",
       "      <td>2</td>\n",
       "      <td>14.9</td>\n",
       "      <td>17.7</td>\n",
       "      <td>69.6</td>\n",
       "      <td>16.652113</td>\n",
       "      <td>131</td>\n",
       "      <td>670</td>\n",
       "      <td>801</td>\n",
       "      <td>1</td>\n",
       "      <td>low</td>\n",
       "      <td>(8.98, 15.56]</td>\n",
       "      <td>high</td>\n",
       "      <td>(58.32, 77.76]</td>\n",
       "    </tr>\n",
       "  </tbody>\n",
       "</table>\n",
       "</div>"
      ],
      "text/plain": [
       "   instant     dteday  season  ...  temp_interval_num  hum_interval hum_interval_num\n",
       "0        1 2018-01-01  winter  ...      (8.98, 15.56]     very_high    (77.76, 97.2]\n",
       "1        2 2018-02-01  winter  ...      (8.98, 15.56]          high   (58.32, 77.76]\n",
       "\n",
       "[2 rows x 22 columns]"
      ]
     },
     "execution_count": 200,
     "metadata": {},
     "output_type": "execute_result"
    }
   ],
   "source": [
    "df_bike.head(2)"
   ]
  },
  {
   "cell_type": "code",
   "execution_count": 201,
   "metadata": {},
   "outputs": [],
   "source": [
    "#df_interval = df_bike[[\"atemp_interval\",\"temp_interval\",\"hum_interval\"]]\n",
    "#df_interval"
   ]
  },
  {
   "cell_type": "markdown",
   "metadata": {},
   "source": [
    "Voy a hacer un ordinal encoding"
   ]
  },
  {
   "cell_type": "code",
   "execution_count": 202,
   "metadata": {},
   "outputs": [],
   "source": [
    "from sklearn.preprocessing import OrdinalEncoder\n",
    "orden = [\"very_low\", \"low\", \"medium\", \"high\", \"very_high\"]"
   ]
  },
  {
   "cell_type": "code",
   "execution_count": 203,
   "metadata": {},
   "outputs": [],
   "source": [
    "def ordinal_encoder(df, columna, orden_valores):\n",
    "    \n",
    "    # nos creamos un diccionario vacío para hacer el map después. \n",
    "    ordinal_dict = {}\n",
    "    \n",
    "    # iteramos por nuestra lista de valores usando el enumerate que recordamos nos devolvía también el índice o posición de cada elemento\n",
    "    for i, valor in enumerate(orden_valores):\n",
    "        ordinal_dict[valor]=i+1 # le sumamos uno a la posición para no tener valores de 0. \n",
    "    \n",
    "    # aplicamos el map\n",
    "    df[columna+\"_ord\"] = df[columna].map(ordinal_dict)\n",
    "    return df"
   ]
  },
  {
   "cell_type": "code",
   "execution_count": 204,
   "metadata": {},
   "outputs": [
    {
     "data": {
      "text/html": [
       "<div>\n",
       "<style scoped>\n",
       "    .dataframe tbody tr th:only-of-type {\n",
       "        vertical-align: middle;\n",
       "    }\n",
       "\n",
       "    .dataframe tbody tr th {\n",
       "        vertical-align: top;\n",
       "    }\n",
       "\n",
       "    .dataframe thead th {\n",
       "        text-align: right;\n",
       "    }\n",
       "</style>\n",
       "<table border=\"1\" class=\"dataframe\">\n",
       "  <thead>\n",
       "    <tr style=\"text-align: right;\">\n",
       "      <th></th>\n",
       "      <th>instant</th>\n",
       "      <th>dteday</th>\n",
       "      <th>season</th>\n",
       "      <th>yr</th>\n",
       "      <th>mnth</th>\n",
       "      <th>day</th>\n",
       "      <th>holiday</th>\n",
       "      <th>weekday</th>\n",
       "      <th>workingday</th>\n",
       "      <th>weathersit</th>\n",
       "      <th>temp</th>\n",
       "      <th>atemp</th>\n",
       "      <th>hum</th>\n",
       "      <th>windspeed</th>\n",
       "      <th>casual</th>\n",
       "      <th>registered</th>\n",
       "      <th>cnt</th>\n",
       "      <th>season_encoding</th>\n",
       "      <th>temp_interval</th>\n",
       "      <th>temp_interval_num</th>\n",
       "      <th>hum_interval</th>\n",
       "      <th>hum_interval_num</th>\n",
       "      <th>temp_interval_ord</th>\n",
       "    </tr>\n",
       "  </thead>\n",
       "  <tbody>\n",
       "    <tr>\n",
       "      <th>0</th>\n",
       "      <td>1</td>\n",
       "      <td>2018-01-01</td>\n",
       "      <td>winter</td>\n",
       "      <td>0</td>\n",
       "      <td>1</td>\n",
       "      <td>01</td>\n",
       "      <td>0</td>\n",
       "      <td>6</td>\n",
       "      <td>0</td>\n",
       "      <td>2</td>\n",
       "      <td>14.1</td>\n",
       "      <td>18.2</td>\n",
       "      <td>80.6</td>\n",
       "      <td>10.749882</td>\n",
       "      <td>331</td>\n",
       "      <td>654</td>\n",
       "      <td>985</td>\n",
       "      <td>1</td>\n",
       "      <td>low</td>\n",
       "      <td>(8.98, 15.56]</td>\n",
       "      <td>very_high</td>\n",
       "      <td>(77.76, 97.2]</td>\n",
       "      <td>2</td>\n",
       "    </tr>\n",
       "    <tr>\n",
       "      <th>1</th>\n",
       "      <td>2</td>\n",
       "      <td>2018-02-01</td>\n",
       "      <td>winter</td>\n",
       "      <td>0</td>\n",
       "      <td>1</td>\n",
       "      <td>02</td>\n",
       "      <td>0</td>\n",
       "      <td>0</td>\n",
       "      <td>0</td>\n",
       "      <td>2</td>\n",
       "      <td>14.9</td>\n",
       "      <td>17.7</td>\n",
       "      <td>69.6</td>\n",
       "      <td>16.652113</td>\n",
       "      <td>131</td>\n",
       "      <td>670</td>\n",
       "      <td>801</td>\n",
       "      <td>1</td>\n",
       "      <td>low</td>\n",
       "      <td>(8.98, 15.56]</td>\n",
       "      <td>high</td>\n",
       "      <td>(58.32, 77.76]</td>\n",
       "      <td>2</td>\n",
       "    </tr>\n",
       "    <tr>\n",
       "      <th>2</th>\n",
       "      <td>3</td>\n",
       "      <td>2018-03-01</td>\n",
       "      <td>winter</td>\n",
       "      <td>0</td>\n",
       "      <td>1</td>\n",
       "      <td>03</td>\n",
       "      <td>0</td>\n",
       "      <td>1</td>\n",
       "      <td>1</td>\n",
       "      <td>1</td>\n",
       "      <td>8.1</td>\n",
       "      <td>9.5</td>\n",
       "      <td>43.7</td>\n",
       "      <td>16.636703</td>\n",
       "      <td>120</td>\n",
       "      <td>1229</td>\n",
       "      <td>1349</td>\n",
       "      <td>1</td>\n",
       "      <td>very_low</td>\n",
       "      <td>(2.367, 8.98]</td>\n",
       "      <td>medium</td>\n",
       "      <td>(38.88, 58.32]</td>\n",
       "      <td>1</td>\n",
       "    </tr>\n",
       "    <tr>\n",
       "      <th>3</th>\n",
       "      <td>4</td>\n",
       "      <td>2018-04-01</td>\n",
       "      <td>spring</td>\n",
       "      <td>0</td>\n",
       "      <td>1</td>\n",
       "      <td>04</td>\n",
       "      <td>0</td>\n",
       "      <td>2</td>\n",
       "      <td>1</td>\n",
       "      <td>1</td>\n",
       "      <td>8.2</td>\n",
       "      <td>10.6</td>\n",
       "      <td>59.0</td>\n",
       "      <td>10.739832</td>\n",
       "      <td>108</td>\n",
       "      <td>1454</td>\n",
       "      <td>1562</td>\n",
       "      <td>1</td>\n",
       "      <td>very_low</td>\n",
       "      <td>(2.367, 8.98]</td>\n",
       "      <td>high</td>\n",
       "      <td>(58.32, 77.76]</td>\n",
       "      <td>1</td>\n",
       "    </tr>\n",
       "    <tr>\n",
       "      <th>4</th>\n",
       "      <td>5</td>\n",
       "      <td>2018-05-01</td>\n",
       "      <td>spring</td>\n",
       "      <td>0</td>\n",
       "      <td>1</td>\n",
       "      <td>05</td>\n",
       "      <td>0</td>\n",
       "      <td>3</td>\n",
       "      <td>1</td>\n",
       "      <td>1</td>\n",
       "      <td>9.3</td>\n",
       "      <td>11.5</td>\n",
       "      <td>43.7</td>\n",
       "      <td>12.522300</td>\n",
       "      <td>82</td>\n",
       "      <td>1518</td>\n",
       "      <td>1600</td>\n",
       "      <td>1</td>\n",
       "      <td>low</td>\n",
       "      <td>(8.98, 15.56]</td>\n",
       "      <td>medium</td>\n",
       "      <td>(38.88, 58.32]</td>\n",
       "      <td>2</td>\n",
       "    </tr>\n",
       "    <tr>\n",
       "      <th>...</th>\n",
       "      <td>...</td>\n",
       "      <td>...</td>\n",
       "      <td>...</td>\n",
       "      <td>...</td>\n",
       "      <td>...</td>\n",
       "      <td>...</td>\n",
       "      <td>...</td>\n",
       "      <td>...</td>\n",
       "      <td>...</td>\n",
       "      <td>...</td>\n",
       "      <td>...</td>\n",
       "      <td>...</td>\n",
       "      <td>...</td>\n",
       "      <td>...</td>\n",
       "      <td>...</td>\n",
       "      <td>...</td>\n",
       "      <td>...</td>\n",
       "      <td>...</td>\n",
       "      <td>...</td>\n",
       "      <td>...</td>\n",
       "      <td>...</td>\n",
       "      <td>...</td>\n",
       "      <td>...</td>\n",
       "    </tr>\n",
       "    <tr>\n",
       "      <th>725</th>\n",
       "      <td>726</td>\n",
       "      <td>2019-12-27</td>\n",
       "      <td>autumn</td>\n",
       "      <td>1</td>\n",
       "      <td>12</td>\n",
       "      <td>27</td>\n",
       "      <td>0</td>\n",
       "      <td>4</td>\n",
       "      <td>1</td>\n",
       "      <td>2</td>\n",
       "      <td>10.4</td>\n",
       "      <td>11.3</td>\n",
       "      <td>65.3</td>\n",
       "      <td>23.458911</td>\n",
       "      <td>247</td>\n",
       "      <td>1867</td>\n",
       "      <td>2114</td>\n",
       "      <td>3</td>\n",
       "      <td>low</td>\n",
       "      <td>(8.98, 15.56]</td>\n",
       "      <td>high</td>\n",
       "      <td>(58.32, 77.76]</td>\n",
       "      <td>2</td>\n",
       "    </tr>\n",
       "    <tr>\n",
       "      <th>726</th>\n",
       "      <td>727</td>\n",
       "      <td>2019-12-28</td>\n",
       "      <td>autumn</td>\n",
       "      <td>1</td>\n",
       "      <td>12</td>\n",
       "      <td>28</td>\n",
       "      <td>0</td>\n",
       "      <td>5</td>\n",
       "      <td>1</td>\n",
       "      <td>2</td>\n",
       "      <td>10.4</td>\n",
       "      <td>12.8</td>\n",
       "      <td>59.0</td>\n",
       "      <td>10.416557</td>\n",
       "      <td>644</td>\n",
       "      <td>2451</td>\n",
       "      <td>3095</td>\n",
       "      <td>3</td>\n",
       "      <td>low</td>\n",
       "      <td>(8.98, 15.56]</td>\n",
       "      <td>high</td>\n",
       "      <td>(58.32, 77.76]</td>\n",
       "      <td>2</td>\n",
       "    </tr>\n",
       "    <tr>\n",
       "      <th>727</th>\n",
       "      <td>728</td>\n",
       "      <td>2019-12-29</td>\n",
       "      <td>autumn</td>\n",
       "      <td>1</td>\n",
       "      <td>12</td>\n",
       "      <td>29</td>\n",
       "      <td>0</td>\n",
       "      <td>6</td>\n",
       "      <td>0</td>\n",
       "      <td>2</td>\n",
       "      <td>10.4</td>\n",
       "      <td>12.1</td>\n",
       "      <td>75.3</td>\n",
       "      <td>8.333661</td>\n",
       "      <td>159</td>\n",
       "      <td>1182</td>\n",
       "      <td>1341</td>\n",
       "      <td>3</td>\n",
       "      <td>low</td>\n",
       "      <td>(8.98, 15.56]</td>\n",
       "      <td>high</td>\n",
       "      <td>(58.32, 77.76]</td>\n",
       "      <td>2</td>\n",
       "    </tr>\n",
       "    <tr>\n",
       "      <th>728</th>\n",
       "      <td>729</td>\n",
       "      <td>2019-12-30</td>\n",
       "      <td>autumn</td>\n",
       "      <td>1</td>\n",
       "      <td>12</td>\n",
       "      <td>30</td>\n",
       "      <td>0</td>\n",
       "      <td>0</td>\n",
       "      <td>0</td>\n",
       "      <td>1</td>\n",
       "      <td>10.5</td>\n",
       "      <td>11.6</td>\n",
       "      <td>48.3</td>\n",
       "      <td>23.500518</td>\n",
       "      <td>364</td>\n",
       "      <td>1432</td>\n",
       "      <td>1796</td>\n",
       "      <td>3</td>\n",
       "      <td>low</td>\n",
       "      <td>(8.98, 15.56]</td>\n",
       "      <td>medium</td>\n",
       "      <td>(38.88, 58.32]</td>\n",
       "      <td>2</td>\n",
       "    </tr>\n",
       "    <tr>\n",
       "      <th>729</th>\n",
       "      <td>730</td>\n",
       "      <td>2019-12-31</td>\n",
       "      <td>autumn</td>\n",
       "      <td>1</td>\n",
       "      <td>12</td>\n",
       "      <td>31</td>\n",
       "      <td>0</td>\n",
       "      <td>1</td>\n",
       "      <td>1</td>\n",
       "      <td>2</td>\n",
       "      <td>8.8</td>\n",
       "      <td>11.2</td>\n",
       "      <td>57.8</td>\n",
       "      <td>10.374682</td>\n",
       "      <td>439</td>\n",
       "      <td>2290</td>\n",
       "      <td>2729</td>\n",
       "      <td>3</td>\n",
       "      <td>very_low</td>\n",
       "      <td>(2.367, 8.98]</td>\n",
       "      <td>medium</td>\n",
       "      <td>(38.88, 58.32]</td>\n",
       "      <td>1</td>\n",
       "    </tr>\n",
       "  </tbody>\n",
       "</table>\n",
       "<p>730 rows × 23 columns</p>\n",
       "</div>"
      ],
      "text/plain": [
       "     instant     dteday  season  ...  hum_interval  hum_interval_num temp_interval_ord\n",
       "0          1 2018-01-01  winter  ...     very_high     (77.76, 97.2]                 2\n",
       "1          2 2018-02-01  winter  ...          high    (58.32, 77.76]                 2\n",
       "2          3 2018-03-01  winter  ...        medium    (38.88, 58.32]                 1\n",
       "3          4 2018-04-01  spring  ...          high    (58.32, 77.76]                 1\n",
       "4          5 2018-05-01  spring  ...        medium    (38.88, 58.32]                 2\n",
       "..       ...        ...     ...  ...           ...               ...               ...\n",
       "725      726 2019-12-27  autumn  ...          high    (58.32, 77.76]                 2\n",
       "726      727 2019-12-28  autumn  ...          high    (58.32, 77.76]                 2\n",
       "727      728 2019-12-29  autumn  ...          high    (58.32, 77.76]                 2\n",
       "728      729 2019-12-30  autumn  ...        medium    (38.88, 58.32]                 2\n",
       "729      730 2019-12-31  autumn  ...        medium    (38.88, 58.32]                 1\n",
       "\n",
       "[730 rows x 23 columns]"
      ]
     },
     "execution_count": 204,
     "metadata": {},
     "output_type": "execute_result"
    }
   ],
   "source": [
    "ordinal_encoder(df_bike, \"temp_interval\", orden)"
   ]
  },
  {
   "cell_type": "code",
   "execution_count": 205,
   "metadata": {},
   "outputs": [],
   "source": [
    "#ordinal_encoder(df_bike, \"atemp_interval\", orden)"
   ]
  },
  {
   "cell_type": "code",
   "execution_count": 206,
   "metadata": {},
   "outputs": [
    {
     "data": {
      "text/html": [
       "<div>\n",
       "<style scoped>\n",
       "    .dataframe tbody tr th:only-of-type {\n",
       "        vertical-align: middle;\n",
       "    }\n",
       "\n",
       "    .dataframe tbody tr th {\n",
       "        vertical-align: top;\n",
       "    }\n",
       "\n",
       "    .dataframe thead th {\n",
       "        text-align: right;\n",
       "    }\n",
       "</style>\n",
       "<table border=\"1\" class=\"dataframe\">\n",
       "  <thead>\n",
       "    <tr style=\"text-align: right;\">\n",
       "      <th></th>\n",
       "      <th>instant</th>\n",
       "      <th>dteday</th>\n",
       "      <th>season</th>\n",
       "      <th>yr</th>\n",
       "      <th>mnth</th>\n",
       "      <th>day</th>\n",
       "      <th>holiday</th>\n",
       "      <th>weekday</th>\n",
       "      <th>workingday</th>\n",
       "      <th>weathersit</th>\n",
       "      <th>temp</th>\n",
       "      <th>atemp</th>\n",
       "      <th>hum</th>\n",
       "      <th>windspeed</th>\n",
       "      <th>casual</th>\n",
       "      <th>registered</th>\n",
       "      <th>cnt</th>\n",
       "      <th>season_encoding</th>\n",
       "      <th>temp_interval</th>\n",
       "      <th>temp_interval_num</th>\n",
       "      <th>hum_interval</th>\n",
       "      <th>hum_interval_num</th>\n",
       "      <th>temp_interval_ord</th>\n",
       "    </tr>\n",
       "  </thead>\n",
       "  <tbody>\n",
       "    <tr>\n",
       "      <th>0</th>\n",
       "      <td>1</td>\n",
       "      <td>2018-01-01</td>\n",
       "      <td>winter</td>\n",
       "      <td>0</td>\n",
       "      <td>1</td>\n",
       "      <td>01</td>\n",
       "      <td>0</td>\n",
       "      <td>6</td>\n",
       "      <td>0</td>\n",
       "      <td>2</td>\n",
       "      <td>14.1</td>\n",
       "      <td>18.2</td>\n",
       "      <td>80.6</td>\n",
       "      <td>10.749882</td>\n",
       "      <td>331</td>\n",
       "      <td>654</td>\n",
       "      <td>985</td>\n",
       "      <td>1</td>\n",
       "      <td>low</td>\n",
       "      <td>(8.98, 15.56]</td>\n",
       "      <td>very_high</td>\n",
       "      <td>(77.76, 97.2]</td>\n",
       "      <td>2</td>\n",
       "    </tr>\n",
       "    <tr>\n",
       "      <th>1</th>\n",
       "      <td>2</td>\n",
       "      <td>2018-02-01</td>\n",
       "      <td>winter</td>\n",
       "      <td>0</td>\n",
       "      <td>1</td>\n",
       "      <td>02</td>\n",
       "      <td>0</td>\n",
       "      <td>0</td>\n",
       "      <td>0</td>\n",
       "      <td>2</td>\n",
       "      <td>14.9</td>\n",
       "      <td>17.7</td>\n",
       "      <td>69.6</td>\n",
       "      <td>16.652113</td>\n",
       "      <td>131</td>\n",
       "      <td>670</td>\n",
       "      <td>801</td>\n",
       "      <td>1</td>\n",
       "      <td>low</td>\n",
       "      <td>(8.98, 15.56]</td>\n",
       "      <td>high</td>\n",
       "      <td>(58.32, 77.76]</td>\n",
       "      <td>2</td>\n",
       "    </tr>\n",
       "    <tr>\n",
       "      <th>2</th>\n",
       "      <td>3</td>\n",
       "      <td>2018-03-01</td>\n",
       "      <td>winter</td>\n",
       "      <td>0</td>\n",
       "      <td>1</td>\n",
       "      <td>03</td>\n",
       "      <td>0</td>\n",
       "      <td>1</td>\n",
       "      <td>1</td>\n",
       "      <td>1</td>\n",
       "      <td>8.1</td>\n",
       "      <td>9.5</td>\n",
       "      <td>43.7</td>\n",
       "      <td>16.636703</td>\n",
       "      <td>120</td>\n",
       "      <td>1229</td>\n",
       "      <td>1349</td>\n",
       "      <td>1</td>\n",
       "      <td>very_low</td>\n",
       "      <td>(2.367, 8.98]</td>\n",
       "      <td>medium</td>\n",
       "      <td>(38.88, 58.32]</td>\n",
       "      <td>1</td>\n",
       "    </tr>\n",
       "    <tr>\n",
       "      <th>3</th>\n",
       "      <td>4</td>\n",
       "      <td>2018-04-01</td>\n",
       "      <td>spring</td>\n",
       "      <td>0</td>\n",
       "      <td>1</td>\n",
       "      <td>04</td>\n",
       "      <td>0</td>\n",
       "      <td>2</td>\n",
       "      <td>1</td>\n",
       "      <td>1</td>\n",
       "      <td>8.2</td>\n",
       "      <td>10.6</td>\n",
       "      <td>59.0</td>\n",
       "      <td>10.739832</td>\n",
       "      <td>108</td>\n",
       "      <td>1454</td>\n",
       "      <td>1562</td>\n",
       "      <td>1</td>\n",
       "      <td>very_low</td>\n",
       "      <td>(2.367, 8.98]</td>\n",
       "      <td>high</td>\n",
       "      <td>(58.32, 77.76]</td>\n",
       "      <td>1</td>\n",
       "    </tr>\n",
       "    <tr>\n",
       "      <th>4</th>\n",
       "      <td>5</td>\n",
       "      <td>2018-05-01</td>\n",
       "      <td>spring</td>\n",
       "      <td>0</td>\n",
       "      <td>1</td>\n",
       "      <td>05</td>\n",
       "      <td>0</td>\n",
       "      <td>3</td>\n",
       "      <td>1</td>\n",
       "      <td>1</td>\n",
       "      <td>9.3</td>\n",
       "      <td>11.5</td>\n",
       "      <td>43.7</td>\n",
       "      <td>12.522300</td>\n",
       "      <td>82</td>\n",
       "      <td>1518</td>\n",
       "      <td>1600</td>\n",
       "      <td>1</td>\n",
       "      <td>low</td>\n",
       "      <td>(8.98, 15.56]</td>\n",
       "      <td>medium</td>\n",
       "      <td>(38.88, 58.32]</td>\n",
       "      <td>2</td>\n",
       "    </tr>\n",
       "    <tr>\n",
       "      <th>...</th>\n",
       "      <td>...</td>\n",
       "      <td>...</td>\n",
       "      <td>...</td>\n",
       "      <td>...</td>\n",
       "      <td>...</td>\n",
       "      <td>...</td>\n",
       "      <td>...</td>\n",
       "      <td>...</td>\n",
       "      <td>...</td>\n",
       "      <td>...</td>\n",
       "      <td>...</td>\n",
       "      <td>...</td>\n",
       "      <td>...</td>\n",
       "      <td>...</td>\n",
       "      <td>...</td>\n",
       "      <td>...</td>\n",
       "      <td>...</td>\n",
       "      <td>...</td>\n",
       "      <td>...</td>\n",
       "      <td>...</td>\n",
       "      <td>...</td>\n",
       "      <td>...</td>\n",
       "      <td>...</td>\n",
       "    </tr>\n",
       "    <tr>\n",
       "      <th>725</th>\n",
       "      <td>726</td>\n",
       "      <td>2019-12-27</td>\n",
       "      <td>autumn</td>\n",
       "      <td>1</td>\n",
       "      <td>12</td>\n",
       "      <td>27</td>\n",
       "      <td>0</td>\n",
       "      <td>4</td>\n",
       "      <td>1</td>\n",
       "      <td>2</td>\n",
       "      <td>10.4</td>\n",
       "      <td>11.3</td>\n",
       "      <td>65.3</td>\n",
       "      <td>23.458911</td>\n",
       "      <td>247</td>\n",
       "      <td>1867</td>\n",
       "      <td>2114</td>\n",
       "      <td>3</td>\n",
       "      <td>low</td>\n",
       "      <td>(8.98, 15.56]</td>\n",
       "      <td>high</td>\n",
       "      <td>(58.32, 77.76]</td>\n",
       "      <td>2</td>\n",
       "    </tr>\n",
       "    <tr>\n",
       "      <th>726</th>\n",
       "      <td>727</td>\n",
       "      <td>2019-12-28</td>\n",
       "      <td>autumn</td>\n",
       "      <td>1</td>\n",
       "      <td>12</td>\n",
       "      <td>28</td>\n",
       "      <td>0</td>\n",
       "      <td>5</td>\n",
       "      <td>1</td>\n",
       "      <td>2</td>\n",
       "      <td>10.4</td>\n",
       "      <td>12.8</td>\n",
       "      <td>59.0</td>\n",
       "      <td>10.416557</td>\n",
       "      <td>644</td>\n",
       "      <td>2451</td>\n",
       "      <td>3095</td>\n",
       "      <td>3</td>\n",
       "      <td>low</td>\n",
       "      <td>(8.98, 15.56]</td>\n",
       "      <td>high</td>\n",
       "      <td>(58.32, 77.76]</td>\n",
       "      <td>2</td>\n",
       "    </tr>\n",
       "    <tr>\n",
       "      <th>727</th>\n",
       "      <td>728</td>\n",
       "      <td>2019-12-29</td>\n",
       "      <td>autumn</td>\n",
       "      <td>1</td>\n",
       "      <td>12</td>\n",
       "      <td>29</td>\n",
       "      <td>0</td>\n",
       "      <td>6</td>\n",
       "      <td>0</td>\n",
       "      <td>2</td>\n",
       "      <td>10.4</td>\n",
       "      <td>12.1</td>\n",
       "      <td>75.3</td>\n",
       "      <td>8.333661</td>\n",
       "      <td>159</td>\n",
       "      <td>1182</td>\n",
       "      <td>1341</td>\n",
       "      <td>3</td>\n",
       "      <td>low</td>\n",
       "      <td>(8.98, 15.56]</td>\n",
       "      <td>high</td>\n",
       "      <td>(58.32, 77.76]</td>\n",
       "      <td>2</td>\n",
       "    </tr>\n",
       "    <tr>\n",
       "      <th>728</th>\n",
       "      <td>729</td>\n",
       "      <td>2019-12-30</td>\n",
       "      <td>autumn</td>\n",
       "      <td>1</td>\n",
       "      <td>12</td>\n",
       "      <td>30</td>\n",
       "      <td>0</td>\n",
       "      <td>0</td>\n",
       "      <td>0</td>\n",
       "      <td>1</td>\n",
       "      <td>10.5</td>\n",
       "      <td>11.6</td>\n",
       "      <td>48.3</td>\n",
       "      <td>23.500518</td>\n",
       "      <td>364</td>\n",
       "      <td>1432</td>\n",
       "      <td>1796</td>\n",
       "      <td>3</td>\n",
       "      <td>low</td>\n",
       "      <td>(8.98, 15.56]</td>\n",
       "      <td>medium</td>\n",
       "      <td>(38.88, 58.32]</td>\n",
       "      <td>2</td>\n",
       "    </tr>\n",
       "    <tr>\n",
       "      <th>729</th>\n",
       "      <td>730</td>\n",
       "      <td>2019-12-31</td>\n",
       "      <td>autumn</td>\n",
       "      <td>1</td>\n",
       "      <td>12</td>\n",
       "      <td>31</td>\n",
       "      <td>0</td>\n",
       "      <td>1</td>\n",
       "      <td>1</td>\n",
       "      <td>2</td>\n",
       "      <td>8.8</td>\n",
       "      <td>11.2</td>\n",
       "      <td>57.8</td>\n",
       "      <td>10.374682</td>\n",
       "      <td>439</td>\n",
       "      <td>2290</td>\n",
       "      <td>2729</td>\n",
       "      <td>3</td>\n",
       "      <td>very_low</td>\n",
       "      <td>(2.367, 8.98]</td>\n",
       "      <td>medium</td>\n",
       "      <td>(38.88, 58.32]</td>\n",
       "      <td>1</td>\n",
       "    </tr>\n",
       "  </tbody>\n",
       "</table>\n",
       "<p>730 rows × 23 columns</p>\n",
       "</div>"
      ],
      "text/plain": [
       "     instant     dteday  season  ...  hum_interval  hum_interval_num temp_interval_ord\n",
       "0          1 2018-01-01  winter  ...     very_high     (77.76, 97.2]                 2\n",
       "1          2 2018-02-01  winter  ...          high    (58.32, 77.76]                 2\n",
       "2          3 2018-03-01  winter  ...        medium    (38.88, 58.32]                 1\n",
       "3          4 2018-04-01  spring  ...          high    (58.32, 77.76]                 1\n",
       "4          5 2018-05-01  spring  ...        medium    (38.88, 58.32]                 2\n",
       "..       ...        ...     ...  ...           ...               ...               ...\n",
       "725      726 2019-12-27  autumn  ...          high    (58.32, 77.76]                 2\n",
       "726      727 2019-12-28  autumn  ...          high    (58.32, 77.76]                 2\n",
       "727      728 2019-12-29  autumn  ...          high    (58.32, 77.76]                 2\n",
       "728      729 2019-12-30  autumn  ...        medium    (38.88, 58.32]                 2\n",
       "729      730 2019-12-31  autumn  ...        medium    (38.88, 58.32]                 1\n",
       "\n",
       "[730 rows x 23 columns]"
      ]
     },
     "execution_count": 206,
     "metadata": {},
     "output_type": "execute_result"
    }
   ],
   "source": [
    "ordinal_encoder(df_bike, \"temp_interval\", orden)"
   ]
  },
  {
   "cell_type": "code",
   "execution_count": 207,
   "metadata": {},
   "outputs": [
    {
     "data": {
      "text/html": [
       "<div>\n",
       "<style scoped>\n",
       "    .dataframe tbody tr th:only-of-type {\n",
       "        vertical-align: middle;\n",
       "    }\n",
       "\n",
       "    .dataframe tbody tr th {\n",
       "        vertical-align: top;\n",
       "    }\n",
       "\n",
       "    .dataframe thead th {\n",
       "        text-align: right;\n",
       "    }\n",
       "</style>\n",
       "<table border=\"1\" class=\"dataframe\">\n",
       "  <thead>\n",
       "    <tr style=\"text-align: right;\">\n",
       "      <th></th>\n",
       "      <th>instant</th>\n",
       "      <th>dteday</th>\n",
       "      <th>season</th>\n",
       "      <th>yr</th>\n",
       "      <th>mnth</th>\n",
       "      <th>day</th>\n",
       "      <th>holiday</th>\n",
       "      <th>weekday</th>\n",
       "      <th>workingday</th>\n",
       "      <th>weathersit</th>\n",
       "      <th>temp</th>\n",
       "      <th>atemp</th>\n",
       "      <th>hum</th>\n",
       "      <th>windspeed</th>\n",
       "      <th>casual</th>\n",
       "      <th>registered</th>\n",
       "      <th>cnt</th>\n",
       "      <th>season_encoding</th>\n",
       "      <th>temp_interval</th>\n",
       "      <th>temp_interval_num</th>\n",
       "      <th>hum_interval</th>\n",
       "      <th>hum_interval_num</th>\n",
       "      <th>temp_interval_ord</th>\n",
       "      <th>hum_interval_ord</th>\n",
       "    </tr>\n",
       "  </thead>\n",
       "  <tbody>\n",
       "    <tr>\n",
       "      <th>0</th>\n",
       "      <td>1</td>\n",
       "      <td>2018-01-01</td>\n",
       "      <td>winter</td>\n",
       "      <td>0</td>\n",
       "      <td>1</td>\n",
       "      <td>01</td>\n",
       "      <td>0</td>\n",
       "      <td>6</td>\n",
       "      <td>0</td>\n",
       "      <td>2</td>\n",
       "      <td>14.1</td>\n",
       "      <td>18.2</td>\n",
       "      <td>80.6</td>\n",
       "      <td>10.749882</td>\n",
       "      <td>331</td>\n",
       "      <td>654</td>\n",
       "      <td>985</td>\n",
       "      <td>1</td>\n",
       "      <td>low</td>\n",
       "      <td>(8.98, 15.56]</td>\n",
       "      <td>very_high</td>\n",
       "      <td>(77.76, 97.2]</td>\n",
       "      <td>2</td>\n",
       "      <td>5</td>\n",
       "    </tr>\n",
       "    <tr>\n",
       "      <th>1</th>\n",
       "      <td>2</td>\n",
       "      <td>2018-02-01</td>\n",
       "      <td>winter</td>\n",
       "      <td>0</td>\n",
       "      <td>1</td>\n",
       "      <td>02</td>\n",
       "      <td>0</td>\n",
       "      <td>0</td>\n",
       "      <td>0</td>\n",
       "      <td>2</td>\n",
       "      <td>14.9</td>\n",
       "      <td>17.7</td>\n",
       "      <td>69.6</td>\n",
       "      <td>16.652113</td>\n",
       "      <td>131</td>\n",
       "      <td>670</td>\n",
       "      <td>801</td>\n",
       "      <td>1</td>\n",
       "      <td>low</td>\n",
       "      <td>(8.98, 15.56]</td>\n",
       "      <td>high</td>\n",
       "      <td>(58.32, 77.76]</td>\n",
       "      <td>2</td>\n",
       "      <td>4</td>\n",
       "    </tr>\n",
       "    <tr>\n",
       "      <th>2</th>\n",
       "      <td>3</td>\n",
       "      <td>2018-03-01</td>\n",
       "      <td>winter</td>\n",
       "      <td>0</td>\n",
       "      <td>1</td>\n",
       "      <td>03</td>\n",
       "      <td>0</td>\n",
       "      <td>1</td>\n",
       "      <td>1</td>\n",
       "      <td>1</td>\n",
       "      <td>8.1</td>\n",
       "      <td>9.5</td>\n",
       "      <td>43.7</td>\n",
       "      <td>16.636703</td>\n",
       "      <td>120</td>\n",
       "      <td>1229</td>\n",
       "      <td>1349</td>\n",
       "      <td>1</td>\n",
       "      <td>very_low</td>\n",
       "      <td>(2.367, 8.98]</td>\n",
       "      <td>medium</td>\n",
       "      <td>(38.88, 58.32]</td>\n",
       "      <td>1</td>\n",
       "      <td>3</td>\n",
       "    </tr>\n",
       "    <tr>\n",
       "      <th>3</th>\n",
       "      <td>4</td>\n",
       "      <td>2018-04-01</td>\n",
       "      <td>spring</td>\n",
       "      <td>0</td>\n",
       "      <td>1</td>\n",
       "      <td>04</td>\n",
       "      <td>0</td>\n",
       "      <td>2</td>\n",
       "      <td>1</td>\n",
       "      <td>1</td>\n",
       "      <td>8.2</td>\n",
       "      <td>10.6</td>\n",
       "      <td>59.0</td>\n",
       "      <td>10.739832</td>\n",
       "      <td>108</td>\n",
       "      <td>1454</td>\n",
       "      <td>1562</td>\n",
       "      <td>1</td>\n",
       "      <td>very_low</td>\n",
       "      <td>(2.367, 8.98]</td>\n",
       "      <td>high</td>\n",
       "      <td>(58.32, 77.76]</td>\n",
       "      <td>1</td>\n",
       "      <td>4</td>\n",
       "    </tr>\n",
       "    <tr>\n",
       "      <th>4</th>\n",
       "      <td>5</td>\n",
       "      <td>2018-05-01</td>\n",
       "      <td>spring</td>\n",
       "      <td>0</td>\n",
       "      <td>1</td>\n",
       "      <td>05</td>\n",
       "      <td>0</td>\n",
       "      <td>3</td>\n",
       "      <td>1</td>\n",
       "      <td>1</td>\n",
       "      <td>9.3</td>\n",
       "      <td>11.5</td>\n",
       "      <td>43.7</td>\n",
       "      <td>12.522300</td>\n",
       "      <td>82</td>\n",
       "      <td>1518</td>\n",
       "      <td>1600</td>\n",
       "      <td>1</td>\n",
       "      <td>low</td>\n",
       "      <td>(8.98, 15.56]</td>\n",
       "      <td>medium</td>\n",
       "      <td>(38.88, 58.32]</td>\n",
       "      <td>2</td>\n",
       "      <td>3</td>\n",
       "    </tr>\n",
       "    <tr>\n",
       "      <th>...</th>\n",
       "      <td>...</td>\n",
       "      <td>...</td>\n",
       "      <td>...</td>\n",
       "      <td>...</td>\n",
       "      <td>...</td>\n",
       "      <td>...</td>\n",
       "      <td>...</td>\n",
       "      <td>...</td>\n",
       "      <td>...</td>\n",
       "      <td>...</td>\n",
       "      <td>...</td>\n",
       "      <td>...</td>\n",
       "      <td>...</td>\n",
       "      <td>...</td>\n",
       "      <td>...</td>\n",
       "      <td>...</td>\n",
       "      <td>...</td>\n",
       "      <td>...</td>\n",
       "      <td>...</td>\n",
       "      <td>...</td>\n",
       "      <td>...</td>\n",
       "      <td>...</td>\n",
       "      <td>...</td>\n",
       "      <td>...</td>\n",
       "    </tr>\n",
       "    <tr>\n",
       "      <th>725</th>\n",
       "      <td>726</td>\n",
       "      <td>2019-12-27</td>\n",
       "      <td>autumn</td>\n",
       "      <td>1</td>\n",
       "      <td>12</td>\n",
       "      <td>27</td>\n",
       "      <td>0</td>\n",
       "      <td>4</td>\n",
       "      <td>1</td>\n",
       "      <td>2</td>\n",
       "      <td>10.4</td>\n",
       "      <td>11.3</td>\n",
       "      <td>65.3</td>\n",
       "      <td>23.458911</td>\n",
       "      <td>247</td>\n",
       "      <td>1867</td>\n",
       "      <td>2114</td>\n",
       "      <td>3</td>\n",
       "      <td>low</td>\n",
       "      <td>(8.98, 15.56]</td>\n",
       "      <td>high</td>\n",
       "      <td>(58.32, 77.76]</td>\n",
       "      <td>2</td>\n",
       "      <td>4</td>\n",
       "    </tr>\n",
       "    <tr>\n",
       "      <th>726</th>\n",
       "      <td>727</td>\n",
       "      <td>2019-12-28</td>\n",
       "      <td>autumn</td>\n",
       "      <td>1</td>\n",
       "      <td>12</td>\n",
       "      <td>28</td>\n",
       "      <td>0</td>\n",
       "      <td>5</td>\n",
       "      <td>1</td>\n",
       "      <td>2</td>\n",
       "      <td>10.4</td>\n",
       "      <td>12.8</td>\n",
       "      <td>59.0</td>\n",
       "      <td>10.416557</td>\n",
       "      <td>644</td>\n",
       "      <td>2451</td>\n",
       "      <td>3095</td>\n",
       "      <td>3</td>\n",
       "      <td>low</td>\n",
       "      <td>(8.98, 15.56]</td>\n",
       "      <td>high</td>\n",
       "      <td>(58.32, 77.76]</td>\n",
       "      <td>2</td>\n",
       "      <td>4</td>\n",
       "    </tr>\n",
       "    <tr>\n",
       "      <th>727</th>\n",
       "      <td>728</td>\n",
       "      <td>2019-12-29</td>\n",
       "      <td>autumn</td>\n",
       "      <td>1</td>\n",
       "      <td>12</td>\n",
       "      <td>29</td>\n",
       "      <td>0</td>\n",
       "      <td>6</td>\n",
       "      <td>0</td>\n",
       "      <td>2</td>\n",
       "      <td>10.4</td>\n",
       "      <td>12.1</td>\n",
       "      <td>75.3</td>\n",
       "      <td>8.333661</td>\n",
       "      <td>159</td>\n",
       "      <td>1182</td>\n",
       "      <td>1341</td>\n",
       "      <td>3</td>\n",
       "      <td>low</td>\n",
       "      <td>(8.98, 15.56]</td>\n",
       "      <td>high</td>\n",
       "      <td>(58.32, 77.76]</td>\n",
       "      <td>2</td>\n",
       "      <td>4</td>\n",
       "    </tr>\n",
       "    <tr>\n",
       "      <th>728</th>\n",
       "      <td>729</td>\n",
       "      <td>2019-12-30</td>\n",
       "      <td>autumn</td>\n",
       "      <td>1</td>\n",
       "      <td>12</td>\n",
       "      <td>30</td>\n",
       "      <td>0</td>\n",
       "      <td>0</td>\n",
       "      <td>0</td>\n",
       "      <td>1</td>\n",
       "      <td>10.5</td>\n",
       "      <td>11.6</td>\n",
       "      <td>48.3</td>\n",
       "      <td>23.500518</td>\n",
       "      <td>364</td>\n",
       "      <td>1432</td>\n",
       "      <td>1796</td>\n",
       "      <td>3</td>\n",
       "      <td>low</td>\n",
       "      <td>(8.98, 15.56]</td>\n",
       "      <td>medium</td>\n",
       "      <td>(38.88, 58.32]</td>\n",
       "      <td>2</td>\n",
       "      <td>3</td>\n",
       "    </tr>\n",
       "    <tr>\n",
       "      <th>729</th>\n",
       "      <td>730</td>\n",
       "      <td>2019-12-31</td>\n",
       "      <td>autumn</td>\n",
       "      <td>1</td>\n",
       "      <td>12</td>\n",
       "      <td>31</td>\n",
       "      <td>0</td>\n",
       "      <td>1</td>\n",
       "      <td>1</td>\n",
       "      <td>2</td>\n",
       "      <td>8.8</td>\n",
       "      <td>11.2</td>\n",
       "      <td>57.8</td>\n",
       "      <td>10.374682</td>\n",
       "      <td>439</td>\n",
       "      <td>2290</td>\n",
       "      <td>2729</td>\n",
       "      <td>3</td>\n",
       "      <td>very_low</td>\n",
       "      <td>(2.367, 8.98]</td>\n",
       "      <td>medium</td>\n",
       "      <td>(38.88, 58.32]</td>\n",
       "      <td>1</td>\n",
       "      <td>3</td>\n",
       "    </tr>\n",
       "  </tbody>\n",
       "</table>\n",
       "<p>730 rows × 24 columns</p>\n",
       "</div>"
      ],
      "text/plain": [
       "     instant     dteday  ... temp_interval_ord  hum_interval_ord\n",
       "0          1 2018-01-01  ...                 2                 5\n",
       "1          2 2018-02-01  ...                 2                 4\n",
       "2          3 2018-03-01  ...                 1                 3\n",
       "3          4 2018-04-01  ...                 1                 4\n",
       "4          5 2018-05-01  ...                 2                 3\n",
       "..       ...        ...  ...               ...               ...\n",
       "725      726 2019-12-27  ...                 2                 4\n",
       "726      727 2019-12-28  ...                 2                 4\n",
       "727      728 2019-12-29  ...                 2                 4\n",
       "728      729 2019-12-30  ...                 2                 3\n",
       "729      730 2019-12-31  ...                 1                 3\n",
       "\n",
       "[730 rows x 24 columns]"
      ]
     },
     "execution_count": 207,
     "metadata": {},
     "output_type": "execute_result"
    }
   ],
   "source": [
    "ordinal_encoder(df_bike, \"hum_interval\", orden)"
   ]
  },
  {
   "cell_type": "markdown",
   "metadata": {},
   "source": [
    "- Saco gráficos"
   ]
  },
  {
   "cell_type": "code",
   "execution_count": 208,
   "metadata": {},
   "outputs": [],
   "source": [
    "df_group_temp = df_bike.groupby([\"temp_interval\"]).agg({'cnt': ['sum']})"
   ]
  },
  {
   "cell_type": "code",
   "execution_count": 209,
   "metadata": {},
   "outputs": [
    {
     "data": {
      "text/html": [
       "<div>\n",
       "<style scoped>\n",
       "    .dataframe tbody tr th:only-of-type {\n",
       "        vertical-align: middle;\n",
       "    }\n",
       "\n",
       "    .dataframe tbody tr th {\n",
       "        vertical-align: top;\n",
       "    }\n",
       "\n",
       "    .dataframe thead tr th {\n",
       "        text-align: left;\n",
       "    }\n",
       "\n",
       "    .dataframe thead tr:last-of-type th {\n",
       "        text-align: right;\n",
       "    }\n",
       "</style>\n",
       "<table border=\"1\" class=\"dataframe\">\n",
       "  <thead>\n",
       "    <tr>\n",
       "      <th></th>\n",
       "      <th>cnt</th>\n",
       "    </tr>\n",
       "    <tr>\n",
       "      <th></th>\n",
       "      <th>sum</th>\n",
       "    </tr>\n",
       "    <tr>\n",
       "      <th>hum_interval</th>\n",
       "      <th></th>\n",
       "    </tr>\n",
       "  </thead>\n",
       "  <tbody>\n",
       "    <tr>\n",
       "      <th>very_low</th>\n",
       "      <td>2258</td>\n",
       "    </tr>\n",
       "    <tr>\n",
       "      <th>low</th>\n",
       "      <td>95327</td>\n",
       "    </tr>\n",
       "    <tr>\n",
       "      <th>medium</th>\n",
       "      <td>1224798</td>\n",
       "    </tr>\n",
       "    <tr>\n",
       "      <th>high</th>\n",
       "      <td>1595145</td>\n",
       "    </tr>\n",
       "    <tr>\n",
       "      <th>very_high</th>\n",
       "      <td>373317</td>\n",
       "    </tr>\n",
       "  </tbody>\n",
       "</table>\n",
       "</div>"
      ],
      "text/plain": [
       "                  cnt\n",
       "                  sum\n",
       "hum_interval         \n",
       "very_low         2258\n",
       "low             95327\n",
       "medium        1224798\n",
       "high          1595145\n",
       "very_high      373317"
      ]
     },
     "execution_count": 209,
     "metadata": {},
     "output_type": "execute_result"
    }
   ],
   "source": [
    "df_group_hum= df_bike.groupby([\"hum_interval\"]).agg({'cnt': ['sum']})\n",
    "df_group_hum"
   ]
  },
  {
   "cell_type": "markdown",
   "metadata": {},
   "source": [
    "Se acercan bastante a la normal."
   ]
  },
  {
   "cell_type": "code",
   "execution_count": 210,
   "metadata": {},
   "outputs": [
    {
     "data": {
      "image/png": "[encoded data removed]",
      "text/plain": [
       "<Figure size 864x576 with 1 Axes>"
      ]
     },
     "metadata": {},
     "output_type": "display_data"
    }
   ],
   "source": [
    "plt.figure(figsize=(12,8))\n",
    "plt.plot(df_group_temp, label = \"Temperature\")\n",
    "#plt.plot(df_group_atemp, label = \"Thermal sensation\")\n",
    "plt.plot(df_group_hum, label = \"Humidity\")\n",
    "plt.title(\"Nºs of rentals in different Tªs, thermal sensation and humidity\")\n",
    "plt.legend()\n",
    "plt.show()"
   ]
  },
  {
   "cell_type": "code",
   "execution_count": 211,
   "metadata": {},
   "outputs": [
    {
     "data": {
      "image/png": "[encoded data removed]",
      "text/plain": [
       "<Figure size 432x288 with 2 Axes>"
      ]
     },
     "metadata": {},
     "output_type": "display_data"
    }
   ],
   "source": [
    "mask = np.triu(np.ones_like(df_clima.corr(), dtype=np.bool))\n",
    "mask\n",
    "sns.heatmap(df_clima.corr(),\n",
    "            cmap = \"YlGnBu\", \n",
    "            mask = mask, # incorporamos la máscara en nuestro plot\n",
    "           annot = True); "
   ]
  },
  {
   "cell_type": "markdown",
   "metadata": {},
   "source": [
    "---"
   ]
  },
  {
   "cell_type": "markdown",
   "metadata": {},
   "source": [
    "### 10. \"Windspeed\": encoding"
   ]
  },
  {
   "cell_type": "code",
   "execution_count": 212,
   "metadata": {},
   "outputs": [],
   "source": [
    "df_bike['wind_interval'] = pd.cut(df_bike['windspeed'], 5, labels=[\"very_low\", \"low\", \"medium\", \"high\", \"very_high\"], ordered=True)"
   ]
  },
  {
   "cell_type": "code",
   "execution_count": 213,
   "metadata": {},
   "outputs": [],
   "source": [
    "df_bike['wind_interval'] = df_bike['wind_interval'].astype('object')"
   ]
  },
  {
   "cell_type": "markdown",
   "metadata": {},
   "source": [
    " - Al utilizar el método pd.cut nos devuelve una columna categórica, por eso lo cambiamos a tipo int64. Ahora ya tenemos codificada esta columna."
   ]
  },
  {
   "cell_type": "code",
   "execution_count": 214,
   "metadata": {},
   "outputs": [
    {
     "data": {
      "image/png": "[encoded data removed]",
      "text/plain": [
       "<Figure size 1080x504 with 1 Axes>"
      ]
     },
     "metadata": {},
     "output_type": "display_data"
    }
   ],
   "source": [
    "plt.figure(figsize=(15,7))\n",
    "sns.set_theme(style=\"whitegrid\")\n",
    "ax = sns.barplot(x=\"wind_interval\", y=\"registered\", data=df_bike)"
   ]
  },
  {
   "cell_type": "markdown",
   "metadata": {},
   "source": [
    " - Encoding numérico para la columna wind"
   ]
  },
  {
   "cell_type": "code",
   "execution_count": 215,
   "metadata": {},
   "outputs": [],
   "source": [
    "scale_mapper = {\"very low\":0, \"low\":1, \"medium\":2, 'high':3, 'very high':4}\n",
    "\n",
    "df_bike['wind_num_encoding'] = df_bike[\"wind_interval\"].replace(scale_mapper)"
   ]
  },
  {
   "cell_type": "markdown",
   "metadata": {},
   "source": [
    "----"
   ]
  },
  {
   "cell_type": "markdown",
   "metadata": {},
   "source": [
    "### Últimas columnas: bicis registradas\n",
    "- cnt (total por día)\n",
    "- registered (reservadas por usuarios registrados)\n",
    "- casual (bicis alquiladas por usuarios casuales) "
   ]
  },
  {
   "cell_type": "code",
   "execution_count": 216,
   "metadata": {},
   "outputs": [
    {
     "data": {
      "image/png": "[encoded data removed]",
      "text/plain": [
       "<Figure size 2160x1440 with 3 Axes>"
      ]
     },
     "metadata": {},
     "output_type": "display_data"
    }
   ],
   "source": [
    "fig, axes= plt.subplots(3,1, figsize= (30, 20))\n",
    "axes = axes.flat\n",
    "sns.distplot(df_bike.cnt, hist=False, color=\"blue\", kde_kws= {\"shade\": True, \"linewidth\":1},ax=axes[0])\n",
    "sns.distplot(df_bike.registered, hist=False, color=\"blue\", kde_kws= {\"shade\": True, \"linewidth\":1},ax=axes[1])\n",
    "sns.distplot(df_bike.casual, hist=False, color=\"blue\", kde_kws= {\"shade\": True, \"linewidth\":1},ax=axes[2]);\n"
   ]
  },
  {
   "cell_type": "markdown",
   "metadata": {},
   "source": [
    "-----"
   ]
  },
  {
   "cell_type": "markdown",
   "metadata": {},
   "source": [
    "### ELIMINAMOS COLUMNAS SOBRANTES"
   ]
  },
  {
   "cell_type": "markdown",
   "metadata": {},
   "source": [
    "Después de este proceso de exploración y limpieza decidimos borrar las columnas siguientes:\n",
    "- Atemp (y sus derivadas) pues sus datos son muy similiares a los de temperatura. Usaremos esta segunda.\n",
    "- \"Dtday\": pues ya hemos desglosado esa columna en día/mes/año\n",
    "- \"Instant\": pues funciona como un índice, y usaremos el índice del dataframe"
   ]
  },
  {
   "cell_type": "code",
   "execution_count": 217,
   "metadata": {},
   "outputs": [
    {
     "data": {
      "text/plain": [
       "Index(['instant', 'dteday', 'season', 'yr', 'mnth', 'day', 'holiday',\n",
       "       'weekday', 'workingday', 'weathersit', 'temp', 'atemp', 'hum',\n",
       "       'windspeed', 'casual', 'registered', 'cnt', 'season_encoding',\n",
       "       'temp_interval', 'temp_interval_num', 'hum_interval',\n",
       "       'hum_interval_num', 'temp_interval_ord', 'hum_interval_ord',\n",
       "       'wind_interval', 'wind_num_encoding'],\n",
       "      dtype='object')"
      ]
     },
     "execution_count": 217,
     "metadata": {},
     "output_type": "execute_result"
    }
   ],
   "source": [
    "df_bike.columns"
   ]
  },
  {
   "cell_type": "code",
   "execution_count": null,
   "metadata": {},
   "outputs": [],
   "source": [
    "df_bike = df_bike.drop(columns= ['instant', 'dteday'], axis=1 )"
   ]
  },
  {
   "cell_type": "code",
   "execution_count": 124,
   "metadata": {},
   "outputs": [
    {
     "data": {
      "text/html": [
       "<div>\n",
       "<style scoped>\n",
       "    .dataframe tbody tr th:only-of-type {\n",
       "        vertical-align: middle;\n",
       "    }\n",
       "\n",
       "    .dataframe tbody tr th {\n",
       "        vertical-align: top;\n",
       "    }\n",
       "\n",
       "    .dataframe thead th {\n",
       "        text-align: right;\n",
       "    }\n",
       "</style>\n",
       "<table border=\"1\" class=\"dataframe\">\n",
       "  <thead>\n",
       "    <tr style=\"text-align: right;\">\n",
       "      <th></th>\n",
       "      <th>season</th>\n",
       "      <th>yr</th>\n",
       "      <th>mnth</th>\n",
       "      <th>day</th>\n",
       "      <th>holiday</th>\n",
       "      <th>weekday</th>\n",
       "      <th>workingday</th>\n",
       "      <th>weathersit</th>\n",
       "      <th>temp</th>\n",
       "      <th>atemp</th>\n",
       "      <th>hum</th>\n",
       "      <th>windspeed</th>\n",
       "      <th>casual</th>\n",
       "      <th>registered</th>\n",
       "      <th>cnt</th>\n",
       "      <th>season_encoding</th>\n",
       "      <th>temp_interval</th>\n",
       "      <th>temp_interval_num</th>\n",
       "      <th>hum_interval_num</th>\n",
       "      <th>hum_interval</th>\n",
       "      <th>temp_interval_ord</th>\n",
       "      <th>hum_interval_ord</th>\n",
       "      <th>wind_interval</th>\n",
       "      <th>wind_num_encoding</th>\n",
       "    </tr>\n",
       "  </thead>\n",
       "  <tbody>\n",
       "    <tr>\n",
       "      <th>0</th>\n",
       "      <td>winter</td>\n",
       "      <td>0</td>\n",
       "      <td>1</td>\n",
       "      <td>01</td>\n",
       "      <td>0</td>\n",
       "      <td>6</td>\n",
       "      <td>0</td>\n",
       "      <td>2</td>\n",
       "      <td>14.1</td>\n",
       "      <td>18.2</td>\n",
       "      <td>80.6</td>\n",
       "      <td>10.749882</td>\n",
       "      <td>331</td>\n",
       "      <td>654</td>\n",
       "      <td>985</td>\n",
       "      <td>1</td>\n",
       "      <td>low</td>\n",
       "      <td>(8.98, 15.56]</td>\n",
       "      <td>(77.76, 97.2]</td>\n",
       "      <td>very_high</td>\n",
       "      <td>2</td>\n",
       "      <td>5</td>\n",
       "      <td>low</td>\n",
       "      <td>1</td>\n",
       "    </tr>\n",
       "    <tr>\n",
       "      <th>1</th>\n",
       "      <td>winter</td>\n",
       "      <td>0</td>\n",
       "      <td>1</td>\n",
       "      <td>02</td>\n",
       "      <td>0</td>\n",
       "      <td>0</td>\n",
       "      <td>0</td>\n",
       "      <td>2</td>\n",
       "      <td>14.9</td>\n",
       "      <td>17.7</td>\n",
       "      <td>69.6</td>\n",
       "      <td>16.652113</td>\n",
       "      <td>131</td>\n",
       "      <td>670</td>\n",
       "      <td>801</td>\n",
       "      <td>1</td>\n",
       "      <td>low</td>\n",
       "      <td>(8.98, 15.56]</td>\n",
       "      <td>(58.32, 77.76]</td>\n",
       "      <td>high</td>\n",
       "      <td>2</td>\n",
       "      <td>4</td>\n",
       "      <td>medium</td>\n",
       "      <td>2</td>\n",
       "    </tr>\n",
       "    <tr>\n",
       "      <th>2</th>\n",
       "      <td>winter</td>\n",
       "      <td>0</td>\n",
       "      <td>1</td>\n",
       "      <td>03</td>\n",
       "      <td>0</td>\n",
       "      <td>1</td>\n",
       "      <td>1</td>\n",
       "      <td>1</td>\n",
       "      <td>8.1</td>\n",
       "      <td>9.5</td>\n",
       "      <td>43.7</td>\n",
       "      <td>16.636703</td>\n",
       "      <td>120</td>\n",
       "      <td>1229</td>\n",
       "      <td>1349</td>\n",
       "      <td>1</td>\n",
       "      <td>very_low</td>\n",
       "      <td>(2.367, 8.98]</td>\n",
       "      <td>(38.88, 58.32]</td>\n",
       "      <td>medium</td>\n",
       "      <td>1</td>\n",
       "      <td>3</td>\n",
       "      <td>medium</td>\n",
       "      <td>2</td>\n",
       "    </tr>\n",
       "    <tr>\n",
       "      <th>3</th>\n",
       "      <td>spring</td>\n",
       "      <td>0</td>\n",
       "      <td>1</td>\n",
       "      <td>04</td>\n",
       "      <td>0</td>\n",
       "      <td>2</td>\n",
       "      <td>1</td>\n",
       "      <td>1</td>\n",
       "      <td>8.2</td>\n",
       "      <td>10.6</td>\n",
       "      <td>59.0</td>\n",
       "      <td>10.739832</td>\n",
       "      <td>108</td>\n",
       "      <td>1454</td>\n",
       "      <td>1562</td>\n",
       "      <td>1</td>\n",
       "      <td>very_low</td>\n",
       "      <td>(2.367, 8.98]</td>\n",
       "      <td>(58.32, 77.76]</td>\n",
       "      <td>high</td>\n",
       "      <td>1</td>\n",
       "      <td>4</td>\n",
       "      <td>low</td>\n",
       "      <td>1</td>\n",
       "    </tr>\n",
       "    <tr>\n",
       "      <th>4</th>\n",
       "      <td>spring</td>\n",
       "      <td>0</td>\n",
       "      <td>1</td>\n",
       "      <td>05</td>\n",
       "      <td>0</td>\n",
       "      <td>3</td>\n",
       "      <td>1</td>\n",
       "      <td>1</td>\n",
       "      <td>9.3</td>\n",
       "      <td>11.5</td>\n",
       "      <td>43.7</td>\n",
       "      <td>12.522300</td>\n",
       "      <td>82</td>\n",
       "      <td>1518</td>\n",
       "      <td>1600</td>\n",
       "      <td>1</td>\n",
       "      <td>low</td>\n",
       "      <td>(8.98, 15.56]</td>\n",
       "      <td>(38.88, 58.32]</td>\n",
       "      <td>medium</td>\n",
       "      <td>2</td>\n",
       "      <td>3</td>\n",
       "      <td>low</td>\n",
       "      <td>1</td>\n",
       "    </tr>\n",
       "  </tbody>\n",
       "</table>\n",
       "</div>"
      ],
      "text/plain": [
       "   season  yr  mnth  ... hum_interval_ord  wind_interval  wind_num_encoding\n",
       "0  winter   0     1  ...                5            low                  1\n",
       "1  winter   0     1  ...                4         medium                  2\n",
       "2  winter   0     1  ...                3         medium                  2\n",
       "3  spring   0     1  ...                4            low                  1\n",
       "4  spring   0     1  ...                3            low                  1\n",
       "\n",
       "[5 rows x 24 columns]"
      ]
     },
     "execution_count": 124,
     "metadata": {},
     "output_type": "execute_result"
    }
   ],
   "source": [
    "df_bike.head()"
   ]
  },
  {
   "cell_type": "markdown",
   "metadata": {},
   "source": [
    "### REORDENAMOS LAS COLUMNAS:"
   ]
  },
  {
   "cell_type": "code",
   "execution_count": 218,
   "metadata": {},
   "outputs": [
    {
     "data": {
      "text/plain": [
       "23"
      ]
     },
     "execution_count": 218,
     "metadata": {},
     "output_type": "execute_result"
    }
   ],
   "source": [
    "cols = ['season_encoding', 'season', 'yr', 'mnth', 'day', 'holiday', 'weekday', 'workingday',\n",
    "                            'weathersit', 'temp', 'temp_interval', 'temp_interval_ord', \"temp_interval_num\", 'hum', 'hum_interval', 'hum_interval_num','hum_interval_ord', 'windspeed', 'wind_interval', 'wind_num_encoding','casual', 'registered', 'cnt']\n",
    "len(cols) "
   ]
  },
  {
   "cell_type": "code",
   "execution_count": 219,
   "metadata": {},
   "outputs": [
    {
     "data": {
      "text/html": [
       "<div>\n",
       "<style scoped>\n",
       "    .dataframe tbody tr th:only-of-type {\n",
       "        vertical-align: middle;\n",
       "    }\n",
       "\n",
       "    .dataframe tbody tr th {\n",
       "        vertical-align: top;\n",
       "    }\n",
       "\n",
       "    .dataframe thead th {\n",
       "        text-align: right;\n",
       "    }\n",
       "</style>\n",
       "<table border=\"1\" class=\"dataframe\">\n",
       "  <thead>\n",
       "    <tr style=\"text-align: right;\">\n",
       "      <th></th>\n",
       "      <th>instant</th>\n",
       "      <th>dteday</th>\n",
       "      <th>season</th>\n",
       "      <th>yr</th>\n",
       "      <th>mnth</th>\n",
       "      <th>day</th>\n",
       "      <th>holiday</th>\n",
       "      <th>weekday</th>\n",
       "      <th>workingday</th>\n",
       "      <th>weathersit</th>\n",
       "      <th>temp</th>\n",
       "      <th>atemp</th>\n",
       "      <th>hum</th>\n",
       "      <th>windspeed</th>\n",
       "      <th>casual</th>\n",
       "      <th>registered</th>\n",
       "      <th>cnt</th>\n",
       "      <th>season_encoding</th>\n",
       "      <th>temp_interval</th>\n",
       "      <th>temp_interval_num</th>\n",
       "      <th>hum_interval</th>\n",
       "      <th>hum_interval_num</th>\n",
       "      <th>temp_interval_ord</th>\n",
       "      <th>hum_interval_ord</th>\n",
       "      <th>wind_interval</th>\n",
       "      <th>wind_num_encoding</th>\n",
       "    </tr>\n",
       "  </thead>\n",
       "  <tbody>\n",
       "    <tr>\n",
       "      <th>0</th>\n",
       "      <td>1</td>\n",
       "      <td>2018-01-01</td>\n",
       "      <td>winter</td>\n",
       "      <td>0</td>\n",
       "      <td>1</td>\n",
       "      <td>01</td>\n",
       "      <td>0</td>\n",
       "      <td>6</td>\n",
       "      <td>0</td>\n",
       "      <td>2</td>\n",
       "      <td>14.1</td>\n",
       "      <td>18.2</td>\n",
       "      <td>80.6</td>\n",
       "      <td>10.749882</td>\n",
       "      <td>331</td>\n",
       "      <td>654</td>\n",
       "      <td>985</td>\n",
       "      <td>1</td>\n",
       "      <td>low</td>\n",
       "      <td>(8.98, 15.56]</td>\n",
       "      <td>very_high</td>\n",
       "      <td>(77.76, 97.2]</td>\n",
       "      <td>2</td>\n",
       "      <td>5</td>\n",
       "      <td>low</td>\n",
       "      <td>1</td>\n",
       "    </tr>\n",
       "    <tr>\n",
       "      <th>1</th>\n",
       "      <td>2</td>\n",
       "      <td>2018-02-01</td>\n",
       "      <td>winter</td>\n",
       "      <td>0</td>\n",
       "      <td>1</td>\n",
       "      <td>02</td>\n",
       "      <td>0</td>\n",
       "      <td>0</td>\n",
       "      <td>0</td>\n",
       "      <td>2</td>\n",
       "      <td>14.9</td>\n",
       "      <td>17.7</td>\n",
       "      <td>69.6</td>\n",
       "      <td>16.652113</td>\n",
       "      <td>131</td>\n",
       "      <td>670</td>\n",
       "      <td>801</td>\n",
       "      <td>1</td>\n",
       "      <td>low</td>\n",
       "      <td>(8.98, 15.56]</td>\n",
       "      <td>high</td>\n",
       "      <td>(58.32, 77.76]</td>\n",
       "      <td>2</td>\n",
       "      <td>4</td>\n",
       "      <td>medium</td>\n",
       "      <td>2</td>\n",
       "    </tr>\n",
       "  </tbody>\n",
       "</table>\n",
       "</div>"
      ],
      "text/plain": [
       "   instant     dteday  season  ...  hum_interval_ord  wind_interval wind_num_encoding\n",
       "0        1 2018-01-01  winter  ...                 5            low                 1\n",
       "1        2 2018-02-01  winter  ...                 4         medium                 2\n",
       "\n",
       "[2 rows x 26 columns]"
      ]
     },
     "execution_count": 219,
     "metadata": {},
     "output_type": "execute_result"
    }
   ],
   "source": [
    "df_bike.head(2)"
   ]
  },
  {
   "cell_type": "code",
   "execution_count": 220,
   "metadata": {},
   "outputs": [],
   "source": [
    "df_bike = df_bike.reindex(columns = cols)"
   ]
  },
  {
   "cell_type": "markdown",
   "metadata": {},
   "source": [
    "# GUARDAMOS DATAFRAME FINAL"
   ]
  },
  {
   "cell_type": "code",
   "execution_count": 222,
   "metadata": {},
   "outputs": [],
   "source": [
    "df_bike.to_csv(\"bikes_post_eda.csv\")"
   ]
  },
  {
   "cell_type": "markdown",
   "metadata": {},
   "source": [
    "------\n",
    "------\n",
    "----"
   ]
  },
  {
   "cell_type": "markdown",
   "metadata": {},
   "source": [
    "# <font color = orange> SPRINT 2 - EMPIEZA LA REGRESIÓN"
   ]
  },
  {
   "cell_type": "code",
   "execution_count": 223,
   "metadata": {},
   "outputs": [
    {
     "data": {
      "text/html": [
       "<div>\n",
       "<style scoped>\n",
       "    .dataframe tbody tr th:only-of-type {\n",
       "        vertical-align: middle;\n",
       "    }\n",
       "\n",
       "    .dataframe tbody tr th {\n",
       "        vertical-align: top;\n",
       "    }\n",
       "\n",
       "    .dataframe thead th {\n",
       "        text-align: right;\n",
       "    }\n",
       "</style>\n",
       "<table border=\"1\" class=\"dataframe\">\n",
       "  <thead>\n",
       "    <tr style=\"text-align: right;\">\n",
       "      <th></th>\n",
       "      <th>season_encoding</th>\n",
       "      <th>season</th>\n",
       "      <th>yr</th>\n",
       "      <th>mnth</th>\n",
       "      <th>day</th>\n",
       "      <th>holiday</th>\n",
       "      <th>weekday</th>\n",
       "      <th>workingday</th>\n",
       "      <th>weathersit</th>\n",
       "      <th>temp</th>\n",
       "      <th>temp_interval</th>\n",
       "      <th>temp_interval_ord</th>\n",
       "      <th>temp_interval_num</th>\n",
       "      <th>hum</th>\n",
       "      <th>hum_interval</th>\n",
       "      <th>hum_interval_num</th>\n",
       "      <th>hum_interval_ord</th>\n",
       "      <th>windspeed</th>\n",
       "      <th>wind_interval</th>\n",
       "      <th>wind_num_encoding</th>\n",
       "      <th>casual</th>\n",
       "      <th>registered</th>\n",
       "      <th>cnt</th>\n",
       "    </tr>\n",
       "  </thead>\n",
       "  <tbody>\n",
       "    <tr>\n",
       "      <th>0</th>\n",
       "      <td>1</td>\n",
       "      <td>winter</td>\n",
       "      <td>0</td>\n",
       "      <td>1</td>\n",
       "      <td>1</td>\n",
       "      <td>0</td>\n",
       "      <td>6</td>\n",
       "      <td>0</td>\n",
       "      <td>2</td>\n",
       "      <td>14.1</td>\n",
       "      <td>low</td>\n",
       "      <td>2</td>\n",
       "      <td>(8.98, 15.56]</td>\n",
       "      <td>80.6</td>\n",
       "      <td>very_high</td>\n",
       "      <td>(77.76, 97.2]</td>\n",
       "      <td>5</td>\n",
       "      <td>10.749882</td>\n",
       "      <td>low</td>\n",
       "      <td>1</td>\n",
       "      <td>331</td>\n",
       "      <td>654</td>\n",
       "      <td>985</td>\n",
       "    </tr>\n",
       "    <tr>\n",
       "      <th>1</th>\n",
       "      <td>1</td>\n",
       "      <td>winter</td>\n",
       "      <td>0</td>\n",
       "      <td>1</td>\n",
       "      <td>2</td>\n",
       "      <td>0</td>\n",
       "      <td>0</td>\n",
       "      <td>0</td>\n",
       "      <td>2</td>\n",
       "      <td>14.9</td>\n",
       "      <td>low</td>\n",
       "      <td>2</td>\n",
       "      <td>(8.98, 15.56]</td>\n",
       "      <td>69.6</td>\n",
       "      <td>high</td>\n",
       "      <td>(58.32, 77.76]</td>\n",
       "      <td>4</td>\n",
       "      <td>16.652113</td>\n",
       "      <td>medium</td>\n",
       "      <td>2</td>\n",
       "      <td>131</td>\n",
       "      <td>670</td>\n",
       "      <td>801</td>\n",
       "    </tr>\n",
       "    <tr>\n",
       "      <th>2</th>\n",
       "      <td>1</td>\n",
       "      <td>winter</td>\n",
       "      <td>0</td>\n",
       "      <td>1</td>\n",
       "      <td>3</td>\n",
       "      <td>0</td>\n",
       "      <td>1</td>\n",
       "      <td>1</td>\n",
       "      <td>1</td>\n",
       "      <td>8.1</td>\n",
       "      <td>very_low</td>\n",
       "      <td>1</td>\n",
       "      <td>(2.367, 8.98]</td>\n",
       "      <td>43.7</td>\n",
       "      <td>medium</td>\n",
       "      <td>(38.88, 58.32]</td>\n",
       "      <td>3</td>\n",
       "      <td>16.636703</td>\n",
       "      <td>medium</td>\n",
       "      <td>2</td>\n",
       "      <td>120</td>\n",
       "      <td>1229</td>\n",
       "      <td>1349</td>\n",
       "    </tr>\n",
       "    <tr>\n",
       "      <th>3</th>\n",
       "      <td>1</td>\n",
       "      <td>spring</td>\n",
       "      <td>0</td>\n",
       "      <td>1</td>\n",
       "      <td>4</td>\n",
       "      <td>0</td>\n",
       "      <td>2</td>\n",
       "      <td>1</td>\n",
       "      <td>1</td>\n",
       "      <td>8.2</td>\n",
       "      <td>very_low</td>\n",
       "      <td>1</td>\n",
       "      <td>(2.367, 8.98]</td>\n",
       "      <td>59.0</td>\n",
       "      <td>high</td>\n",
       "      <td>(58.32, 77.76]</td>\n",
       "      <td>4</td>\n",
       "      <td>10.739832</td>\n",
       "      <td>low</td>\n",
       "      <td>1</td>\n",
       "      <td>108</td>\n",
       "      <td>1454</td>\n",
       "      <td>1562</td>\n",
       "    </tr>\n",
       "    <tr>\n",
       "      <th>4</th>\n",
       "      <td>1</td>\n",
       "      <td>spring</td>\n",
       "      <td>0</td>\n",
       "      <td>1</td>\n",
       "      <td>5</td>\n",
       "      <td>0</td>\n",
       "      <td>3</td>\n",
       "      <td>1</td>\n",
       "      <td>1</td>\n",
       "      <td>9.3</td>\n",
       "      <td>low</td>\n",
       "      <td>2</td>\n",
       "      <td>(8.98, 15.56]</td>\n",
       "      <td>43.7</td>\n",
       "      <td>medium</td>\n",
       "      <td>(38.88, 58.32]</td>\n",
       "      <td>3</td>\n",
       "      <td>12.522300</td>\n",
       "      <td>low</td>\n",
       "      <td>1</td>\n",
       "      <td>82</td>\n",
       "      <td>1518</td>\n",
       "      <td>1600</td>\n",
       "    </tr>\n",
       "  </tbody>\n",
       "</table>\n",
       "</div>"
      ],
      "text/plain": [
       "   season_encoding  season  yr  ...  casual  registered   cnt\n",
       "0                1  winter   0  ...     331         654   985\n",
       "1                1  winter   0  ...     131         670   801\n",
       "2                1  winter   0  ...     120        1229  1349\n",
       "3                1  spring   0  ...     108        1454  1562\n",
       "4                1  spring   0  ...      82        1518  1600\n",
       "\n",
       "[5 rows x 23 columns]"
      ]
     },
     "execution_count": 223,
     "metadata": {},
     "output_type": "execute_result"
    }
   ],
   "source": [
    "df = pd.read_csv(\"bikes_post_eda.csv\", index_col = 0)\n",
    "df.head()"
   ]
  },
  {
   "cell_type": "markdown",
   "metadata": {},
   "source": [
    "# REALIZAMOS DATAFRAME CON VARIABLES PARA PROBAR REGRESIÓN: solo datos originales // solo encoding"
   ]
  },
  {
   "cell_type": "code",
   "execution_count": 224,
   "metadata": {},
   "outputs": [
    {
     "data": {
      "text/plain": [
       "Index(['season_encoding', 'season', 'yr', 'mnth', 'day', 'holiday', 'weekday',\n",
       "       'workingday', 'weathersit', 'temp', 'temp_interval',\n",
       "       'temp_interval_ord', 'temp_interval_num', 'hum', 'hum_interval',\n",
       "       'hum_interval_num', 'hum_interval_ord', 'windspeed', 'wind_interval',\n",
       "       'wind_num_encoding', 'casual', 'registered', 'cnt'],\n",
       "      dtype='object')"
      ]
     },
     "execution_count": 224,
     "metadata": {},
     "output_type": "execute_result"
    }
   ],
   "source": [
    "df.columns"
   ]
  },
  {
   "cell_type": "code",
   "execution_count": null,
   "metadata": {},
   "outputs": [],
   "source": [
    "df_encoded = [resto] LAURA"
   ]
  },
  {
   "cell_type": "code",
   "execution_count": 226,
   "metadata": {},
   "outputs": [
    {
     "data": {
      "text/html": [
       "<div>\n",
       "<style scoped>\n",
       "    .dataframe tbody tr th:only-of-type {\n",
       "        vertical-align: middle;\n",
       "    }\n",
       "\n",
       "    .dataframe tbody tr th {\n",
       "        vertical-align: top;\n",
       "    }\n",
       "\n",
       "    .dataframe thead th {\n",
       "        text-align: right;\n",
       "    }\n",
       "</style>\n",
       "<table border=\"1\" class=\"dataframe\">\n",
       "  <thead>\n",
       "    <tr style=\"text-align: right;\">\n",
       "      <th></th>\n",
       "      <th>season</th>\n",
       "      <th>yr</th>\n",
       "      <th>mnth</th>\n",
       "      <th>day</th>\n",
       "      <th>holiday</th>\n",
       "      <th>weekday</th>\n",
       "      <th>workingday</th>\n",
       "      <th>weathersit</th>\n",
       "      <th>temp</th>\n",
       "      <th>hum</th>\n",
       "      <th>windspeed</th>\n",
       "      <th>casual</th>\n",
       "      <th>registered</th>\n",
       "      <th>cnt</th>\n",
       "    </tr>\n",
       "  </thead>\n",
       "  <tbody>\n",
       "    <tr>\n",
       "      <th>0</th>\n",
       "      <td>winter</td>\n",
       "      <td>0</td>\n",
       "      <td>1</td>\n",
       "      <td>1</td>\n",
       "      <td>0</td>\n",
       "      <td>6</td>\n",
       "      <td>0</td>\n",
       "      <td>2</td>\n",
       "      <td>14.1</td>\n",
       "      <td>80.6</td>\n",
       "      <td>10.749882</td>\n",
       "      <td>331</td>\n",
       "      <td>654</td>\n",
       "      <td>985</td>\n",
       "    </tr>\n",
       "    <tr>\n",
       "      <th>1</th>\n",
       "      <td>winter</td>\n",
       "      <td>0</td>\n",
       "      <td>1</td>\n",
       "      <td>2</td>\n",
       "      <td>0</td>\n",
       "      <td>0</td>\n",
       "      <td>0</td>\n",
       "      <td>2</td>\n",
       "      <td>14.9</td>\n",
       "      <td>69.6</td>\n",
       "      <td>16.652113</td>\n",
       "      <td>131</td>\n",
       "      <td>670</td>\n",
       "      <td>801</td>\n",
       "    </tr>\n",
       "  </tbody>\n",
       "</table>\n",
       "</div>"
      ],
      "text/plain": [
       "   season  yr  mnth  day  holiday  ...   hum  windspeed  casual  registered  cnt\n",
       "0  winter   0     1    1        0  ...  80.6  10.749882     331         654  985\n",
       "1  winter   0     1    2        0  ...  69.6  16.652113     131         670  801\n",
       "\n",
       "[2 rows x 14 columns]"
      ]
     },
     "execution_count": 226,
     "metadata": {},
     "output_type": "execute_result"
    }
   ],
   "source": [
    "df_datos = df[['season', 'yr', 'mnth', 'day', 'holiday', 'weekday',\n",
    "       'workingday', 'weathersit', 'temp', \"hum\", \"windspeed\", 'casual', 'registered', 'cnt']]\n",
    "\n",
    "df_datos.head(2) ALMU"
   ]
  },
  {
   "cell_type": "code",
   "execution_count": 227,
   "metadata": {},
   "outputs": [
    {
     "data": {
      "text/html": [
       "<div>\n",
       "<style scoped>\n",
       "    .dataframe tbody tr th:only-of-type {\n",
       "        vertical-align: middle;\n",
       "    }\n",
       "\n",
       "    .dataframe tbody tr th {\n",
       "        vertical-align: top;\n",
       "    }\n",
       "\n",
       "    .dataframe thead th {\n",
       "        text-align: right;\n",
       "    }\n",
       "</style>\n",
       "<table border=\"1\" class=\"dataframe\">\n",
       "  <thead>\n",
       "    <tr style=\"text-align: right;\">\n",
       "      <th></th>\n",
       "      <th>yr</th>\n",
       "      <th>mnth</th>\n",
       "      <th>day</th>\n",
       "      <th>holiday</th>\n",
       "      <th>weekday</th>\n",
       "      <th>workingday</th>\n",
       "      <th>weathersit</th>\n",
       "      <th>temp</th>\n",
       "      <th>hum</th>\n",
       "      <th>windspeed</th>\n",
       "      <th>casual</th>\n",
       "      <th>registered</th>\n",
       "      <th>cnt</th>\n",
       "    </tr>\n",
       "  </thead>\n",
       "  <tbody>\n",
       "    <tr>\n",
       "      <th>0</th>\n",
       "      <td>0</td>\n",
       "      <td>1</td>\n",
       "      <td>1</td>\n",
       "      <td>0</td>\n",
       "      <td>6</td>\n",
       "      <td>0</td>\n",
       "      <td>2</td>\n",
       "      <td>14.1</td>\n",
       "      <td>80.6</td>\n",
       "      <td>10.749882</td>\n",
       "      <td>331</td>\n",
       "      <td>654</td>\n",
       "      <td>985</td>\n",
       "    </tr>\n",
       "    <tr>\n",
       "      <th>1</th>\n",
       "      <td>0</td>\n",
       "      <td>1</td>\n",
       "      <td>2</td>\n",
       "      <td>0</td>\n",
       "      <td>0</td>\n",
       "      <td>0</td>\n",
       "      <td>2</td>\n",
       "      <td>14.9</td>\n",
       "      <td>69.6</td>\n",
       "      <td>16.652113</td>\n",
       "      <td>131</td>\n",
       "      <td>670</td>\n",
       "      <td>801</td>\n",
       "    </tr>\n",
       "    <tr>\n",
       "      <th>2</th>\n",
       "      <td>0</td>\n",
       "      <td>1</td>\n",
       "      <td>3</td>\n",
       "      <td>0</td>\n",
       "      <td>1</td>\n",
       "      <td>1</td>\n",
       "      <td>1</td>\n",
       "      <td>8.1</td>\n",
       "      <td>43.7</td>\n",
       "      <td>16.636703</td>\n",
       "      <td>120</td>\n",
       "      <td>1229</td>\n",
       "      <td>1349</td>\n",
       "    </tr>\n",
       "    <tr>\n",
       "      <th>3</th>\n",
       "      <td>0</td>\n",
       "      <td>1</td>\n",
       "      <td>4</td>\n",
       "      <td>0</td>\n",
       "      <td>2</td>\n",
       "      <td>1</td>\n",
       "      <td>1</td>\n",
       "      <td>8.2</td>\n",
       "      <td>59.0</td>\n",
       "      <td>10.739832</td>\n",
       "      <td>108</td>\n",
       "      <td>1454</td>\n",
       "      <td>1562</td>\n",
       "    </tr>\n",
       "    <tr>\n",
       "      <th>4</th>\n",
       "      <td>0</td>\n",
       "      <td>1</td>\n",
       "      <td>5</td>\n",
       "      <td>0</td>\n",
       "      <td>3</td>\n",
       "      <td>1</td>\n",
       "      <td>1</td>\n",
       "      <td>9.3</td>\n",
       "      <td>43.7</td>\n",
       "      <td>12.522300</td>\n",
       "      <td>82</td>\n",
       "      <td>1518</td>\n",
       "      <td>1600</td>\n",
       "    </tr>\n",
       "    <tr>\n",
       "      <th>...</th>\n",
       "      <td>...</td>\n",
       "      <td>...</td>\n",
       "      <td>...</td>\n",
       "      <td>...</td>\n",
       "      <td>...</td>\n",
       "      <td>...</td>\n",
       "      <td>...</td>\n",
       "      <td>...</td>\n",
       "      <td>...</td>\n",
       "      <td>...</td>\n",
       "      <td>...</td>\n",
       "      <td>...</td>\n",
       "      <td>...</td>\n",
       "    </tr>\n",
       "    <tr>\n",
       "      <th>725</th>\n",
       "      <td>1</td>\n",
       "      <td>12</td>\n",
       "      <td>27</td>\n",
       "      <td>0</td>\n",
       "      <td>4</td>\n",
       "      <td>1</td>\n",
       "      <td>2</td>\n",
       "      <td>10.4</td>\n",
       "      <td>65.3</td>\n",
       "      <td>23.458911</td>\n",
       "      <td>247</td>\n",
       "      <td>1867</td>\n",
       "      <td>2114</td>\n",
       "    </tr>\n",
       "    <tr>\n",
       "      <th>726</th>\n",
       "      <td>1</td>\n",
       "      <td>12</td>\n",
       "      <td>28</td>\n",
       "      <td>0</td>\n",
       "      <td>5</td>\n",
       "      <td>1</td>\n",
       "      <td>2</td>\n",
       "      <td>10.4</td>\n",
       "      <td>59.0</td>\n",
       "      <td>10.416557</td>\n",
       "      <td>644</td>\n",
       "      <td>2451</td>\n",
       "      <td>3095</td>\n",
       "    </tr>\n",
       "    <tr>\n",
       "      <th>727</th>\n",
       "      <td>1</td>\n",
       "      <td>12</td>\n",
       "      <td>29</td>\n",
       "      <td>0</td>\n",
       "      <td>6</td>\n",
       "      <td>0</td>\n",
       "      <td>2</td>\n",
       "      <td>10.4</td>\n",
       "      <td>75.3</td>\n",
       "      <td>8.333661</td>\n",
       "      <td>159</td>\n",
       "      <td>1182</td>\n",
       "      <td>1341</td>\n",
       "    </tr>\n",
       "    <tr>\n",
       "      <th>728</th>\n",
       "      <td>1</td>\n",
       "      <td>12</td>\n",
       "      <td>30</td>\n",
       "      <td>0</td>\n",
       "      <td>0</td>\n",
       "      <td>0</td>\n",
       "      <td>1</td>\n",
       "      <td>10.5</td>\n",
       "      <td>48.3</td>\n",
       "      <td>23.500518</td>\n",
       "      <td>364</td>\n",
       "      <td>1432</td>\n",
       "      <td>1796</td>\n",
       "    </tr>\n",
       "    <tr>\n",
       "      <th>729</th>\n",
       "      <td>1</td>\n",
       "      <td>12</td>\n",
       "      <td>31</td>\n",
       "      <td>0</td>\n",
       "      <td>1</td>\n",
       "      <td>1</td>\n",
       "      <td>2</td>\n",
       "      <td>8.8</td>\n",
       "      <td>57.8</td>\n",
       "      <td>10.374682</td>\n",
       "      <td>439</td>\n",
       "      <td>2290</td>\n",
       "      <td>2729</td>\n",
       "    </tr>\n",
       "  </tbody>\n",
       "</table>\n",
       "<p>730 rows × 13 columns</p>\n",
       "</div>"
      ],
      "text/plain": [
       "     yr  mnth  day  holiday  weekday  ...   hum  windspeed  casual  registered   cnt\n",
       "0     0     1    1        0        6  ...  80.6  10.749882     331         654   985\n",
       "1     0     1    2        0        0  ...  69.6  16.652113     131         670   801\n",
       "2     0     1    3        0        1  ...  43.7  16.636703     120        1229  1349\n",
       "3     0     1    4        0        2  ...  59.0  10.739832     108        1454  1562\n",
       "4     0     1    5        0        3  ...  43.7  12.522300      82        1518  1600\n",
       "..   ..   ...  ...      ...      ...  ...   ...        ...     ...         ...   ...\n",
       "725   1    12   27        0        4  ...  65.3  23.458911     247        1867  2114\n",
       "726   1    12   28        0        5  ...  59.0  10.416557     644        2451  3095\n",
       "727   1    12   29        0        6  ...  75.3   8.333661     159        1182  1341\n",
       "728   1    12   30        0        0  ...  48.3  23.500518     364        1432  1796\n",
       "729   1    12   31        0        1  ...  57.8  10.374682     439        2290  2729\n",
       "\n",
       "[730 rows x 13 columns]"
      ]
     },
     "execution_count": 227,
     "metadata": {},
     "output_type": "execute_result"
    }
   ],
   "source": [
    "df_num_datos = df_datos.select_dtypes(include = np.number)\n",
    "df_num_datos"
   ]
  },
  {
   "cell_type": "markdown",
   "metadata": {},
   "source": [
    "# OUTLIERS"
   ]
  },
  {
   "cell_type": "markdown",
   "metadata": {},
   "source": [
    "Hacer un describe"
   ]
  },
  {
   "cell_type": "code",
   "execution_count": null,
   "metadata": {},
   "outputs": [
    {
     "ename": "NameError",
     "evalue": "name 'df' is not defined",
     "output_type": "error",
     "traceback": [
      "\u001b[0;31m---------------------------------------------------------------------------\u001b[0m",
      "\u001b[0;31mNameError\u001b[0m                                 Traceback (most recent call last)",
      "\u001b[0;32m<ipython-input-67-ab5e89de28c7>\u001b[0m in \u001b[0;36m<module>\u001b[0;34m\u001b[0m\n\u001b[1;32m      1\u001b[0m \u001b[0mpd\u001b[0m\u001b[0;34m.\u001b[0m\u001b[0mset_option\u001b[0m\u001b[0;34m(\u001b[0m\u001b[0;34m\"display.float_format\"\u001b[0m\u001b[0;34m,\u001b[0m\u001b[0;32mlambda\u001b[0m \u001b[0mx\u001b[0m\u001b[0;34m:\u001b[0m \u001b[0;34m\"%3.f\"\u001b[0m \u001b[0;34m%\u001b[0m\u001b[0mx\u001b[0m\u001b[0;34m)\u001b[0m \u001b[0;31m#Usamos esta linea de código para que no aparezca los exponenciales\u001b[0m\u001b[0;34m\u001b[0m\u001b[0;34m\u001b[0m\u001b[0m\n\u001b[0;32m----> 2\u001b[0;31m \u001b[0mdf\u001b[0m\u001b[0;34m.\u001b[0m\u001b[0mdescribe\u001b[0m\u001b[0;34m(\u001b[0m\u001b[0;34m)\u001b[0m\u001b[0;34m.\u001b[0m\u001b[0mT\u001b[0m\u001b[0;34m\u001b[0m\u001b[0;34m\u001b[0m\u001b[0m\n\u001b[0m",
      "\u001b[0;31mNameError\u001b[0m: name 'df' is not defined"
     ]
    }
   ],
   "source": [
    "pd.set_option(\"display.float_format\",lambda x: \"%3.f\" %x) #Usamos esta linea de código para que no aparezca los exponenciales\n",
    "df.describe().T"
   ]
  },
  {
   "cell_type": "code",
   "execution_count": null,
   "metadata": {},
   "outputs": [],
   "source": [
    "df.info()"
   ]
  },
  {
   "cell_type": "markdown",
   "metadata": {},
   "source": [
    "Tenemos outliers? ¿Que hacemos con ellos?"
   ]
  },
  {
   "cell_type": "markdown",
   "metadata": {},
   "source": [
    "PRIMERO SELECCIONA LAS VARIABLES NUMÉRCIAS"
   ]
  },
  {
   "cell_type": "code",
   "execution_count": 132,
   "metadata": {},
   "outputs": [],
   "source": [
    "df_numericas= df.select_dtypes(include=\"int64\")"
   ]
  },
  {
   "cell_type": "code",
   "execution_count": 137,
   "metadata": {},
   "outputs": [
    {
     "data": {
      "text/plain": [
       "13"
      ]
     },
     "execution_count": 137,
     "metadata": {},
     "output_type": "execute_result"
    }
   ],
   "source": [
    "len(df_numericas.columns)"
   ]
  },
  {
   "cell_type": "markdown",
   "metadata": {},
   "source": [
    "BOXPLOT PARA VER "
   ]
  },
  {
   "cell_type": "code",
   "execution_count": 140,
   "metadata": {},
   "outputs": [
    {
     "data": {
      "text/plain": [
       "<AxesSubplot:>"
      ]
     },
     "execution_count": 140,
     "metadata": {},
     "output_type": "execute_result"
    },
    {
     "data": {
      "image/png": "[encoded data removed]",
      "text/plain": [
       "<Figure size 432x288 with 1 Axes>"
      ]
     },
     "metadata": {},
     "output_type": "display_data"
    }
   ],
   "source": [
    "sns.boxplot(data = df_numericas)"
   ]
  },
  {
   "cell_type": "code",
   "execution_count": 139,
   "metadata": {},
   "outputs": [
    {
     "data": {
      "image/png": "[encoded data removed]",
      "text/plain": [
       "<Figure size 1080x2520 with 13 Axes>"
      ]
     },
     "metadata": {},
     "output_type": "display_data"
    }
   ],
   "source": [
    "fig, axes = plt.subplots(13, 1, figsize=(15,35))\n",
    "for i in range(len(df_numericas.columns)):\n",
    "    sns.boxplot(x = df_numericas.columns[i], data = df,palette= \"YlGnBu\", ax=axes[i]); # para trazar una línea de densidad\n",
    "\n",
    "plt.show()"
   ]
  },
  {
   "cell_type": "markdown",
   "metadata": {},
   "source": [
    "VOY A DETECTAR LOS OUTLIERS"
   ]
  },
  {
   "cell_type": "code",
   "execution_count": null,
   "metadata": {},
   "outputs": [],
   "source": [
    "def detectar_outliers(lista_columnas, dataframe): \n",
    "    \n",
    "    dicc_indices = {} \n",
    "    for col in lista_columnas:\n",
    "        \n",
    "        #calculamos los cuartiles Q1 y Q3\n",
    "        Q1 = np.nanpercentile(df[col], 25)\n",
    "        Q3 = np.nanpercentile(df[col], 75)\n",
    "        \n",
    "        # calculamos el rango intercuartil\n",
    "        IQR = Q3 - Q1\n",
    "        \n",
    "        # calculamos los límites\n",
    "        outlier_step = 1.5 * IQR\n",
    "        \n",
    "        # filtramos nuestro dataframe para indentificar los outliers\n",
    "        outliers_data = dataframe[(dataframe[col] < Q1 - outlier_step) | (dataframe[col] > Q3 + outlier_step)]\n",
    "        \n",
    "        if outliers_data.shape[0] > 0: # chequeamos si nuestro dataframe tiene alguna fila. \n",
    "        \n",
    "            dicc_indices[col] = (list(outliers_data.index)) # si tiene fila es que hay outliers y por lo tanto lo añadimos a nuestro diccionario\n",
    "    \n",
    "    return dicc_indices "
   ]
  },
  {
   "cell_type": "code",
   "execution_count": null,
   "metadata": {},
   "outputs": [],
   "source": [
    "lista_columnas = list(numericas.columns)\n",
    "ind = detectar_outliers(lista_columnas, df)\n",
    "for key, values in ind.items():\n",
    "    print('Para la variable ' + key  + ' tenemos ' + str(len(values)) +' valores outliers,  esto es un ' + str(round(len(values)/df.shape[0]*100 + '%\\ de los datos')"
   ]
  },
  {
   "cell_type": "markdown",
   "metadata": {},
   "source": [
    "VUELVE A REVISAR EL DESCRIBE PARA VER SI QUIERES SUSTITUIR UN VALOR"
   ]
  },
  {
   "cell_type": "code",
   "execution_count": null,
   "metadata": {},
   "outputs": [],
   "source": [
    "df.describe().T"
   ]
  },
  {
   "cell_type": "code",
   "execution_count": null,
   "metadata": {},
   "outputs": [],
   "source": [
    "# POR SI QUIERO CAMBIAR ALGUNA COLUMNA POR ALGUNA VALOR: DE MEDIANA , MEDIA, MODA\n",
    "[df[\"price\"].replace({x:71},inplace=True) for x in df[\"price\"]]\n",
    "\n",
    "#OTRAS OPCIONES\n",
    "for k,v in ind.items():\n",
    "    mediana= df[k].median()\n",
    "    for i in v:\n",
    "       df.loc[i,k] = mediana \n",
    "\n",
    "#OTRAS KNN METODO(VECINOS)\n"
   ]
  },
  {
   "cell_type": "markdown",
   "metadata": {},
   "source": [
    "VUELVES A REVISAR BOXPLOT PARA VER SI YA NO TIENES OUTLIERS"
   ]
  },
  {
   "cell_type": "code",
   "execution_count": null,
   "metadata": {},
   "outputs": [],
   "source": [
    "fig, axes = plt.subplots(6, 1, figsize=(15,25))\n",
    "\n",
    "for i in range(len(df_numericas.columns)):\n",
    "    sns.boxplot(x = df_numericas.columns[i], data = df, ax=axes[i]); # para trazar una línea de densidad\n",
    "\n",
    "plt.show()"
   ]
  },
  {
   "cell_type": "markdown",
   "metadata": {},
   "source": [
    "# YA DEBE ESTAR TODO LIMPIO , CON ENCOGING, COLUMNAS NUMERICAS Y CATEGORICAS, TODO COMPLETITO PARA SIGUIENTE PASO"
   ]
  },
  {
   "cell_type": "markdown",
   "metadata": {},
   "source": [
    "REGRESIÓN SIMPLE DE LAS 3 VARIABLES DEPENDIENTE :\n",
    "\n",
    "Y = ¿CUANTAS BICIS SE RESERVAN EN 2018 Y 2019 EN GENERAL \"CNT\"?\n",
    "\n",
    "Y1 = ¿CUANTAS BICIS SE RESERVAN EN 2018 Y 2019 CLIENTES registered ? \n",
    "\n",
    "Y2= ¿CUANTAS BICIS SE RESERVAN EN 2018 Y 2019 CLIENTES CASUAL?"
   ]
  },
  {
   "cell_type": "markdown",
   "metadata": {},
   "source": [
    "### REGRESION LINEAL MULTIPLE CON VARIABLES NUMÉRICAS Y CATEGORIAS"
   ]
  },
  {
   "cell_type": "markdown",
   "metadata": {},
   "source": [
    "🚨🚨 PRIMERO HAGO UN GROUPBY DE COMO VA A SER MI DF, POR QUE HEMOS INCLUIDO COLUMNAS EXTRAS , REDUNDANTES Y CATEGORICAS, QUE SOLO NOS HAN SERVIDO AL PRINCIPIO PARA LAS GRAFICAS."
   ]
  },
  {
   "cell_type": "code",
   "execution_count": null,
   "metadata": {},
   "outputs": [],
   "source": [
    "\n",
    "df = df.groupby(['col1', 'col2'])"
   ]
  },
  {
   "cell_type": "markdown",
   "metadata": {},
   "source": [
    "HACEMOS LA CORRELACION DE LAS VARIABLES INDEPENDIENTES( AQUELLAS A QUIENES PREGUNTAMOS ESPERANDO LA RESPUESTA (Y))"
   ]
  },
  {
   "cell_type": "code",
   "execution_count": null,
   "metadata": {},
   "outputs": [],
   "source": [
    "df.corr()\n",
    "\n",
    "#solo se puede hacer con variables numericas\n",
    "# de las mas correlacionadas, ¿con cual me quedo? con la mas importante.\n",
    "# ¿Puede que nos quedemos con la temperatura y pasamos de la sensacion termica."
   ]
  },
  {
   "cell_type": "code",
   "execution_count": null,
   "metadata": {},
   "outputs": [],
   "source": [
    "sns.heatmap(numericas.corr()\n",
    "            cmap=\"YIGnBu\",\n",
    "            annot= True);\n",
    "\n",
    "#vamos a ver cual se realaciona mas, en caso que alguna fuera 0,7 o -0,7 eligo entre esas"
   ]
  },
  {
   "cell_type": "code",
   "execution_count": null,
   "metadata": {},
   "outputs": [],
   "source": [
    "fig, ax = plt.subplots(figsize = (10,8))\n",
    "corr = df_numericas.corr() \n",
    "mask = np.triu(np.ones_like(corr, dtype=bool))\n",
    "sns.heatmap(corr,mask = mask,xticklabels=corr.columns.values,yticklabels=corr.columns.values, annot= True )"
   ]
  },
  {
   "cell_type": "markdown",
   "metadata": {},
   "source": [
    "Hacemos una ANOVA, por que a veces nos da informacion, cual es la diferencia entre hacer la anova y un skinlearning.\n",
    "\n",
    "Objetivos de hacer una anova, por si te sale una variable no significativa pues no la smetemos en la regresión.\n",
    "\n",
    "PAra ver de que depende mi modelo-."
   ]
  },
  {
   "cell_type": "code",
   "execution_count": null,
   "metadata": {},
   "outputs": [],
   "source": [
    "#Limpiamos los outliers , nosotras ya lo hemos hecho arriba"
   ]
  },
  {
   "cell_type": "markdown",
   "metadata": {},
   "source": [
    "Comprobación asunciones"
   ]
  },
  {
   "cell_type": "markdown",
   "metadata": {},
   "source": [
    "    normalidad: shapiro"
   ]
  },
  {
   "cell_type": "code",
   "execution_count": null,
   "metadata": {},
   "outputs": [],
   "source": [
    "# Normalidad aqui SOLO VEMOS cnt por que es variable respuesta\n",
    "#SOLO SE NORMALIZA LA RESPUESTA\n",
    "#¿Son normales nuestros datos? Podemos verlo con un displot \n",
    "# Vemos Shapiro para testear la normalidad de los datos ( kologrov)\n",
    "\n",
    "# Si shapiro es p> 0,05 no es significativo y nuestros DATOS NORMALES // P< 0,05 valores NO NORMALES no se puede rechazar HO\n",
    "stats.shapiro (df[\"cnt\"])"
   ]
  },
  {
   "cell_type": "code",
   "execution_count": null,
   "metadata": {},
   "outputs": [],
   "source": [
    "# Si no son normales podemos transformar por : LOG, RAIZ CUADRADA Y BOX COX(\n",
    "df[\"cnt\"],lambda_ajustada= stats.boxcox(df[\"cnt\"])"
   ]
  },
  {
   "cell_type": "code",
   "execution_count": null,
   "metadata": {},
   "outputs": [],
   "source": [
    "#Hacemos de nuevo el shapiro a ver si lo hemos normalizado\n",
    "stats.shapiro (df[\"cnt\"])"
   ]
  },
  {
   "cell_type": "markdown",
   "metadata": {},
   "source": [
    "    homocedasticidad :  test levene\n",
    "\n",
    "    pvalor < 0,05 NO SIGNIFICATIVO, CUMPLE ASUNCIÓN , TIENEN VARIANZAS SIMILARES\n",
    "    P valor > 0,05 SIGNIFICATIVO , no cumple asunción, NO TIENEN VARIANZAS SIMILARES\n",
    "\n",
    "    "
   ]
  },
  {
   "cell_type": "code",
   "execution_count": null,
   "metadata": {},
   "outputs": [],
   "source": [
    "#se aplica a categoricas y numericas\n",
    "#primera categoricas\n",
    "\n",
    "fig,axes = plt.subplots(1,4,figsize =(30,10))\n",
    "\n",
    "axes= axes.float\n",
    "\n",
    "colum_cat= df.select_dtypes(include=[\"object\", \"category\"]).lista_columnas\n",
    "\n",
    "for i,col in enumerate(colum_cat):\n",
    "    sns,boxplot(\n",
    "        x= col,\n",
    "        y= \"cnt\",\n",
    "        data= df_bike,\n",
    "        palette= \"tab10\",\n",
    "        ax= axes[i]\n",
    "    )"
   ]
  },
  {
   "cell_type": "code",
   "execution_count": null,
   "metadata": {},
   "outputs": [],
   "source": [
    "def datos_test_levene(columan,df):\n",
    "    valoresr=df[columna].unique()\n",
    "    d= {}\n",
    "\n",
    "for x in valroes:\n",
    "    d[x]= df[df(columna) == x][\"cnt\"]"
   ]
  },
  {
   "cell_type": "markdown",
   "metadata": {},
   "source": [
    "Aqui nos saca los diferentes Dataframes"
   ]
  },
  {
   "cell_type": "code",
   "execution_count": null,
   "metadata": {},
   "outputs": [],
   "source": [
    "sexo= detectar_test_levene(\"temperatura\",df) #esta sobre la categorica creada low, high,...\n",
    "smoker= detectar_test_levene(\"viento\",df)\n",
    "region= detectar_test_levene(\"humedad\",df)\n",
    "hijos= detectar_test_levene(\"season\",df)"
   ]
  },
  {
   "cell_type": "markdown",
   "metadata": {},
   "source": [
    "Ahora comprobamos levene para estos Df"
   ]
  },
  {
   "cell_type": "code",
   "execution_count": null,
   "metadata": {},
   "outputs": [],
   "source": [
    "stats.levene(temperatura[0], temperatura[1], temperatura[2], temperatura[3], center = \"median\")\n",
    "stats.levene(viento[\"low\"], viento[\"high\"], viento[\"2\"], viento[\"3\"], center = \"median\")\n",
    "stats.levene(humedad[\"low\"], humedad[\"high\"], humedad[\"2\"], humedad[\"3\"], center = \"median\")\n",
    "stats.levene(season[\"low\"], season[\"high\"], season[\"2\"], season[\"3\"], center = \"median\")\n",
    "\n",
    "#ejemplo\n",
    "levene_hijos = stats.levene(hijos['1'], hijos['2'], hijos['3'], hijos['4'], hijos['5'],  center='median')\n",
    "levene_hijos"
   ]
  },
  {
   "cell_type": "markdown",
   "metadata": {},
   "source": [
    "¿Cuantas de las variables categoricas cumplen homo? SI son todas genial, si no son todas, hay algunas hetero, estas hetero no deberiamos incluirlas en regresion lineal. Las ELIMINAMOS DEL DF, que vamos a presentar a la regresion.\n",
    "Si solo tienes 1 homo, puedes plantear cambiar de modelo."
   ]
  },
  {
   "cell_type": "markdown",
   "metadata": {},
   "source": [
    "HOmocedasticidad PARA NUMERICAS"
   ]
  },
  {
   "cell_type": "code",
   "execution_count": null,
   "metadata": {},
   "outputs": [],
   "source": [
    "numericas.head()"
   ]
  },
  {
   "cell_type": "code",
   "execution_count": null,
   "metadata": {},
   "outputs": [],
   "source": [
    "# iniciamos los subplots\n",
    "fig, axes = plt.subplots(nrows = 1, ncols = 2, figsize = (20, 8))\n",
    "\n",
    "# definimos una lista de colores. Cada color corresponderá a una gráfica\n",
    "lista_colores = [\"cadetblue\", \"seagreen\"]\n",
    "\n",
    "# hemos creado una gráfica con varios subplots. Si queremos automatizar el proceso de relleno de cada uno de los plots\n",
    "## podemos usar el método .flat. Lo que hace es aplanar los ejes para que queden en una única dimensión\n",
    "## y luego los vamos rellenando. \n",
    "axes = axes.flat\n",
    "\n",
    "# seleccionamos las columnas que queremos graficar\n",
    "columnas_numeric = df.select_dtypes(include = np.number).drop('charges', axis=1)\n",
    "columnas_numeric = columnas_numeric.columns\n",
    "\n",
    "# iniciamos un for loop para no tener que escribir la misma línea de código muchas veces\n",
    "for i, colum in enumerate(columnas_numeric): \n",
    "    sns.regplot(\n",
    "        data = df,\n",
    "        x = colum,\n",
    "        y = 'charges',\n",
    "        color = lista_colores[i],\n",
    "        line_kws = {\"color\": \"black\", \"alpha\": 0.7 }, \n",
    "        ax = axes[i])\n",
    "\n",
    "fig.tight_layout();\n",
    "\n",
    "#¿Como vemos con este grafico las variables numericas, son homocedasticas?\n",
    "#Todos los puntos deben estar alrededor de ma media Y = 0, tanto por arriba como por abajo. SON HOMOCEDASTICOS\n",
    "#Si es tipo enbudo NO SON HOMOCEDASTICOS"
   ]
  },
  {
   "cell_type": "code",
   "execution_count": null,
   "metadata": {},
   "outputs": [],
   "source": [
    "numericas.head()"
   ]
  },
  {
   "cell_type": "code",
   "execution_count": null,
   "metadata": {},
   "outputs": [],
   "source": [
    "resultados= {}\n",
    "\n",
    "numer= numericas.columns.drop([\"children\",\"charges\"]) #hemos quitado esta por que ya es categorica\n",
    "\n",
    "for col in numer:\n",
    "    stat,p_value = levene(df[col], df.charges,center=\"median\")\n",
    "\n",
    "    resultados[col]= p_value"
   ]
  },
  {
   "cell_type": "code",
   "execution_count": null,
   "metadata": {},
   "outputs": [],
   "source": [
    "resultados # aqui nos da los resutlados y podemos ver si son o no Homo"
   ]
  },
  {
   "cell_type": "markdown",
   "metadata": {},
   "source": [
    "    Asuncion de independencia\n",
    "\n",
    "    -\n",
    "     MIS DATOS DEBEN SER INDEPENDIENTES ENTRE ELLOS (ES LO QUE BUSCAMOS)  chi- Cuadrado\n",
    "     comparamos cnt(respuesta) con cada una de las variables independientes.\n",
    "\n",
    "     PVALUE> 0,05 NUESTRAS VARIABLES SON INDEPENDIENTES\n",
    "     PVALUE< 0,05 NO SON INDEPENDIENTES\n",
    "\n",
    "     CRAMER TE DICE SI SON FUERTES O DEBILES  CERCA DE 0,6 ES FUERTE - 0,2 ES DEBIL"
   ]
  },
  {
   "cell_type": "code",
   "execution_count": null,
   "metadata": {},
   "outputs": [],
   "source": [
    "columas = df.lista_columns\n",
    "columnas"
   ]
  },
  {
   "cell_type": "code",
   "execution_count": null,
   "metadata": {},
   "outputs": [],
   "source": [
    "combinaciones= list(itertools.combinations(columnas,2))#combinaciones de 2 en dos\n",
    "combinaciones #te las da sin repeticion"
   ]
  },
  {
   "cell_type": "code",
   "execution_count": null,
   "metadata": {},
   "outputs": [],
   "source": [
    "for par in combinaciones:\n",
    "    crosstab,test_result, expected= rp.crosstab(df[par[0]],df[par[1]],\n",
    "                                                test= \"chi-square\",\n",
    "                                                expected_freqs=True,\n",
    "                                                prop= \"cell\")\n",
    "\n",
    "print(\"----------------\", par[0],\" + \" , par[1],\"-------------------\")\n",
    "print(test_results)\n",
    "\n",
    "# AQUI VAMOS A VER QUIENES SON INDEPENDIENTES Y QUIENES NO\n",
    "#¿QUE HACEMOS CON ELLAS? LAS QUITAMOS DEL MODELO O LAS TRANSFORMAMOS ¿TIENE SENTIDO? PERDEMOS SENTIDO EN NUESTRO DATASET"
   ]
  },
  {
   "cell_type": "markdown",
   "metadata": {},
   "source": [
    "    ANOVA lo hacemos para ver nivel de significancia de mi variable respuesta, con las independientes.\n",
    "    #Vamos a meter todas variables y para comprobar quien tiene mucho significado"
   ]
  },
  {
   "cell_type": "code",
   "execution_count": null,
   "metadata": {},
   "outputs": [],
   "source": [
    "ls= ols(\"charge - sex + bmi + children\",data=df).fit()\n",
    "sm.stats.anova_lm(ls)\n",
    "\n",
    "ls.summary() # esto es lo importante  R-square-\n",
    "\n",
    "# miro R.square : 0.111,...esto es la % de probabilidad que tiene este conjunto de variables independientes\n",
    "#  de contestar a mi variable respuesta\n",
    "\n",
    "# si pvalor< 0,05 entonces es significativa para la prediccion \n",
    "# OJO al intercept que es el punto de referencia. Va a coger por orden alfabeticos de las variables categoricas.\n",
    "\n",
    "#¿Que informacion importante?\n",
    "#coef podemos ver como la intensidad en la que influye\n",
    "#pvalor < 0,05"
   ]
  },
  {
   "cell_type": "markdown",
   "metadata": {},
   "source": [
    "    HACER VIF"
   ]
  },
  {
   "cell_type": "code",
   "execution_count": null,
   "metadata": {},
   "outputs": [],
   "source": [
    "VIF\n",
    "\n",
    "# cercano a 1 no hay relación\n",
    "# de 1 a 5 relación moderada\n",
    "# mas de 5 fuerte relacion"
   ]
  },
  {
   "cell_type": "markdown",
   "metadata": {},
   "source": [
    "    ENCODING"
   ]
  },
  {
   "cell_type": "code",
   "execution_count": null,
   "metadata": {},
   "outputs": [],
   "source": [
    "#¿TIENE ORDEN O NO? ¿Sobre que  columnas hacemos encoding? \n",
    "#Orden= dummies para aquellas dnd no hay diferencias entre sus categorias / one hot, para aquellas dnd si haya mucha diferencia entre sus categorias.\n",
    "#(Por lo que hay que ver primero las diferencas entre columnas y si misma)\n",
    "# si tiene orden= label, map ordinal"
   ]
  },
  {
   "cell_type": "code",
   "execution_count": null,
   "metadata": {},
   "outputs": [],
   "source": [
    "dummies_sex = pd.get_dummies(df[\"sex\"], prefix_sep= \"_\", prefix=\"sex\", dtype=int)"
   ]
  },
  {
   "cell_type": "code",
   "execution_count": null,
   "metadata": {},
   "outputs": [],
   "source": [
    "df[dummies_sex.columns] = dummies_sex"
   ]
  },
  {
   "cell_type": "code",
   "execution_count": null,
   "metadata": {},
   "outputs": [],
   "source": [
    "#Aqui eliminamos las categoricas que estan en object\n",
    "df.drop([\"sex\", \"region\"]axis=1,inplace=True)"
   ]
  },
  {
   "cell_type": "code",
   "execution_count": null,
   "metadata": {},
   "outputs": [],
   "source": [
    "#utilizamos  map por que solo tiene una categoria\n",
    "mapa= {\"no\":0, \"yes\":1}\n",
    "\n",
    "df[\"smoker\"]= df[\"smoker\"].map(mapa)\n"
   ]
  },
  {
   "cell_type": "markdown",
   "metadata": {},
   "source": [
    "### ANTES DEBERIAMOS HACER UN ENCODING A LAS CATEGORICAS, SI NO, NO ACEPTARÁ ESTOS DATOS\n",
    "\n",
    "### NO TENEMOS POR QUE ESTANDARIZAR"
   ]
  },
  {
   "cell_type": "code",
   "execution_count": null,
   "metadata": {},
   "outputs": [],
   "source": [
    "df_copia = df.copy()\n",
    "\n",
    "# iniciamos el método\n",
    "le = LabelEncoder()\n",
    "\n",
    "# lo aplicamos a todo nuestro dataframe \n",
    "for col in label_encoded_df.select_dtypes(include='O').columns:\n",
    "    label_encoded_df[col]=le.fit_transform(label_encoded_df[col])\n",
    "\n"
   ]
  },
  {
   "cell_type": "markdown",
   "metadata": {},
   "source": [
    "### REGRESION MULTIPLE LINEAL: QUEREMOS SABER EL NUMERO TOTAL DE RESERVAS DE BICIS Y SI LAS VARIABLES INDEPENDIENTES, NOS AYUDAN A CONOCERLO Y EN QUE MEDIDA, SEGÚN LA RESPUESTA DEL MODELO."
   ]
  },
  {
   "cell_type": "code",
   "execution_count": null,
   "metadata": {},
   "outputs": [],
   "source": [
    "x =df_numericas.drop(columns = ['cnt','registered', 'casual' ]) #Quitamos nuestra variable dependiente.\n",
    "y = df_numericas['cnt']\n",
    "x_train, x_test, y_train, y_test = train_test_split(x, y, test_size = 0.2, random_state = 42)\n",
    "\n",
    "# Creamos la regresión lineal\n",
    "LR = LinearRegression()\n",
    "# Ajustamos el modelo\n",
    "LR.fit(x_train,y_train)\n",
    "y_prediction_train =  LR.predict(x_train)\n",
    "Adj_r2_train = 1 - (1-r2_score(y_train,y_prediction_train)) * (x_train.shape[0]-1)/(x_train.shape[0]-x_train.shape[1]-1)\n",
    "\n",
    "y_prediction =  LR.predict(x_test)\n",
    "Adj_r2_test = 1 - (1-r2_score(y_test, y_prediction)) * (x_test.shape[0]-1)/(x_test.shape[0]-x_test.shape[1]-1)\n",
    "\n",
    "# Para el conjunto de entrenamiento las méticas han sido\n",
    "print('Para el conjunto train:---------------')\n",
    "print('El valor de r2 score es ',r2_score(y_train,y_prediction_train))\n",
    "print('El valor de r2 score adjusted es ',Adj_r2_train)\n",
    "print('El MAE es',mean_absolute_error(y_train,y_prediction_train))\n",
    "print('EL RMSE es ',np.sqrt(mean_squared_error(y_train,y_prediction_train)))\n",
    "\n",
    "\n",
    "# Para el conjunto de test las métricas han sido\n",
    "print('Para el conjunto test:---------------')\n",
    "print('El valor de r2 score es ',r2_score(y_test,y_prediction))\n",
    "print('El valor de r2 score adjusted es ',Adj_r2_test)\n",
    "print('El MAE es',mean_absolute_error(y_test,y_prediction))\n",
    "print('EL RMSE es ',np.sqrt(mean_squared_error(y_test,y_prediction)))"
   ]
  },
  {
   "cell_type": "code",
   "execution_count": null,
   "metadata": {},
   "outputs": [],
   "source": [
    "y_pred_test.reset_index(inplace=True) # Se me crea nueva columna y luego la dropeo"
   ]
  },
  {
   "cell_type": "markdown",
   "metadata": {},
   "source": [
    "    FORMA DE ANA"
   ]
  },
  {
   "cell_type": "code",
   "execution_count": null,
   "metadata": {},
   "outputs": [],
   "source": [
    "x =df_numericas.drop(columns = ['cnt','registered', 'casual' ]) #Quitamos nuestra variable dependiente.\n",
    "y = df_numericas['cnt']\n",
    "x_train, x_test, y_train, y_test = train_test_split(x, y, test_size = 0.2, random_state = 42)\n",
    "\n",
    "# Creamos la regresión lineal\n",
    "LR = LinearRegression()\n",
    "# Ajustamos el modelo\n",
    "LR.fit(x_train,y_train)"
   ]
  },
  {
   "cell_type": "code",
   "execution_count": null,
   "metadata": {},
   "outputs": [],
   "source": [
    "#obligatorio definir antes para la fincion\n",
    "y_prep_test= lr.predict(x_test)\n",
    "y_prep_train = lr.predict(x_train)"
   ]
  },
  {
   "cell_type": "code",
   "execution_count": null,
   "metadata": {},
   "outputs": [],
   "source": [
    "def metricas(y_test, y_train, y_test_pred, y_train_pred):\n",
    "    \n",
    "    \n",
    "    resultados = {'MAE': [metrics.mean_absolute_error(y_test, y_test_pred), metrics.mean_absolute_error(y_train, y_train_pred)],\n",
    "                'MSE': [metrics.mean_squared_error(y_test, y_test_pred), metrics.mean_squared_error(y_train, y_train_pred)],\n",
    "                'RMSE': [np.sqrt(metrics.mean_squared_error(y_test, y_test_pred)), np.sqrt(metrics.mean_squared_error(y_train, y_train_pred))],\n",
    "                'R2':  [metrics.r2_score(y_test, y_test_pred), metrics.r2_score(y_train, y_train_pred)],\n",
    "                 \"set\": [\"test\", \"train\"]}\n",
    "    df = pd.DataFrame(resultados)\n",
    "    return df\n",
    "\n",
    "    #nos fijamos en el rmse y rcuadrado\n",
    "    #RMSE es cuanto me equivoco"
   ]
  },
  {
   "cell_type": "code",
   "execution_count": null,
   "metadata": {},
   "outputs": [],
   "source": [
    "result= metricas(y_test,y_train,y_pred_train,y_pred_test ) # y me dice los resultados de train y test\n",
    "#el RMSE puede ser positivo o negativo en funcion del problema, hay que mirar con un describe max y min\n",
    "result"
   ]
  },
  {
   "cell_type": "code",
   "execution_count": null,
   "metadata": {},
   "outputs": [],
   "source": [
    "results.style.background_gradient(cmap=\"coolwarm\") # te da de colores DF"
   ]
  },
  {
   "cell_type": "code",
   "execution_count": null,
   "metadata": {},
   "outputs": [],
   "source": [
    "#¿Cuando ocurre overfiting? Cuando se ha aprendido de memoria mis datos\n",
    "\n",
    "#cuando las metricas en en train sean mucho mejores que en test rcuadrados altos y rmse bajos\n",
    "#underfiting lo contrario\n",
    "#ambas es que hay un modelo predictivo basura\n",
    "\n",
    "# se soluciona añadiendo variables predictoras (aprende a coser con una prenda, o aprende con muchas prendas)\n",
    "#over mas datos y menos variables predictoras\n",
    "#under mas filas en nuestro df y mas variables predictoras\n",
    "\n",
    "#no queremos ninguno de los dos"
   ]
  },
  {
   "cell_type": "markdown",
   "metadata": {},
   "source": [
    "UNA VEZ QUE CONOZCAMOS ESTOS DATOS, PODEMOS VER SI PODRIAN MEJORAR Y DEBEMOS ESTANDARIZAR Y PROBAR DE NUEVO"
   ]
  },
  {
   "cell_type": "markdown",
   "metadata": {},
   "source": []
  }
 ],
 "metadata": {
  "interpreter": {
   "hash": "31f2aee4e71d21fbe5cf8b01ff0e069b9275f58929596ceb00d14d90e3e16cd6"
  },
  "kernelspec": {
   "display_name": "Python 3.6.9 64-bit",
   "language": "python",
   "name": "python3"
  },
  "language_info": {
   "codemirror_mode": {
    "name": "ipython",
    "version": 3
   },
   "file_extension": ".py",
   "mimetype": "text/x-python",
   "name": "python",
   "nbconvert_exporter": "python",
   "pygments_lexer": "ipython3",
   "version": "3.6.9"
  },
  "orig_nbformat": 4
 },
 "nbformat": 4,
 "nbformat_minor": 2
}
